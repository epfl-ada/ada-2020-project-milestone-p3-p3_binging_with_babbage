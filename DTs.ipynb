{
 "cells": [
  {
   "cell_type": "code",
   "execution_count": 1,
   "metadata": {},
   "outputs": [],
   "source": [
    "def post_pruning_decision_tree_selector(df, y_label, n_bins = 5, cv = None, scoring = \"accuracy\"):\n",
    "    X = df.drop(y_label,axis=1)\n",
    "    y = df[y_label]\n",
    "    y = bin_this(y, n_bins)\n",
    "    \n",
    "    clf = DecisionTreeClassifier(random_state=0)\n",
    "    path = clf.cost_complexity_pruning_path(X, y)\n",
    "    ccp_alphas, impurities = path.ccp_alphas, path.impurities\n",
    "    \n",
    "    parameters = {'ccp_alpha':ccp_alphas}\n",
    "\n",
    "    gsCV = GridSearchCV(DecisionTreeClassifier(random_state=0),parameters, cv = cv, scoring=scoring, n_jobs=-1)\n",
    "    gsCV.fit(X,y)\n",
    "    clf = gsCV.best_estimator_\n",
    "    print (clf.best_score_, clf.best_params_)\n",
    "    return clf, clf.best_score_, clf.best_params_\n",
    "    #clfs = []\n",
    "    #scores = []\n",
    "    #for ccp_alpha in ccp_alphas:\n",
    "    #    # seriously not sure about this\n",
    "    #    clf = DecisionTreeClassifier(random_state=0, ccp_alpha=ccp_alpha)\n",
    "    #    score = cross_val_score(estimator = clf, X = X, y = y, cv = cv, scoring=accuracy, n_jobs = -1)\n",
    "    #    clf.fit(X,y)\n",
    "    #    clfs.append(clf)\n",
    "    #    scores.append(score)\n",
    "    #return clfs, ccp_alphas, scores\n",
    "\n",
    "def bin_this(y, n_bins = 5):\n",
    "    # same sized bins\n",
    "    if type(y[0]) == np.int_ or type(y[0]) == np.float_:\n",
    "        y_range = y.max() - y.min()\n",
    "        bin_names = []\n",
    "        for n in range(n_bins):\n",
    "            bin_names.append([y.min() + (n/n_bins)*y_range,y.min() + ((n+1)/n_bins)*y_range])\n",
    "        y_new = np.array([])\n",
    "\n",
    "        for ix, x in enumerate(y):\n",
    "            for bin_name in bin_names:\n",
    "                if(bin_name[0] <= x and x < bin_name[1]):\n",
    "                    y_new = np.append(y_new, str(bin_name))\n",
    "            if (x == y.max()):\n",
    "                y_new = np.append(y_new, str(bin_names[n_bins - 1]))               \n",
    "        return y_new\n",
    "    else: # for strings and arrays # not tested yet\n",
    "        return [str(x) for x in y]"
   ]
  },
  {
   "cell_type": "code",
   "execution_count": 2,
   "metadata": {},
   "outputs": [
    {
     "ename": "NameError",
     "evalue": "name 'msoa_combined_year' is not defined",
     "output_type": "error",
     "traceback": [
      "\u001b[1;31m---------------------------------------------------------------------------\u001b[0m",
      "\u001b[1;31mNameError\u001b[0m                                 Traceback (most recent call last)",
      "\u001b[1;32m<ipython-input-2-00d4376c1412>\u001b[0m in \u001b[0;36m<module>\u001b[1;34m\u001b[0m\n\u001b[1;32m----> 1\u001b[1;33m \u001b[0mdataf\u001b[0m \u001b[1;33m=\u001b[0m \u001b[0mmsoa_combined_year\u001b[0m\u001b[1;33m[\u001b[0m\u001b[0methnicities\u001b[0m \u001b[1;33m+\u001b[0m \u001b[1;33m[\u001b[0m\u001b[1;34m\"energy_alcohol\"\u001b[0m\u001b[1;33m]\u001b[0m\u001b[1;33m]\u001b[0m\u001b[1;33m\u001b[0m\u001b[1;33m\u001b[0m\u001b[0m\n\u001b[0m\u001b[0;32m      2\u001b[0m \u001b[0mclf\u001b[0m\u001b[1;33m,\u001b[0m \u001b[0mscore\u001b[0m\u001b[1;33m,\u001b[0m \u001b[0malpha\u001b[0m \u001b[1;33m=\u001b[0m \u001b[0mpost_pruning_decision_tree_selections\u001b[0m\u001b[1;33m(\u001b[0m\u001b[0mdataf\u001b[0m\u001b[1;33m,\u001b[0m \u001b[0my_label\u001b[0m \u001b[1;33m=\u001b[0m \u001b[1;34m\"energy_alcohol\"\u001b[0m\u001b[1;33m)\u001b[0m\u001b[1;33m\u001b[0m\u001b[1;33m\u001b[0m\u001b[0m\n",
      "\u001b[1;31mNameError\u001b[0m: name 'msoa_combined_year' is not defined"
     ]
    }
   ],
   "source": [
    "dataf = msoa_combined_year[ethnicities + [\"energy_alcohol\"]]\n",
    "clf, score, alpha = post_pruning_decision_tree_selections(dataf, y_label = \"energy_alcohol\")"
   ]
  },
  {
   "cell_type": "code",
   "execution_count": null,
   "metadata": {},
   "outputs": [],
   "source": [
    "text_representation = export_text(clf)\n",
    "print(text_representation)"
   ]
  },
  {
   "cell_type": "code",
   "execution_count": null,
   "metadata": {},
   "outputs": [],
   "source": [
    "fig = plt.figure(figsize=(15,10))\n",
    "viz = plot_tree(clf)"
   ]
  }
 ],
 "metadata": {
  "kernelspec": {
   "display_name": "Python 3",
   "language": "python",
   "name": "python3"
  },
  "language_info": {
   "codemirror_mode": {
    "name": "ipython",
    "version": 3
   },
   "file_extension": ".py",
   "mimetype": "text/x-python",
   "name": "python",
   "nbconvert_exporter": "python",
   "pygments_lexer": "ipython3",
   "version": "3.8.3"
  }
 },
 "nbformat": 4,
 "nbformat_minor": 4
}
