{
 "cells": [
  {
   "cell_type": "markdown",
   "metadata": {},
   "source": [
    "#### We use the Dataset provided by the British Health Authoritites to find information about the Geolocation of each Tesco Store in the London Area. \n",
    "Other Ways seemed rather hard to get the Location data"
   ]
  },
  {
   "cell_type": "code",
   "execution_count": 1,
   "metadata": {},
   "outputs": [],
   "source": [
    "import pandas as pd\n",
    "import xml.etree.ElementTree as et\n",
    "import urllib.request\n",
    "import pandas_read_xml as pdrx\n",
    "import numpy as np\n",
    "import plotly.express as px\n",
    "import plotly.graph_objects as go\n",
    "import plotly.figure_factory as ff\n",
    "from plotly.subplots import make_subplots"
   ]
  },
  {
   "cell_type": "code",
   "execution_count": 76,
   "metadata": {},
   "outputs": [
    {
     "name": "stdout",
     "output_type": "stream",
     "text": [
      "Loading Data for Municipality  501 From URL:  https://ratings.food.gov.uk/OpenDataFiles/FHRS501en-GB.xml\n",
      "Loading Data for Municipality  502 From URL:  https://ratings.food.gov.uk/OpenDataFiles/FHRS502en-GB.xml\n",
      "Loading Data for Municipality  503 From URL:  https://ratings.food.gov.uk/OpenDataFiles/FHRS503en-GB.xml\n",
      "Loading Data for Municipality  504 From URL:  https://ratings.food.gov.uk/OpenDataFiles/FHRS504en-GB.xml\n",
      "Loading Data for Municipality  505 From URL:  https://ratings.food.gov.uk/OpenDataFiles/FHRS505en-GB.xml\n",
      "Loading Data for Municipality  506 From URL:  https://ratings.food.gov.uk/OpenDataFiles/FHRS506en-GB.xml\n",
      "Loading Data for Municipality  507 From URL:  https://ratings.food.gov.uk/OpenDataFiles/FHRS507en-GB.xml\n",
      "Loading Data for Municipality  508 From URL:  https://ratings.food.gov.uk/OpenDataFiles/FHRS508en-GB.xml\n",
      "Loading Data for Municipality  509 From URL:  https://ratings.food.gov.uk/OpenDataFiles/FHRS509en-GB.xml\n",
      "Loading Data for Municipality  510 From URL:  https://ratings.food.gov.uk/OpenDataFiles/FHRS510en-GB.xml\n",
      "Loading Data for Municipality  511 From URL:  https://ratings.food.gov.uk/OpenDataFiles/FHRS511en-GB.xml\n",
      "Loading Data for Municipality  512 From URL:  https://ratings.food.gov.uk/OpenDataFiles/FHRS512en-GB.xml\n",
      "Loading Data for Municipality  513 From URL:  https://ratings.food.gov.uk/OpenDataFiles/FHRS513en-GB.xml\n",
      "Loading Data for Municipality  514 From URL:  https://ratings.food.gov.uk/OpenDataFiles/FHRS514en-GB.xml\n",
      "Loading Data for Municipality  515 From URL:  https://ratings.food.gov.uk/OpenDataFiles/FHRS515en-GB.xml\n",
      "Loading Data for Municipality  516 From URL:  https://ratings.food.gov.uk/OpenDataFiles/FHRS516en-GB.xml\n",
      "Loading Data for Municipality  517 From URL:  https://ratings.food.gov.uk/OpenDataFiles/FHRS517en-GB.xml\n",
      "Loading Data for Municipality  518 From URL:  https://ratings.food.gov.uk/OpenDataFiles/FHRS518en-GB.xml\n",
      "Loading Data for Municipality  519 From URL:  https://ratings.food.gov.uk/OpenDataFiles/FHRS519en-GB.xml\n",
      "Loading Data for Municipality  520 From URL:  https://ratings.food.gov.uk/OpenDataFiles/FHRS520en-GB.xml\n",
      "Loading Data for Municipality  521 From URL:  https://ratings.food.gov.uk/OpenDataFiles/FHRS521en-GB.xml\n",
      "Loading Data for Municipality  522 From URL:  https://ratings.food.gov.uk/OpenDataFiles/FHRS522en-GB.xml\n",
      "Loading Data for Municipality  523 From URL:  https://ratings.food.gov.uk/OpenDataFiles/FHRS523en-GB.xml\n",
      "Loading Data for Municipality  524 From URL:  https://ratings.food.gov.uk/OpenDataFiles/FHRS524en-GB.xml\n",
      "Loading Data for Municipality  525 From URL:  https://ratings.food.gov.uk/OpenDataFiles/FHRS525en-GB.xml\n",
      "Loading Data for Municipality  526 From URL:  https://ratings.food.gov.uk/OpenDataFiles/FHRS526en-GB.xml\n",
      "Loading Data for Municipality  527 From URL:  https://ratings.food.gov.uk/OpenDataFiles/FHRS527en-GB.xml\n",
      "Loading Data for Municipality  528 From URL:  https://ratings.food.gov.uk/OpenDataFiles/FHRS528en-GB.xml\n",
      "Loading Data for Municipality  529 From URL:  https://ratings.food.gov.uk/OpenDataFiles/FHRS529en-GB.xml\n",
      "Loading Data for Municipality  530 From URL:  https://ratings.food.gov.uk/OpenDataFiles/FHRS530en-GB.xml\n",
      "Loading Data for Municipality  531 From URL:  https://ratings.food.gov.uk/OpenDataFiles/FHRS531en-GB.xml\n",
      "Loading Data for Municipality  532 From URL:  https://ratings.food.gov.uk/OpenDataFiles/FHRS532en-GB.xml\n",
      "Loading Data for Municipality  533 From URL:  https://ratings.food.gov.uk/OpenDataFiles/FHRS533en-GB.xml\n"
     ]
    }
   ],
   "source": [
    "## Iterate over the LocalAuthorityCodes for the Greater London Area (501 - 533)\n",
    "df_tesco_store_locations = pd.DataFrame()\n",
    "df_top_four_locations = pd.DataFrame()\n",
    "\n",
    "for x in range(501, 534):\n",
    "    \n",
    "    url =  \"https://ratings.food.gov.uk/OpenDataFiles/FHRS{0}en-GB.xml\".format(x)\n",
    "    print(\"Loading Data for Municipality \", x, \"From URL: \", url)\n",
    "    \n",
    "    # Load the DataSet directly from the XML File (Easily do able because Quasi Relational)\n",
    "    df = pdrx.read_xml(url, ['FHRSEstablishment', 'EstablishmentCollection'])\n",
    "    \n",
    "    # Parsing the XML\n",
    "    df[\"BusinessName\"] = df[\"EstablishmentDetail\"].apply(lambda x : x[\"BusinessName\"])\n",
    "    df[\"GeoCode\"] = df[\"EstablishmentDetail\"].apply(lambda x : x[\"Geocode\"])\n",
    "    df[\"Longitude\"] = df[\"GeoCode\"].apply(lambda x : x[\"Longitude\"] if x is not None else np.nan)\n",
    "    df[\"Latitude\"] = df[\"GeoCode\"].apply(lambda x : x[\"Latitude\"] if x is not None else np.nan)\n",
    "    df[\"LocalAuthorityName\"] = df[\"EstablishmentDetail\"].apply(lambda x : x[\"LocalAuthorityName\"])\n",
    "\n",
    "    df = df[[\"BusinessName\", \"Longitude\", \"Latitude\", \"LocalAuthorityName\"]]\n",
    "    \n",
    "    df_all = df_all.append(df)\n",
    "    \n",
    "    # Checking for the TESCOS (and removing Tesco Subbrands (i.e Metro Stops) and Subtenants )\n",
    "    df_asda = df[df[\"BusinessName\"].apply(lambda x : True if x in ['Asda', 'Asda Stores', 'Asda supermarket'] else False)]\n",
    "    df_sal = df[df[\"BusinessName\"].apply(lambda x : True if x in [\"Sainsbury's\",'Sainsburys', \"Sainsbury's Local\", \"Sainsbury's Supermarkets Ltd\",'Sainsburys Supermarket',\"Sainsbury's - Main Store\", 'Sainsburys supermarkets ltd',\"Sainsbury's Supermarket Ltd\", \"Sainsbury's Supermarkets\",'Sainsburys supermarkets Ltd'] else False)]\n",
    "    df_mor = df[df[\"BusinessName\"].apply(lambda x : True if x in [\"Morrisons Store\",\"Morrisons Supermarket\",'Morrisons','Morrisons (inc petrol station)'] else False)]\n",
    "    df_tes = df[df[\"BusinessName\"].apply(lambda x : True if x in [\"Tesco\", \"Tesco Superstore\", \"Tesco Express\", \"Tesco Metro\", \"Tesco Supermarket\",'Tesco Welling Superstore'] else False)]\n",
    "    df_tesco_store_locations = df_tesco_store_locations.append(df_tes)\n",
    "    \n",
    "    df_top_four_locations = df_top_four_locations.append(df_tes)\n",
    "    df_top_four_locations = df_top_four_locations.append(df_asda)\n",
    "    df_top_four_locations = df_top_four_locations.append(df_mor)\n",
    "    df_top_four_locations = df_top_four_locations.append(df_sal)\n",
    "    "
   ]
  },
  {
   "cell_type": "code",
   "execution_count": 79,
   "metadata": {},
   "outputs": [],
   "source": [
    "def rename_store(store_name):\n",
    "    if \"Asda\" in store_name:\n",
    "        return \"Asda\"\n",
    "    elif \"Sainsbury\" in store_name:\n",
    "        return \"Sainsbury's\"  \n",
    "    elif \"Morrisons\" in store_name:\n",
    "        return \"Morrisons\"\n",
    "    elif \"Tesco\" in store_name:\n",
    "        return \"Tesco\"\n",
    "    \n",
    "    return store_name\n",
    "    \n",
    "\n",
    "\n",
    "df_top_four_locations[\"BusinessName\"] = df_top_four_locations[\"BusinessName\"].apply(lambda x : rename_store(x)) "
   ]
  },
  {
   "cell_type": "code",
   "execution_count": 83,
   "metadata": {},
   "outputs": [],
   "source": [
    "df_tesco_store_locations.to_csv(\"Geo_Data/tesco_store_locations_greater_london.csv\")\n",
    "df_top_four_locations.to_csv(\"Geo_Data/top_four_store_locations_greater_london.csv\")"
   ]
  }
 ],
 "metadata": {
  "kernelspec": {
   "display_name": "Python 3",
   "language": "python",
   "name": "python3"
  },
  "language_info": {
   "codemirror_mode": {
    "name": "ipython",
    "version": 3
   },
   "file_extension": ".py",
   "mimetype": "text/x-python",
   "name": "python",
   "nbconvert_exporter": "python",
   "pygments_lexer": "ipython3",
   "version": "3.8.3"
  }
 },
 "nbformat": 4,
 "nbformat_minor": 4
}
