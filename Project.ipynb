{
 "cells": [
  {
   "cell_type": "markdown",
   "metadata": {},
   "source": [
    "# Show me your plate and I tell you who you are"
   ]
  },
  {
   "cell_type": "markdown",
   "metadata": {},
   "source": [
    "#### Unified Package Loading Prelude"
   ]
  },
  {
   "cell_type": "code",
   "execution_count": 306,
   "metadata": {},
   "outputs": [],
   "source": [
    "import pickle as pkl \n",
    "import pandas as pd \n",
    "import numpy as np \n",
    "import statsmodels as sml\n",
    "import math \n",
    "from scipy import stats\n",
    "import seaborn as sns\n",
    "import plotly.express as px\n",
    "import plotly.graph_objects as go\n",
    "import plotly.figure_factory as ff\n",
    "from plotly.subplots import make_subplots\n",
    "import statsmodels.api as sm\n",
    "import statsmodels.formula.api as smf\n",
    "import os \n",
    "import matplotlib.pyplot as plt\n",
    "from sklearn.ensemble import RandomForestRegressor\n",
    "from sklearn.model_selection import cross_val_score\n",
    "from sklearn.ensemble import AdaBoostRegressor\n",
    "from sklearn.linear_model import LinearRegression\n",
    "from sklearn.preprocessing import StandardScaler\n",
    "from sklearn.model_selection import train_test_split\n",
    "from sklearn.impute import KNNImputer\n",
    "from sklearn.pipeline import Pipeline\n",
    "from sklearn.tree import DecisionTreeClassifier\n",
    "from tqdm import tqdm\n",
    "import itertools as it "
   ]
  },
  {
   "cell_type": "code",
   "execution_count": null,
   "metadata": {},
   "outputs": [],
   "source": [
    "### In Case we need it, load using the GeoPandas Kernel\n",
    "import geopandas as gpd"
   ]
  },
  {
   "cell_type": "code",
   "execution_count": 9,
   "metadata": {},
   "outputs": [],
   "source": [
    "### Association Rule Mining Packags\n",
    "from mlxtend.frequent_patterns import apriori\n",
    "from mlxtend.preprocessing import TransactionEncoder\n",
    "from mlxtend.frequent_patterns import association_rules as arule\n"
   ]
  },
  {
   "cell_type": "markdown",
   "metadata": {},
   "source": [
    "#### Doing an inverse Margaret Thatcher (Not reviving Irish though)"
   ]
  },
  {
   "cell_type": "code",
   "execution_count": 299,
   "metadata": {},
   "outputs": [],
   "source": [
    "# Simple adaptable Model Pipeline Factory\n",
    "def pipeline_factory(scaler, model, x_train, y_train, verbose = True):\n",
    "    \n",
    "    pipeline = Pipeline(steps = [\n",
    "        ('scaler',  scaler),\n",
    "        ('regressor',   model)\n",
    "        ], verbose = verbose)\n",
    "        \n",
    "    pipeline.fit(x_train,y_train)\n",
    "    return pipeline\n"
   ]
  },
  {
   "cell_type": "code",
   "execution_count": 289,
   "metadata": {},
   "outputs": [],
   "source": [
    "# Generates Correlation Bar plots for different input parameters\n",
    "# Returns a Fig and can optionally automaically write to the Website HTML Plot Repo. (Automatic Commit, Pull, Push and Deployment WIP) \n",
    "# Still need to Add Plot to index.md in later case, for it to show.\n",
    "\n",
    "def bar_plot_factory(dataframe,category_socio_economics, category_nutrion, html_name = \"\", output_html = False, auto_commit = False):\n",
    "    \n",
    "    # Make a double column plot for more than 3 categories\n",
    "    if len(category_socio_economics) > 3:\n",
    "        cols = 2 \n",
    "        rows = math.ceil(len(category_socio_economics)/2)\n",
    "    else:\n",
    "        cols = 1\n",
    "        rows = len(category_socio_economics)\n",
    "    \n",
    "        \n",
    "    fig = make_subplots(rows=rows, cols=cols,subplot_titles=([label_processor(x) for x in category_socio_economics]))\n",
    "                                                             \n",
    "    for cat_soc, index in zip(category_socio_economics, it.product(range(1, rows + 1), range(1, cols + 1))) :\n",
    "       \n",
    "        correl = [(nutr, stats.spearmanr(a = dataframe[cat_soc], b = dataframe[nutr]).correlation) for nutr in category_nutrion if stats.spearmanr(a = dataframe[cat_soc], b = dataframe[nutr]).pvalue < 0.05]\n",
    "\n",
    "        fig.add_trace(go.Bar(x=[label_processor(c[0]) for c in correl if c[1] >= 0], y=[c[1] for c in correl if c[1] >= 0],\n",
    "                            marker_color= color_tesco_blue,\n",
    "                            name='positives'), row = index[0], col = index[1])\n",
    "\n",
    "        fig.add_trace(go.Bar(x=[label_processor(c[0]) for c in correl if c[1] < 0], y=[c[1] for c in correl if c[1] < 0],\n",
    "                            marker_color= color_tesco_red,\n",
    "                            name='negatives'), row = index[0], col = index[1])\n",
    "    \n",
    "        fig.update_layout(showlegend=False)\n",
    "        \n",
    "        \n",
    "    if output_html:\n",
    "        print(\"Writing HTML to Repo...\")\n",
    "        fig.write_html(\"../fierceeagle.github.io/_includes/\"+ html_name+\".html\")\n",
    "        print(\"Ave Imperator, morituri te salutant\")\n",
    "        \n",
    "        # Calling Systems Command in a Jupyter Notebook (Trust me I am an Engineer)\n",
    "        if auto_commit: \n",
    "            %cd -q ../fierceeagle.github.io/\n",
    "            # Adds the Plot if new Name\n",
    "            print(\"Adding new Files ...\")\n",
    "            !git add *.html\n",
    "            print(\"Commiting Changes ...\")\n",
    "            !git commit -m\"Added/Changed Plot\" --quiet\n",
    "            print(\"Pulling previous Changes ... \")\n",
    "            !git pull --quiet\n",
    "            print(\"Pushing to Remote...\")\n",
    "            !git push --quiet\n",
    "            print(\"Finished\")\n",
    "    \n",
    "    return fig"
   ]
  },
  {
   "cell_type": "code",
   "execution_count": 290,
   "metadata": {},
   "outputs": [],
   "source": [
    "# Genrates an interactive 3D Plot and generate an HTML \n",
    "def three_D_plot_factory(dataframe,x_axis, y_axis, z_axis,quantiles, aggfunc, title = \"\", x_title =\"\",  y_title = \"\", z_title = \"\", html_name = \"\", output_html = False, auto_commit = False):\n",
    "    \n",
    "    slice_df = dataframe[[x_axis] + [y_axis] + [z_axis]].copy()\n",
    "    slice_df[x_axis] = pd.qcut(x = slice_df[x_axis], q = quantiles)\n",
    "    slice_df[y_axis] = pd.qcut(x = slice_df[y_axis], q = quantiles)\n",
    "    pivot_slice_df = slice_df.pivot_table(index = x_axis,columns = y_axis, values = z_axis, aggfunc = aggfunc)\n",
    "\n",
    "    imputer = KNNImputer(n_neighbors=3)\n",
    "    pivot_slice_df = pd.DataFrame(imputer.fit_transform(pivot_slice_df), columns = pivot_slice_df.columns, index = pivot_slice_df.index)\n",
    "    fig = go.Figure(\n",
    "        data=go.Surface(z=pivot_slice_df.values),\n",
    "            layout=go.Layout(\n",
    "            ))\n",
    "\n",
    "    fig.update_layout(\n",
    "            title=title,\n",
    "            scene = dict(\n",
    "                        xaxis = dict(\n",
    "                            title = x_title,\n",
    "                            nticks = len(pivot_slice_df.columns.tolist()),\n",
    "                            tickvals = list(range(len(pivot_slice_df.columns.tolist()))), \n",
    "                            ticktext= [\"{:.1f}\".format((x.left + x.right)/2) for x in pivot_slice_df.columns.tolist()]),\n",
    "                        yaxis = dict(\n",
    "                            title = y_title,\n",
    "                            nticks = len(pivot_slice_df.index.tolist()),\n",
    "                            tickvals = list(range(len(pivot_slice_df.index.tolist()))), \n",
    "                            ticktext= [\"{:.0f}\".format((x.left + x.right)/2) for x in pivot_slice_df.index.tolist()]),\n",
    "                        zaxis_title= z_title),\n",
    "                        margin=dict(r=40, b=40, l=40, t=40)\n",
    "            )\n",
    "        \n",
    "    if output_html:\n",
    "        print(\"Writing HTML to Repo...\")\n",
    "        fig.write_html(\"../fierceeagle.github.io/_includes/\"+ html_name+\".html\")\n",
    "        print(\"Ave Imperator, morituri te salutant\")\n",
    "        \n",
    "        # Calling Systems Command in a Jupyter Notebook (Trust me I am an Engineer)\n",
    "        if auto_commit: \n",
    "            %cd -q ../fierceeagle.github.io/\n",
    "            # Adds the Plot if new Name\n",
    "            print(\"Adding new Files ...\")\n",
    "            !git add *.html\n",
    "            print(\"Commiting Changes ...\")\n",
    "            !git commit -m\"Added/Changed Plot\" --quiet\n",
    "            print(\"Pulling previous Changes ... \")\n",
    "            !git pull --quiet\n",
    "            print(\"Pushing to Remote...\")\n",
    "            !git push --quiet\n",
    "            print(\"Finished\")\n",
    "    \n",
    "    return fig"
   ]
  },
  {
   "cell_type": "code",
   "execution_count": 291,
   "metadata": {},
   "outputs": [],
   "source": [
    "# Genrates an interactive 3D Plot and generate an HTML that can be automatically pushed to the Website. Magic! \n",
    "def three_D_multi_plot_factory(dataframe,x_axis, y_axis, category_z ,quantiles, aggfunc, title = \"\", x_title =\"\",  y_title = \"\", z_title = \"\", html_name = \"\", output_html = False, auto_commit = False):\n",
    "    \n",
    "    if len(category_z) > 3:\n",
    "        cols = 2 \n",
    "        rows = math.ceil(len(category_z)/2)\n",
    "        [[{'is_3d': True},{'is_3d': True}] for x in range(rows)]\n",
    "    else:\n",
    "        cols = len(category_z)\n",
    "        rows = 1\n",
    "        specs = [[{'is_3d': True} for x in range(cols)]]\n",
    "        \n",
    "    fig = make_subplots(rows=rows, cols=cols,subplot_titles=([label_processor(x) for x in category_z]), specs= specs, shared_xaxes = True, shared_yaxes = True)\n",
    "\n",
    "    for z_axis, index in zip(category_z, it.product(range(1, rows + 1), range(1, cols + 1))) :\n",
    "        slice_df = dataframe[[x_axis] + [y_axis] + [z_axis]].copy()\n",
    "        slice_df[x_axis] = pd.qcut(x = slice_df[x_axis], q = quantiles)\n",
    "        slice_df[y_axis] = pd.qcut(x = slice_df[y_axis], q = quantiles)\n",
    "        pivot_slice_df = slice_df.pivot_table(index = x_axis,columns = y_axis, values = z_axis, aggfunc = aggfunc)\n",
    "\n",
    "        imputer = KNNImputer(n_neighbors=3)\n",
    "        pivot_slice_df = pd.DataFrame(imputer.fit_transform(pivot_slice_df), columns = pivot_slice_df.columns, index = pivot_slice_df.index)\n",
    "        \n",
    "        fig.add_trace(go.Surface(\n",
    "                      z   = pivot_slice_df.values,\n",
    "                      showlegend= False,\n",
    "                      showscale=False,\n",
    "                      ),row = index[0], col = index[1])\n",
    "    \n",
    "    fig.update_layout(title = title, \n",
    "                          scene = dict(\n",
    "                                xaxis = dict(\n",
    "                                    title = x_title,\n",
    "                                    nticks = len(pivot_slice_df.columns.tolist()),\n",
    "                                    tickvals = list(range(len(pivot_slice_df.columns.tolist()))), \n",
    "                                    ticktext= [\"{:.1f}\".format((x.left + x.right)/2) for x in pivot_slice_df.columns.tolist()]),\n",
    "                                yaxis = dict(\n",
    "                                    title = y_title,\n",
    "                                    nticks = len(pivot_slice_df.index.tolist()),\n",
    "                                    tickvals = list(range(len(pivot_slice_df.index.tolist()))), \n",
    "                                    ticktext= [\"{:.0f}\".format((x.left + x.right)/2) for x in pivot_slice_df.index.tolist()]),\n",
    "                                zaxis_title= z_title),\n",
    "                          margin=dict(r=40, b=40, l=40, t=40)) \n",
    "    \n",
    "    if output_html:\n",
    "        print(\"Writing HTML to Repo...\")\n",
    "        fig.write_html(\"../fierceeagle.github.io/_includes/\"+ html_name+\".html\")\n",
    "        print(\"Ave Imperator, morituri te salutant\")\n",
    "        \n",
    "        # Calling Systems Command in a Jupyter Notebook (Trust me I am an Engineer)\n",
    "        if auto_commit: \n",
    "            %cd -q ../fierceeagle.github.io/\n",
    "            # Adds the Plot if new Name\n",
    "            print(\"Adding new Files ...\")\n",
    "            !git add *.html\n",
    "            print(\"Commiting Changes ...\")\n",
    "            !git commit -m\"Added/Changed Plot\" --quiet\n",
    "            print(\"Pulling previous Changes ... \")\n",
    "            !git pull --quiet\n",
    "            print(\"Pushing to Remote...\")\n",
    "            !git push --quiet\n",
    "            print(\"Finished\")\n",
    "    \n",
    "    return fig"
   ]
  },
  {
   "cell_type": "markdown",
   "metadata": {},
   "source": [
    "#### Defining some support functions making all the String Processing we need once and never again"
   ]
  },
  {
   "cell_type": "code",
   "execution_count": 300,
   "metadata": {},
   "outputs": [],
   "source": [
    "## Process a column Label to Look nice in a Plot\n",
    "def label_processor(label): \n",
    "    \n",
    "    # eth columns\n",
    "    if \"ethnicity\" in label:\n",
    "        label = label.split(\"ethnicity_\")[1].replace(\"_2011\", \"\").capitalize()\n",
    "        \n",
    "        if \"Bame\" in label: \n",
    "            label = label.replace(\"Bame\", \"BAME\")\n",
    "        if \"Other\" in label:\n",
    "            label = label.replace(\"Other\", \"Other Ethnicites\")\n",
    "        \n",
    "    # edu columns\n",
    "    elif \"qualification\" in label:\n",
    "        label = label.replace(\"qualification_\", \"\", 1).replace(\"_2011\", \"\").replace(\"_\", \" \").capitalize() \n",
    "        \n",
    "        if \"Level\" in label:\n",
    "            label = label + \" Qualification\"\n",
    "    # income columns  \n",
    "    elif \"annual\" in label: \n",
    "        label = label.split(\"annual_\")[1].replace(\"_\", \" \").capitalize()\n",
    "        \n",
    "    elif label in nutrients:\n",
    "        label = label.split(\"_\")[1].capitalize()\n",
    "        \n",
    "    elif label in products:\n",
    "        label = \" \".join([x.capitalize() for x in label.replace(\"f_\", \"\").split(\"_\")])\n",
    "        \n",
    "    return label    "
   ]
  },
  {
   "cell_type": "code",
   "execution_count": 105,
   "metadata": {},
   "outputs": [],
   "source": [
    "# Generating the new column names using Lucas \n",
    "def get_cleaned_column_names(df, is_ward = False):\n",
    "    \n",
    "    year_strings = range(1990,2021)\n",
    "    year_strings = [str(val) for val in year_strings]\n",
    "\n",
    "    ethnic_groups = [\"White\",\"Mixed\",\"Asian\",\"Black\",\"BAME\", \"Other\"]\n",
    "\n",
    "    ward_ethnic_groups_5 = [\"White\",\"Mixed\",\"Asian or Asian British\",\"Black or Black British\",\"Other\"]\n",
    "\n",
    "    ward_ethnic_groups_18 = [\"White British\",\"White Irish\",\"White Gypsy or Irish Traveller\",\"Other White\",\n",
    "                             \"Mixed White and Black Caribbean\",\"Mixed White and Black African\",\n",
    "                             \"Mixed White and Asian\", \"Other Mixed\",\"Indian\",\"Pakistani\",\"Bangladeshi\",\n",
    "                             \"Chinese\",\"Other Asian\",\"Black Caribbean\",\"Black African\",\"Other Black\",\n",
    "                             \"Arab\",\"Other Ethnic Group\"]\n",
    "\n",
    "    employment_types = [\"Total\",\"Employee\",\"Self-employed\",\"Unemployed\",\"student\"]\n",
    "\n",
    "    qualifications = [\"Level 1\", \"Level 2\", \"Level 3\", \"Level 4\", \"Apprenticeship\", \n",
    "                      \"No qualification\",\"Other qualifications\",\"students\"]\n",
    "\n",
    "    religions = [\"Christian\",\"Buddhist\",\"Hindu\",\"Jewish\",\"Muslim\",\"Sikh\",\n",
    "             \"Other religion\",\"No religion\",\"Religion not stated\"]\n",
    "    \n",
    "    income = [\"Mean Annual\",\"Median Annual\"]\n",
    "\n",
    "    dismiss_words = [\"Population Estimates\", \"Density\", \"Health\", \"Transport\", \n",
    "                     \"Car or van\", \"Household Composition\", \"All households\", \"All Households\", \"Dwelling type\", \n",
    "                     \"Road Casualties\",\"Tenure\",\"Lone Parents\", \"Adults in Employment\",\n",
    "                     \"Child Benefit\", \"Incidence of Cancer\",\"Life Expectancy\",\n",
    "                     \"Low Birth Weight Births\",\"Obesity\",\"Central Heating\",\"Income Deprivation\",\n",
    "                     \"Age Structure\", \"Mid-year Estimate\", \"Land Area\", \"Births and deaths\",\n",
    "                     \"Population and Age\",\"Home repossessions\",\"Household composition\",\"Number of properties sold\",\n",
    "                     \"dwellings sold during year\",\"Dwellings and Council tax\",\"Property Type\",\"Size of dwellings\",\n",
    "                     \"Property build period\", \"Crime\", \"Ambulance\",\"Childhood Obesity Prevalence\", \"Air Emissions\",\n",
    "                     \"Land Use\",\"Car access\",\"Travel to work by bicycle\",\"of LSOAs in worst\",\"Nat Insurance\",\n",
    "                     \"Election turnout\",\"Workplace employment\",\"Binge Drinking\",\"A-Level Point Scores\",\n",
    "                     \"Average GCSE capped\",\"Pupil Absence\",\"Out-of-Work Families\",\"Fires\",\"Access to green space and nature\",\n",
    "                     \"Indices of Deprivation\",\"Children in Poverty\",\"Jobseekers Allowance\",\"Benefits claimants\",\n",
    "                     \"Happiness and Well-being\",\"Lone Parent Not in Employment\",\"Adults not in Employment\"]\n",
    "\n",
    "    new_col_names = []\n",
    "    old_col_names = []\n",
    "\n",
    "    for col_name in df.columns:\n",
    "        new_name = \"\"\n",
    "        for word in dismiss_words:\n",
    "            if word in col_name:\n",
    "                new_name += \"YEET_\"       \n",
    "    \n",
    "        # catch percentage\n",
    "        if \"%\" in col_name or \"(rates)\" in col_name or \"(Percentages)\" in col_name:\n",
    "            new_name += \"perc_\"\n",
    "    \n",
    "        # catch ethnic groups\n",
    "        if \"Ethnic Group\" in col_name:\n",
    "            new_name += \"ethnicity_\"\n",
    "            if \"5 groups\" in col_name:\n",
    "                new_name += \"5_groups_\"\n",
    "                for group in ward_ethnic_groups_5:\n",
    "                    if group in col_name:\n",
    "                        new_name += group.lower().replace(\" \",\"_\") + \"_\"\n",
    "            if \"18 groups\" in col_name:\n",
    "                new_name += \"18_groups_\"\n",
    "                for group in ward_ethnic_groups_18:\n",
    "                    if group in col_name:\n",
    "                        new_name += group.lower().replace(\" \",\"_\") + \"_\"\n",
    "            if not is_ward:    \n",
    "                for group in ethnic_groups:\n",
    "                    if group in col_name:\n",
    "                        new_name += group.lower().replace(\" \",\"_\") + \"_\"\n",
    "    \n",
    "        # country of birth\n",
    "        if \"Country of Birth\" in col_name:\n",
    "            if \"Not\" in col_name:\n",
    "                new_name += \"not_uk_born_\"\n",
    "            else:\n",
    "                new_name += \"uk_born_\"\n",
    "    \n",
    "        # languages\n",
    "        if \"Language\" in col_name:\n",
    "            new_name += \"language_\"\n",
    "            if \"at least one\" in col_name:\n",
    "                new_name += \"has_+16_english_speaker_\"\n",
    "            else:\n",
    "                new_name += \"has_not_+16_english_speaker_\"\n",
    "    \n",
    "        # religion\n",
    "        if \"Religion\" in col_name:\n",
    "            new_name += \"religion_\"\n",
    "            for religion in religions:\n",
    "                if religion in col_name:\n",
    "                    new_name += religion.lower().replace(\" \",\"_\") + \"_\"\n",
    "    \n",
    "        # house prices\n",
    "        if \"House Prices\" in col_name:\n",
    "            if \"Median\" in col_name:\n",
    "                new_name += \"median_house_price_\"\n",
    "            elif \"Sales\" in col_name:\n",
    "                new_name += \"sales_house_price_\"\n",
    "        #income \n",
    "        if \"Household Income\" in col_name:\n",
    "            if \"Median\" in col_name:\n",
    "                new_name += \"annual_median_income_\"\n",
    "            if \"Mean\" in col_name:\n",
    "                new_name += \"annual_mean_income_\"\n",
    "        \n",
    "        # economic activity\n",
    "        if \"Economic Activity\" in col_name:\n",
    "            if is_ward:\n",
    "                if \"Economically active\" in col_name:\n",
    "                    new_name += \"economically_active_\"\n",
    "                \n",
    "                if \"Employment rate\" in col_name:\n",
    "                    if \"economically_active_\" not in new_name:\n",
    "                        new_name += \"economically_active_\"\n",
    "                    new_name += \"employment_rate_\"\n",
    "                if \"In employment\" in col_name:\n",
    "                    if \"economically_active_\" not in new_name:\n",
    "                        new_name += \"economically_active_\"\n",
    "                    new_name += \"in_employment_\"\n",
    "                if \"Unemployed\" in col_name:\n",
    "                    if \"economically_active_\" not in new_name:\n",
    "                        new_name += \"economically_active_\"\n",
    "                    new_name += \"unemployed_\"\n",
    "                    \n",
    "                if \"Economically Inactive\" in col_name:\n",
    "                    new_name += \"economically_inactive_\"\n",
    "                \n",
    "                if \"24\" in col_name:\n",
    "                    new_name += \"16_24_\"\n",
    "                if \"64\" in col_name:\n",
    "                    new_name += \"16_64_\"\n",
    "                if \"74\" in col_name:\n",
    "                    new_name += \"16_74_\"    \n",
    "            else:\n",
    "                if \"Employment Rate\" in col_name:\n",
    "                    new_name += \"employment_rate_\"\n",
    "                elif \"Unemployment Rate\" in col_name:\n",
    "                    new_name += \"unemployment_rate_\"\n",
    "                else:    \n",
    "                    new_name += \"economic_activity_\"\n",
    "                    if \"inactive\" in col_name:\n",
    "                        new_name += \"inactive_total_\"\n",
    "                    else:\n",
    "                        new_name += \"active_\"\n",
    "                        for employment in employment_types:\n",
    "                            if employment in col_name:\n",
    "                                new_name += employment.lower().replace(\"-\",\"_\") + \"_\"\n",
    "            \n",
    "        # qualifications\n",
    "        if \"Qualifications\" in col_name:\n",
    "            new_name += \"qualification_\"\n",
    "            for qualification in qualifications:\n",
    "                if qualification in col_name:\n",
    "                    new_name += qualification.lower().replace(\" \",\"_\") + \"_\"\n",
    "        \n",
    "        # appending the year\n",
    "        for year in year_strings:\n",
    "            if year in col_name:\n",
    "                new_name += year\n",
    "    \n",
    "        if \"Lower Super Output Area\" == col_name:\n",
    "            new_name = \"lsoa_code\"\n",
    "        if \"Middle Super Output Area\" == col_name:\n",
    "            new_name = \"msoa_code\"\n",
    "        if \"Names\" == col_name:\n",
    "            new_name = \"name\"\n",
    "        if \"MSOA Name\" == col_name:\n",
    "            new_name = \"name\"\n",
    "        if \"Unnamed: 1\" == col_name:\n",
    "            new_name = \"ward_code\"\n",
    "        if \"Unnamed: 2\" == col_name or \"Unnamed: 0\" == col_name:\n",
    "            new_name = \"YEET\"\n",
    "        if \"Unnamed: 3\" == col_name:\n",
    "            new_name = \"name\"\n",
    "        \n",
    "        if \"YEET\" not in new_name:\n",
    "            old_col_names.append(col_name)\n",
    "            new_col_names.append(new_name)\n",
    "    \n",
    "    return old_col_names, new_col_names"
   ]
  },
  {
   "cell_type": "markdown",
   "metadata": {},
   "source": [
    "#### Defining a few interesing Slices for the DF to use"
   ]
  },
  {
   "cell_type": "code",
   "execution_count": 159,
   "metadata": {},
   "outputs": [],
   "source": [
    "nutrients   = [\"energy_fat\", \"energy_saturate\", \"energy_sugar\", \"energy_protein\",\"energy_carb\",\"energy_fibre\", \"energy_alcohol\"]\n",
    "ethnicities = [\"perc_ethnicity_white_2011\",\"perc_ethnicity_mixed_2011\",\"perc_ethnicity_asian_2011\",\"perc_ethnicity_black_2011\",\"perc_ethnicity_other_2011\",\"perc_ethnicity_bame_2011\"]\n",
    "religions   = [\"perc_religion_christian_2011\",\"perc_religion_buddhist_2011\",\"perc_religion_hindu_2011\",\"perc_religion_jewish_2011\",\"perc_religion_muslim_2011\",\"perc_religion_sikh_2011\",\"perc_religion_other_religion_2011\",\"perc_religion_no_religion_2011\"]\n",
    "products    = [\"f_beer\",\"f_dairy\",\"f_eggs\",\"f_fats_oils\",\"f_fish\",\"f_fruit_veg\",\"f_grains\",\"f_meat_red\",\"f_poultry\",\"f_readymade\",\"f_sauces\",\"f_soft_drinks\",\"f_spirits\",\"f_sweets\",\"f_tea_coffee\",\"f_water\",\"f_wine\"]\n",
    "education   = [\"qualification_no_qualification_2011\",\"qualification_level_1_2011\",\"qualification_level_2_2011\",\"qualification_apprenticeship_2011\",\"qualification_level_3_2011\",\"qualification_level_4_2011\",\"qualification_other_qualifications_2011\",\"qualification_students_2011\"]\n",
    "months      = [\"Jan\", \"Feb\", \"Mar\", \"Apr\", \"May\", \"Jun\", \"Jul\", \"Aug\", \"Sep\", \"Oct\", \"Nov\", \"Dec\"]"
   ]
  },
  {
   "cell_type": "code",
   "execution_count": 43,
   "metadata": {},
   "outputs": [],
   "source": [
    "color_tesco_red = '#EE1C2E'\n",
    "color_tesco_blue = '#00539F'"
   ]
  },
  {
   "cell_type": "markdown",
   "metadata": {},
   "source": [
    "### Loading the Data"
   ]
  },
  {
   "cell_type": "markdown",
   "metadata": {},
   "source": [
    "#### Loading the yearly Tesco Data"
   ]
  },
  {
   "cell_type": "code",
   "execution_count": 68,
   "metadata": {},
   "outputs": [],
   "source": [
    "### Tesco Data\n",
    "tesco_path = (\"Tesco_Data\")\n",
    "\n",
    "lsoa_year     = pd.read_csv(os.path.join(tesco_path, \"year_lsoa_grocery.csv\"), index_col = \"area_id\")\n",
    "msoa_year     = pd.read_csv(os.path.join(tesco_path, \"year_msoa_grocery.csv\"), index_col = \"area_id\")\n",
    "osward_year   = pd.read_csv(os.path.join(tesco_path, \"year_osward_grocery.csv\"), index_col = \"area_id\")"
   ]
  },
  {
   "cell_type": "markdown",
   "metadata": {},
   "source": [
    "#### Loading the monthly Tesco Data"
   ]
  },
  {
   "cell_type": "code",
   "execution_count": 46,
   "metadata": {},
   "outputs": [],
   "source": [
    "# Why don't the name of months follow a lexographical ordering\n",
    "\n",
    "lsoa_months   = pd.DataFrame()\n",
    "msoa_months   = pd.DataFrame()\n",
    "osward_months = pd.DataFrame()\n",
    "\n",
    "\n",
    "for month in months: \n",
    "    \n",
    "    loading            = pd.read_csv(os.path.join(tesco_path, month +\"_lsoa_grocery.csv\"), index_col = \"area_id\")\n",
    "    loading[\"month\"]   = month\n",
    "    lsoa_months        = lsoa_months.append(loading)\n",
    "    \n",
    "    loading            = pd.read_csv(os.path.join(tesco_path, month +\"_msoa_grocery.csv\"), index_col = \"area_id\")\n",
    "    loading[\"month\"]   = month\n",
    "    msoa_months        = msoa_months.append(loading)\n",
    "    \n",
    "    loading            = pd.read_csv(os.path.join(tesco_path, month +\"_osward_grocery.csv\"), index_col = \"area_id\")\n",
    "    loading[\"month\"]   = month\n",
    "    osward_months      = osward_months.append(loading)\n",
    "    \n",
    "lsoa_months[\"month\"]   = pd.Categorical(lsoa_months['month'], categories=months, ordered=True)\n",
    "msoa_months[\"month\"]   = pd.Categorical(msoa_months['month'], categories=months, ordered=True)\n",
    "osward_months[\"month\"] = pd.Categorical(osward_months['month'], categories=months, ordered=True)"
   ]
  },
  {
   "cell_type": "markdown",
   "metadata": {},
   "source": [
    "#### Loading the Socio-Economic Data"
   ]
  },
  {
   "cell_type": "code",
   "execution_count": 70,
   "metadata": {},
   "outputs": [],
   "source": [
    "socio_path = (\"Socio_Economic_Data\")\n",
    "\n",
    "raw_lsoa_df = pd.read_csv(os.path.join(socio_path,\"lsoa-data.csv\"),encoding='latin1')\n",
    "raw_msoa_df = pd.read_csv(os.path.join(socio_path,\"msoa-data.csv\"),encoding='latin1')\n",
    "raw_ward_df = pd.read_csv(os.path.join(socio_path,\"ward-atlas-data.csv\"),encoding='latin1')\n",
    "raw_ward_df = raw_ward_df.drop(0)"
   ]
  },
  {
   "cell_type": "markdown",
   "metadata": {},
   "source": [
    "#### Luca's Column Name Preparing and Cleaning Services "
   ]
  },
  {
   "cell_type": "code",
   "execution_count": 110,
   "metadata": {},
   "outputs": [],
   "source": [
    "ward_old_names, ward_new_names = get_cleaned_column_names(raw_ward_df, is_ward = True)\n",
    "msoa_old_names, msoa_new_names = get_cleaned_column_names(raw_msoa_df)        \n",
    "lsoa_old_names, lsoa_new_names = get_cleaned_column_names(raw_lsoa_df) \n",
    "\n",
    "ltd_raw_ward_df = raw_ward_df[ward_old_names]\n",
    "ltd_raw_msoa_df = raw_msoa_df[msoa_old_names]\n",
    "ltd_raw_lsoa_df = raw_lsoa_df[lsoa_old_names]\n",
    "\n",
    "ward_name_dict = dict(zip(ward_old_names, ward_new_names))\n",
    "msoa_name_dict = dict(zip(msoa_old_names, msoa_new_names))\n",
    "lsoa_name_dict = dict(zip(lsoa_old_names, lsoa_new_names))\n",
    "\n",
    "osward_social = ltd_raw_ward_df.rename(ward_name_dict,axis=1)\n",
    "msoa_social = ltd_raw_msoa_df.rename(msoa_name_dict,axis=1)\n",
    "lsoa_social = ltd_raw_lsoa_df.rename(lsoa_name_dict,axis=1)\n",
    "\n",
    "# Drops higher Level Aggregation and NaN Rows\n",
    "lsoa_social     = lsoa_social[lsoa_social[\"name\"].notna()]\n",
    "msoa_social     = msoa_social[msoa_social.msoa_code.notna()]\n",
    "osward_social   = osward_social[osward_social[\"name\"].apply(lambda x: True if x not in [\"London\", \"England\", \"England and Wales\"] else False)]\n",
    "\n",
    "# Setting the index\n",
    "lsoa_social = lsoa_social.set_index(\"lsoa_code\")\n",
    "msoa_social = msoa_social.set_index(\"msoa_code\")\n",
    "osward_social = osward_social.set_index(\"ward_code\")"
   ]
  },
  {
   "cell_type": "code",
   "execution_count": 111,
   "metadata": {},
   "outputs": [
    {
     "data": {
      "text/plain": [
       "['E01000328', 'E01003902']"
      ]
     },
     "execution_count": 111,
     "metadata": {},
     "output_type": "execute_result"
    }
   ],
   "source": [
    "## Two LSOA are not accounted for in the Tesco dataset and will be dropped by the join\n",
    "[x for x in lsoa_social.index if x not in lsoa_year.index]"
   ]
  },
  {
   "cell_type": "markdown",
   "metadata": {},
   "source": [
    "#### Joining the Dataframes"
   ]
  },
  {
   "cell_type": "code",
   "execution_count": 112,
   "metadata": {},
   "outputs": [],
   "source": [
    "lsoa_combined_year = lsoa_social.join(lsoa_year, how = \"inner\")\n",
    "msoa_combined_year = msoa_social.join(msoa_year, how = \"inner\")\n",
    "osward_combined_year = osward_social.join(osward_year, how = \"inner\")\n",
    "# Consider only Areas with atleast 10% Representative-ness:\n",
    "\n",
    "lsoa_combined_year     = lsoa_combined_year[lsoa_combined_year.representativeness_norm > 0.10]\n",
    "msoa_combined_year     = msoa_combined_year[msoa_combined_year.representativeness_norm > 0.10]\n",
    "osward_combined_year    = osward_combined_year[osward_combined_year.representativeness_norm > 0.10]"
   ]
  },
  {
   "cell_type": "code",
   "execution_count": 113,
   "metadata": {},
   "outputs": [
    {
     "name": "stdout",
     "output_type": "stream",
     "text": [
      "Turning the Data into a pickle ... \n",
      "Funniest shit I have ever seen!\n"
     ]
    }
   ],
   "source": [
    "print(\"Turning the Data into a pickle ... \")\n",
    "\n",
    "jar = \"pickle_jar\" \n",
    "\n",
    "msoa_combined_year.to_pickle(path = os.path.join(jar,\"msoa_combined_year.pkl\"))\n",
    "lsoa_combined_year.to_pickle(path = os.path.join(jar,\"lsoa_combined_year.pkl\"))\n",
    "osward_combined_year.to_pickle(path = os.path.join(jar,\"ward_combined_year.pkl\"))\n",
    "\n",
    "print(\"Funniest shit I have ever seen!\")"
   ]
  },
  {
   "cell_type": "markdown",
   "metadata": {},
   "source": [
    "#### Taking them out of the Jar again"
   ]
  },
  {
   "cell_type": "code",
   "execution_count": 114,
   "metadata": {},
   "outputs": [
    {
     "name": "stdout",
     "output_type": "stream",
     "text": [
      "Loading pickled Data\n"
     ]
    }
   ],
   "source": [
    "print(\"Loading pickled Data\")\n",
    "\n",
    "osward_combined_year = pd.read_pickle(os.path.join(jar,\"ward_combined_year.pkl\"))\n",
    "msoa_combined_year = pd.read_pickle(os.path.join(jar,\"msoa_combined_year.pkl\"))\n",
    "lsoa_combined_year = pd.read_pickle(os.path.join(jar,\"lsoa_combined_year.pkl\"))"
   ]
  },
  {
   "cell_type": "markdown",
   "metadata": {},
   "source": [
    "### Its about Thyme\n",
    "\n",
    "For a short look into the data we will look into the caloric consumption based on different nutrients on the ward level during the twelve month measuring period"
   ]
  },
  {
   "cell_type": "code",
   "execution_count": 115,
   "metadata": {},
   "outputs": [
    {
     "data": {
      "image/png": "[encoded data removed]",
      "text/plain": [
       "<Figure size 1440x720 with 1 Axes>"
      ]
     },
     "metadata": {
      "needs_background": "light"
     },
     "output_type": "display_data"
    }
   ],
   "source": [
    "fig, ax = plt.subplots(figsize = (20,10))\n",
    "\n",
    "g = sns.lineplot(data = osward_months.groupby(by = \"month\").sum()[nutrients], ax = ax)\n",
    "plt.show()"
   ]
  },
  {
   "cell_type": "markdown",
   "metadata": {},
   "source": [
    "#### Some Regression"
   ]
  },
  {
   "cell_type": "code",
   "execution_count": 116,
   "metadata": {},
   "outputs": [
    {
     "name": "stdout",
     "output_type": "stream",
     "text": [
      "                             OLS Regression Results                            \n",
      "===============================================================================\n",
      "Dep. Variable:     ethnicity_bame_2011   R-squared:                       0.481\n",
      "Model:                             OLS   Adj. R-squared:                  0.480\n",
      "Method:                  Least Squares   F-statistic:                     512.0\n",
      "Date:                 Fri, 27 Nov 2020   Prob (F-statistic):               0.00\n",
      "Time:                         14:15:33   Log-Likelihood:                -27322.\n",
      "No. Observations:                 3874   AIC:                         5.466e+04\n",
      "Df Residuals:                     3866   BIC:                         5.471e+04\n",
      "Df Model:                            7                                         \n",
      "Covariance Type:             nonrobust                                         \n",
      "===================================================================================\n",
      "                      coef    std err          t      P>|t|      [0.025      0.975]\n",
      "-----------------------------------------------------------------------------------\n",
      "Intercept        5176.1760    138.400     37.400      0.000    4904.832    5447.521\n",
      "energy_fat         23.2553      2.349      9.900      0.000      18.650      27.861\n",
      "energy_saturate    -4.7711      4.426     -1.078      0.281     -13.448       3.906\n",
      "energy_sugar      -52.6301      1.925    -27.342      0.000     -56.404     -48.856\n",
      "energy_protein   -157.7627      4.843    -32.577      0.000    -167.257    -148.268\n",
      "energy_carb        23.6242      0.983     24.022      0.000      21.696      25.552\n",
      "energy_fibre     -711.6316     26.215    -27.145      0.000    -763.029    -660.234\n",
      "energy_alcohol   -174.8844      8.948    -19.544      0.000    -192.428    -157.341\n",
      "==============================================================================\n",
      "Omnibus:                      689.757   Durbin-Watson:                   1.104\n",
      "Prob(Omnibus):                  0.000   Jarque-Bera (JB):             4326.156\n",
      "Skew:                           0.696   Prob(JB):                         0.00\n",
      "Kurtosis:                       7.986   Cond. No.                     3.79e+03\n",
      "==============================================================================\n",
      "\n",
      "Warnings:\n",
      "[1] Standard Errors assume that the covariance matrix of the errors is correctly specified.\n",
      "[2] The condition number is large, 3.79e+03. This might indicate that there are\n",
      "strong multicollinearity or other numerical problems.\n"
     ]
    }
   ],
   "source": [
    "log_model_interaction_variable = smf.ols(formula='ethnicity_bame_2011 ~ energy_fat + energy_saturate + energy_sugar + energy_protein + energy_carb + energy_fibre + energy_alcohol',data=lsoa_combined_year)\n",
    "res = log_model_interaction_variable.fit()\n",
    "\n",
    "# Print thes summary output provided by the library.\n",
    "print(res.summary())"
   ]
  },
  {
   "cell_type": "code",
   "execution_count": 117,
   "metadata": {},
   "outputs": [
    {
     "name": "stdout",
     "output_type": "stream",
     "text": [
      "                                OLS Regression Results                               \n",
      "=====================================================================================\n",
      "Dep. Variable:     annual_median_income_2011   R-squared:                       0.495\n",
      "Model:                                   OLS   Adj. R-squared:                  0.494\n",
      "Method:                        Least Squares   F-statistic:                     540.7\n",
      "Date:                       Fri, 27 Nov 2020   Prob (F-statistic):               0.00\n",
      "Time:                               14:15:34   Log-Likelihood:                -40266.\n",
      "No. Observations:                       3874   AIC:                         8.055e+04\n",
      "Df Residuals:                           3866   BIC:                         8.060e+04\n",
      "Df Model:                                  7                                         \n",
      "Covariance Type:                   nonrobust                                         \n",
      "===================================================================================\n",
      "                      coef    std err          t      P>|t|      [0.025      0.975]\n",
      "-----------------------------------------------------------------------------------\n",
      "Intercept       -3.294e+04   3909.741     -8.424      0.000   -4.06e+04   -2.53e+04\n",
      "energy_fat       -798.6663     66.359    -12.036      0.000    -928.768    -668.565\n",
      "energy_saturate  1742.1733    125.022     13.935      0.000    1497.057    1987.290\n",
      "energy_sugar      398.9198     54.378      7.336      0.000     292.308     505.531\n",
      "energy_protein    718.8177    136.806      5.254      0.000     450.599     987.037\n",
      "energy_carb      -717.5605     27.782    -25.829      0.000    -772.029    -663.092\n",
      "energy_fibre     3.087e+04    740.575     41.686      0.000    2.94e+04    3.23e+04\n",
      "energy_alcohol   2999.9635    252.782     11.868      0.000    2504.364    3495.563\n",
      "==============================================================================\n",
      "Omnibus:                      698.172   Durbin-Watson:                   1.214\n",
      "Prob(Omnibus):                  0.000   Jarque-Bera (JB):            17228.650\n",
      "Skew:                          -0.037   Prob(JB):                         0.00\n",
      "Kurtosis:                      13.331   Cond. No.                     3.79e+03\n",
      "==============================================================================\n",
      "\n",
      "Warnings:\n",
      "[1] Standard Errors assume that the covariance matrix of the errors is correctly specified.\n",
      "[2] The condition number is large, 3.79e+03. This might indicate that there are\n",
      "strong multicollinearity or other numerical problems.\n"
     ]
    }
   ],
   "source": [
    "log_model_interaction_variable = smf.ols(formula='annual_median_income_2011 ~ energy_fat + energy_saturate + energy_sugar + energy_protein + energy_carb + energy_fibre + energy_alcohol',data=lsoa_combined_year)\n",
    "res = log_model_interaction_variable.fit()\n",
    "\n",
    "# Print thes summary output provided by the library.\n",
    "print(res.summary())"
   ]
  },
  {
   "cell_type": "markdown",
   "metadata": {},
   "source": [
    "#### Barplots for different interesting attributes"
   ]
  },
  {
   "cell_type": "code",
   "execution_count": 303,
   "metadata": {},
   "outputs": [
    {
     "data": {
      "image/png": "[encoded data removed]",
      "text/plain": [
       "<Figure size 2160x2160 with 6 Axes>"
      ]
     },
     "metadata": {},
     "output_type": "display_data"
    }
   ],
   "source": [
    "with sns.axes_style(\"white\"): \n",
    "\n",
    "    f, axes = plt.subplots(3, 2, figsize=(30, 30), sharey = True)\n",
    "    axes = axes.flatten()\n",
    "\n",
    "    for ax, eth in zip(axes,ethnicities):\n",
    "        correl = [(nutr, stats.spearmanr(a = lsoa_combined_year[eth], b = lsoa_combined_year[nutr]).correlation) for nutr in nutrients if stats.spearmanr(a = lsoa_combined_year[eth], b = lsoa_combined_year[nutr]).pvalue < 0.05]\n",
    "        colors = [0 if c[1] >= 0 else 1 for c in correl]\n",
    "        sns.barplot(x= [x[0].split(\"_\")[1] for x in correl], y=[x[1] for x in correl], hue=colors, palette=sns.color_palette(), dodge=False, ax = ax)\n",
    "        ax.axhline(0, ls='-', c = 'k')\n",
    "        ax.get_legend().remove()\n",
    "        ax.set_title(label_processor(eth))\n",
    "\n",
    "    sns.despine(top = True, right = True)\n",
    "    axes[-1].set_visible(False)\n",
    "\n",
    "plt.show()"
   ]
  },
  {
   "cell_type": "code",
   "execution_count": 138,
   "metadata": {},
   "outputs": [
    {
     "data": {
      "text/html": [
       "<div>\n",
       "<style scoped>\n",
       "    .dataframe tbody tr th:only-of-type {\n",
       "        vertical-align: middle;\n",
       "    }\n",
       "\n",
       "    .dataframe tbody tr th {\n",
       "        vertical-align: top;\n",
       "    }\n",
       "\n",
       "    .dataframe thead th {\n",
       "        text-align: right;\n",
       "    }\n",
       "</style>\n",
       "<table border=\"1\" class=\"dataframe\">\n",
       "  <thead>\n",
       "    <tr style=\"text-align: right;\">\n",
       "      <th></th>\n",
       "      <th>antecedents</th>\n",
       "      <th>consequents</th>\n",
       "      <th>antecedent support</th>\n",
       "      <th>consequent support</th>\n",
       "      <th>support</th>\n",
       "      <th>confidence</th>\n",
       "      <th>lift</th>\n",
       "      <th>leverage</th>\n",
       "      <th>conviction</th>\n",
       "    </tr>\n",
       "  </thead>\n",
       "  <tbody>\n",
       "    <tr>\n",
       "      <th>6617</th>\n",
       "      <td>(carb_High, saturate_High, protein_Low)</td>\n",
       "      <td>(asian_High)</td>\n",
       "      <td>0.065307</td>\n",
       "      <td>0.250129</td>\n",
       "      <td>0.053691</td>\n",
       "      <td>0.822134</td>\n",
       "      <td>3.286841</td>\n",
       "      <td>0.037356</td>\n",
       "      <td>4.215941</td>\n",
       "    </tr>\n",
       "    <tr>\n",
       "      <th>8089</th>\n",
       "      <td>(carb_High, saturate_High, protein_Low)</td>\n",
       "      <td>(Other_religion_Low)</td>\n",
       "      <td>0.065307</td>\n",
       "      <td>0.248064</td>\n",
       "      <td>0.053433</td>\n",
       "      <td>0.818182</td>\n",
       "      <td>3.298269</td>\n",
       "      <td>0.037233</td>\n",
       "      <td>4.135648</td>\n",
       "    </tr>\n",
       "    <tr>\n",
       "      <th>6605</th>\n",
       "      <td>(carb_High, fat_High, protein_Low)</td>\n",
       "      <td>(asian_High)</td>\n",
       "      <td>0.064533</td>\n",
       "      <td>0.250129</td>\n",
       "      <td>0.052659</td>\n",
       "      <td>0.816000</td>\n",
       "      <td>3.262316</td>\n",
       "      <td>0.036517</td>\n",
       "      <td>4.075386</td>\n",
       "    </tr>\n",
       "    <tr>\n",
       "      <th>8077</th>\n",
       "      <td>(carb_High, fat_High, protein_Low)</td>\n",
       "      <td>(Other_religion_Low)</td>\n",
       "      <td>0.064533</td>\n",
       "      <td>0.248064</td>\n",
       "      <td>0.051884</td>\n",
       "      <td>0.804000</td>\n",
       "      <td>3.241099</td>\n",
       "      <td>0.035876</td>\n",
       "      <td>3.836408</td>\n",
       "    </tr>\n",
       "    <tr>\n",
       "      <th>16687</th>\n",
       "      <td>(carb_High, saturate_High, protein_Low)</td>\n",
       "      <td>(Other_religion_Low, asian_High)</td>\n",
       "      <td>0.065307</td>\n",
       "      <td>0.175271</td>\n",
       "      <td>0.052401</td>\n",
       "      <td>0.802372</td>\n",
       "      <td>4.577890</td>\n",
       "      <td>0.040954</td>\n",
       "      <td>4.173129</td>\n",
       "    </tr>\n",
       "    <tr>\n",
       "      <th>6582</th>\n",
       "      <td>(fat_High, protein_Low, saturate_High)</td>\n",
       "      <td>(asian_High)</td>\n",
       "      <td>0.077697</td>\n",
       "      <td>0.250129</td>\n",
       "      <td>0.061951</td>\n",
       "      <td>0.797342</td>\n",
       "      <td>3.187723</td>\n",
       "      <td>0.042517</td>\n",
       "      <td>3.700183</td>\n",
       "    </tr>\n",
       "    <tr>\n",
       "      <th>16647</th>\n",
       "      <td>(carb_High, fat_High, protein_Low)</td>\n",
       "      <td>(Other_religion_Low, asian_High)</td>\n",
       "      <td>0.064533</td>\n",
       "      <td>0.175271</td>\n",
       "      <td>0.051110</td>\n",
       "      <td>0.792000</td>\n",
       "      <td>4.518716</td>\n",
       "      <td>0.039799</td>\n",
       "      <td>3.965043</td>\n",
       "    </tr>\n",
       "    <tr>\n",
       "      <th>16708</th>\n",
       "      <td>(saturate_High, protein_Low, sugar_High, fat_H...</td>\n",
       "      <td>(asian_High)</td>\n",
       "      <td>0.064791</td>\n",
       "      <td>0.250129</td>\n",
       "      <td>0.050852</td>\n",
       "      <td>0.784861</td>\n",
       "      <td>3.137822</td>\n",
       "      <td>0.034646</td>\n",
       "      <td>3.485511</td>\n",
       "    </tr>\n",
       "    <tr>\n",
       "      <th>4053</th>\n",
       "      <td>(carb_High, fat_High, protein_Low)</td>\n",
       "      <td>(white_Low)</td>\n",
       "      <td>0.064533</td>\n",
       "      <td>0.250129</td>\n",
       "      <td>0.050336</td>\n",
       "      <td>0.780000</td>\n",
       "      <td>3.118390</td>\n",
       "      <td>0.034194</td>\n",
       "      <td>3.408504</td>\n",
       "    </tr>\n",
       "    <tr>\n",
       "      <th>7547</th>\n",
       "      <td>(carb_High, fat_High, protein_Low)</td>\n",
       "      <td>(bame_High)</td>\n",
       "      <td>0.064533</td>\n",
       "      <td>0.250129</td>\n",
       "      <td>0.050336</td>\n",
       "      <td>0.780000</td>\n",
       "      <td>3.118390</td>\n",
       "      <td>0.034194</td>\n",
       "      <td>3.408504</td>\n",
       "    </tr>\n",
       "    <tr>\n",
       "      <th>12235</th>\n",
       "      <td>(carb_High, fat_High, protein_Low)</td>\n",
       "      <td>(bame_High, white_Low)</td>\n",
       "      <td>0.064533</td>\n",
       "      <td>0.250129</td>\n",
       "      <td>0.050336</td>\n",
       "      <td>0.780000</td>\n",
       "      <td>3.118390</td>\n",
       "      <td>0.034194</td>\n",
       "      <td>3.408504</td>\n",
       "    </tr>\n",
       "    <tr>\n",
       "      <th>2317</th>\n",
       "      <td>(fibre_High, carb_Low)</td>\n",
       "      <td>(Median_Income_High)</td>\n",
       "      <td>0.100671</td>\n",
       "      <td>0.250129</td>\n",
       "      <td>0.078472</td>\n",
       "      <td>0.779487</td>\n",
       "      <td>3.116340</td>\n",
       "      <td>0.053291</td>\n",
       "      <td>3.400577</td>\n",
       "    </tr>\n",
       "    <tr>\n",
       "      <th>4064</th>\n",
       "      <td>(carb_High, saturate_High, protein_Low)</td>\n",
       "      <td>(white_Low)</td>\n",
       "      <td>0.065307</td>\n",
       "      <td>0.250129</td>\n",
       "      <td>0.050852</td>\n",
       "      <td>0.778656</td>\n",
       "      <td>3.113017</td>\n",
       "      <td>0.034517</td>\n",
       "      <td>3.387810</td>\n",
       "    </tr>\n",
       "    <tr>\n",
       "      <th>7558</th>\n",
       "      <td>(carb_High, saturate_High, protein_Low)</td>\n",
       "      <td>(bame_High)</td>\n",
       "      <td>0.065307</td>\n",
       "      <td>0.250129</td>\n",
       "      <td>0.050852</td>\n",
       "      <td>0.778656</td>\n",
       "      <td>3.113017</td>\n",
       "      <td>0.034517</td>\n",
       "      <td>3.387810</td>\n",
       "    </tr>\n",
       "    <tr>\n",
       "      <th>12270</th>\n",
       "      <td>(carb_High, saturate_High, protein_Low)</td>\n",
       "      <td>(bame_High, white_Low)</td>\n",
       "      <td>0.065307</td>\n",
       "      <td>0.250129</td>\n",
       "      <td>0.050852</td>\n",
       "      <td>0.778656</td>\n",
       "      <td>3.113017</td>\n",
       "      <td>0.034517</td>\n",
       "      <td>3.387810</td>\n",
       "    </tr>\n",
       "    <tr>\n",
       "      <th>1347</th>\n",
       "      <td>(fat_High, protein_Low)</td>\n",
       "      <td>(asian_High)</td>\n",
       "      <td>0.085700</td>\n",
       "      <td>0.250129</td>\n",
       "      <td>0.066598</td>\n",
       "      <td>0.777108</td>\n",
       "      <td>3.106830</td>\n",
       "      <td>0.045162</td>\n",
       "      <td>3.364286</td>\n",
       "    </tr>\n",
       "    <tr>\n",
       "      <th>12893</th>\n",
       "      <td>(carb_High, saturate_High, protein_Low)</td>\n",
       "      <td>(white_Low, Other_religion_Low)</td>\n",
       "      <td>0.065307</td>\n",
       "      <td>0.176304</td>\n",
       "      <td>0.050594</td>\n",
       "      <td>0.774704</td>\n",
       "      <td>4.394146</td>\n",
       "      <td>0.039080</td>\n",
       "      <td>3.656056</td>\n",
       "    </tr>\n",
       "    <tr>\n",
       "      <th>23433</th>\n",
       "      <td>(carb_High, saturate_High, protein_Low)</td>\n",
       "      <td>(bame_High, white_Low, Other_religion_Low)</td>\n",
       "      <td>0.065307</td>\n",
       "      <td>0.176304</td>\n",
       "      <td>0.050594</td>\n",
       "      <td>0.774704</td>\n",
       "      <td>4.394146</td>\n",
       "      <td>0.039080</td>\n",
       "      <td>3.656056</td>\n",
       "    </tr>\n",
       "    <tr>\n",
       "      <th>17365</th>\n",
       "      <td>(carb_High, saturate_High, protein_Low)</td>\n",
       "      <td>(bame_High, Other_religion_Low)</td>\n",
       "      <td>0.065307</td>\n",
       "      <td>0.176304</td>\n",
       "      <td>0.050594</td>\n",
       "      <td>0.774704</td>\n",
       "      <td>4.394146</td>\n",
       "      <td>0.039080</td>\n",
       "      <td>3.656056</td>\n",
       "    </tr>\n",
       "    <tr>\n",
       "      <th>8164</th>\n",
       "      <td>(fibre_High, carb_Low, sugar_Low)</td>\n",
       "      <td>(Median_Income_High)</td>\n",
       "      <td>0.080795</td>\n",
       "      <td>0.250129</td>\n",
       "      <td>0.062210</td>\n",
       "      <td>0.769968</td>\n",
       "      <td>3.078283</td>\n",
       "      <td>0.042000</td>\n",
       "      <td>3.259856</td>\n",
       "    </tr>\n",
       "  </tbody>\n",
       "</table>\n",
       "</div>"
      ],
      "text/plain": [
       "                                             antecedents  \\\n",
       "6617             (carb_High, saturate_High, protein_Low)   \n",
       "8089             (carb_High, saturate_High, protein_Low)   \n",
       "6605                  (carb_High, fat_High, protein_Low)   \n",
       "8077                  (carb_High, fat_High, protein_Low)   \n",
       "16687            (carb_High, saturate_High, protein_Low)   \n",
       "6582              (fat_High, protein_Low, saturate_High)   \n",
       "16647                 (carb_High, fat_High, protein_Low)   \n",
       "16708  (saturate_High, protein_Low, sugar_High, fat_H...   \n",
       "4053                  (carb_High, fat_High, protein_Low)   \n",
       "7547                  (carb_High, fat_High, protein_Low)   \n",
       "12235                 (carb_High, fat_High, protein_Low)   \n",
       "2317                              (fibre_High, carb_Low)   \n",
       "4064             (carb_High, saturate_High, protein_Low)   \n",
       "7558             (carb_High, saturate_High, protein_Low)   \n",
       "12270            (carb_High, saturate_High, protein_Low)   \n",
       "1347                             (fat_High, protein_Low)   \n",
       "12893            (carb_High, saturate_High, protein_Low)   \n",
       "23433            (carb_High, saturate_High, protein_Low)   \n",
       "17365            (carb_High, saturate_High, protein_Low)   \n",
       "8164                   (fibre_High, carb_Low, sugar_Low)   \n",
       "\n",
       "                                      consequents  antecedent support  \\\n",
       "6617                                 (asian_High)            0.065307   \n",
       "8089                         (Other_religion_Low)            0.065307   \n",
       "6605                                 (asian_High)            0.064533   \n",
       "8077                         (Other_religion_Low)            0.064533   \n",
       "16687            (Other_religion_Low, asian_High)            0.065307   \n",
       "6582                                 (asian_High)            0.077697   \n",
       "16647            (Other_religion_Low, asian_High)            0.064533   \n",
       "16708                                (asian_High)            0.064791   \n",
       "4053                                  (white_Low)            0.064533   \n",
       "7547                                  (bame_High)            0.064533   \n",
       "12235                      (bame_High, white_Low)            0.064533   \n",
       "2317                         (Median_Income_High)            0.100671   \n",
       "4064                                  (white_Low)            0.065307   \n",
       "7558                                  (bame_High)            0.065307   \n",
       "12270                      (bame_High, white_Low)            0.065307   \n",
       "1347                                 (asian_High)            0.085700   \n",
       "12893             (white_Low, Other_religion_Low)            0.065307   \n",
       "23433  (bame_High, white_Low, Other_religion_Low)            0.065307   \n",
       "17365             (bame_High, Other_religion_Low)            0.065307   \n",
       "8164                         (Median_Income_High)            0.080795   \n",
       "\n",
       "       consequent support   support  confidence      lift  leverage  \\\n",
       "6617             0.250129  0.053691    0.822134  3.286841  0.037356   \n",
       "8089             0.248064  0.053433    0.818182  3.298269  0.037233   \n",
       "6605             0.250129  0.052659    0.816000  3.262316  0.036517   \n",
       "8077             0.248064  0.051884    0.804000  3.241099  0.035876   \n",
       "16687            0.175271  0.052401    0.802372  4.577890  0.040954   \n",
       "6582             0.250129  0.061951    0.797342  3.187723  0.042517   \n",
       "16647            0.175271  0.051110    0.792000  4.518716  0.039799   \n",
       "16708            0.250129  0.050852    0.784861  3.137822  0.034646   \n",
       "4053             0.250129  0.050336    0.780000  3.118390  0.034194   \n",
       "7547             0.250129  0.050336    0.780000  3.118390  0.034194   \n",
       "12235            0.250129  0.050336    0.780000  3.118390  0.034194   \n",
       "2317             0.250129  0.078472    0.779487  3.116340  0.053291   \n",
       "4064             0.250129  0.050852    0.778656  3.113017  0.034517   \n",
       "7558             0.250129  0.050852    0.778656  3.113017  0.034517   \n",
       "12270            0.250129  0.050852    0.778656  3.113017  0.034517   \n",
       "1347             0.250129  0.066598    0.777108  3.106830  0.045162   \n",
       "12893            0.176304  0.050594    0.774704  4.394146  0.039080   \n",
       "23433            0.176304  0.050594    0.774704  4.394146  0.039080   \n",
       "17365            0.176304  0.050594    0.774704  4.394146  0.039080   \n",
       "8164             0.250129  0.062210    0.769968  3.078283  0.042000   \n",
       "\n",
       "       conviction  \n",
       "6617     4.215941  \n",
       "8089     4.135648  \n",
       "6605     4.075386  \n",
       "8077     3.836408  \n",
       "16687    4.173129  \n",
       "6582     3.700183  \n",
       "16647    3.965043  \n",
       "16708    3.485511  \n",
       "4053     3.408504  \n",
       "7547     3.408504  \n",
       "12235    3.408504  \n",
       "2317     3.400577  \n",
       "4064     3.387810  \n",
       "7558     3.387810  \n",
       "12270    3.387810  \n",
       "1347     3.364286  \n",
       "12893    3.656056  \n",
       "23433    3.656056  \n",
       "17365    3.656056  \n",
       "8164     3.259856  "
      ]
     },
     "execution_count": 138,
     "metadata": {},
     "output_type": "execute_result"
    }
   ],
   "source": [
    "lsoa_combined_items = lsoa_combined_year[ethnicities + religions + nutrients + [\"annual_median_income_2011\"]].copy()\n",
    "lsoa_combined_items.columns = [x.split(\"y_\")[1].replace(\"_2011\", \"\") for x in ethnicities] + ['Christian', 'Buddhist','Hindu','Jewish','Muslim','Sikh','No_religion','Other_religion']  + [x.split(\"_\")[1] for x in  nutrients] + [\"Median_Income\"] \n",
    " \n",
    "# You could do this probably somewhat smarter \n",
    "# Encoding Data into a \"Set\" Dataset\n",
    "for col in lsoa_combined_items.columns:\n",
    "    lower  =  lsoa_combined_items[col].quantile(0.25)\n",
    "    middle =  lsoa_combined_items[col].quantile(0.5)\n",
    "    higher =  lsoa_combined_items[col].quantile(0.75)\n",
    "    lsoa_combined_items[col + \"_Low\"] = lsoa_combined_items[col].apply(lambda x : x < lower)\n",
    "    lsoa_combined_items[col + \"_Low_to_Middle\"] = lsoa_combined_items[col].apply(lambda x : x >= lower and x < middle)\n",
    "    lsoa_combined_items[col + \"_Middle_to_High\"] = lsoa_combined_items[col].apply(lambda x :  x < higher and x > middle)\n",
    "    lsoa_combined_items[col + \"_High\"] = lsoa_combined_items[col].apply(lambda x : x > higher )\n",
    "    lsoa_combined_items = lsoa_combined_items.drop(col, axis = 1)\n",
    "    \n",
    "\n",
    "# Given the structure of the information, low support is indemic\n",
    "frequent_itemsets = apriori(lsoa_combined_items, min_support = 0.05, use_colnames = True)\n",
    "\n",
    "# Use Association Rules as an \"explainable\" Model\n",
    "cleaned_names = [x.split(\"_\")[1] for x in nutrients]\n",
    "cleaned_names = [x + \"_High\" for x in cleaned_names] + [x + \"_Low\" for x in cleaned_names] + [x + \"Low_to_Middle\" for x in cleaned_names]+ [x + \"Middle_to_High\" for x in cleaned_names]\n",
    "nutrient_sets = set(cleaned_names)\n",
    "\n",
    "rules_association = arule(frequent_itemsets, metric = 'confidence', min_threshold = 0.6)\n",
    "rules_association[rules_association.apply(lambda x : True if x[\"antecedents\"].issubset(nutrient_sets) and not x[\"consequents\"].issubset(nutrient_sets) else False, axis = 1)].sort_values(by = \"confidence\", ascending = False).head(20)"
   ]
  },
  {
   "cell_type": "code",
   "execution_count": 141,
   "metadata": {},
   "outputs": [
    {
     "name": "stderr",
     "output_type": "stream",
     "text": [
      "0it [00:00, ?it/s]"
     ]
    },
    {
     "name": "stdout",
     "output_type": "stream",
     "text": [
      "\n",
      " (75, 'auto')\n"
     ]
    },
    {
     "name": "stderr",
     "output_type": "stream",
     "text": [
      "1it [00:13, 13.27s/it]"
     ]
    },
    {
     "name": "stdout",
     "output_type": "stream",
     "text": [
      "0.4960410298240815\n",
      "\n",
      " (75, 'sqrt')\n"
     ]
    },
    {
     "name": "stderr",
     "output_type": "stream",
     "text": [
      "2it [00:17, 10.52s/it]"
     ]
    },
    {
     "name": "stdout",
     "output_type": "stream",
     "text": [
      "0.5020071041133997\n",
      "\n",
      " (100, 'auto')\n"
     ]
    },
    {
     "name": "stderr",
     "output_type": "stream",
     "text": [
      "3it [00:29, 11.07s/it]"
     ]
    },
    {
     "name": "stdout",
     "output_type": "stream",
     "text": [
      "0.5014033004082666\n",
      "\n",
      " (100, 'sqrt')\n"
     ]
    },
    {
     "name": "stderr",
     "output_type": "stream",
     "text": [
      "4it [00:35,  9.52s/it]"
     ]
    },
    {
     "name": "stdout",
     "output_type": "stream",
     "text": [
      "0.5023079808166456\n",
      "\n",
      " (200, 'auto')\n"
     ]
    },
    {
     "name": "stderr",
     "output_type": "stream",
     "text": [
      "5it [01:00, 14.08s/it]"
     ]
    },
    {
     "name": "stdout",
     "output_type": "stream",
     "text": [
      "0.5021904448474477\n",
      "\n",
      " (200, 'sqrt')\n"
     ]
    },
    {
     "name": "stderr",
     "output_type": "stream",
     "text": [
      "6it [01:12, 13.37s/it]"
     ]
    },
    {
     "name": "stdout",
     "output_type": "stream",
     "text": [
      "0.5064588352405371\n",
      "\n",
      " (250, 'auto')\n"
     ]
    },
    {
     "name": "stderr",
     "output_type": "stream",
     "text": [
      "7it [01:43, 18.69s/it]"
     ]
    },
    {
     "name": "stdout",
     "output_type": "stream",
     "text": [
      "0.504163354145805\n",
      "\n",
      " (250, 'sqrt')\n"
     ]
    },
    {
     "name": "stderr",
     "output_type": "stream",
     "text": [
      "8it [01:56, 14.55s/it]"
     ]
    },
    {
     "name": "stdout",
     "output_type": "stream",
     "text": [
      "0.5077504863941674\n"
     ]
    },
    {
     "name": "stderr",
     "output_type": "stream",
     "text": [
      "\n"
     ]
    }
   ],
   "source": [
    "X = lsoa_combined_year[nutrients]\n",
    "y = lsoa_combined_year['annual_median_income_2011']\n",
    "n_estimators =  [75,100,200,250]\n",
    "max_features = [\"auto\", \"sqrt\"]\n",
    "\n",
    "    \n",
    "for x in tqdm(it.product(n_estimators,max_features)): \n",
    "    \n",
    "    print(\"\\n\", x)\n",
    "    random_forest = RandomForestRegressor(n_estimators = x[0], max_features = x[1])\n",
    "    print(cross_val_score(estimator = random_forest, X = X, y = y, cv = 20, n_jobs = -1).mean())\n",
    "    "
   ]
  },
  {
   "cell_type": "code",
   "execution_count": 142,
   "metadata": {},
   "outputs": [
    {
     "name": "stderr",
     "output_type": "stream",
     "text": [
      "0it [00:00, ?it/s]"
     ]
    },
    {
     "name": "stdout",
     "output_type": "stream",
     "text": [
      "\n",
      " (20, 0.1)\n"
     ]
    },
    {
     "name": "stderr",
     "output_type": "stream",
     "text": [
      "1it [00:00,  2.09it/s]"
     ]
    },
    {
     "name": "stdout",
     "output_type": "stream",
     "text": [
      "0.37814884330365045\n",
      "\n",
      " (20, 0.05)\n"
     ]
    },
    {
     "name": "stderr",
     "output_type": "stream",
     "text": [
      "2it [00:00,  2.26it/s]"
     ]
    },
    {
     "name": "stdout",
     "output_type": "stream",
     "text": [
      "0.3943079425261799\n",
      "\n",
      " (20, 0.01)\n"
     ]
    },
    {
     "name": "stderr",
     "output_type": "stream",
     "text": [
      "3it [00:01,  2.36it/s]"
     ]
    },
    {
     "name": "stdout",
     "output_type": "stream",
     "text": [
      "0.4122091000066129\n",
      "\n",
      " (50, 0.1)\n"
     ]
    },
    {
     "name": "stderr",
     "output_type": "stream",
     "text": [
      "4it [00:02,  1.88it/s]"
     ]
    },
    {
     "name": "stdout",
     "output_type": "stream",
     "text": [
      "0.31791153981907183\n",
      "\n",
      " (50, 0.05)\n"
     ]
    },
    {
     "name": "stderr",
     "output_type": "stream",
     "text": [
      "5it [00:02,  1.64it/s]"
     ]
    },
    {
     "name": "stdout",
     "output_type": "stream",
     "text": [
      "0.36283966683302676\n",
      "\n",
      " (50, 0.01)\n"
     ]
    },
    {
     "name": "stderr",
     "output_type": "stream",
     "text": [
      "6it [00:03,  1.50it/s]"
     ]
    },
    {
     "name": "stdout",
     "output_type": "stream",
     "text": [
      "0.4076041144343797\n",
      "\n",
      " (100, 0.1)\n"
     ]
    },
    {
     "name": "stderr",
     "output_type": "stream",
     "text": [
      "7it [00:04,  1.16it/s]"
     ]
    },
    {
     "name": "stdout",
     "output_type": "stream",
     "text": [
      "0.29729192133875904\n",
      "\n",
      " (100, 0.05)\n"
     ]
    },
    {
     "name": "stderr",
     "output_type": "stream",
     "text": [
      "8it [00:06,  1.06s/it]"
     ]
    },
    {
     "name": "stdout",
     "output_type": "stream",
     "text": [
      "0.3186758309713661\n",
      "\n",
      " (100, 0.01)\n"
     ]
    },
    {
     "name": "stderr",
     "output_type": "stream",
     "text": [
      "9it [00:07,  1.16s/it]"
     ]
    },
    {
     "name": "stdout",
     "output_type": "stream",
     "text": [
      "0.3941838527734772\n",
      "\n",
      " (200, 0.1)\n"
     ]
    },
    {
     "name": "stderr",
     "output_type": "stream",
     "text": [
      "10it [00:09,  1.24s/it]"
     ]
    },
    {
     "name": "stdout",
     "output_type": "stream",
     "text": [
      "0.29155396812052836\n",
      "\n",
      " (200, 0.05)\n"
     ]
    },
    {
     "name": "stderr",
     "output_type": "stream",
     "text": [
      "11it [00:12,  1.74s/it]"
     ]
    },
    {
     "name": "stdout",
     "output_type": "stream",
     "text": [
      "0.2937233059191962\n",
      "\n",
      " (200, 0.01)\n"
     ]
    },
    {
     "name": "stderr",
     "output_type": "stream",
     "text": [
      "12it [00:15,  2.11s/it]"
     ]
    },
    {
     "name": "stdout",
     "output_type": "stream",
     "text": [
      "0.37456125395720885\n",
      "\n",
      " (250, 0.1)\n"
     ]
    },
    {
     "name": "stderr",
     "output_type": "stream",
     "text": [
      "13it [00:16,  1.96s/it]"
     ]
    },
    {
     "name": "stdout",
     "output_type": "stream",
     "text": [
      "0.2955307496021763\n",
      "\n",
      " (250, 0.05)\n"
     ]
    },
    {
     "name": "stderr",
     "output_type": "stream",
     "text": [
      "14it [00:19,  2.16s/it]"
     ]
    },
    {
     "name": "stdout",
     "output_type": "stream",
     "text": [
      "0.29468385614316683\n",
      "\n",
      " (250, 0.01)\n"
     ]
    },
    {
     "name": "stderr",
     "output_type": "stream",
     "text": [
      "15it [00:23,  1.54s/it]"
     ]
    },
    {
     "name": "stdout",
     "output_type": "stream",
     "text": [
      "0.3617542939405937\n"
     ]
    },
    {
     "name": "stderr",
     "output_type": "stream",
     "text": [
      "\n"
     ]
    }
   ],
   "source": [
    "X = lsoa_combined_year[nutrients]\n",
    "y = lsoa_combined_year['annual_median_income_2011']\n",
    "n_estimators = [20,50,100,200,250]\n",
    "learning_rate = [0.1, 0.05, 0.01]\n",
    "\n",
    "for x in tqdm(it.product(n_estimators, learning_rate)): \n",
    "    \n",
    "    print(\"\\n\", x)\n",
    "    lin_regression = LinearRegression()\n",
    "    ada = AdaBoostRegressor(base_estimator = lin_regression,  n_estimators = x[0], loss = \"linear\", learning_rate = x[1]) \n",
    "    print(cross_val_score(estimator = ada, X = X, y = y, cv = 20, n_jobs = -1).mean())\n",
    "    "
   ]
  },
  {
   "cell_type": "code",
   "execution_count": 57,
   "metadata": {},
   "outputs": [
    {
     "name": "stdout",
     "output_type": "stream",
     "text": [
      "[Pipeline] ............ (step 1 of 2) Processing scaler, total=   0.0s\n",
      "[Pipeline] ......... (step 2 of 2) Processing regressor, total=   0.1s\n"
     ]
    },
    {
     "data": {
      "text/plain": [
       "0.29422327058446573"
      ]
     },
     "execution_count": 57,
     "metadata": {},
     "output_type": "execute_result"
    }
   ],
   "source": [
    "# Shuffle Split \n",
    "x_train, x_test , y_train, y_test = train_test_split(lsoa_combined_year[nutrients], lsoa_combined_year['annual_median_income_2011'], random_state=0) \n",
    "# The Ada Pipeline \n",
    "ada_pipeline = pipeline_factory(scaler = StandardScaler(), model = AdaBoostRegressor(base_estimator = LinearRegression()), x_train = x_train, y_train = y_train)\n",
    "\n",
    "ada_pipeline.score(x_test, y_test)"
   ]
  },
  {
   "cell_type": "code",
   "execution_count": 58,
   "metadata": {},
   "outputs": [
    {
     "name": "stdout",
     "output_type": "stream",
     "text": [
      "[Pipeline] ............ (step 1 of 2) Processing scaler, total=   0.0s\n",
      "[Pipeline] ......... (step 2 of 2) Processing regressor, total=   0.0s\n"
     ]
    },
    {
     "data": {
      "text/plain": [
       "0.5916198554571601"
      ]
     },
     "execution_count": 58,
     "metadata": {},
     "output_type": "execute_result"
    }
   ],
   "source": [
    "# Shuffle Split \n",
    "x_train, x_test , y_train, y_test = train_test_split(msoa_combined_year[nutrients], msoa_combined_year['annual_median_income_2011'], random_state=0) \n",
    "# The Ada Pipeline \n",
    "ada_pipeline = pipeline_factory(scaler = StandardScaler(), model = AdaBoostRegressor(base_estimator = LinearRegression()), x_train = x_train, y_train = y_train)\n",
    "\n",
    "ada_pipeline.score(x_test, y_test)"
   ]
  },
  {
   "cell_type": "code",
   "execution_count": 59,
   "metadata": {},
   "outputs": [
    {
     "name": "stderr",
     "output_type": "stream",
     "text": [
      "0it [00:00, ?it/s]"
     ]
    },
    {
     "name": "stdout",
     "output_type": "stream",
     "text": [
      "\n",
      " (75, 'auto')\n"
     ]
    },
    {
     "name": "stderr",
     "output_type": "stream",
     "text": [
      "1it [00:02,  2.14s/it]"
     ]
    },
    {
     "name": "stdout",
     "output_type": "stream",
     "text": [
      "0.5568301990827698\n",
      "\n",
      " (75, 'sqrt')\n"
     ]
    },
    {
     "name": "stderr",
     "output_type": "stream",
     "text": [
      "2it [00:03,  1.92s/it]"
     ]
    },
    {
     "name": "stdout",
     "output_type": "stream",
     "text": [
      "0.5714009928283768\n",
      "\n",
      " (100, 'auto')\n"
     ]
    },
    {
     "name": "stderr",
     "output_type": "stream",
     "text": [
      "3it [00:06,  2.21s/it]"
     ]
    },
    {
     "name": "stdout",
     "output_type": "stream",
     "text": [
      "0.559054316140492\n",
      "\n",
      " (100, 'sqrt')\n"
     ]
    },
    {
     "name": "stderr",
     "output_type": "stream",
     "text": [
      "4it [00:08,  2.07s/it]"
     ]
    },
    {
     "name": "stdout",
     "output_type": "stream",
     "text": [
      "0.5638348759583334\n",
      "\n",
      " (200, 'auto')\n"
     ]
    },
    {
     "name": "stderr",
     "output_type": "stream",
     "text": [
      "5it [00:13,  3.18s/it]"
     ]
    },
    {
     "name": "stdout",
     "output_type": "stream",
     "text": [
      "0.560111011265736\n",
      "\n",
      " (200, 'sqrt')\n"
     ]
    },
    {
     "name": "stderr",
     "output_type": "stream",
     "text": [
      "6it [00:17,  3.26s/it]"
     ]
    },
    {
     "name": "stdout",
     "output_type": "stream",
     "text": [
      "0.5688248539522524\n",
      "\n",
      " (250, 'auto')\n"
     ]
    },
    {
     "name": "stderr",
     "output_type": "stream",
     "text": [
      "7it [00:24,  4.37s/it]"
     ]
    },
    {
     "name": "stdout",
     "output_type": "stream",
     "text": [
      "0.5631094777884649\n",
      "\n",
      " (250, 'sqrt')\n"
     ]
    },
    {
     "name": "stderr",
     "output_type": "stream",
     "text": [
      "8it [00:28,  3.60s/it]"
     ]
    },
    {
     "name": "stdout",
     "output_type": "stream",
     "text": [
      "0.5665135750284136\n"
     ]
    },
    {
     "name": "stderr",
     "output_type": "stream",
     "text": [
      "\n"
     ]
    }
   ],
   "source": [
    "\n",
    "X = msoa_combined_year[nutrients]\n",
    "y = msoa_combined_year['annual_median_income_2011']\n",
    "\n",
    "n_estimators =  [75,100,200,250]\n",
    "max_features = [\"auto\", \"sqrt\"]\n",
    "\n",
    "for x in tqdm(it.product(n_estimators,max_features)): \n",
    "    print(\"\\n\", x)\n",
    "    random_forest = RandomForestRegressor(n_estimators = x[0], max_features = x[1])\n",
    "    print(cross_val_score(estimator = random_forest, X = X, y = y, cv = 20, n_jobs = -1).mean())\n",
    "    "
   ]
  },
  {
   "cell_type": "code",
   "execution_count": 60,
   "metadata": {},
   "outputs": [
    {
     "name": "stderr",
     "output_type": "stream",
     "text": [
      "0it [00:00, ?it/s]"
     ]
    },
    {
     "name": "stdout",
     "output_type": "stream",
     "text": [
      "\n",
      " (20, 0.1)\n"
     ]
    },
    {
     "name": "stderr",
     "output_type": "stream",
     "text": [
      "1it [00:00,  4.39it/s]"
     ]
    },
    {
     "name": "stdout",
     "output_type": "stream",
     "text": [
      "0.4919242570449689\n",
      "\n",
      " (20, 0.05)\n"
     ]
    },
    {
     "name": "stderr",
     "output_type": "stream",
     "text": [
      "2it [00:00,  4.13it/s]"
     ]
    },
    {
     "name": "stdout",
     "output_type": "stream",
     "text": [
      "0.502761209929587\n",
      "\n",
      " (20, 0.01)\n"
     ]
    },
    {
     "name": "stderr",
     "output_type": "stream",
     "text": [
      "3it [00:00,  4.13it/s]"
     ]
    },
    {
     "name": "stdout",
     "output_type": "stream",
     "text": [
      "0.5001194908631519\n",
      "\n",
      " (50, 0.1)\n"
     ]
    },
    {
     "name": "stderr",
     "output_type": "stream",
     "text": [
      "4it [00:01,  3.15it/s]"
     ]
    },
    {
     "name": "stdout",
     "output_type": "stream",
     "text": [
      "0.4583233179491858\n",
      "\n",
      " (50, 0.05)\n"
     ]
    },
    {
     "name": "stderr",
     "output_type": "stream",
     "text": [
      "5it [00:01,  2.78it/s]"
     ]
    },
    {
     "name": "stdout",
     "output_type": "stream",
     "text": [
      "0.4864653692802382\n",
      "\n",
      " (50, 0.01)\n"
     ]
    },
    {
     "name": "stderr",
     "output_type": "stream",
     "text": [
      "6it [00:02,  2.60it/s]"
     ]
    },
    {
     "name": "stdout",
     "output_type": "stream",
     "text": [
      "0.5009370908515549\n",
      "\n",
      " (100, 0.1)\n"
     ]
    },
    {
     "name": "stderr",
     "output_type": "stream",
     "text": [
      "7it [00:02,  2.15it/s]"
     ]
    },
    {
     "name": "stdout",
     "output_type": "stream",
     "text": [
      "0.4461290076599127\n",
      "\n",
      " (100, 0.05)\n"
     ]
    },
    {
     "name": "stderr",
     "output_type": "stream",
     "text": [
      "8it [00:03,  1.76it/s]"
     ]
    },
    {
     "name": "stdout",
     "output_type": "stream",
     "text": [
      "0.4623316326291057\n",
      "\n",
      " (100, 0.01)\n"
     ]
    },
    {
     "name": "stderr",
     "output_type": "stream",
     "text": [
      "9it [00:04,  1.55it/s]"
     ]
    },
    {
     "name": "stdout",
     "output_type": "stream",
     "text": [
      "0.5002953946928905\n",
      "\n",
      " (200, 0.1)\n"
     ]
    },
    {
     "name": "stderr",
     "output_type": "stream",
     "text": [
      "10it [00:05,  1.55it/s]"
     ]
    },
    {
     "name": "stdout",
     "output_type": "stream",
     "text": [
      "0.44443801855386084\n",
      "\n",
      " (200, 0.05)\n"
     ]
    },
    {
     "name": "stderr",
     "output_type": "stream",
     "text": [
      "11it [00:06,  1.28it/s]"
     ]
    },
    {
     "name": "stdout",
     "output_type": "stream",
     "text": [
      "0.446089458994253\n",
      "\n",
      " (200, 0.01)\n"
     ]
    },
    {
     "name": "stderr",
     "output_type": "stream",
     "text": [
      "12it [00:07,  1.01s/it]"
     ]
    },
    {
     "name": "stdout",
     "output_type": "stream",
     "text": [
      "0.4913740410808793\n",
      "\n",
      " (250, 0.1)\n"
     ]
    },
    {
     "name": "stderr",
     "output_type": "stream",
     "text": [
      "13it [00:08,  1.07it/s]"
     ]
    },
    {
     "name": "stdout",
     "output_type": "stream",
     "text": [
      "0.4454097249277629\n",
      "\n",
      " (250, 0.05)\n"
     ]
    },
    {
     "name": "stderr",
     "output_type": "stream",
     "text": [
      "14it [00:09,  1.02s/it]"
     ]
    },
    {
     "name": "stdout",
     "output_type": "stream",
     "text": [
      "0.4500935183967944\n",
      "\n",
      " (250, 0.01)\n"
     ]
    },
    {
     "name": "stderr",
     "output_type": "stream",
     "text": [
      "15it [00:11,  1.30it/s]"
     ]
    },
    {
     "name": "stdout",
     "output_type": "stream",
     "text": [
      "0.48747917719551986\n"
     ]
    },
    {
     "name": "stderr",
     "output_type": "stream",
     "text": [
      "\n"
     ]
    }
   ],
   "source": [
    "X = msoa_combined_year[nutrients]\n",
    "y = msoa_combined_year['annual_median_income_2011']\n",
    "n_estimators = [20,50,100,200,250]\n",
    "learning_rate = [0.1, 0.05, 0.01]\n",
    "\n",
    "for x in tqdm(it.product(n_estimators, learning_rate)): \n",
    "    print(\"\\n\", x)\n",
    "    lin_regression = LinearRegression()\n",
    "    ada = AdaBoostRegressor(base_estimator = lin_regression,  n_estimators = x[0], loss = \"linear\", learning_rate = x[1]) \n",
    "  \n",
    "    print(cross_val_score(estimator = ada, X = X, y = y, cv = 20, n_jobs = -1).mean())\n",
    "    "
   ]
  },
  {
   "cell_type": "code",
   "execution_count": 304,
   "metadata": {},
   "outputs": [
    {
     "data": {
      "text/html": [
       "<div>\n",
       "<style scoped>\n",
       "    .dataframe tbody tr th:only-of-type {\n",
       "        vertical-align: middle;\n",
       "    }\n",
       "\n",
       "    .dataframe tbody tr th {\n",
       "        vertical-align: top;\n",
       "    }\n",
       "\n",
       "    .dataframe thead th {\n",
       "        text-align: right;\n",
       "    }\n",
       "</style>\n",
       "<table border=\"1\" class=\"dataframe\">\n",
       "  <thead>\n",
       "    <tr style=\"text-align: right;\">\n",
       "      <th></th>\n",
       "      <th>antecedents</th>\n",
       "      <th>consequents</th>\n",
       "      <th>antecedent support</th>\n",
       "      <th>consequent support</th>\n",
       "      <th>support</th>\n",
       "      <th>confidence</th>\n",
       "      <th>lift</th>\n",
       "      <th>leverage</th>\n",
       "      <th>conviction</th>\n",
       "    </tr>\n",
       "  </thead>\n",
       "  <tbody>\n",
       "    <tr>\n",
       "      <th>13939</th>\n",
       "      <td>(fibre_High, carb_Low, alcohol_High)</td>\n",
       "      <td>(Median_Income_High)</td>\n",
       "      <td>0.055305</td>\n",
       "      <td>0.250564</td>\n",
       "      <td>0.054176</td>\n",
       "      <td>0.979592</td>\n",
       "      <td>3.909542</td>\n",
       "      <td>0.040319</td>\n",
       "      <td>36.722348</td>\n",
       "    </tr>\n",
       "    <tr>\n",
       "      <th>3226</th>\n",
       "      <td>(fibre_High, alcohol_High)</td>\n",
       "      <td>(Median_Income_High)</td>\n",
       "      <td>0.069977</td>\n",
       "      <td>0.250564</td>\n",
       "      <td>0.065463</td>\n",
       "      <td>0.935484</td>\n",
       "      <td>3.733508</td>\n",
       "      <td>0.047929</td>\n",
       "      <td>11.616253</td>\n",
       "    </tr>\n",
       "    <tr>\n",
       "      <th>10464</th>\n",
       "      <td>(saturate_High, protein_Low, alcohol_Low)</td>\n",
       "      <td>(asian_High)</td>\n",
       "      <td>0.060948</td>\n",
       "      <td>0.248307</td>\n",
       "      <td>0.055305</td>\n",
       "      <td>0.907407</td>\n",
       "      <td>3.654377</td>\n",
       "      <td>0.040171</td>\n",
       "      <td>8.118284</td>\n",
       "    </tr>\n",
       "    <tr>\n",
       "      <th>36045</th>\n",
       "      <td>(saturate_High, alcohol_Low, protein_Low, fat_...</td>\n",
       "      <td>(asian_High)</td>\n",
       "      <td>0.056433</td>\n",
       "      <td>0.248307</td>\n",
       "      <td>0.050790</td>\n",
       "      <td>0.900000</td>\n",
       "      <td>3.624545</td>\n",
       "      <td>0.036777</td>\n",
       "      <td>7.516930</td>\n",
       "    </tr>\n",
       "    <tr>\n",
       "      <th>10442</th>\n",
       "      <td>(fat_High, protein_Low, alcohol_Low)</td>\n",
       "      <td>(asian_High)</td>\n",
       "      <td>0.062077</td>\n",
       "      <td>0.248307</td>\n",
       "      <td>0.055305</td>\n",
       "      <td>0.890909</td>\n",
       "      <td>3.587934</td>\n",
       "      <td>0.039891</td>\n",
       "      <td>6.890519</td>\n",
       "    </tr>\n",
       "    <tr>\n",
       "      <th>10482</th>\n",
       "      <td>(carb_High, protein_Low, alcohol_Low)</td>\n",
       "      <td>(asian_High)</td>\n",
       "      <td>0.065463</td>\n",
       "      <td>0.248307</td>\n",
       "      <td>0.057562</td>\n",
       "      <td>0.879310</td>\n",
       "      <td>3.541223</td>\n",
       "      <td>0.041307</td>\n",
       "      <td>6.228313</td>\n",
       "    </tr>\n",
       "    <tr>\n",
       "      <th>10456</th>\n",
       "      <td>(carb_High, saturate_High, protein_Low)</td>\n",
       "      <td>(asian_High)</td>\n",
       "      <td>0.072235</td>\n",
       "      <td>0.248307</td>\n",
       "      <td>0.063205</td>\n",
       "      <td>0.875000</td>\n",
       "      <td>3.523864</td>\n",
       "      <td>0.045269</td>\n",
       "      <td>6.013544</td>\n",
       "    </tr>\n",
       "    <tr>\n",
       "      <th>12412</th>\n",
       "      <td>(saturate_High, protein_Low, alcohol_Low)</td>\n",
       "      <td>(bame_High)</td>\n",
       "      <td>0.060948</td>\n",
       "      <td>0.250564</td>\n",
       "      <td>0.053047</td>\n",
       "      <td>0.870370</td>\n",
       "      <td>3.473640</td>\n",
       "      <td>0.037776</td>\n",
       "      <td>5.781361</td>\n",
       "    </tr>\n",
       "    <tr>\n",
       "      <th>5734</th>\n",
       "      <td>(saturate_High, protein_Low, alcohol_Low)</td>\n",
       "      <td>(white_Low)</td>\n",
       "      <td>0.060948</td>\n",
       "      <td>0.250564</td>\n",
       "      <td>0.053047</td>\n",
       "      <td>0.870370</td>\n",
       "      <td>3.473640</td>\n",
       "      <td>0.037776</td>\n",
       "      <td>5.781361</td>\n",
       "    </tr>\n",
       "    <tr>\n",
       "      <th>13801</th>\n",
       "      <td>(saturate_High, protein_Low, alcohol_Low)</td>\n",
       "      <td>(Other_religion_Low)</td>\n",
       "      <td>0.060948</td>\n",
       "      <td>0.250564</td>\n",
       "      <td>0.053047</td>\n",
       "      <td>0.870370</td>\n",
       "      <td>3.473640</td>\n",
       "      <td>0.037776</td>\n",
       "      <td>5.781361</td>\n",
       "    </tr>\n",
       "    <tr>\n",
       "      <th>48417</th>\n",
       "      <td>(saturate_High, protein_Low, alcohol_Low)</td>\n",
       "      <td>(bame_High, white_Low, asian_High)</td>\n",
       "      <td>0.060948</td>\n",
       "      <td>0.171558</td>\n",
       "      <td>0.053047</td>\n",
       "      <td>0.870370</td>\n",
       "      <td>5.073343</td>\n",
       "      <td>0.042591</td>\n",
       "      <td>6.390842</td>\n",
       "    </tr>\n",
       "    <tr>\n",
       "      <th>20544</th>\n",
       "      <td>(saturate_High, protein_Low, alcohol_Low)</td>\n",
       "      <td>(bame_High, white_Low)</td>\n",
       "      <td>0.060948</td>\n",
       "      <td>0.250564</td>\n",
       "      <td>0.053047</td>\n",
       "      <td>0.870370</td>\n",
       "      <td>3.473640</td>\n",
       "      <td>0.037776</td>\n",
       "      <td>5.781361</td>\n",
       "    </tr>\n",
       "    <tr>\n",
       "      <th>32820</th>\n",
       "      <td>(saturate_High, protein_Low, alcohol_Low)</td>\n",
       "      <td>(bame_High, asian_High)</td>\n",
       "      <td>0.060948</td>\n",
       "      <td>0.171558</td>\n",
       "      <td>0.053047</td>\n",
       "      <td>0.870370</td>\n",
       "      <td>5.073343</td>\n",
       "      <td>0.042591</td>\n",
       "      <td>6.390842</td>\n",
       "    </tr>\n",
       "    <tr>\n",
       "      <th>17846</th>\n",
       "      <td>(saturate_High, protein_Low, alcohol_Low)</td>\n",
       "      <td>(white_Low, asian_High)</td>\n",
       "      <td>0.060948</td>\n",
       "      <td>0.171558</td>\n",
       "      <td>0.053047</td>\n",
       "      <td>0.870370</td>\n",
       "      <td>5.073343</td>\n",
       "      <td>0.042591</td>\n",
       "      <td>6.390842</td>\n",
       "    </tr>\n",
       "    <tr>\n",
       "      <th>35966</th>\n",
       "      <td>(saturate_High, protein_Low, alcohol_Low)</td>\n",
       "      <td>(Other_religion_Low, asian_High)</td>\n",
       "      <td>0.060948</td>\n",
       "      <td>0.180587</td>\n",
       "      <td>0.053047</td>\n",
       "      <td>0.870370</td>\n",
       "      <td>4.819676</td>\n",
       "      <td>0.042041</td>\n",
       "      <td>6.321187</td>\n",
       "    </tr>\n",
       "    <tr>\n",
       "      <th>36029</th>\n",
       "      <td>(carb_High, saturate_High, protein_Low, fat_High)</td>\n",
       "      <td>(asian_High)</td>\n",
       "      <td>0.068849</td>\n",
       "      <td>0.248307</td>\n",
       "      <td>0.059819</td>\n",
       "      <td>0.868852</td>\n",
       "      <td>3.499106</td>\n",
       "      <td>0.042724</td>\n",
       "      <td>5.731659</td>\n",
       "    </tr>\n",
       "    <tr>\n",
       "      <th>89355</th>\n",
       "      <td>(carb_High, saturate_High, fat_High, sugar_Hig...</td>\n",
       "      <td>(asian_High)</td>\n",
       "      <td>0.064334</td>\n",
       "      <td>0.248307</td>\n",
       "      <td>0.055305</td>\n",
       "      <td>0.859649</td>\n",
       "      <td>3.462041</td>\n",
       "      <td>0.039330</td>\n",
       "      <td>5.355813</td>\n",
       "    </tr>\n",
       "    <tr>\n",
       "      <th>89363</th>\n",
       "      <td>(carb_High, saturate_High, protein_Low, sugar_...</td>\n",
       "      <td>(fat_High, asian_High)</td>\n",
       "      <td>0.064334</td>\n",
       "      <td>0.115124</td>\n",
       "      <td>0.055305</td>\n",
       "      <td>0.859649</td>\n",
       "      <td>7.467148</td>\n",
       "      <td>0.047898</td>\n",
       "      <td>6.304740</td>\n",
       "    </tr>\n",
       "    <tr>\n",
       "      <th>36071</th>\n",
       "      <td>(carb_High, saturate_High, protein_Low, sugar_...</td>\n",
       "      <td>(asian_High)</td>\n",
       "      <td>0.064334</td>\n",
       "      <td>0.248307</td>\n",
       "      <td>0.055305</td>\n",
       "      <td>0.859649</td>\n",
       "      <td>3.462041</td>\n",
       "      <td>0.039330</td>\n",
       "      <td>5.355813</td>\n",
       "    </tr>\n",
       "    <tr>\n",
       "      <th>13795</th>\n",
       "      <td>(carb_High, saturate_High, protein_Low)</td>\n",
       "      <td>(Other_religion_Low)</td>\n",
       "      <td>0.072235</td>\n",
       "      <td>0.250564</td>\n",
       "      <td>0.062077</td>\n",
       "      <td>0.859375</td>\n",
       "      <td>3.429758</td>\n",
       "      <td>0.043977</td>\n",
       "      <td>5.329320</td>\n",
       "    </tr>\n",
       "  </tbody>\n",
       "</table>\n",
       "</div>"
      ],
      "text/plain": [
       "                                             antecedents  \\\n",
       "13939               (fibre_High, carb_Low, alcohol_High)   \n",
       "3226                          (fibre_High, alcohol_High)   \n",
       "10464          (saturate_High, protein_Low, alcohol_Low)   \n",
       "36045  (saturate_High, alcohol_Low, protein_Low, fat_...   \n",
       "10442               (fat_High, protein_Low, alcohol_Low)   \n",
       "10482              (carb_High, protein_Low, alcohol_Low)   \n",
       "10456            (carb_High, saturate_High, protein_Low)   \n",
       "12412          (saturate_High, protein_Low, alcohol_Low)   \n",
       "5734           (saturate_High, protein_Low, alcohol_Low)   \n",
       "13801          (saturate_High, protein_Low, alcohol_Low)   \n",
       "48417          (saturate_High, protein_Low, alcohol_Low)   \n",
       "20544          (saturate_High, protein_Low, alcohol_Low)   \n",
       "32820          (saturate_High, protein_Low, alcohol_Low)   \n",
       "17846          (saturate_High, protein_Low, alcohol_Low)   \n",
       "35966          (saturate_High, protein_Low, alcohol_Low)   \n",
       "36029  (carb_High, saturate_High, protein_Low, fat_High)   \n",
       "89355  (carb_High, saturate_High, fat_High, sugar_Hig...   \n",
       "89363  (carb_High, saturate_High, protein_Low, sugar_...   \n",
       "36071  (carb_High, saturate_High, protein_Low, sugar_...   \n",
       "13795            (carb_High, saturate_High, protein_Low)   \n",
       "\n",
       "                              consequents  antecedent support  \\\n",
       "13939                (Median_Income_High)            0.055305   \n",
       "3226                 (Median_Income_High)            0.069977   \n",
       "10464                        (asian_High)            0.060948   \n",
       "36045                        (asian_High)            0.056433   \n",
       "10442                        (asian_High)            0.062077   \n",
       "10482                        (asian_High)            0.065463   \n",
       "10456                        (asian_High)            0.072235   \n",
       "12412                         (bame_High)            0.060948   \n",
       "5734                          (white_Low)            0.060948   \n",
       "13801                (Other_religion_Low)            0.060948   \n",
       "48417  (bame_High, white_Low, asian_High)            0.060948   \n",
       "20544              (bame_High, white_Low)            0.060948   \n",
       "32820             (bame_High, asian_High)            0.060948   \n",
       "17846             (white_Low, asian_High)            0.060948   \n",
       "35966    (Other_religion_Low, asian_High)            0.060948   \n",
       "36029                        (asian_High)            0.068849   \n",
       "89355                        (asian_High)            0.064334   \n",
       "89363              (fat_High, asian_High)            0.064334   \n",
       "36071                        (asian_High)            0.064334   \n",
       "13795                (Other_religion_Low)            0.072235   \n",
       "\n",
       "       consequent support   support  confidence      lift  leverage  \\\n",
       "13939            0.250564  0.054176    0.979592  3.909542  0.040319   \n",
       "3226             0.250564  0.065463    0.935484  3.733508  0.047929   \n",
       "10464            0.248307  0.055305    0.907407  3.654377  0.040171   \n",
       "36045            0.248307  0.050790    0.900000  3.624545  0.036777   \n",
       "10442            0.248307  0.055305    0.890909  3.587934  0.039891   \n",
       "10482            0.248307  0.057562    0.879310  3.541223  0.041307   \n",
       "10456            0.248307  0.063205    0.875000  3.523864  0.045269   \n",
       "12412            0.250564  0.053047    0.870370  3.473640  0.037776   \n",
       "5734             0.250564  0.053047    0.870370  3.473640  0.037776   \n",
       "13801            0.250564  0.053047    0.870370  3.473640  0.037776   \n",
       "48417            0.171558  0.053047    0.870370  5.073343  0.042591   \n",
       "20544            0.250564  0.053047    0.870370  3.473640  0.037776   \n",
       "32820            0.171558  0.053047    0.870370  5.073343  0.042591   \n",
       "17846            0.171558  0.053047    0.870370  5.073343  0.042591   \n",
       "35966            0.180587  0.053047    0.870370  4.819676  0.042041   \n",
       "36029            0.248307  0.059819    0.868852  3.499106  0.042724   \n",
       "89355            0.248307  0.055305    0.859649  3.462041  0.039330   \n",
       "89363            0.115124  0.055305    0.859649  7.467148  0.047898   \n",
       "36071            0.248307  0.055305    0.859649  3.462041  0.039330   \n",
       "13795            0.250564  0.062077    0.859375  3.429758  0.043977   \n",
       "\n",
       "       conviction  \n",
       "13939   36.722348  \n",
       "3226    11.616253  \n",
       "10464    8.118284  \n",
       "36045    7.516930  \n",
       "10442    6.890519  \n",
       "10482    6.228313  \n",
       "10456    6.013544  \n",
       "12412    5.781361  \n",
       "5734     5.781361  \n",
       "13801    5.781361  \n",
       "48417    6.390842  \n",
       "20544    5.781361  \n",
       "32820    6.390842  \n",
       "17846    6.390842  \n",
       "35966    6.321187  \n",
       "36029    5.731659  \n",
       "89355    5.355813  \n",
       "89363    6.304740  \n",
       "36071    5.355813  \n",
       "13795    5.329320  "
      ]
     },
     "execution_count": 304,
     "metadata": {},
     "output_type": "execute_result"
    }
   ],
   "source": [
    "msoa_combined_items = msoa_combined_year[ethnicities + religions + nutrients + [\"annual_median_income_2011\"]].copy()\n",
    "msoa_combined_items.columns = [x.split(\"y_\")[1].replace(\"_2011\", \"\") for x in ethnicities] + ['Christian', 'Buddhist','Hindu','Jewish','Muslim','Sikh','No_religion','Other_religion']  + [x.split(\"_\")[1] for x in  nutrients] + [\"Median_Income\"] \n",
    " \n",
    "# You could do this probably somewhat smarter \n",
    "# Encoding Data into a \"Set\" Dataset\n",
    "\n",
    "for col in msoa_combined_items.columns:\n",
    "    lower  =  msoa_combined_items[col].quantile(0.25)\n",
    "    middle =  msoa_combined_items[col].quantile(0.5)\n",
    "    higher =  msoa_combined_items[col].quantile(0.75)\n",
    "    msoa_combined_items[col + \"_Low\"] = msoa_combined_items[col].apply(lambda x : x < lower)\n",
    "    msoa_combined_items[col + \"_Low_to_Middle\"] = msoa_combined_items[col].apply(lambda x : x >= lower and x < middle)\n",
    "    msoa_combined_items[col + \"_Middle_to_High\"] = msoa_combined_items[col].apply(lambda x :  x < higher and x > middle)\n",
    "    msoa_combined_items[col + \"_High\"] = msoa_combined_items[col].apply(lambda x : x > higher)\n",
    "    msoa_combined_items = msoa_combined_items.drop(col, axis = 1)\n",
    "    \n",
    "\n",
    "# Given the structure of the information, low support is indemic\n",
    "frequent_itemsets = apriori(msoa_combined_items, min_support = 0.05, use_colnames = True)\n",
    "\n",
    "# Use Association Rules as an \"explainable\" Model\n",
    "cleaned_names = [x.split(\"_\")[1] for x in nutrients]\n",
    "cleaned_names = [x + \"_High\" for x in cleaned_names] + [x + \"_Low\" for x in cleaned_names] + [x + \"Low_to_Middle\" for x in cleaned_names]+ [x + \"Middle_to_High\" for x in cleaned_names]\n",
    "nutrient_sets = set(cleaned_names)\n",
    "\n",
    "rules_association = arule(frequent_itemsets, metric = 'confidence', min_threshold = 0.6)\n",
    "rules_association[rules_association.apply(lambda x : True if x[\"antecedents\"].issubset(nutrient_sets) and not x[\"consequents\"].issubset(nutrient_sets) else False, axis = 1)].sort_values(by = \"confidence\", ascending = False).head(20)"
   ]
  },
  {
   "cell_type": "code",
   "execution_count": 146,
   "metadata": {},
   "outputs": [
    {
     "name": "stdout",
     "output_type": "stream",
     "text": [
      "                             OLS Regression Results                            \n",
      "===============================================================================\n",
      "Dep. Variable:     ethnicity_bame_2011   R-squared:                       0.557\n",
      "Model:                             OLS   Adj. R-squared:                  0.554\n",
      "Method:                  Least Squares   F-statistic:                     158.0\n",
      "Date:                 Fri, 27 Nov 2020   Prob (F-statistic):          1.12e-150\n",
      "Time:                         14:31:29   Log-Likelihood:                -7573.7\n",
      "No. Observations:                  886   AIC:                         1.516e+04\n",
      "Df Residuals:                      878   BIC:                         1.520e+04\n",
      "Df Model:                            7                                         \n",
      "Covariance Type:             nonrobust                                         \n",
      "===================================================================================\n",
      "                      coef    std err          t      P>|t|      [0.025      0.975]\n",
      "-----------------------------------------------------------------------------------\n",
      "Intercept        3.512e+04   1728.259     20.320      0.000    3.17e+04    3.85e+04\n",
      "energy_fat        144.5154     32.930      4.389      0.000      79.885     209.146\n",
      "energy_saturate    13.4379     60.193      0.223      0.823    -104.701     131.577\n",
      "energy_sugar     -395.0714     24.333    -16.236      0.000    -442.829    -347.314\n",
      "energy_protein  -1058.5689     61.664    -17.167      0.000   -1179.596    -937.542\n",
      "energy_carb       142.5902     13.231     10.777      0.000     116.621     168.559\n",
      "energy_fibre    -4688.6455    333.592    -14.055      0.000   -5343.376   -4033.915\n",
      "energy_alcohol   -967.1766    138.736     -6.971      0.000   -1239.469    -694.884\n",
      "==============================================================================\n",
      "Omnibus:                      162.783   Durbin-Watson:                   1.436\n",
      "Prob(Omnibus):                  0.000   Jarque-Bera (JB):              416.223\n",
      "Skew:                           0.959   Prob(JB):                     4.15e-91\n",
      "Kurtosis:                       5.757   Cond. No.                     5.06e+03\n",
      "==============================================================================\n",
      "\n",
      "Warnings:\n",
      "[1] Standard Errors assume that the covariance matrix of the errors is correctly specified.\n",
      "[2] The condition number is large, 5.06e+03. This might indicate that there are\n",
      "strong multicollinearity or other numerical problems.\n"
     ]
    }
   ],
   "source": [
    "log_model_interaction_variable = smf.ols(formula='ethnicity_bame_2011 ~ energy_fat + energy_saturate + energy_sugar + energy_protein + energy_carb + energy_fibre + energy_alcohol',data=msoa_combined_year)\n",
    "res = log_model_interaction_variable.fit()\n",
    "\n",
    "# Print thes summary output provided by the library.\n",
    "print(res.summary())"
   ]
  },
  {
   "cell_type": "code",
   "execution_count": 147,
   "metadata": {},
   "outputs": [
    {
     "name": "stdout",
     "output_type": "stream",
     "text": [
      "                                OLS Regression Results                               \n",
      "=====================================================================================\n",
      "Dep. Variable:     annual_median_income_2011   R-squared:                       0.604\n",
      "Model:                                   OLS   Adj. R-squared:                  0.601\n",
      "Method:                        Least Squares   F-statistic:                     191.6\n",
      "Date:                       Fri, 27 Nov 2020   Prob (F-statistic):          5.99e-172\n",
      "Time:                               14:31:29   Log-Likelihood:                -9077.5\n",
      "No. Observations:                        886   AIC:                         1.817e+04\n",
      "Df Residuals:                            878   BIC:                         1.821e+04\n",
      "Df Model:                                  7                                         \n",
      "Covariance Type:                   nonrobust                                         \n",
      "===================================================================================\n",
      "                      coef    std err          t      P>|t|      [0.025      0.975]\n",
      "-----------------------------------------------------------------------------------\n",
      "Intercept       -9.014e+04   9434.566     -9.555      0.000   -1.09e+05   -7.16e+04\n",
      "energy_fat      -1112.1848    179.764     -6.187      0.000   -1465.001    -759.368\n",
      "energy_saturate  2535.5180    328.593      7.716      0.000    1890.598    3180.438\n",
      "energy_sugar      718.5780    132.834      5.410      0.000     457.869     979.287\n",
      "energy_protein    974.0854    336.625      2.894      0.004     313.401    1634.769\n",
      "energy_carb      -807.4595     72.230    -11.179      0.000    -949.223    -665.696\n",
      "energy_fibre     4.451e+04   1821.079     24.442      0.000    4.09e+04    4.81e+04\n",
      "energy_alcohol   5445.0395    757.358      7.190      0.000    3958.597    6931.482\n",
      "==============================================================================\n",
      "Omnibus:                       52.322   Durbin-Watson:                   1.554\n",
      "Prob(Omnibus):                  0.000   Jarque-Bera (JB):              114.225\n",
      "Skew:                           0.353   Prob(JB):                     1.57e-25\n",
      "Kurtosis:                       4.611   Cond. No.                     5.06e+03\n",
      "==============================================================================\n",
      "\n",
      "Warnings:\n",
      "[1] Standard Errors assume that the covariance matrix of the errors is correctly specified.\n",
      "[2] The condition number is large, 5.06e+03. This might indicate that there are\n",
      "strong multicollinearity or other numerical problems.\n"
     ]
    }
   ],
   "source": [
    "log_model_interaction_variable = smf.ols(formula='annual_median_income_2011 ~ energy_fat + energy_saturate + energy_sugar + energy_protein + energy_carb + energy_fibre + energy_alcohol',data=msoa_combined_year)\n",
    "res = log_model_interaction_variable.fit()\n",
    "\n",
    "# Print thes summary output provided by the library.\n",
    "print(res.summary())"
   ]
  },
  {
   "cell_type": "code",
   "execution_count": 148,
   "metadata": {},
   "outputs": [
    {
     "data": {
      "image/png": "[encoded data removed]",
      "text/plain": [
       "<Figure size 2160x2160 with 6 Axes>"
      ]
     },
     "metadata": {},
     "output_type": "display_data"
    }
   ],
   "source": [
    "with sns.axes_style(\"white\"): \n",
    "\n",
    "    f, axes = plt.subplots(3, 2, figsize=(30, 30))\n",
    "    axes = axes.flatten()\n",
    "\n",
    "    for ax, eth in zip(axes,ethnicities):\n",
    "        correl = [(nutr, stats.spearmanr(a = msoa_combined_year[eth], b = msoa_combined_year[nutr]).correlation) for nutr in products if stats.spearmanr(a = msoa_combined_year[eth], b = msoa_combined_year[nutr]).pvalue < 0.05]\n",
    "        colors = [0 if c[1] >= 0 else 1 for c in correl]\n",
    "        sns.barplot(x= [x[0].split(\"_\")[1] for x in correl], y=[x[1] for x in correl], hue=colors, palette=sns.color_palette(), dodge=False, ax = ax)\n",
    "        ax.axhline(0, ls='-', c = 'k')\n",
    "        ax.get_legend().remove()\n",
    "        ax.set_title(eth.split(\"perc\")[0].replace(\"_\", \" \"))\n",
    "\n",
    "    sns.despine(top = True, right = True)\n",
    "    axes[-1].set_visible(False)\n",
    "\n",
    "plt.show()\n",
    "\n"
   ]
  },
  {
   "cell_type": "code",
   "execution_count": 154,
   "metadata": {},
   "outputs": [
    {
     "data": {
      "text/html": [
       "<div>\n",
       "<style scoped>\n",
       "    .dataframe tbody tr th:only-of-type {\n",
       "        vertical-align: middle;\n",
       "    }\n",
       "\n",
       "    .dataframe tbody tr th {\n",
       "        vertical-align: top;\n",
       "    }\n",
       "\n",
       "    .dataframe thead th {\n",
       "        text-align: right;\n",
       "    }\n",
       "</style>\n",
       "<table border=\"1\" class=\"dataframe\">\n",
       "  <thead>\n",
       "    <tr style=\"text-align: right;\">\n",
       "      <th></th>\n",
       "      <th>antecedents</th>\n",
       "      <th>consequents</th>\n",
       "      <th>antecedent support</th>\n",
       "      <th>consequent support</th>\n",
       "      <th>support</th>\n",
       "      <th>confidence</th>\n",
       "      <th>lift</th>\n",
       "      <th>leverage</th>\n",
       "      <th>conviction</th>\n",
       "    </tr>\n",
       "  </thead>\n",
       "  <tbody>\n",
       "    <tr>\n",
       "      <th>129296</th>\n",
       "      <td>(soft_Low, wine_High, tea_Low, water_Low)</td>\n",
       "      <td>(Median_Income_High)</td>\n",
       "      <td>0.054176</td>\n",
       "      <td>0.250564</td>\n",
       "      <td>0.053047</td>\n",
       "      <td>0.979167</td>\n",
       "      <td>3.907845</td>\n",
       "      <td>0.039473</td>\n",
       "      <td>35.972912</td>\n",
       "    </tr>\n",
       "    <tr>\n",
       "      <th>39257</th>\n",
       "      <td>(soft_Low, wine_High, tea_Low)</td>\n",
       "      <td>(Median_Income_High)</td>\n",
       "      <td>0.059819</td>\n",
       "      <td>0.250564</td>\n",
       "      <td>0.057562</td>\n",
       "      <td>0.962264</td>\n",
       "      <td>3.840388</td>\n",
       "      <td>0.042573</td>\n",
       "      <td>19.860045</td>\n",
       "    </tr>\n",
       "    <tr>\n",
       "      <th>32128</th>\n",
       "      <td>(dairy_High, poultry_Low, meat_Low)</td>\n",
       "      <td>(Christian_Low)</td>\n",
       "      <td>0.055305</td>\n",
       "      <td>0.250564</td>\n",
       "      <td>0.053047</td>\n",
       "      <td>0.959184</td>\n",
       "      <td>3.828093</td>\n",
       "      <td>0.039190</td>\n",
       "      <td>18.361174</td>\n",
       "    </tr>\n",
       "    <tr>\n",
       "      <th>324742</th>\n",
       "      <td>(soft_Low, wine_High, grains_Low, water_Low, s...</td>\n",
       "      <td>(Median_Income_High)</td>\n",
       "      <td>0.063205</td>\n",
       "      <td>0.250564</td>\n",
       "      <td>0.059819</td>\n",
       "      <td>0.946429</td>\n",
       "      <td>3.777188</td>\n",
       "      <td>0.043982</td>\n",
       "      <td>13.989466</td>\n",
       "    </tr>\n",
       "    <tr>\n",
       "      <th>626067</th>\n",
       "      <td>(soft_Low, wine_High, grains_Low, water_Low, s...</td>\n",
       "      <td>(Median_Income_High)</td>\n",
       "      <td>0.063205</td>\n",
       "      <td>0.250564</td>\n",
       "      <td>0.059819</td>\n",
       "      <td>0.946429</td>\n",
       "      <td>3.777188</td>\n",
       "      <td>0.043982</td>\n",
       "      <td>13.989466</td>\n",
       "    </tr>\n",
       "    <tr>\n",
       "      <th>626074</th>\n",
       "      <td>(soft_Low, wine_High, grains_Low, water_Low, s...</td>\n",
       "      <td>(Median_Income_High, fruit_High)</td>\n",
       "      <td>0.063205</td>\n",
       "      <td>0.147856</td>\n",
       "      <td>0.059819</td>\n",
       "      <td>0.946429</td>\n",
       "      <td>6.401036</td>\n",
       "      <td>0.050474</td>\n",
       "      <td>15.906697</td>\n",
       "    </tr>\n",
       "    <tr>\n",
       "      <th>39251</th>\n",
       "      <td>(soft_Low, tea_Low, water_Low)</td>\n",
       "      <td>(Median_Income_High)</td>\n",
       "      <td>0.062077</td>\n",
       "      <td>0.250564</td>\n",
       "      <td>0.058691</td>\n",
       "      <td>0.945455</td>\n",
       "      <td>3.773301</td>\n",
       "      <td>0.043137</td>\n",
       "      <td>13.739654</td>\n",
       "    </tr>\n",
       "    <tr>\n",
       "      <th>324706</th>\n",
       "      <td>(soft_Low, wine_High, water_Low, sweets_Low, f...</td>\n",
       "      <td>(Median_Income_High)</td>\n",
       "      <td>0.075621</td>\n",
       "      <td>0.250564</td>\n",
       "      <td>0.071106</td>\n",
       "      <td>0.940299</td>\n",
       "      <td>3.752723</td>\n",
       "      <td>0.052158</td>\n",
       "      <td>12.553047</td>\n",
       "    </tr>\n",
       "    <tr>\n",
       "      <th>324712</th>\n",
       "      <td>(soft_Low, sweets_Low, wine_High, water_Low)</td>\n",
       "      <td>(Median_Income_High, fruit_High)</td>\n",
       "      <td>0.075621</td>\n",
       "      <td>0.147856</td>\n",
       "      <td>0.071106</td>\n",
       "      <td>0.940299</td>\n",
       "      <td>6.359576</td>\n",
       "      <td>0.059925</td>\n",
       "      <td>14.273420</td>\n",
       "    </tr>\n",
       "    <tr>\n",
       "      <th>129283</th>\n",
       "      <td>(soft_Low, sweets_Low, wine_High, water_Low)</td>\n",
       "      <td>(Median_Income_High)</td>\n",
       "      <td>0.075621</td>\n",
       "      <td>0.250564</td>\n",
       "      <td>0.071106</td>\n",
       "      <td>0.940299</td>\n",
       "      <td>3.752723</td>\n",
       "      <td>0.052158</td>\n",
       "      <td>12.553047</td>\n",
       "    </tr>\n",
       "    <tr>\n",
       "      <th>324640</th>\n",
       "      <td>(soft_Low, wine_High, grains_Low, water_Low, f...</td>\n",
       "      <td>(Median_Income_High)</td>\n",
       "      <td>0.074492</td>\n",
       "      <td>0.250564</td>\n",
       "      <td>0.069977</td>\n",
       "      <td>0.939394</td>\n",
       "      <td>3.749113</td>\n",
       "      <td>0.051312</td>\n",
       "      <td>12.365688</td>\n",
       "    </tr>\n",
       "    <tr>\n",
       "      <th>324267</th>\n",
       "      <td>(soft_Low, wine_High, fish_High, water_Low, fr...</td>\n",
       "      <td>(Median_Income_High)</td>\n",
       "      <td>0.055305</td>\n",
       "      <td>0.250564</td>\n",
       "      <td>0.051919</td>\n",
       "      <td>0.938776</td>\n",
       "      <td>3.746645</td>\n",
       "      <td>0.038061</td>\n",
       "      <td>12.240783</td>\n",
       "    </tr>\n",
       "    <tr>\n",
       "      <th>129162</th>\n",
       "      <td>(grains_Low, sweets_Low, wine_High, water_Low)</td>\n",
       "      <td>(Median_Income_High)</td>\n",
       "      <td>0.071106</td>\n",
       "      <td>0.250564</td>\n",
       "      <td>0.066591</td>\n",
       "      <td>0.936508</td>\n",
       "      <td>3.737595</td>\n",
       "      <td>0.048775</td>\n",
       "      <td>11.803612</td>\n",
       "    </tr>\n",
       "    <tr>\n",
       "      <th>324679</th>\n",
       "      <td>(grains_Low, sweets_Low, wine_High, water_Low)</td>\n",
       "      <td>(Median_Income_High, fruit_High)</td>\n",
       "      <td>0.071106</td>\n",
       "      <td>0.147856</td>\n",
       "      <td>0.066591</td>\n",
       "      <td>0.936508</td>\n",
       "      <td>6.333939</td>\n",
       "      <td>0.056078</td>\n",
       "      <td>13.421275</td>\n",
       "    </tr>\n",
       "    <tr>\n",
       "      <th>324673</th>\n",
       "      <td>(wine_High, grains_Low, water_Low, sweets_Low,...</td>\n",
       "      <td>(Median_Income_High)</td>\n",
       "      <td>0.071106</td>\n",
       "      <td>0.250564</td>\n",
       "      <td>0.066591</td>\n",
       "      <td>0.936508</td>\n",
       "      <td>3.737595</td>\n",
       "      <td>0.048775</td>\n",
       "      <td>11.803612</td>\n",
       "    </tr>\n",
       "    <tr>\n",
       "      <th>128946</th>\n",
       "      <td>(grains_Low, fruit_High, wine_High, water_Low)</td>\n",
       "      <td>(Median_Income_High)</td>\n",
       "      <td>0.084650</td>\n",
       "      <td>0.250564</td>\n",
       "      <td>0.079007</td>\n",
       "      <td>0.933333</td>\n",
       "      <td>3.724925</td>\n",
       "      <td>0.057796</td>\n",
       "      <td>11.241535</td>\n",
       "    </tr>\n",
       "    <tr>\n",
       "      <th>39283</th>\n",
       "      <td>(sweets_Low, wine_High, water_Low)</td>\n",
       "      <td>(Median_Income_High)</td>\n",
       "      <td>0.084650</td>\n",
       "      <td>0.250564</td>\n",
       "      <td>0.079007</td>\n",
       "      <td>0.933333</td>\n",
       "      <td>3.724925</td>\n",
       "      <td>0.057796</td>\n",
       "      <td>11.241535</td>\n",
       "    </tr>\n",
       "    <tr>\n",
       "      <th>129058</th>\n",
       "      <td>(sweets_Low, fruit_High, wine_High, water_Low)</td>\n",
       "      <td>(Median_Income_High)</td>\n",
       "      <td>0.083521</td>\n",
       "      <td>0.250564</td>\n",
       "      <td>0.077878</td>\n",
       "      <td>0.932432</td>\n",
       "      <td>3.721329</td>\n",
       "      <td>0.056951</td>\n",
       "      <td>11.091648</td>\n",
       "    </tr>\n",
       "    <tr>\n",
       "      <th>128482</th>\n",
       "      <td>(soft_Low, fish_High, wine_High, water_Low)</td>\n",
       "      <td>(Median_Income_High)</td>\n",
       "      <td>0.062077</td>\n",
       "      <td>0.250564</td>\n",
       "      <td>0.057562</td>\n",
       "      <td>0.927273</td>\n",
       "      <td>3.700737</td>\n",
       "      <td>0.042008</td>\n",
       "      <td>10.304740</td>\n",
       "    </tr>\n",
       "    <tr>\n",
       "      <th>3744</th>\n",
       "      <td>(meat_High, water_High)</td>\n",
       "      <td>(black_High)</td>\n",
       "      <td>0.062077</td>\n",
       "      <td>0.247178</td>\n",
       "      <td>0.057562</td>\n",
       "      <td>0.927273</td>\n",
       "      <td>3.751432</td>\n",
       "      <td>0.042218</td>\n",
       "      <td>10.351298</td>\n",
       "    </tr>\n",
       "  </tbody>\n",
       "</table>\n",
       "</div>"
      ],
      "text/plain": [
       "                                              antecedents  \\\n",
       "129296          (soft_Low, wine_High, tea_Low, water_Low)   \n",
       "39257                      (soft_Low, wine_High, tea_Low)   \n",
       "32128                 (dairy_High, poultry_Low, meat_Low)   \n",
       "324742  (soft_Low, wine_High, grains_Low, water_Low, s...   \n",
       "626067  (soft_Low, wine_High, grains_Low, water_Low, s...   \n",
       "626074  (soft_Low, wine_High, grains_Low, water_Low, s...   \n",
       "39251                      (soft_Low, tea_Low, water_Low)   \n",
       "324706  (soft_Low, wine_High, water_Low, sweets_Low, f...   \n",
       "324712       (soft_Low, sweets_Low, wine_High, water_Low)   \n",
       "129283       (soft_Low, sweets_Low, wine_High, water_Low)   \n",
       "324640  (soft_Low, wine_High, grains_Low, water_Low, f...   \n",
       "324267  (soft_Low, wine_High, fish_High, water_Low, fr...   \n",
       "129162     (grains_Low, sweets_Low, wine_High, water_Low)   \n",
       "324679     (grains_Low, sweets_Low, wine_High, water_Low)   \n",
       "324673  (wine_High, grains_Low, water_Low, sweets_Low,...   \n",
       "128946     (grains_Low, fruit_High, wine_High, water_Low)   \n",
       "39283                  (sweets_Low, wine_High, water_Low)   \n",
       "129058     (sweets_Low, fruit_High, wine_High, water_Low)   \n",
       "128482        (soft_Low, fish_High, wine_High, water_Low)   \n",
       "3744                              (meat_High, water_High)   \n",
       "\n",
       "                             consequents  antecedent support  \\\n",
       "129296              (Median_Income_High)            0.054176   \n",
       "39257               (Median_Income_High)            0.059819   \n",
       "32128                    (Christian_Low)            0.055305   \n",
       "324742              (Median_Income_High)            0.063205   \n",
       "626067              (Median_Income_High)            0.063205   \n",
       "626074  (Median_Income_High, fruit_High)            0.063205   \n",
       "39251               (Median_Income_High)            0.062077   \n",
       "324706              (Median_Income_High)            0.075621   \n",
       "324712  (Median_Income_High, fruit_High)            0.075621   \n",
       "129283              (Median_Income_High)            0.075621   \n",
       "324640              (Median_Income_High)            0.074492   \n",
       "324267              (Median_Income_High)            0.055305   \n",
       "129162              (Median_Income_High)            0.071106   \n",
       "324679  (Median_Income_High, fruit_High)            0.071106   \n",
       "324673              (Median_Income_High)            0.071106   \n",
       "128946              (Median_Income_High)            0.084650   \n",
       "39283               (Median_Income_High)            0.084650   \n",
       "129058              (Median_Income_High)            0.083521   \n",
       "128482              (Median_Income_High)            0.062077   \n",
       "3744                        (black_High)            0.062077   \n",
       "\n",
       "        consequent support   support  confidence      lift  leverage  \\\n",
       "129296            0.250564  0.053047    0.979167  3.907845  0.039473   \n",
       "39257             0.250564  0.057562    0.962264  3.840388  0.042573   \n",
       "32128             0.250564  0.053047    0.959184  3.828093  0.039190   \n",
       "324742            0.250564  0.059819    0.946429  3.777188  0.043982   \n",
       "626067            0.250564  0.059819    0.946429  3.777188  0.043982   \n",
       "626074            0.147856  0.059819    0.946429  6.401036  0.050474   \n",
       "39251             0.250564  0.058691    0.945455  3.773301  0.043137   \n",
       "324706            0.250564  0.071106    0.940299  3.752723  0.052158   \n",
       "324712            0.147856  0.071106    0.940299  6.359576  0.059925   \n",
       "129283            0.250564  0.071106    0.940299  3.752723  0.052158   \n",
       "324640            0.250564  0.069977    0.939394  3.749113  0.051312   \n",
       "324267            0.250564  0.051919    0.938776  3.746645  0.038061   \n",
       "129162            0.250564  0.066591    0.936508  3.737595  0.048775   \n",
       "324679            0.147856  0.066591    0.936508  6.333939  0.056078   \n",
       "324673            0.250564  0.066591    0.936508  3.737595  0.048775   \n",
       "128946            0.250564  0.079007    0.933333  3.724925  0.057796   \n",
       "39283             0.250564  0.079007    0.933333  3.724925  0.057796   \n",
       "129058            0.250564  0.077878    0.932432  3.721329  0.056951   \n",
       "128482            0.250564  0.057562    0.927273  3.700737  0.042008   \n",
       "3744              0.247178  0.057562    0.927273  3.751432  0.042218   \n",
       "\n",
       "        conviction  \n",
       "129296   35.972912  \n",
       "39257    19.860045  \n",
       "32128    18.361174  \n",
       "324742   13.989466  \n",
       "626067   13.989466  \n",
       "626074   15.906697  \n",
       "39251    13.739654  \n",
       "324706   12.553047  \n",
       "324712   14.273420  \n",
       "129283   12.553047  \n",
       "324640   12.365688  \n",
       "324267   12.240783  \n",
       "129162   11.803612  \n",
       "324679   13.421275  \n",
       "324673   11.803612  \n",
       "128946   11.241535  \n",
       "39283    11.241535  \n",
       "129058   11.091648  \n",
       "128482   10.304740  \n",
       "3744     10.351298  "
      ]
     },
     "execution_count": 154,
     "metadata": {},
     "output_type": "execute_result"
    }
   ],
   "source": [
    "msoa_combined_items = msoa_combined_year[ethnicities + religions + products + [\"annual_median_income_2011\"]].copy()\n",
    "msoa_combined_items.columns = [x.split(\"y_\")[1].replace(\"_2011\", \"\") for x in ethnicities] + ['Christian', 'Buddhist','Hindu','Jewish','Muslim','Sikh','No_religion','Other_religion']  + [x.split(\"_\")[1] for x in products] + [\"Median_Income\"] \n",
    " \n",
    "# You could do this probably somewhat smarter \n",
    "# Encoding Data into a \"Set\" Dataset\n",
    "\n",
    "for col in msoa_combined_items.columns:\n",
    "    lower  =  msoa_combined_items[col].quantile(0.25)\n",
    "    middle =  msoa_combined_items[col].quantile(0.5)\n",
    "    higher =  msoa_combined_items[col].quantile(0.75)\n",
    "    msoa_combined_items[col + \"_Low\"] = msoa_combined_items[col].apply(lambda x : x < lower)\n",
    "    msoa_combined_items[col + \"_Low_to_Middle\"] = msoa_combined_items[col].apply(lambda x : x >= lower and x < middle)\n",
    "    msoa_combined_items[col + \"_Middle_to_High\"] = msoa_combined_items[col].apply(lambda x :  x < higher and x > middle)\n",
    "    msoa_combined_items[col + \"_High\"] = msoa_combined_items[col].apply(lambda x : x > higher)\n",
    "    msoa_combined_items = msoa_combined_items.drop(col, axis = 1)\n",
    "    \n",
    "\n",
    "# Given the structure of the information, low support is indemic\n",
    "frequent_itemsets = apriori(msoa_combined_items, min_support = 0.05, use_colnames = True)\n",
    "\n",
    "# Use Association Rules as an \"explainable\" Model\n",
    "cleaned_names = [x.split(\"_\")[1] for x in products]\n",
    "cleaned_names = [x + \"_High\" for x in cleaned_names] + [x + \"_Low\" for x in cleaned_names] + [x + \"Low_to_Middle\" for x in cleaned_names]+ [x + \"Middle_to_High\" for x in cleaned_names]\n",
    "nutrient_sets = set(cleaned_names)\n",
    "\n",
    "rules_association = arule(frequent_itemsets, metric = 'confidence', min_threshold = 0.6)\n",
    "rules_association[rules_association.apply(lambda x : True if x[\"antecedents\"].issubset(nutrient_sets) and not x[\"consequents\"].issubset(nutrient_sets) else False, axis = 1)].sort_values(by = \"confidence\", ascending = False).head(20)"
   ]
  },
  {
   "cell_type": "code",
   "execution_count": 160,
   "metadata": {},
   "outputs": [
    {
     "data": {
      "image/png": "[encoded data removed]",
      "text/plain": [
       "<Figure size 2160x2160 with 6 Axes>"
      ]
     },
     "metadata": {},
     "output_type": "display_data"
    }
   ],
   "source": [
    "with sns.axes_style(\"white\"): \n",
    "\n",
    "    f, axes = plt.subplots(3, 2, figsize=(30, 30))\n",
    "    axes = axes.flatten()\n",
    "\n",
    "    for ax, eth in zip(axes,education):\n",
    "        correl = [(nutr, stats.spearmanr(a = msoa_combined_year[eth], b = msoa_combined_year[nutr]).correlation) for nutr in products if stats.spearmanr(a = msoa_combined_year[eth], b = msoa_combined_year[nutr]).pvalue < 0.05]\n",
    "        colors = [0 if c[1] >= 0 else 1 for c in correl]\n",
    "        sns.barplot(x= [x[0].split(\"_\")[1] for x in correl], y=[x[1] for x in correl], hue=colors, palette=sns.color_palette(), dodge=False, ax = ax)\n",
    "        ax.axhline(0, ls='-', c = 'k')\n",
    "        ax.get_legend().remove()\n",
    "        ax.set_title(eth.split(\"perc\")[0].replace(\"_\", \" \"))\n",
    "\n",
    "    sns.despine(top = True, right = True)\n",
    "\n",
    "plt.show()"
   ]
  },
  {
   "cell_type": "code",
   "execution_count": 165,
   "metadata": {},
   "outputs": [
    {
     "name": "stdout",
     "output_type": "stream",
     "text": [
      "Computing Frequent Itemset ...\n",
      "Computing Association Rules ...\n",
      "Cleaning Rule Set for desiered Rules ...\n"
     ]
    },
    {
     "data": {
      "text/html": [
       "<div>\n",
       "<style scoped>\n",
       "    .dataframe tbody tr th:only-of-type {\n",
       "        vertical-align: middle;\n",
       "    }\n",
       "\n",
       "    .dataframe tbody tr th {\n",
       "        vertical-align: top;\n",
       "    }\n",
       "\n",
       "    .dataframe thead th {\n",
       "        text-align: right;\n",
       "    }\n",
       "</style>\n",
       "<table border=\"1\" class=\"dataframe\">\n",
       "  <thead>\n",
       "    <tr style=\"text-align: right;\">\n",
       "      <th></th>\n",
       "      <th>antecedents</th>\n",
       "      <th>consequents</th>\n",
       "      <th>antecedent support</th>\n",
       "      <th>consequent support</th>\n",
       "      <th>support</th>\n",
       "      <th>confidence</th>\n",
       "      <th>lift</th>\n",
       "      <th>leverage</th>\n",
       "      <th>conviction</th>\n",
       "    </tr>\n",
       "  </thead>\n",
       "  <tbody>\n",
       "    <tr>\n",
       "      <th>1293</th>\n",
       "      <td>(sweets_Low, water_Low)</td>\n",
       "      <td>(level_1_Low)</td>\n",
       "      <td>0.115124</td>\n",
       "      <td>0.250564</td>\n",
       "      <td>0.103837</td>\n",
       "      <td>0.901961</td>\n",
       "      <td>3.599717</td>\n",
       "      <td>0.074991</td>\n",
       "      <td>7.644244</td>\n",
       "    </tr>\n",
       "    <tr>\n",
       "      <th>2694</th>\n",
       "      <td>(sweets_Low, fruit_High, water_Low)</td>\n",
       "      <td>(level_1_Low)</td>\n",
       "      <td>0.112867</td>\n",
       "      <td>0.250564</td>\n",
       "      <td>0.101580</td>\n",
       "      <td>0.900000</td>\n",
       "      <td>3.591892</td>\n",
       "      <td>0.073300</td>\n",
       "      <td>7.494357</td>\n",
       "    </tr>\n",
       "    <tr>\n",
       "      <th>3026</th>\n",
       "      <td>(soft_Low, wine_High, water_Low)</td>\n",
       "      <td>(Median_Income_High)</td>\n",
       "      <td>0.116253</td>\n",
       "      <td>0.250564</td>\n",
       "      <td>0.103837</td>\n",
       "      <td>0.893204</td>\n",
       "      <td>3.564769</td>\n",
       "      <td>0.074709</td>\n",
       "      <td>7.017443</td>\n",
       "    </tr>\n",
       "    <tr>\n",
       "      <th>2697</th>\n",
       "      <td>(sweets_Low, water_Low)</td>\n",
       "      <td>(level_1_Low, fruit_High)</td>\n",
       "      <td>0.115124</td>\n",
       "      <td>0.172686</td>\n",
       "      <td>0.101580</td>\n",
       "      <td>0.882353</td>\n",
       "      <td>5.109573</td>\n",
       "      <td>0.081700</td>\n",
       "      <td>7.032167</td>\n",
       "    </tr>\n",
       "    <tr>\n",
       "      <th>1289</th>\n",
       "      <td>(sweets_Low, water_Low)</td>\n",
       "      <td>(no_qualification_Low)</td>\n",
       "      <td>0.115124</td>\n",
       "      <td>0.250564</td>\n",
       "      <td>0.101580</td>\n",
       "      <td>0.882353</td>\n",
       "      <td>3.521463</td>\n",
       "      <td>0.072734</td>\n",
       "      <td>6.370203</td>\n",
       "    </tr>\n",
       "    <tr>\n",
       "      <th>2515</th>\n",
       "      <td>(grains_Low, fruit_High, water_Low)</td>\n",
       "      <td>(no_qualification_Low)</td>\n",
       "      <td>0.116253</td>\n",
       "      <td>0.250564</td>\n",
       "      <td>0.101580</td>\n",
       "      <td>0.873786</td>\n",
       "      <td>3.487274</td>\n",
       "      <td>0.072451</td>\n",
       "      <td>5.937836</td>\n",
       "    </tr>\n",
       "    <tr>\n",
       "      <th>2524</th>\n",
       "      <td>(grains_Low, fruit_High, water_Low)</td>\n",
       "      <td>(level_1_Low)</td>\n",
       "      <td>0.116253</td>\n",
       "      <td>0.250564</td>\n",
       "      <td>0.101580</td>\n",
       "      <td>0.873786</td>\n",
       "      <td>3.487274</td>\n",
       "      <td>0.072451</td>\n",
       "      <td>5.937836</td>\n",
       "    </tr>\n",
       "    <tr>\n",
       "      <th>2911</th>\n",
       "      <td>(grains_Low, soft_Low, water_Low)</td>\n",
       "      <td>(Median_Income_High)</td>\n",
       "      <td>0.119639</td>\n",
       "      <td>0.250564</td>\n",
       "      <td>0.101580</td>\n",
       "      <td>0.849057</td>\n",
       "      <td>3.388577</td>\n",
       "      <td>0.071603</td>\n",
       "      <td>4.965011</td>\n",
       "    </tr>\n",
       "    <tr>\n",
       "      <th>1027</th>\n",
       "      <td>(fruit_High, wine_High)</td>\n",
       "      <td>(level_1_Low)</td>\n",
       "      <td>0.130926</td>\n",
       "      <td>0.250564</td>\n",
       "      <td>0.110609</td>\n",
       "      <td>0.844828</td>\n",
       "      <td>3.371699</td>\n",
       "      <td>0.077804</td>\n",
       "      <td>4.829697</td>\n",
       "    </tr>\n",
       "    <tr>\n",
       "      <th>2618</th>\n",
       "      <td>(soft_Low, fruit_High, water_Low)</td>\n",
       "      <td>(no_qualification_Low)</td>\n",
       "      <td>0.128668</td>\n",
       "      <td>0.250564</td>\n",
       "      <td>0.108352</td>\n",
       "      <td>0.842105</td>\n",
       "      <td>3.360835</td>\n",
       "      <td>0.076112</td>\n",
       "      <td>4.746426</td>\n",
       "    </tr>\n",
       "    <tr>\n",
       "      <th>3631</th>\n",
       "      <td>(soft_Low, sweets_Low, grains_Low)</td>\n",
       "      <td>(level_1_Low, fruit_High)</td>\n",
       "      <td>0.120767</td>\n",
       "      <td>0.172686</td>\n",
       "      <td>0.101580</td>\n",
       "      <td>0.841121</td>\n",
       "      <td>4.870808</td>\n",
       "      <td>0.080725</td>\n",
       "      <td>5.207210</td>\n",
       "    </tr>\n",
       "    <tr>\n",
       "      <th>2901</th>\n",
       "      <td>(grains_Low, soft_Low, sweets_Low)</td>\n",
       "      <td>(level_1_Low)</td>\n",
       "      <td>0.120767</td>\n",
       "      <td>0.250564</td>\n",
       "      <td>0.101580</td>\n",
       "      <td>0.841121</td>\n",
       "      <td>3.356908</td>\n",
       "      <td>0.071320</td>\n",
       "      <td>4.717036</td>\n",
       "    </tr>\n",
       "    <tr>\n",
       "      <th>3626</th>\n",
       "      <td>(soft_Low, sweets_Low, grains_Low, fruit_High)</td>\n",
       "      <td>(level_1_Low)</td>\n",
       "      <td>0.120767</td>\n",
       "      <td>0.250564</td>\n",
       "      <td>0.101580</td>\n",
       "      <td>0.841121</td>\n",
       "      <td>3.356908</td>\n",
       "      <td>0.071320</td>\n",
       "      <td>4.717036</td>\n",
       "    </tr>\n",
       "    <tr>\n",
       "      <th>1012</th>\n",
       "      <td>(fruit_High, water_Low)</td>\n",
       "      <td>(level_1_Low)</td>\n",
       "      <td>0.143341</td>\n",
       "      <td>0.250564</td>\n",
       "      <td>0.119639</td>\n",
       "      <td>0.834646</td>\n",
       "      <td>3.331063</td>\n",
       "      <td>0.083723</td>\n",
       "      <td>4.532301</td>\n",
       "    </tr>\n",
       "    <tr>\n",
       "      <th>1009</th>\n",
       "      <td>(fruit_High, water_Low)</td>\n",
       "      <td>(no_qualification_Low)</td>\n",
       "      <td>0.143341</td>\n",
       "      <td>0.250564</td>\n",
       "      <td>0.119639</td>\n",
       "      <td>0.834646</td>\n",
       "      <td>3.331063</td>\n",
       "      <td>0.083723</td>\n",
       "      <td>4.532301</td>\n",
       "    </tr>\n",
       "    <tr>\n",
       "      <th>2370</th>\n",
       "      <td>(grains_High, readymade_High, fats_Low)</td>\n",
       "      <td>(apprenticeship_High)</td>\n",
       "      <td>0.128668</td>\n",
       "      <td>0.249436</td>\n",
       "      <td>0.107223</td>\n",
       "      <td>0.833333</td>\n",
       "      <td>3.340875</td>\n",
       "      <td>0.075129</td>\n",
       "      <td>4.503386</td>\n",
       "    </tr>\n",
       "    <tr>\n",
       "      <th>2638</th>\n",
       "      <td>(soft_Low, fruit_High, water_Low)</td>\n",
       "      <td>(Median_Income_High)</td>\n",
       "      <td>0.128668</td>\n",
       "      <td>0.250564</td>\n",
       "      <td>0.107223</td>\n",
       "      <td>0.833333</td>\n",
       "      <td>3.325826</td>\n",
       "      <td>0.074984</td>\n",
       "      <td>4.496614</td>\n",
       "    </tr>\n",
       "    <tr>\n",
       "      <th>2629</th>\n",
       "      <td>(soft_Low, fruit_High, water_Low)</td>\n",
       "      <td>(level_1_Low)</td>\n",
       "      <td>0.128668</td>\n",
       "      <td>0.250564</td>\n",
       "      <td>0.107223</td>\n",
       "      <td>0.833333</td>\n",
       "      <td>3.325826</td>\n",
       "      <td>0.074984</td>\n",
       "      <td>4.496614</td>\n",
       "    </tr>\n",
       "    <tr>\n",
       "      <th>1266</th>\n",
       "      <td>(soft_Low, wine_High)</td>\n",
       "      <td>(Median_Income_High)</td>\n",
       "      <td>0.135440</td>\n",
       "      <td>0.250564</td>\n",
       "      <td>0.112867</td>\n",
       "      <td>0.833333</td>\n",
       "      <td>3.325826</td>\n",
       "      <td>0.078930</td>\n",
       "      <td>4.496614</td>\n",
       "    </tr>\n",
       "    <tr>\n",
       "      <th>2269</th>\n",
       "      <td>(fats_Low, eggs_Low, readymade_High)</td>\n",
       "      <td>(apprenticeship_High)</td>\n",
       "      <td>0.141084</td>\n",
       "      <td>0.249436</td>\n",
       "      <td>0.117381</td>\n",
       "      <td>0.832000</td>\n",
       "      <td>3.335529</td>\n",
       "      <td>0.082190</td>\n",
       "      <td>4.467645</td>\n",
       "    </tr>\n",
       "  </tbody>\n",
       "</table>\n",
       "</div>"
      ],
      "text/plain": [
       "                                         antecedents  \\\n",
       "1293                         (sweets_Low, water_Low)   \n",
       "2694             (sweets_Low, fruit_High, water_Low)   \n",
       "3026                (soft_Low, wine_High, water_Low)   \n",
       "2697                         (sweets_Low, water_Low)   \n",
       "1289                         (sweets_Low, water_Low)   \n",
       "2515             (grains_Low, fruit_High, water_Low)   \n",
       "2524             (grains_Low, fruit_High, water_Low)   \n",
       "2911               (grains_Low, soft_Low, water_Low)   \n",
       "1027                         (fruit_High, wine_High)   \n",
       "2618               (soft_Low, fruit_High, water_Low)   \n",
       "3631              (soft_Low, sweets_Low, grains_Low)   \n",
       "2901              (grains_Low, soft_Low, sweets_Low)   \n",
       "3626  (soft_Low, sweets_Low, grains_Low, fruit_High)   \n",
       "1012                         (fruit_High, water_Low)   \n",
       "1009                         (fruit_High, water_Low)   \n",
       "2370         (grains_High, readymade_High, fats_Low)   \n",
       "2638               (soft_Low, fruit_High, water_Low)   \n",
       "2629               (soft_Low, fruit_High, water_Low)   \n",
       "1266                           (soft_Low, wine_High)   \n",
       "2269            (fats_Low, eggs_Low, readymade_High)   \n",
       "\n",
       "                    consequents  antecedent support  consequent support  \\\n",
       "1293              (level_1_Low)            0.115124            0.250564   \n",
       "2694              (level_1_Low)            0.112867            0.250564   \n",
       "3026       (Median_Income_High)            0.116253            0.250564   \n",
       "2697  (level_1_Low, fruit_High)            0.115124            0.172686   \n",
       "1289     (no_qualification_Low)            0.115124            0.250564   \n",
       "2515     (no_qualification_Low)            0.116253            0.250564   \n",
       "2524              (level_1_Low)            0.116253            0.250564   \n",
       "2911       (Median_Income_High)            0.119639            0.250564   \n",
       "1027              (level_1_Low)            0.130926            0.250564   \n",
       "2618     (no_qualification_Low)            0.128668            0.250564   \n",
       "3631  (level_1_Low, fruit_High)            0.120767            0.172686   \n",
       "2901              (level_1_Low)            0.120767            0.250564   \n",
       "3626              (level_1_Low)            0.120767            0.250564   \n",
       "1012              (level_1_Low)            0.143341            0.250564   \n",
       "1009     (no_qualification_Low)            0.143341            0.250564   \n",
       "2370      (apprenticeship_High)            0.128668            0.249436   \n",
       "2638       (Median_Income_High)            0.128668            0.250564   \n",
       "2629              (level_1_Low)            0.128668            0.250564   \n",
       "1266       (Median_Income_High)            0.135440            0.250564   \n",
       "2269      (apprenticeship_High)            0.141084            0.249436   \n",
       "\n",
       "       support  confidence      lift  leverage  conviction  \n",
       "1293  0.103837    0.901961  3.599717  0.074991    7.644244  \n",
       "2694  0.101580    0.900000  3.591892  0.073300    7.494357  \n",
       "3026  0.103837    0.893204  3.564769  0.074709    7.017443  \n",
       "2697  0.101580    0.882353  5.109573  0.081700    7.032167  \n",
       "1289  0.101580    0.882353  3.521463  0.072734    6.370203  \n",
       "2515  0.101580    0.873786  3.487274  0.072451    5.937836  \n",
       "2524  0.101580    0.873786  3.487274  0.072451    5.937836  \n",
       "2911  0.101580    0.849057  3.388577  0.071603    4.965011  \n",
       "1027  0.110609    0.844828  3.371699  0.077804    4.829697  \n",
       "2618  0.108352    0.842105  3.360835  0.076112    4.746426  \n",
       "3631  0.101580    0.841121  4.870808  0.080725    5.207210  \n",
       "2901  0.101580    0.841121  3.356908  0.071320    4.717036  \n",
       "3626  0.101580    0.841121  3.356908  0.071320    4.717036  \n",
       "1012  0.119639    0.834646  3.331063  0.083723    4.532301  \n",
       "1009  0.119639    0.834646  3.331063  0.083723    4.532301  \n",
       "2370  0.107223    0.833333  3.340875  0.075129    4.503386  \n",
       "2638  0.107223    0.833333  3.325826  0.074984    4.496614  \n",
       "2629  0.107223    0.833333  3.325826  0.074984    4.496614  \n",
       "1266  0.112867    0.833333  3.325826  0.078930    4.496614  \n",
       "2269  0.117381    0.832000  3.335529  0.082190    4.467645  "
      ]
     },
     "execution_count": 165,
     "metadata": {},
     "output_type": "execute_result"
    }
   ],
   "source": [
    "msoa_combined_items = msoa_combined_year[ethnicities + products + education + [\"annual_median_income_2011\"]].copy()\n",
    "msoa_combined_items.columns = [x.split(\"y_\")[1].replace(\"_2011\", \"\") for x in ethnicities] + [x.split(\"_\")[1] for x in products] + [x.replace(\"qualification_\", \"\", 1).replace(\"_2011\", \"\") for x in education]  + [\"Median_Income\"] \n",
    " \n",
    "# You could do this probably somewhat smarter \n",
    "# Encoding Data into a \"Set\" Dataset\n",
    "\n",
    "for col in msoa_combined_items.columns:\n",
    "    lower  =  msoa_combined_items[col].quantile(0.25)\n",
    "    middle =  msoa_combined_items[col].quantile(0.5)\n",
    "    higher =  msoa_combined_items[col].quantile(0.75)\n",
    "    msoa_combined_items[col + \"_Low\"] = msoa_combined_items[col].apply(lambda x : x < lower)\n",
    "    msoa_combined_items[col + \"_Low_to_Middle\"] = msoa_combined_items[col].apply(lambda x : x >= lower and x < middle)\n",
    "    msoa_combined_items[col + \"_Middle_to_High\"] = msoa_combined_items[col].apply(lambda x :  x < higher and x > middle)\n",
    "    msoa_combined_items[col + \"_High\"] = msoa_combined_items[col].apply(lambda x : x > higher)\n",
    "    msoa_combined_items = msoa_combined_items.drop(col, axis = 1)\n",
    "    \n",
    "\n",
    "print(\"Computing Frequent Itemset ...\")\n",
    "# Given the structure of the information, low support is indemic\n",
    "frequent_itemsets = apriori(msoa_combined_items, min_support = 0.1, use_colnames = True)\n",
    "\n",
    "\n",
    "\n",
    "# Use Association Rules as an \"explainable\" Model\n",
    "cleaned_names = [x.split(\"_\")[1] for x in products]\n",
    "cleaned_names = [x + \"_High\" for x in cleaned_names] + [x + \"_Low\" for x in cleaned_names] + [x + \"Low_to_Middle\" for x in cleaned_names]+ [x + \"Middle_to_High\" for x in cleaned_names]\n",
    "nutrient_sets = set(cleaned_names)\n",
    "print(\"Computing Association Rules ...\")\n",
    "rules_association = arule(frequent_itemsets, metric = 'confidence', min_threshold = 0.6)\n",
    "print(\"Cleaning Rule Set for desiered Rules ...\")\n",
    "rules_association[rules_association.apply(lambda x : True if x[\"antecedents\"].issubset(nutrient_sets) and not x[\"consequents\"].issubset(nutrient_sets) else False, axis = 1)].sort_values(by = \"confidence\", ascending = False).head(20)"
   ]
  },
  {
   "cell_type": "code",
   "execution_count": 166,
   "metadata": {},
   "outputs": [
    {
     "name": "stdout",
     "output_type": "stream",
     "text": [
      "Computing Frequent Itemset ...\n",
      "Computing Association Rules ...\n",
      "Cleaning Rule Set for desiered Rules ...\n"
     ]
    },
    {
     "data": {
      "text/html": [
       "<div>\n",
       "<style scoped>\n",
       "    .dataframe tbody tr th:only-of-type {\n",
       "        vertical-align: middle;\n",
       "    }\n",
       "\n",
       "    .dataframe tbody tr th {\n",
       "        vertical-align: top;\n",
       "    }\n",
       "\n",
       "    .dataframe thead th {\n",
       "        text-align: right;\n",
       "    }\n",
       "</style>\n",
       "<table border=\"1\" class=\"dataframe\">\n",
       "  <thead>\n",
       "    <tr style=\"text-align: right;\">\n",
       "      <th></th>\n",
       "      <th>antecedents</th>\n",
       "      <th>consequents</th>\n",
       "      <th>antecedent support</th>\n",
       "      <th>consequent support</th>\n",
       "      <th>support</th>\n",
       "      <th>confidence</th>\n",
       "      <th>lift</th>\n",
       "      <th>leverage</th>\n",
       "      <th>conviction</th>\n",
       "    </tr>\n",
       "  </thead>\n",
       "  <tbody>\n",
       "    <tr>\n",
       "      <th>437</th>\n",
       "      <td>(carb_Low, alcohol_High)</td>\n",
       "      <td>(level_1_Low)</td>\n",
       "      <td>0.132054</td>\n",
       "      <td>0.250564</td>\n",
       "      <td>0.103837</td>\n",
       "      <td>0.786325</td>\n",
       "      <td>3.138215</td>\n",
       "      <td>0.070749</td>\n",
       "      <td>3.507359</td>\n",
       "    </tr>\n",
       "    <tr>\n",
       "      <th>434</th>\n",
       "      <td>(carb_Low, alcohol_High)</td>\n",
       "      <td>(no_qualification_Low)</td>\n",
       "      <td>0.132054</td>\n",
       "      <td>0.250564</td>\n",
       "      <td>0.100451</td>\n",
       "      <td>0.760684</td>\n",
       "      <td>3.035882</td>\n",
       "      <td>0.067363</td>\n",
       "      <td>3.131570</td>\n",
       "    </tr>\n",
       "    <tr>\n",
       "      <th>386</th>\n",
       "      <td>(carb_Low, sugar_Low)</td>\n",
       "      <td>(level_1_Low)</td>\n",
       "      <td>0.187359</td>\n",
       "      <td>0.250564</td>\n",
       "      <td>0.141084</td>\n",
       "      <td>0.753012</td>\n",
       "      <td>3.005264</td>\n",
       "      <td>0.094138</td>\n",
       "      <td>3.034301</td>\n",
       "    </tr>\n",
       "    <tr>\n",
       "      <th>57</th>\n",
       "      <td>(carb_Low)</td>\n",
       "      <td>(level_1_Low)</td>\n",
       "      <td>0.250564</td>\n",
       "      <td>0.250564</td>\n",
       "      <td>0.178330</td>\n",
       "      <td>0.711712</td>\n",
       "      <td>2.840435</td>\n",
       "      <td>0.115547</td>\n",
       "      <td>2.599605</td>\n",
       "    </tr>\n",
       "    <tr>\n",
       "      <th>382</th>\n",
       "      <td>(carb_Low, sugar_Low)</td>\n",
       "      <td>(no_qualification_Low)</td>\n",
       "      <td>0.187359</td>\n",
       "      <td>0.250564</td>\n",
       "      <td>0.128668</td>\n",
       "      <td>0.686747</td>\n",
       "      <td>2.740801</td>\n",
       "      <td>0.081723</td>\n",
       "      <td>2.392429</td>\n",
       "    </tr>\n",
       "    <tr>\n",
       "      <th>395</th>\n",
       "      <td>(carb_Low, sugar_Low)</td>\n",
       "      <td>(level_4_High)</td>\n",
       "      <td>0.187359</td>\n",
       "      <td>0.250564</td>\n",
       "      <td>0.127540</td>\n",
       "      <td>0.680723</td>\n",
       "      <td>2.716759</td>\n",
       "      <td>0.080594</td>\n",
       "      <td>2.347289</td>\n",
       "    </tr>\n",
       "    <tr>\n",
       "      <th>389</th>\n",
       "      <td>(carb_Low, sugar_Low)</td>\n",
       "      <td>(level_2_Low)</td>\n",
       "      <td>0.187359</td>\n",
       "      <td>0.250564</td>\n",
       "      <td>0.125282</td>\n",
       "      <td>0.668675</td>\n",
       "      <td>2.668675</td>\n",
       "      <td>0.078337</td>\n",
       "      <td>2.261933</td>\n",
       "    </tr>\n",
       "    <tr>\n",
       "      <th>962</th>\n",
       "      <td>(carb_Low, sugar_Low)</td>\n",
       "      <td>(level_1_Low, no_qualification_Low)</td>\n",
       "      <td>0.187359</td>\n",
       "      <td>0.198646</td>\n",
       "      <td>0.123025</td>\n",
       "      <td>0.656627</td>\n",
       "      <td>3.305518</td>\n",
       "      <td>0.085807</td>\n",
       "      <td>2.333769</td>\n",
       "    </tr>\n",
       "    <tr>\n",
       "      <th>55</th>\n",
       "      <td>(carb_Low)</td>\n",
       "      <td>(no_qualification_Low)</td>\n",
       "      <td>0.250564</td>\n",
       "      <td>0.250564</td>\n",
       "      <td>0.162528</td>\n",
       "      <td>0.648649</td>\n",
       "      <td>2.588751</td>\n",
       "      <td>0.099746</td>\n",
       "      <td>2.133009</td>\n",
       "    </tr>\n",
       "    <tr>\n",
       "      <th>62</th>\n",
       "      <td>(carb_Low)</td>\n",
       "      <td>(level_4_High)</td>\n",
       "      <td>0.250564</td>\n",
       "      <td>0.250564</td>\n",
       "      <td>0.162528</td>\n",
       "      <td>0.648649</td>\n",
       "      <td>2.588751</td>\n",
       "      <td>0.099746</td>\n",
       "      <td>2.133009</td>\n",
       "    </tr>\n",
       "    <tr>\n",
       "      <th>991</th>\n",
       "      <td>(carb_Low, sugar_Low)</td>\n",
       "      <td>(level_2_Low, level_1_Low)</td>\n",
       "      <td>0.187359</td>\n",
       "      <td>0.203160</td>\n",
       "      <td>0.120767</td>\n",
       "      <td>0.644578</td>\n",
       "      <td>3.172758</td>\n",
       "      <td>0.082704</td>\n",
       "      <td>2.241956</td>\n",
       "    </tr>\n",
       "    <tr>\n",
       "      <th>26</th>\n",
       "      <td>(protein_Low)</td>\n",
       "      <td>(asian_High)</td>\n",
       "      <td>0.250564</td>\n",
       "      <td>0.248307</td>\n",
       "      <td>0.161400</td>\n",
       "      <td>0.644144</td>\n",
       "      <td>2.594144</td>\n",
       "      <td>0.099183</td>\n",
       "      <td>2.112352</td>\n",
       "    </tr>\n",
       "    <tr>\n",
       "      <th>59</th>\n",
       "      <td>(carb_Low)</td>\n",
       "      <td>(level_2_Low)</td>\n",
       "      <td>0.250564</td>\n",
       "      <td>0.250564</td>\n",
       "      <td>0.159142</td>\n",
       "      <td>0.635135</td>\n",
       "      <td>2.534819</td>\n",
       "      <td>0.096360</td>\n",
       "      <td>2.054009</td>\n",
       "    </tr>\n",
       "    <tr>\n",
       "      <th>63</th>\n",
       "      <td>(fibre_Low)</td>\n",
       "      <td>(Median_Income_Low)</td>\n",
       "      <td>0.250564</td>\n",
       "      <td>0.250564</td>\n",
       "      <td>0.158014</td>\n",
       "      <td>0.630631</td>\n",
       "      <td>2.516841</td>\n",
       "      <td>0.095231</td>\n",
       "      <td>2.028960</td>\n",
       "    </tr>\n",
       "    <tr>\n",
       "      <th>52</th>\n",
       "      <td>(sugar_Low)</td>\n",
       "      <td>(level_1_Low)</td>\n",
       "      <td>0.250564</td>\n",
       "      <td>0.250564</td>\n",
       "      <td>0.155756</td>\n",
       "      <td>0.621622</td>\n",
       "      <td>2.480886</td>\n",
       "      <td>0.092974</td>\n",
       "      <td>1.980651</td>\n",
       "    </tr>\n",
       "    <tr>\n",
       "      <th>424</th>\n",
       "      <td>(carb_High, sugar_High)</td>\n",
       "      <td>(apprenticeship_High)</td>\n",
       "      <td>0.180587</td>\n",
       "      <td>0.249436</td>\n",
       "      <td>0.111738</td>\n",
       "      <td>0.618750</td>\n",
       "      <td>2.480600</td>\n",
       "      <td>0.066693</td>\n",
       "      <td>1.968693</td>\n",
       "    </tr>\n",
       "    <tr>\n",
       "      <th>30</th>\n",
       "      <td>(fibre_High)</td>\n",
       "      <td>(black_Low)</td>\n",
       "      <td>0.250564</td>\n",
       "      <td>0.250564</td>\n",
       "      <td>0.151242</td>\n",
       "      <td>0.603604</td>\n",
       "      <td>2.408977</td>\n",
       "      <td>0.088459</td>\n",
       "      <td>1.890622</td>\n",
       "    </tr>\n",
       "    <tr>\n",
       "      <th>265</th>\n",
       "      <td>(carb_High, sugar_High)</td>\n",
       "      <td>(mixed_Low)</td>\n",
       "      <td>0.180587</td>\n",
       "      <td>0.224605</td>\n",
       "      <td>0.108352</td>\n",
       "      <td>0.600000</td>\n",
       "      <td>2.671357</td>\n",
       "      <td>0.067791</td>\n",
       "      <td>1.938488</td>\n",
       "    </tr>\n",
       "  </tbody>\n",
       "</table>\n",
       "</div>"
      ],
      "text/plain": [
       "                  antecedents                          consequents  \\\n",
       "437  (carb_Low, alcohol_High)                        (level_1_Low)   \n",
       "434  (carb_Low, alcohol_High)               (no_qualification_Low)   \n",
       "386     (carb_Low, sugar_Low)                        (level_1_Low)   \n",
       "57                 (carb_Low)                        (level_1_Low)   \n",
       "382     (carb_Low, sugar_Low)               (no_qualification_Low)   \n",
       "395     (carb_Low, sugar_Low)                       (level_4_High)   \n",
       "389     (carb_Low, sugar_Low)                        (level_2_Low)   \n",
       "962     (carb_Low, sugar_Low)  (level_1_Low, no_qualification_Low)   \n",
       "55                 (carb_Low)               (no_qualification_Low)   \n",
       "62                 (carb_Low)                       (level_4_High)   \n",
       "991     (carb_Low, sugar_Low)           (level_2_Low, level_1_Low)   \n",
       "26              (protein_Low)                         (asian_High)   \n",
       "59                 (carb_Low)                        (level_2_Low)   \n",
       "63                (fibre_Low)                  (Median_Income_Low)   \n",
       "52                (sugar_Low)                        (level_1_Low)   \n",
       "424   (carb_High, sugar_High)                (apprenticeship_High)   \n",
       "30               (fibre_High)                          (black_Low)   \n",
       "265   (carb_High, sugar_High)                          (mixed_Low)   \n",
       "\n",
       "     antecedent support  consequent support   support  confidence      lift  \\\n",
       "437            0.132054            0.250564  0.103837    0.786325  3.138215   \n",
       "434            0.132054            0.250564  0.100451    0.760684  3.035882   \n",
       "386            0.187359            0.250564  0.141084    0.753012  3.005264   \n",
       "57             0.250564            0.250564  0.178330    0.711712  2.840435   \n",
       "382            0.187359            0.250564  0.128668    0.686747  2.740801   \n",
       "395            0.187359            0.250564  0.127540    0.680723  2.716759   \n",
       "389            0.187359            0.250564  0.125282    0.668675  2.668675   \n",
       "962            0.187359            0.198646  0.123025    0.656627  3.305518   \n",
       "55             0.250564            0.250564  0.162528    0.648649  2.588751   \n",
       "62             0.250564            0.250564  0.162528    0.648649  2.588751   \n",
       "991            0.187359            0.203160  0.120767    0.644578  3.172758   \n",
       "26             0.250564            0.248307  0.161400    0.644144  2.594144   \n",
       "59             0.250564            0.250564  0.159142    0.635135  2.534819   \n",
       "63             0.250564            0.250564  0.158014    0.630631  2.516841   \n",
       "52             0.250564            0.250564  0.155756    0.621622  2.480886   \n",
       "424            0.180587            0.249436  0.111738    0.618750  2.480600   \n",
       "30             0.250564            0.250564  0.151242    0.603604  2.408977   \n",
       "265            0.180587            0.224605  0.108352    0.600000  2.671357   \n",
       "\n",
       "     leverage  conviction  \n",
       "437  0.070749    3.507359  \n",
       "434  0.067363    3.131570  \n",
       "386  0.094138    3.034301  \n",
       "57   0.115547    2.599605  \n",
       "382  0.081723    2.392429  \n",
       "395  0.080594    2.347289  \n",
       "389  0.078337    2.261933  \n",
       "962  0.085807    2.333769  \n",
       "55   0.099746    2.133009  \n",
       "62   0.099746    2.133009  \n",
       "991  0.082704    2.241956  \n",
       "26   0.099183    2.112352  \n",
       "59   0.096360    2.054009  \n",
       "63   0.095231    2.028960  \n",
       "52   0.092974    1.980651  \n",
       "424  0.066693    1.968693  \n",
       "30   0.088459    1.890622  \n",
       "265  0.067791    1.938488  "
      ]
     },
     "execution_count": 166,
     "metadata": {},
     "output_type": "execute_result"
    }
   ],
   "source": [
    "msoa_combined_items = msoa_combined_year[ethnicities + nutrients + education + [\"annual_median_income_2011\"]].copy()\n",
    "msoa_combined_items.columns = [x.split(\"y_\")[1].replace(\"_2011\", \"\") for x in ethnicities] + [x.split(\"_\")[1] for x in nutrients] + [x.replace(\"qualification_\", \"\", 1).replace(\"_2011\", \"\") for x in education] + [\"Median_Income\"] \n",
    " \n",
    "# You could do this probably somewhat smarter \n",
    "# Encoding Data into a \"Set\" Dataset\n",
    "\n",
    "for col in msoa_combined_items.columns:\n",
    "    lower  =  msoa_combined_items[col].quantile(0.25)\n",
    "    middle =  msoa_combined_items[col].quantile(0.5)\n",
    "    higher =  msoa_combined_items[col].quantile(0.75)\n",
    "    msoa_combined_items[col + \"_Low\"] = msoa_combined_items[col].apply(lambda x : x < lower)\n",
    "    msoa_combined_items[col + \"_Low_to_Middle\"] = msoa_combined_items[col].apply(lambda x : x >= lower and x < middle)\n",
    "    msoa_combined_items[col + \"_Middle_to_High\"] = msoa_combined_items[col].apply(lambda x :  x < higher and x > middle)\n",
    "    msoa_combined_items[col + \"_High\"] = msoa_combined_items[col].apply(lambda x : x > higher)\n",
    "    msoa_combined_items = msoa_combined_items.drop(col, axis = 1)\n",
    "    \n",
    "\n",
    "print(\"Computing Frequent Itemset ...\")\n",
    "# Given the structure of the information, low support is indemic\n",
    "frequent_itemsets = apriori(msoa_combined_items, min_support = 0.1, use_colnames = True)\n",
    "\n",
    "\n",
    "\n",
    "# Use Association Rules as an \"explainable\" Model\n",
    "cleaned_names = [x.split(\"_\")[1] for x in nutrients]\n",
    "cleaned_names = [x + \"_High\" for x in cleaned_names] + [x + \"_Low\" for x in cleaned_names] + [x + \"Low_to_Middle\" for x in cleaned_names]+ [x + \"Middle_to_High\" for x in cleaned_names]\n",
    "nutrient_sets = set(cleaned_names)\n",
    "print(\"Computing Association Rules ...\")\n",
    "rules_association = arule(frequent_itemsets, metric = 'confidence', min_threshold = 0.6)\n",
    "print(\"Cleaning Rule Set for desiered Rules ...\")\n",
    "rules_association[rules_association.apply(lambda x : True if x[\"antecedents\"].issubset(nutrient_sets) and not x[\"consequents\"].issubset(nutrient_sets) else False, axis = 1)].sort_values(by = \"confidence\", ascending = False).head(20)"
   ]
  },
  {
   "cell_type": "markdown",
   "metadata": {},
   "source": [
    "https://pypi.org/project/pyarmviz/"
   ]
  },
  {
   "cell_type": "code",
   "execution_count": 75,
   "metadata": {},
   "outputs": [
    {
     "data": {
      "image/png": "[encoded data removed]",
      "text/plain": [
       "<Figure size 1080x1080 with 1 Axes>"
      ]
     },
     "metadata": {
      "needs_background": "light"
     },
     "output_type": "display_data"
    }
   ],
   "source": [
    "# Calculate spiral coordinates for the Xmas tree\n",
    "theta = np.linspace(-8 * np.pi, 8 * np.pi, 200) \n",
    "z = np.linspace(-3, 0, 200)\n",
    "r = 5\n",
    "x = r * np.sin(theta)*z\n",
    "y = r * np.cos(theta)*z\n",
    " \n",
    "# Use matplotib and its OOP interface to draw it \n",
    "fig = plt.figure(figsize  = (15,15)) # Create figure\n",
    "fig.set\n",
    "ax = fig.gca(projection='3d') # It's a 3D Xmas tree!\n",
    "ax.view_init(15, 0) # Set a nice view angle\n",
    "ax._axis3don = False # Hide the 3d axes\n",
    " \n",
    "# Plot the Xmas tree as a line\n",
    "ax.plot(x, y, z,\n",
    "        c='green', linewidth=2.5)\n",
    " \n",
    "# Every Xmas tree needs a star\n",
    "ax.scatter(0, 0, 0.2,\n",
    "           c='red', s=250, marker='*')\n",
    " \n",
    "# Type here your best whishes\n",
    "ax.set_title(u\"¡Feliz Navidad!\")\n",
    " \n",
    "plt.show()"
   ]
  },
  {
   "cell_type": "code",
   "execution_count": 206,
   "metadata": {},
   "outputs": [
    {
     "data": {
      "application/vnd.plotly.v1+json": {
       "config": {
        "plotlyServerURL": "https://plot.ly"
       },
       "data": [
        {
         "marker": {
          "color": "#00539F"
         },
         "name": "positives",
         "type": "bar",
         "x": [
          "Mixed",
          "Asian",
          "Black",
          "Other Ethnicites",
          "BAME",
          "Level 4 Qualification",
          "Other qualifications",
          "Students"
         ],
         "y": [
          0.2400411812841975,
          0.21808421379996942,
          0.19935167756546576,
          0.29535987019464477,
          0.281351624702054,
          0.11022261359624067,
          0.21963547517299092,
          0.19283102967858212
         ]
        },
        {
         "marker": {
          "color": "#EE1C2E"
         },
         "name": "negatives",
         "type": "bar",
         "x": [
          "White",
          "Level 1 Qualification",
          "Level 2 Qualification",
          "Apprenticeship"
         ],
         "y": [
          -0.281351624702054,
          -0.11318640489112126,
          -0.09090880347874532,
          -0.13747645452209542
         ]
        }
       ],
       "layout": {
        "autosize": true,
        "template": {
         "data": {
          "bar": [
           {
            "error_x": {
             "color": "#2a3f5f"
            },
            "error_y": {
             "color": "#2a3f5f"
            },
            "marker": {
             "line": {
              "color": "white",
              "width": 0.5
             }
            },
            "type": "bar"
           }
          ],
          "barpolar": [
           {
            "marker": {
             "line": {
              "color": "white",
              "width": 0.5
             }
            },
            "type": "barpolar"
           }
          ],
          "carpet": [
           {
            "aaxis": {
             "endlinecolor": "#2a3f5f",
             "gridcolor": "#C8D4E3",
             "linecolor": "#C8D4E3",
             "minorgridcolor": "#C8D4E3",
             "startlinecolor": "#2a3f5f"
            },
            "baxis": {
             "endlinecolor": "#2a3f5f",
             "gridcolor": "#C8D4E3",
             "linecolor": "#C8D4E3",
             "minorgridcolor": "#C8D4E3",
             "startlinecolor": "#2a3f5f"
            },
            "type": "carpet"
           }
          ],
          "choropleth": [
           {
            "colorbar": {
             "outlinewidth": 0,
             "ticks": ""
            },
            "type": "choropleth"
           }
          ],
          "contour": [
           {
            "colorbar": {
             "outlinewidth": 0,
             "ticks": ""
            },
            "colorscale": [
             [
              0,
              "#0d0887"
             ],
             [
              0.1111111111111111,
              "#46039f"
             ],
             [
              0.2222222222222222,
              "#7201a8"
             ],
             [
              0.3333333333333333,
              "#9c179e"
             ],
             [
              0.4444444444444444,
              "#bd3786"
             ],
             [
              0.5555555555555556,
              "#d8576b"
             ],
             [
              0.6666666666666666,
              "#ed7953"
             ],
             [
              0.7777777777777778,
              "#fb9f3a"
             ],
             [
              0.8888888888888888,
              "#fdca26"
             ],
             [
              1,
              "#f0f921"
             ]
            ],
            "type": "contour"
           }
          ],
          "contourcarpet": [
           {
            "colorbar": {
             "outlinewidth": 0,
             "ticks": ""
            },
            "type": "contourcarpet"
           }
          ],
          "heatmap": [
           {
            "colorbar": {
             "outlinewidth": 0,
             "ticks": ""
            },
            "colorscale": [
             [
              0,
              "#0d0887"
             ],
             [
              0.1111111111111111,
              "#46039f"
             ],
             [
              0.2222222222222222,
              "#7201a8"
             ],
             [
              0.3333333333333333,
              "#9c179e"
             ],
             [
              0.4444444444444444,
              "#bd3786"
             ],
             [
              0.5555555555555556,
              "#d8576b"
             ],
             [
              0.6666666666666666,
              "#ed7953"
             ],
             [
              0.7777777777777778,
              "#fb9f3a"
             ],
             [
              0.8888888888888888,
              "#fdca26"
             ],
             [
              1,
              "#f0f921"
             ]
            ],
            "type": "heatmap"
           }
          ],
          "heatmapgl": [
           {
            "colorbar": {
             "outlinewidth": 0,
             "ticks": ""
            },
            "colorscale": [
             [
              0,
              "#0d0887"
             ],
             [
              0.1111111111111111,
              "#46039f"
             ],
             [
              0.2222222222222222,
              "#7201a8"
             ],
             [
              0.3333333333333333,
              "#9c179e"
             ],
             [
              0.4444444444444444,
              "#bd3786"
             ],
             [
              0.5555555555555556,
              "#d8576b"
             ],
             [
              0.6666666666666666,
              "#ed7953"
             ],
             [
              0.7777777777777778,
              "#fb9f3a"
             ],
             [
              0.8888888888888888,
              "#fdca26"
             ],
             [
              1,
              "#f0f921"
             ]
            ],
            "type": "heatmapgl"
           }
          ],
          "histogram": [
           {
            "marker": {
             "colorbar": {
              "outlinewidth": 0,
              "ticks": ""
             }
            },
            "type": "histogram"
           }
          ],
          "histogram2d": [
           {
            "colorbar": {
             "outlinewidth": 0,
             "ticks": ""
            },
            "colorscale": [
             [
              0,
              "#0d0887"
             ],
             [
              0.1111111111111111,
              "#46039f"
             ],
             [
              0.2222222222222222,
              "#7201a8"
             ],
             [
              0.3333333333333333,
              "#9c179e"
             ],
             [
              0.4444444444444444,
              "#bd3786"
             ],
             [
              0.5555555555555556,
              "#d8576b"
             ],
             [
              0.6666666666666666,
              "#ed7953"
             ],
             [
              0.7777777777777778,
              "#fb9f3a"
             ],
             [
              0.8888888888888888,
              "#fdca26"
             ],
             [
              1,
              "#f0f921"
             ]
            ],
            "type": "histogram2d"
           }
          ],
          "histogram2dcontour": [
           {
            "colorbar": {
             "outlinewidth": 0,
             "ticks": ""
            },
            "colorscale": [
             [
              0,
              "#0d0887"
             ],
             [
              0.1111111111111111,
              "#46039f"
             ],
             [
              0.2222222222222222,
              "#7201a8"
             ],
             [
              0.3333333333333333,
              "#9c179e"
             ],
             [
              0.4444444444444444,
              "#bd3786"
             ],
             [
              0.5555555555555556,
              "#d8576b"
             ],
             [
              0.6666666666666666,
              "#ed7953"
             ],
             [
              0.7777777777777778,
              "#fb9f3a"
             ],
             [
              0.8888888888888888,
              "#fdca26"
             ],
             [
              1,
              "#f0f921"
             ]
            ],
            "type": "histogram2dcontour"
           }
          ],
          "mesh3d": [
           {
            "colorbar": {
             "outlinewidth": 0,
             "ticks": ""
            },
            "type": "mesh3d"
           }
          ],
          "parcoords": [
           {
            "line": {
             "colorbar": {
              "outlinewidth": 0,
              "ticks": ""
             }
            },
            "type": "parcoords"
           }
          ],
          "pie": [
           {
            "automargin": true,
            "type": "pie"
           }
          ],
          "scatter": [
           {
            "marker": {
             "colorbar": {
              "outlinewidth": 0,
              "ticks": ""
             }
            },
            "type": "scatter"
           }
          ],
          "scatter3d": [
           {
            "line": {
             "colorbar": {
              "outlinewidth": 0,
              "ticks": ""
             }
            },
            "marker": {
             "colorbar": {
              "outlinewidth": 0,
              "ticks": ""
             }
            },
            "type": "scatter3d"
           }
          ],
          "scattercarpet": [
           {
            "marker": {
             "colorbar": {
              "outlinewidth": 0,
              "ticks": ""
             }
            },
            "type": "scattercarpet"
           }
          ],
          "scattergeo": [
           {
            "marker": {
             "colorbar": {
              "outlinewidth": 0,
              "ticks": ""
             }
            },
            "type": "scattergeo"
           }
          ],
          "scattergl": [
           {
            "marker": {
             "colorbar": {
              "outlinewidth": 0,
              "ticks": ""
             }
            },
            "type": "scattergl"
           }
          ],
          "scattermapbox": [
           {
            "marker": {
             "colorbar": {
              "outlinewidth": 0,
              "ticks": ""
             }
            },
            "type": "scattermapbox"
           }
          ],
          "scatterpolar": [
           {
            "marker": {
             "colorbar": {
              "outlinewidth": 0,
              "ticks": ""
             }
            },
            "type": "scatterpolar"
           }
          ],
          "scatterpolargl": [
           {
            "marker": {
             "colorbar": {
              "outlinewidth": 0,
              "ticks": ""
             }
            },
            "type": "scatterpolargl"
           }
          ],
          "scatterternary": [
           {
            "marker": {
             "colorbar": {
              "outlinewidth": 0,
              "ticks": ""
             }
            },
            "type": "scatterternary"
           }
          ],
          "surface": [
           {
            "colorbar": {
             "outlinewidth": 0,
             "ticks": ""
            },
            "colorscale": [
             [
              0,
              "#0d0887"
             ],
             [
              0.1111111111111111,
              "#46039f"
             ],
             [
              0.2222222222222222,
              "#7201a8"
             ],
             [
              0.3333333333333333,
              "#9c179e"
             ],
             [
              0.4444444444444444,
              "#bd3786"
             ],
             [
              0.5555555555555556,
              "#d8576b"
             ],
             [
              0.6666666666666666,
              "#ed7953"
             ],
             [
              0.7777777777777778,
              "#fb9f3a"
             ],
             [
              0.8888888888888888,
              "#fdca26"
             ],
             [
              1,
              "#f0f921"
             ]
            ],
            "type": "surface"
           }
          ],
          "table": [
           {
            "cells": {
             "fill": {
              "color": "#EBF0F8"
             },
             "line": {
              "color": "white"
             }
            },
            "header": {
             "fill": {
              "color": "#C8D4E3"
             },
             "line": {
              "color": "white"
             }
            },
            "type": "table"
           }
          ]
         },
         "layout": {
          "annotationdefaults": {
           "arrowcolor": "#2a3f5f",
           "arrowhead": 0,
           "arrowwidth": 1
          },
          "coloraxis": {
           "colorbar": {
            "outlinewidth": 0,
            "ticks": ""
           }
          },
          "colorscale": {
           "diverging": [
            [
             0,
             "#8e0152"
            ],
            [
             0.1,
             "#c51b7d"
            ],
            [
             0.2,
             "#de77ae"
            ],
            [
             0.3,
             "#f1b6da"
            ],
            [
             0.4,
             "#fde0ef"
            ],
            [
             0.5,
             "#f7f7f7"
            ],
            [
             0.6,
             "#e6f5d0"
            ],
            [
             0.7,
             "#b8e186"
            ],
            [
             0.8,
             "#7fbc41"
            ],
            [
             0.9,
             "#4d9221"
            ],
            [
             1,
             "#276419"
            ]
           ],
           "sequential": [
            [
             0,
             "#0d0887"
            ],
            [
             0.1111111111111111,
             "#46039f"
            ],
            [
             0.2222222222222222,
             "#7201a8"
            ],
            [
             0.3333333333333333,
             "#9c179e"
            ],
            [
             0.4444444444444444,
             "#bd3786"
            ],
            [
             0.5555555555555556,
             "#d8576b"
            ],
            [
             0.6666666666666666,
             "#ed7953"
            ],
            [
             0.7777777777777778,
             "#fb9f3a"
            ],
            [
             0.8888888888888888,
             "#fdca26"
            ],
            [
             1,
             "#f0f921"
            ]
           ],
           "sequentialminus": [
            [
             0,
             "#0d0887"
            ],
            [
             0.1111111111111111,
             "#46039f"
            ],
            [
             0.2222222222222222,
             "#7201a8"
            ],
            [
             0.3333333333333333,
             "#9c179e"
            ],
            [
             0.4444444444444444,
             "#bd3786"
            ],
            [
             0.5555555555555556,
             "#d8576b"
            ],
            [
             0.6666666666666666,
             "#ed7953"
            ],
            [
             0.7777777777777778,
             "#fb9f3a"
            ],
            [
             0.8888888888888888,
             "#fdca26"
            ],
            [
             1,
             "#f0f921"
            ]
           ]
          },
          "colorway": [
           "#636efa",
           "#EF553B",
           "#00cc96",
           "#ab63fa",
           "#FFA15A",
           "#19d3f3",
           "#FF6692",
           "#B6E880",
           "#FF97FF",
           "#FECB52"
          ],
          "font": {
           "color": "#2a3f5f"
          },
          "geo": {
           "bgcolor": "white",
           "lakecolor": "white",
           "landcolor": "white",
           "showlakes": true,
           "showland": true,
           "subunitcolor": "#C8D4E3"
          },
          "hoverlabel": {
           "align": "left"
          },
          "hovermode": "closest",
          "mapbox": {
           "style": "light"
          },
          "paper_bgcolor": "white",
          "plot_bgcolor": "white",
          "polar": {
           "angularaxis": {
            "gridcolor": "#EBF0F8",
            "linecolor": "#EBF0F8",
            "ticks": ""
           },
           "bgcolor": "white",
           "radialaxis": {
            "gridcolor": "#EBF0F8",
            "linecolor": "#EBF0F8",
            "ticks": ""
           }
          },
          "scene": {
           "xaxis": {
            "backgroundcolor": "white",
            "gridcolor": "#DFE8F3",
            "gridwidth": 2,
            "linecolor": "#EBF0F8",
            "showbackground": true,
            "ticks": "",
            "zerolinecolor": "#EBF0F8"
           },
           "yaxis": {
            "backgroundcolor": "white",
            "gridcolor": "#DFE8F3",
            "gridwidth": 2,
            "linecolor": "#EBF0F8",
            "showbackground": true,
            "ticks": "",
            "zerolinecolor": "#EBF0F8"
           },
           "zaxis": {
            "backgroundcolor": "white",
            "gridcolor": "#DFE8F3",
            "gridwidth": 2,
            "linecolor": "#EBF0F8",
            "showbackground": true,
            "ticks": "",
            "zerolinecolor": "#EBF0F8"
           }
          },
          "shapedefaults": {
           "line": {
            "color": "#2a3f5f"
           }
          },
          "ternary": {
           "aaxis": {
            "gridcolor": "#DFE8F3",
            "linecolor": "#A2B1C6",
            "ticks": ""
           },
           "baxis": {
            "gridcolor": "#DFE8F3",
            "linecolor": "#A2B1C6",
            "ticks": ""
           },
           "bgcolor": "white",
           "caxis": {
            "gridcolor": "#DFE8F3",
            "linecolor": "#A2B1C6",
            "ticks": ""
           }
          },
          "title": {
           "x": 0.05
          },
          "xaxis": {
           "automargin": true,
           "gridcolor": "#EBF0F8",
           "linecolor": "#EBF0F8",
           "ticks": "",
           "title": {
            "standoff": 15
           },
           "zerolinecolor": "#EBF0F8",
           "zerolinewidth": 2
          },
          "yaxis": {
           "automargin": true,
           "gridcolor": "#EBF0F8",
           "linecolor": "#EBF0F8",
           "ticks": "",
           "title": {
            "standoff": 15
           },
           "zerolinecolor": "#EBF0F8",
           "zerolinewidth": 2
          }
         }
        },
        "xaxis": {
         "autorange": true,
         "range": [
          -0.5,
          11.5
         ],
         "type": "category"
        },
        "yaxis": {
         "autorange": true,
         "range": [
          -0.313391152196315,
          0.3273993976889058
         ],
         "type": "linear"
        }
       }
      },
      "image/png": "[encoded data removed]",
      "text/html": [
       "<div>                            <div id=\"e8efb5ba-abdb-40ca-bd78-35193042dbbf\" class=\"plotly-graph-div\" style=\"height:525px; width:100%;\"></div>            <script type=\"text/javascript\">                require([\"plotly\"], function(Plotly) {                    window.PLOTLYENV=window.PLOTLYENV || {};                                    if (document.getElementById(\"e8efb5ba-abdb-40ca-bd78-35193042dbbf\")) {                    Plotly.newPlot(                        \"e8efb5ba-abdb-40ca-bd78-35193042dbbf\",                        [{\"marker\": {\"color\": \"#00539F\"}, \"name\": \"positives\", \"type\": \"bar\", \"x\": [\"Mixed\", \"Asian\", \"Black\", \"Other Ethnicites\", \"BAME\", \"Level 4 Qualification\", \"Other qualifications\", \"Students\"], \"y\": [0.2400411812841975, 0.21808421379996942, 0.19935167756546576, 0.29535987019464477, 0.281351624702054, 0.11022261359624067, 0.21963547517299092, 0.19283102967858212]}, {\"marker\": {\"color\": \"#EE1C2E\"}, \"name\": \"negatives\", \"type\": \"bar\", \"x\": [\"White\", \"Level 1 Qualification\", \"Level 2 Qualification\", \"Apprenticeship\"], \"y\": [-0.281351624702054, -0.11318640489112126, -0.09090880347874532, -0.13747645452209542]}],                        {\"template\": {\"data\": {\"bar\": [{\"error_x\": {\"color\": \"#2a3f5f\"}, \"error_y\": {\"color\": \"#2a3f5f\"}, \"marker\": {\"line\": {\"color\": \"white\", \"width\": 0.5}}, \"type\": \"bar\"}], \"barpolar\": [{\"marker\": {\"line\": {\"color\": \"white\", \"width\": 0.5}}, \"type\": \"barpolar\"}], \"carpet\": [{\"aaxis\": {\"endlinecolor\": \"#2a3f5f\", \"gridcolor\": \"#C8D4E3\", \"linecolor\": \"#C8D4E3\", \"minorgridcolor\": \"#C8D4E3\", \"startlinecolor\": \"#2a3f5f\"}, \"baxis\": {\"endlinecolor\": \"#2a3f5f\", \"gridcolor\": \"#C8D4E3\", \"linecolor\": \"#C8D4E3\", \"minorgridcolor\": \"#C8D4E3\", \"startlinecolor\": \"#2a3f5f\"}, \"type\": \"carpet\"}], \"choropleth\": [{\"colorbar\": {\"outlinewidth\": 0, \"ticks\": \"\"}, \"type\": \"choropleth\"}], \"contour\": [{\"colorbar\": {\"outlinewidth\": 0, \"ticks\": \"\"}, \"colorscale\": [[0.0, \"#0d0887\"], [0.1111111111111111, \"#46039f\"], [0.2222222222222222, \"#7201a8\"], [0.3333333333333333, \"#9c179e\"], [0.4444444444444444, \"#bd3786\"], [0.5555555555555556, \"#d8576b\"], [0.6666666666666666, \"#ed7953\"], [0.7777777777777778, \"#fb9f3a\"], [0.8888888888888888, \"#fdca26\"], [1.0, \"#f0f921\"]], \"type\": \"contour\"}], \"contourcarpet\": [{\"colorbar\": {\"outlinewidth\": 0, \"ticks\": \"\"}, \"type\": \"contourcarpet\"}], \"heatmap\": [{\"colorbar\": {\"outlinewidth\": 0, \"ticks\": \"\"}, \"colorscale\": [[0.0, \"#0d0887\"], [0.1111111111111111, \"#46039f\"], [0.2222222222222222, \"#7201a8\"], [0.3333333333333333, \"#9c179e\"], [0.4444444444444444, \"#bd3786\"], [0.5555555555555556, \"#d8576b\"], [0.6666666666666666, \"#ed7953\"], [0.7777777777777778, \"#fb9f3a\"], [0.8888888888888888, \"#fdca26\"], [1.0, \"#f0f921\"]], \"type\": \"heatmap\"}], \"heatmapgl\": [{\"colorbar\": {\"outlinewidth\": 0, \"ticks\": \"\"}, \"colorscale\": [[0.0, \"#0d0887\"], [0.1111111111111111, \"#46039f\"], [0.2222222222222222, \"#7201a8\"], [0.3333333333333333, \"#9c179e\"], [0.4444444444444444, \"#bd3786\"], [0.5555555555555556, \"#d8576b\"], [0.6666666666666666, \"#ed7953\"], [0.7777777777777778, \"#fb9f3a\"], [0.8888888888888888, \"#fdca26\"], [1.0, \"#f0f921\"]], \"type\": \"heatmapgl\"}], \"histogram\": [{\"marker\": {\"colorbar\": {\"outlinewidth\": 0, \"ticks\": \"\"}}, \"type\": \"histogram\"}], \"histogram2d\": [{\"colorbar\": {\"outlinewidth\": 0, \"ticks\": \"\"}, \"colorscale\": [[0.0, \"#0d0887\"], [0.1111111111111111, \"#46039f\"], [0.2222222222222222, \"#7201a8\"], [0.3333333333333333, \"#9c179e\"], [0.4444444444444444, \"#bd3786\"], [0.5555555555555556, \"#d8576b\"], [0.6666666666666666, \"#ed7953\"], [0.7777777777777778, \"#fb9f3a\"], [0.8888888888888888, \"#fdca26\"], [1.0, \"#f0f921\"]], \"type\": \"histogram2d\"}], \"histogram2dcontour\": [{\"colorbar\": {\"outlinewidth\": 0, \"ticks\": \"\"}, \"colorscale\": [[0.0, \"#0d0887\"], [0.1111111111111111, \"#46039f\"], [0.2222222222222222, \"#7201a8\"], [0.3333333333333333, \"#9c179e\"], [0.4444444444444444, \"#bd3786\"], [0.5555555555555556, \"#d8576b\"], [0.6666666666666666, \"#ed7953\"], [0.7777777777777778, \"#fb9f3a\"], [0.8888888888888888, \"#fdca26\"], [1.0, \"#f0f921\"]], \"type\": \"histogram2dcontour\"}], \"mesh3d\": [{\"colorbar\": {\"outlinewidth\": 0, \"ticks\": \"\"}, \"type\": \"mesh3d\"}], \"parcoords\": [{\"line\": {\"colorbar\": {\"outlinewidth\": 0, \"ticks\": \"\"}}, \"type\": \"parcoords\"}], \"pie\": [{\"automargin\": true, \"type\": \"pie\"}], \"scatter\": [{\"marker\": {\"colorbar\": {\"outlinewidth\": 0, \"ticks\": \"\"}}, \"type\": \"scatter\"}], \"scatter3d\": [{\"line\": {\"colorbar\": {\"outlinewidth\": 0, \"ticks\": \"\"}}, \"marker\": {\"colorbar\": {\"outlinewidth\": 0, \"ticks\": \"\"}}, \"type\": \"scatter3d\"}], \"scattercarpet\": [{\"marker\": {\"colorbar\": {\"outlinewidth\": 0, \"ticks\": \"\"}}, \"type\": \"scattercarpet\"}], \"scattergeo\": [{\"marker\": {\"colorbar\": {\"outlinewidth\": 0, \"ticks\": \"\"}}, \"type\": \"scattergeo\"}], \"scattergl\": [{\"marker\": {\"colorbar\": {\"outlinewidth\": 0, \"ticks\": \"\"}}, \"type\": \"scattergl\"}], \"scattermapbox\": [{\"marker\": {\"colorbar\": {\"outlinewidth\": 0, \"ticks\": \"\"}}, \"type\": \"scattermapbox\"}], \"scatterpolar\": [{\"marker\": {\"colorbar\": {\"outlinewidth\": 0, \"ticks\": \"\"}}, \"type\": \"scatterpolar\"}], \"scatterpolargl\": [{\"marker\": {\"colorbar\": {\"outlinewidth\": 0, \"ticks\": \"\"}}, \"type\": \"scatterpolargl\"}], \"scatterternary\": [{\"marker\": {\"colorbar\": {\"outlinewidth\": 0, \"ticks\": \"\"}}, \"type\": \"scatterternary\"}], \"surface\": [{\"colorbar\": {\"outlinewidth\": 0, \"ticks\": \"\"}, \"colorscale\": [[0.0, \"#0d0887\"], [0.1111111111111111, \"#46039f\"], [0.2222222222222222, \"#7201a8\"], [0.3333333333333333, \"#9c179e\"], [0.4444444444444444, \"#bd3786\"], [0.5555555555555556, \"#d8576b\"], [0.6666666666666666, \"#ed7953\"], [0.7777777777777778, \"#fb9f3a\"], [0.8888888888888888, \"#fdca26\"], [1.0, \"#f0f921\"]], \"type\": \"surface\"}], \"table\": [{\"cells\": {\"fill\": {\"color\": \"#EBF0F8\"}, \"line\": {\"color\": \"white\"}}, \"header\": {\"fill\": {\"color\": \"#C8D4E3\"}, \"line\": {\"color\": \"white\"}}, \"type\": \"table\"}]}, \"layout\": {\"annotationdefaults\": {\"arrowcolor\": \"#2a3f5f\", \"arrowhead\": 0, \"arrowwidth\": 1}, \"coloraxis\": {\"colorbar\": {\"outlinewidth\": 0, \"ticks\": \"\"}}, \"colorscale\": {\"diverging\": [[0, \"#8e0152\"], [0.1, \"#c51b7d\"], [0.2, \"#de77ae\"], [0.3, \"#f1b6da\"], [0.4, \"#fde0ef\"], [0.5, \"#f7f7f7\"], [0.6, \"#e6f5d0\"], [0.7, \"#b8e186\"], [0.8, \"#7fbc41\"], [0.9, \"#4d9221\"], [1, \"#276419\"]], \"sequential\": [[0.0, \"#0d0887\"], [0.1111111111111111, \"#46039f\"], [0.2222222222222222, \"#7201a8\"], [0.3333333333333333, \"#9c179e\"], [0.4444444444444444, \"#bd3786\"], [0.5555555555555556, \"#d8576b\"], [0.6666666666666666, \"#ed7953\"], [0.7777777777777778, \"#fb9f3a\"], [0.8888888888888888, \"#fdca26\"], [1.0, \"#f0f921\"]], \"sequentialminus\": [[0.0, \"#0d0887\"], [0.1111111111111111, \"#46039f\"], [0.2222222222222222, \"#7201a8\"], [0.3333333333333333, \"#9c179e\"], [0.4444444444444444, \"#bd3786\"], [0.5555555555555556, \"#d8576b\"], [0.6666666666666666, \"#ed7953\"], [0.7777777777777778, \"#fb9f3a\"], [0.8888888888888888, \"#fdca26\"], [1.0, \"#f0f921\"]]}, \"colorway\": [\"#636efa\", \"#EF553B\", \"#00cc96\", \"#ab63fa\", \"#FFA15A\", \"#19d3f3\", \"#FF6692\", \"#B6E880\", \"#FF97FF\", \"#FECB52\"], \"font\": {\"color\": \"#2a3f5f\"}, \"geo\": {\"bgcolor\": \"white\", \"lakecolor\": \"white\", \"landcolor\": \"white\", \"showlakes\": true, \"showland\": true, \"subunitcolor\": \"#C8D4E3\"}, \"hoverlabel\": {\"align\": \"left\"}, \"hovermode\": \"closest\", \"mapbox\": {\"style\": \"light\"}, \"paper_bgcolor\": \"white\", \"plot_bgcolor\": \"white\", \"polar\": {\"angularaxis\": {\"gridcolor\": \"#EBF0F8\", \"linecolor\": \"#EBF0F8\", \"ticks\": \"\"}, \"bgcolor\": \"white\", \"radialaxis\": {\"gridcolor\": \"#EBF0F8\", \"linecolor\": \"#EBF0F8\", \"ticks\": \"\"}}, \"scene\": {\"xaxis\": {\"backgroundcolor\": \"white\", \"gridcolor\": \"#DFE8F3\", \"gridwidth\": 2, \"linecolor\": \"#EBF0F8\", \"showbackground\": true, \"ticks\": \"\", \"zerolinecolor\": \"#EBF0F8\"}, \"yaxis\": {\"backgroundcolor\": \"white\", \"gridcolor\": \"#DFE8F3\", \"gridwidth\": 2, \"linecolor\": \"#EBF0F8\", \"showbackground\": true, \"ticks\": \"\", \"zerolinecolor\": \"#EBF0F8\"}, \"zaxis\": {\"backgroundcolor\": \"white\", \"gridcolor\": \"#DFE8F3\", \"gridwidth\": 2, \"linecolor\": \"#EBF0F8\", \"showbackground\": true, \"ticks\": \"\", \"zerolinecolor\": \"#EBF0F8\"}}, \"shapedefaults\": {\"line\": {\"color\": \"#2a3f5f\"}}, \"ternary\": {\"aaxis\": {\"gridcolor\": \"#DFE8F3\", \"linecolor\": \"#A2B1C6\", \"ticks\": \"\"}, \"baxis\": {\"gridcolor\": \"#DFE8F3\", \"linecolor\": \"#A2B1C6\", \"ticks\": \"\"}, \"bgcolor\": \"white\", \"caxis\": {\"gridcolor\": \"#DFE8F3\", \"linecolor\": \"#A2B1C6\", \"ticks\": \"\"}}, \"title\": {\"x\": 0.05}, \"xaxis\": {\"automargin\": true, \"gridcolor\": \"#EBF0F8\", \"linecolor\": \"#EBF0F8\", \"ticks\": \"\", \"title\": {\"standoff\": 15}, \"zerolinecolor\": \"#EBF0F8\", \"zerolinewidth\": 2}, \"yaxis\": {\"automargin\": true, \"gridcolor\": \"#EBF0F8\", \"linecolor\": \"#EBF0F8\", \"ticks\": \"\", \"title\": {\"standoff\": 15}, \"zerolinecolor\": \"#EBF0F8\", \"zerolinewidth\": 2}}}},                        {\"responsive\": true}                    ).then(function(){\n",
       "                            \n",
       "var gd = document.getElementById('e8efb5ba-abdb-40ca-bd78-35193042dbbf');\n",
       "var x = new MutationObserver(function (mutations, observer) {{\n",
       "        var display = window.getComputedStyle(gd).display;\n",
       "        if (!display || display === 'none') {{\n",
       "            console.log([gd, 'removed!']);\n",
       "            Plotly.purge(gd);\n",
       "            observer.disconnect();\n",
       "        }}\n",
       "}});\n",
       "\n",
       "// Listen for the removal of the full notebook cells\n",
       "var notebookContainer = gd.closest('#notebook-container');\n",
       "if (notebookContainer) {{\n",
       "    x.observe(notebookContainer, {childList: true});\n",
       "}}\n",
       "\n",
       "// Listen for the clearing of the current output cell\n",
       "var outputEl = gd.closest('.output');\n",
       "if (outputEl) {{\n",
       "    x.observe(outputEl, {childList: true});\n",
       "}}\n",
       "\n",
       "                        })                };                });            </script>        </div>"
      ]
     },
     "metadata": {},
     "output_type": "display_data"
    }
   ],
   "source": [
    "correl = [(group, stats.spearmanr(a = msoa_combined_year[\"representativeness_norm\"], b = msoa_combined_year[group]).correlation) for group in ([\"annual_median_income_2011\"] + ethnicities + education) if stats.spearmanr(a = msoa_combined_year[\"representativeness_norm\"], b = msoa_combined_year[group]).pvalue < 0.05]\n",
    "\n",
    "fig = go.Figure()\n",
    "fig.add_trace(go.Bar(x=[label_processor(c[0]) for c in correl if c[1] >= 0], y=[c[1] for c in correl if c[1] >= 0],\n",
    "                    marker_color= color_tesco_blue,\n",
    "                    name='positives'))\n",
    "\n",
    "fig.add_trace(go.Bar(x=[label_processor(c[0]) for c in correl if c[1] < 0], y=[c[1] for c in correl if c[1] < 0],\n",
    "                    marker_color= color_tesco_red,\n",
    "                    name='negatives'))\n",
    "\n",
    "fig.update_layout(template = \"plotly_white\")\n",
    "fig.show()\n",
    "fig.write_html(\"../fierceeagle.github.io/_includes/Correlation_Representativness_Norm_White.html\")"
   ]
  },
  {
   "cell_type": "code",
   "execution_count": 292,
   "metadata": {},
   "outputs": [
    {
     "name": "stdout",
     "output_type": "stream",
     "text": [
      "Writing HTML to Repo...\n",
      "Ave Imperator, morituri te salutant\n",
      "Adding new Files ...\n",
      "Commiting Changes ...\n",
      "Pulling previous Changes ... \n",
      "Pushing to Remote...\n",
      "Finished\n"
     ]
    },
    {
     "data": {
      "application/vnd.plotly.v1+json": {
       "config": {
        "plotlyServerURL": "https://plot.ly"
       },
       "data": [
        {
         "marker": {
          "color": "#00539F"
         },
         "name": "positives",
         "type": "bar",
         "x": [
          "Protein",
          "Fibre",
          "Alcohol"
         ],
         "xaxis": "x",
         "y": [
          0.4866079861158835,
          0.5915300937467071,
          0.40363935754833263
         ],
         "yaxis": "y"
        },
        {
         "marker": {
          "color": "#EE1C2E"
         },
         "name": "negatives",
         "type": "bar",
         "x": [
          "Fat",
          "Saturate",
          "Sugar",
          "Carb"
         ],
         "xaxis": "x",
         "y": [
          -0.10671141126393686,
          -0.11532420835519547,
          -0.1282491537877618,
          -0.23738286382045912
         ],
         "yaxis": "y"
        },
        {
         "marker": {
          "color": "#00539F"
         },
         "name": "positives",
         "type": "bar",
         "x": [
          "Protein",
          "Alcohol"
         ],
         "xaxis": "x2",
         "y": [
          0.1917347401389913,
          0.19471341527376215
         ],
         "yaxis": "y2"
        },
        {
         "marker": {
          "color": "#EE1C2E"
         },
         "name": "negatives",
         "type": "bar",
         "x": [
          "Fat",
          "Saturate",
          "Sugar",
          "Carb",
          "Fibre"
         ],
         "xaxis": "x2",
         "y": [
          -0.26727244295650326,
          -0.27696312680636165,
          -0.41211230640852886,
          -0.33351452705704776,
          -0.29329088072894616
         ],
         "yaxis": "y2"
        },
        {
         "marker": {
          "color": "#00539F"
         },
         "name": "positives",
         "type": "bar",
         "x": [
          "Fat",
          "Saturate",
          "Sugar",
          "Carb"
         ],
         "xaxis": "x3",
         "y": [
          0.19550752557490872,
          0.32791488162385674,
          0.1885338817193798,
          0.16396016262024063
         ],
         "yaxis": "y3"
        },
        {
         "marker": {
          "color": "#EE1C2E"
         },
         "name": "negatives",
         "type": "bar",
         "x": [
          "Protein",
          "Fibre",
          "Alcohol"
         ],
         "xaxis": "x3",
         "y": [
          -0.5369618722653108,
          -0.2474185524900261,
          -0.34439449492837565
         ],
         "yaxis": "y3"
        },
        {
         "marker": {
          "color": "#00539F"
         },
         "name": "positives",
         "type": "bar",
         "x": [
          "Carb"
         ],
         "xaxis": "x4",
         "y": [
          0.12590199694258958
         ],
         "yaxis": "y4"
        },
        {
         "marker": {
          "color": "#EE1C2E"
         },
         "name": "negatives",
         "type": "bar",
         "x": [
          "Saturate",
          "Protein",
          "Fibre",
          "Alcohol"
         ],
         "xaxis": "x4",
         "y": [
          -0.1702599296504556,
          -0.11309776885629187,
          -0.643398964485708,
          -0.1667315448822326
         ],
         "yaxis": "y4"
        },
        {
         "marker": {
          "color": "#00539F"
         },
         "name": "positives",
         "type": "bar",
         "x": [],
         "xaxis": "x5",
         "y": [],
         "yaxis": "y5"
        },
        {
         "marker": {
          "color": "#EE1C2E"
         },
         "name": "negatives",
         "type": "bar",
         "x": [
          "Fat",
          "Sugar",
          "Protein",
          "Carb",
          "Fibre",
          "Alcohol"
         ],
         "xaxis": "x5",
         "y": [
          -0.15340136212886663,
          -0.3396483953129123,
          -0.0965569258838541,
          -0.3010494027801319,
          -0.19261121117388869,
          -0.12024450343903482
         ],
         "yaxis": "y5"
        },
        {
         "marker": {
          "color": "#00539F"
         },
         "name": "positives",
         "type": "bar",
         "x": [
          "Fat",
          "Saturate",
          "Sugar",
          "Carb"
         ],
         "xaxis": "x6",
         "y": [
          0.10671141126393686,
          0.11532420835519547,
          0.1282491537877618,
          0.23738286382045912
         ],
         "yaxis": "y6"
        },
        {
         "marker": {
          "color": "#EE1C2E"
         },
         "name": "negatives",
         "type": "bar",
         "x": [
          "Protein",
          "Fibre",
          "Alcohol"
         ],
         "xaxis": "x6",
         "y": [
          -0.4866079861158835,
          -0.5915300937467071,
          -0.40363935754833263
         ],
         "yaxis": "y6"
        }
       ],
       "layout": {
        "annotations": [
         {
          "font": {
           "size": 16
          },
          "showarrow": false,
          "text": "White",
          "x": 0.225,
          "xanchor": "center",
          "xref": "paper",
          "y": 1,
          "yanchor": "bottom",
          "yref": "paper"
         },
         {
          "font": {
           "size": 16
          },
          "showarrow": false,
          "text": "Mixed",
          "x": 0.775,
          "xanchor": "center",
          "xref": "paper",
          "y": 1,
          "yanchor": "bottom",
          "yref": "paper"
         },
         {
          "font": {
           "size": 16
          },
          "showarrow": false,
          "text": "Asian",
          "x": 0.225,
          "xanchor": "center",
          "xref": "paper",
          "y": 0.6111111111111112,
          "yanchor": "bottom",
          "yref": "paper"
         },
         {
          "font": {
           "size": 16
          },
          "showarrow": false,
          "text": "Black",
          "x": 0.775,
          "xanchor": "center",
          "xref": "paper",
          "y": 0.6111111111111112,
          "yanchor": "bottom",
          "yref": "paper"
         },
         {
          "font": {
           "size": 16
          },
          "showarrow": false,
          "text": "Other Ethnicites",
          "x": 0.225,
          "xanchor": "center",
          "xref": "paper",
          "y": 0.22222222222222224,
          "yanchor": "bottom",
          "yref": "paper"
         },
         {
          "font": {
           "size": 16
          },
          "showarrow": false,
          "text": "BAME",
          "x": 0.775,
          "xanchor": "center",
          "xref": "paper",
          "y": 0.22222222222222224,
          "yanchor": "bottom",
          "yref": "paper"
         }
        ],
        "autosize": true,
        "showlegend": false,
        "template": {
         "data": {
          "bar": [
           {
            "error_x": {
             "color": "#2a3f5f"
            },
            "error_y": {
             "color": "#2a3f5f"
            },
            "marker": {
             "line": {
              "color": "#E5ECF6",
              "width": 0.5
             }
            },
            "type": "bar"
           }
          ],
          "barpolar": [
           {
            "marker": {
             "line": {
              "color": "#E5ECF6",
              "width": 0.5
             }
            },
            "type": "barpolar"
           }
          ],
          "carpet": [
           {
            "aaxis": {
             "endlinecolor": "#2a3f5f",
             "gridcolor": "white",
             "linecolor": "white",
             "minorgridcolor": "white",
             "startlinecolor": "#2a3f5f"
            },
            "baxis": {
             "endlinecolor": "#2a3f5f",
             "gridcolor": "white",
             "linecolor": "white",
             "minorgridcolor": "white",
             "startlinecolor": "#2a3f5f"
            },
            "type": "carpet"
           }
          ],
          "choropleth": [
           {
            "colorbar": {
             "outlinewidth": 0,
             "ticks": ""
            },
            "type": "choropleth"
           }
          ],
          "contour": [
           {
            "colorbar": {
             "outlinewidth": 0,
             "ticks": ""
            },
            "colorscale": [
             [
              0,
              "#0d0887"
             ],
             [
              0.1111111111111111,
              "#46039f"
             ],
             [
              0.2222222222222222,
              "#7201a8"
             ],
             [
              0.3333333333333333,
              "#9c179e"
             ],
             [
              0.4444444444444444,
              "#bd3786"
             ],
             [
              0.5555555555555556,
              "#d8576b"
             ],
             [
              0.6666666666666666,
              "#ed7953"
             ],
             [
              0.7777777777777778,
              "#fb9f3a"
             ],
             [
              0.8888888888888888,
              "#fdca26"
             ],
             [
              1,
              "#f0f921"
             ]
            ],
            "type": "contour"
           }
          ],
          "contourcarpet": [
           {
            "colorbar": {
             "outlinewidth": 0,
             "ticks": ""
            },
            "type": "contourcarpet"
           }
          ],
          "heatmap": [
           {
            "colorbar": {
             "outlinewidth": 0,
             "ticks": ""
            },
            "colorscale": [
             [
              0,
              "#0d0887"
             ],
             [
              0.1111111111111111,
              "#46039f"
             ],
             [
              0.2222222222222222,
              "#7201a8"
             ],
             [
              0.3333333333333333,
              "#9c179e"
             ],
             [
              0.4444444444444444,
              "#bd3786"
             ],
             [
              0.5555555555555556,
              "#d8576b"
             ],
             [
              0.6666666666666666,
              "#ed7953"
             ],
             [
              0.7777777777777778,
              "#fb9f3a"
             ],
             [
              0.8888888888888888,
              "#fdca26"
             ],
             [
              1,
              "#f0f921"
             ]
            ],
            "type": "heatmap"
           }
          ],
          "heatmapgl": [
           {
            "colorbar": {
             "outlinewidth": 0,
             "ticks": ""
            },
            "colorscale": [
             [
              0,
              "#0d0887"
             ],
             [
              0.1111111111111111,
              "#46039f"
             ],
             [
              0.2222222222222222,
              "#7201a8"
             ],
             [
              0.3333333333333333,
              "#9c179e"
             ],
             [
              0.4444444444444444,
              "#bd3786"
             ],
             [
              0.5555555555555556,
              "#d8576b"
             ],
             [
              0.6666666666666666,
              "#ed7953"
             ],
             [
              0.7777777777777778,
              "#fb9f3a"
             ],
             [
              0.8888888888888888,
              "#fdca26"
             ],
             [
              1,
              "#f0f921"
             ]
            ],
            "type": "heatmapgl"
           }
          ],
          "histogram": [
           {
            "marker": {
             "colorbar": {
              "outlinewidth": 0,
              "ticks": ""
             }
            },
            "type": "histogram"
           }
          ],
          "histogram2d": [
           {
            "colorbar": {
             "outlinewidth": 0,
             "ticks": ""
            },
            "colorscale": [
             [
              0,
              "#0d0887"
             ],
             [
              0.1111111111111111,
              "#46039f"
             ],
             [
              0.2222222222222222,
              "#7201a8"
             ],
             [
              0.3333333333333333,
              "#9c179e"
             ],
             [
              0.4444444444444444,
              "#bd3786"
             ],
             [
              0.5555555555555556,
              "#d8576b"
             ],
             [
              0.6666666666666666,
              "#ed7953"
             ],
             [
              0.7777777777777778,
              "#fb9f3a"
             ],
             [
              0.8888888888888888,
              "#fdca26"
             ],
             [
              1,
              "#f0f921"
             ]
            ],
            "type": "histogram2d"
           }
          ],
          "histogram2dcontour": [
           {
            "colorbar": {
             "outlinewidth": 0,
             "ticks": ""
            },
            "colorscale": [
             [
              0,
              "#0d0887"
             ],
             [
              0.1111111111111111,
              "#46039f"
             ],
             [
              0.2222222222222222,
              "#7201a8"
             ],
             [
              0.3333333333333333,
              "#9c179e"
             ],
             [
              0.4444444444444444,
              "#bd3786"
             ],
             [
              0.5555555555555556,
              "#d8576b"
             ],
             [
              0.6666666666666666,
              "#ed7953"
             ],
             [
              0.7777777777777778,
              "#fb9f3a"
             ],
             [
              0.8888888888888888,
              "#fdca26"
             ],
             [
              1,
              "#f0f921"
             ]
            ],
            "type": "histogram2dcontour"
           }
          ],
          "mesh3d": [
           {
            "colorbar": {
             "outlinewidth": 0,
             "ticks": ""
            },
            "type": "mesh3d"
           }
          ],
          "parcoords": [
           {
            "line": {
             "colorbar": {
              "outlinewidth": 0,
              "ticks": ""
             }
            },
            "type": "parcoords"
           }
          ],
          "pie": [
           {
            "automargin": true,
            "type": "pie"
           }
          ],
          "scatter": [
           {
            "marker": {
             "colorbar": {
              "outlinewidth": 0,
              "ticks": ""
             }
            },
            "type": "scatter"
           }
          ],
          "scatter3d": [
           {
            "line": {
             "colorbar": {
              "outlinewidth": 0,
              "ticks": ""
             }
            },
            "marker": {
             "colorbar": {
              "outlinewidth": 0,
              "ticks": ""
             }
            },
            "type": "scatter3d"
           }
          ],
          "scattercarpet": [
           {
            "marker": {
             "colorbar": {
              "outlinewidth": 0,
              "ticks": ""
             }
            },
            "type": "scattercarpet"
           }
          ],
          "scattergeo": [
           {
            "marker": {
             "colorbar": {
              "outlinewidth": 0,
              "ticks": ""
             }
            },
            "type": "scattergeo"
           }
          ],
          "scattergl": [
           {
            "marker": {
             "colorbar": {
              "outlinewidth": 0,
              "ticks": ""
             }
            },
            "type": "scattergl"
           }
          ],
          "scattermapbox": [
           {
            "marker": {
             "colorbar": {
              "outlinewidth": 0,
              "ticks": ""
             }
            },
            "type": "scattermapbox"
           }
          ],
          "scatterpolar": [
           {
            "marker": {
             "colorbar": {
              "outlinewidth": 0,
              "ticks": ""
             }
            },
            "type": "scatterpolar"
           }
          ],
          "scatterpolargl": [
           {
            "marker": {
             "colorbar": {
              "outlinewidth": 0,
              "ticks": ""
             }
            },
            "type": "scatterpolargl"
           }
          ],
          "scatterternary": [
           {
            "marker": {
             "colorbar": {
              "outlinewidth": 0,
              "ticks": ""
             }
            },
            "type": "scatterternary"
           }
          ],
          "surface": [
           {
            "colorbar": {
             "outlinewidth": 0,
             "ticks": ""
            },
            "colorscale": [
             [
              0,
              "#0d0887"
             ],
             [
              0.1111111111111111,
              "#46039f"
             ],
             [
              0.2222222222222222,
              "#7201a8"
             ],
             [
              0.3333333333333333,
              "#9c179e"
             ],
             [
              0.4444444444444444,
              "#bd3786"
             ],
             [
              0.5555555555555556,
              "#d8576b"
             ],
             [
              0.6666666666666666,
              "#ed7953"
             ],
             [
              0.7777777777777778,
              "#fb9f3a"
             ],
             [
              0.8888888888888888,
              "#fdca26"
             ],
             [
              1,
              "#f0f921"
             ]
            ],
            "type": "surface"
           }
          ],
          "table": [
           {
            "cells": {
             "fill": {
              "color": "#EBF0F8"
             },
             "line": {
              "color": "white"
             }
            },
            "header": {
             "fill": {
              "color": "#C8D4E3"
             },
             "line": {
              "color": "white"
             }
            },
            "type": "table"
           }
          ]
         },
         "layout": {
          "annotationdefaults": {
           "arrowcolor": "#2a3f5f",
           "arrowhead": 0,
           "arrowwidth": 1
          },
          "coloraxis": {
           "colorbar": {
            "outlinewidth": 0,
            "ticks": ""
           }
          },
          "colorscale": {
           "diverging": [
            [
             0,
             "#8e0152"
            ],
            [
             0.1,
             "#c51b7d"
            ],
            [
             0.2,
             "#de77ae"
            ],
            [
             0.3,
             "#f1b6da"
            ],
            [
             0.4,
             "#fde0ef"
            ],
            [
             0.5,
             "#f7f7f7"
            ],
            [
             0.6,
             "#e6f5d0"
            ],
            [
             0.7,
             "#b8e186"
            ],
            [
             0.8,
             "#7fbc41"
            ],
            [
             0.9,
             "#4d9221"
            ],
            [
             1,
             "#276419"
            ]
           ],
           "sequential": [
            [
             0,
             "#0d0887"
            ],
            [
             0.1111111111111111,
             "#46039f"
            ],
            [
             0.2222222222222222,
             "#7201a8"
            ],
            [
             0.3333333333333333,
             "#9c179e"
            ],
            [
             0.4444444444444444,
             "#bd3786"
            ],
            [
             0.5555555555555556,
             "#d8576b"
            ],
            [
             0.6666666666666666,
             "#ed7953"
            ],
            [
             0.7777777777777778,
             "#fb9f3a"
            ],
            [
             0.8888888888888888,
             "#fdca26"
            ],
            [
             1,
             "#f0f921"
            ]
           ],
           "sequentialminus": [
            [
             0,
             "#0d0887"
            ],
            [
             0.1111111111111111,
             "#46039f"
            ],
            [
             0.2222222222222222,
             "#7201a8"
            ],
            [
             0.3333333333333333,
             "#9c179e"
            ],
            [
             0.4444444444444444,
             "#bd3786"
            ],
            [
             0.5555555555555556,
             "#d8576b"
            ],
            [
             0.6666666666666666,
             "#ed7953"
            ],
            [
             0.7777777777777778,
             "#fb9f3a"
            ],
            [
             0.8888888888888888,
             "#fdca26"
            ],
            [
             1,
             "#f0f921"
            ]
           ]
          },
          "colorway": [
           "#636efa",
           "#EF553B",
           "#00cc96",
           "#ab63fa",
           "#FFA15A",
           "#19d3f3",
           "#FF6692",
           "#B6E880",
           "#FF97FF",
           "#FECB52"
          ],
          "font": {
           "color": "#2a3f5f"
          },
          "geo": {
           "bgcolor": "white",
           "lakecolor": "white",
           "landcolor": "#E5ECF6",
           "showlakes": true,
           "showland": true,
           "subunitcolor": "white"
          },
          "hoverlabel": {
           "align": "left"
          },
          "hovermode": "closest",
          "mapbox": {
           "style": "light"
          },
          "paper_bgcolor": "white",
          "plot_bgcolor": "#E5ECF6",
          "polar": {
           "angularaxis": {
            "gridcolor": "white",
            "linecolor": "white",
            "ticks": ""
           },
           "bgcolor": "#E5ECF6",
           "radialaxis": {
            "gridcolor": "white",
            "linecolor": "white",
            "ticks": ""
           }
          },
          "scene": {
           "xaxis": {
            "backgroundcolor": "#E5ECF6",
            "gridcolor": "white",
            "gridwidth": 2,
            "linecolor": "white",
            "showbackground": true,
            "ticks": "",
            "zerolinecolor": "white"
           },
           "yaxis": {
            "backgroundcolor": "#E5ECF6",
            "gridcolor": "white",
            "gridwidth": 2,
            "linecolor": "white",
            "showbackground": true,
            "ticks": "",
            "zerolinecolor": "white"
           },
           "zaxis": {
            "backgroundcolor": "#E5ECF6",
            "gridcolor": "white",
            "gridwidth": 2,
            "linecolor": "white",
            "showbackground": true,
            "ticks": "",
            "zerolinecolor": "white"
           }
          },
          "shapedefaults": {
           "line": {
            "color": "#2a3f5f"
           }
          },
          "ternary": {
           "aaxis": {
            "gridcolor": "white",
            "linecolor": "white",
            "ticks": ""
           },
           "baxis": {
            "gridcolor": "white",
            "linecolor": "white",
            "ticks": ""
           },
           "bgcolor": "#E5ECF6",
           "caxis": {
            "gridcolor": "white",
            "linecolor": "white",
            "ticks": ""
           }
          },
          "title": {
           "x": 0.05
          },
          "xaxis": {
           "automargin": true,
           "gridcolor": "white",
           "linecolor": "white",
           "ticks": "",
           "title": {
            "standoff": 15
           },
           "zerolinecolor": "white",
           "zerolinewidth": 2
          },
          "yaxis": {
           "automargin": true,
           "gridcolor": "white",
           "linecolor": "white",
           "ticks": "",
           "title": {
            "standoff": 15
           },
           "zerolinecolor": "white",
           "zerolinewidth": 2
          }
         }
        },
        "xaxis": {
         "anchor": "y",
         "autorange": true,
         "domain": [
          0,
          0.45
         ],
         "range": [
          -0.5,
          6.5
         ],
         "type": "category"
        },
        "xaxis2": {
         "anchor": "y2",
         "autorange": true,
         "domain": [
          0.55,
          1
         ],
         "range": [
          -0.5,
          6.5
         ],
         "type": "category"
        },
        "xaxis3": {
         "anchor": "y3",
         "autorange": true,
         "domain": [
          0,
          0.45
         ],
         "range": [
          -0.5,
          6.5
         ],
         "type": "category"
        },
        "xaxis4": {
         "anchor": "y4",
         "autorange": true,
         "domain": [
          0.55,
          1
         ],
         "range": [
          -0.5,
          4.5
         ],
         "type": "category"
        },
        "xaxis5": {
         "anchor": "y5",
         "autorange": true,
         "domain": [
          0,
          0.45
         ],
         "range": [
          -0.5,
          5.5
         ],
         "type": "category"
        },
        "xaxis6": {
         "anchor": "y6",
         "autorange": true,
         "domain": [
          0.55,
          1
         ],
         "range": [
          -0.5,
          6.5
         ],
         "type": "category"
        },
        "yaxis": {
         "anchor": "x",
         "autorange": true,
         "domain": [
          0.7777777777777778,
          1
         ],
         "range": [
          -0.2834335836853017,
          0.6375808136115496
         ],
         "type": "linear"
        },
        "yaxis2": {
         "anchor": "x2",
         "autorange": true,
         "domain": [
          0.7777777777777778,
          1
         ],
         "range": [
          -0.4458248465019895,
          0.22842595536722277
         ],
         "type": "linear"
        },
        "yaxis3": {
         "anchor": "x3",
         "autorange": true,
         "domain": [
          0.3888888888888889,
          0.6111111111111112
         ],
         "range": [
          -0.585010580814709,
          0.3759635901732549
         ],
         "type": "linear"
        },
        "yaxis4": {
         "anchor": "x4",
         "autorange": true,
         "domain": [
          0.3888888888888889,
          0.6111111111111112
         ],
         "range": [
          -0.68613790678728,
          0.16864093924416168
         ],
         "type": "linear"
        },
        "yaxis5": {
         "anchor": "x5",
         "autorange": true,
         "domain": [
          0,
          0.22222222222222224
         ],
         "range": [
          -0.3575246266451708,
          0
         ],
         "type": "linear"
        },
        "yaxis6": {
         "anchor": "x6",
         "autorange": true,
         "domain": [
          0,
          0.22222222222222224
         ],
         "range": [
          -0.6375808136115496,
          0.2834335836853017
         ],
         "type": "linear"
        }
       }
      },
      "image/png": "[encoded data removed]",
      "text/html": [
       "<div>                            <div id=\"34aa7277-cd26-4829-a953-a349a374f09c\" class=\"plotly-graph-div\" style=\"height:525px; width:100%;\"></div>            <script type=\"text/javascript\">                require([\"plotly\"], function(Plotly) {                    window.PLOTLYENV=window.PLOTLYENV || {};                                    if (document.getElementById(\"34aa7277-cd26-4829-a953-a349a374f09c\")) {                    Plotly.newPlot(                        \"34aa7277-cd26-4829-a953-a349a374f09c\",                        [{\"marker\": {\"color\": \"#00539F\"}, \"name\": \"positives\", \"type\": \"bar\", \"x\": [\"Protein\", \"Fibre\", \"Alcohol\"], \"xaxis\": \"x\", \"y\": [0.4866079861158835, 0.5915300937467071, 0.40363935754833263], \"yaxis\": \"y\"}, {\"marker\": {\"color\": \"#EE1C2E\"}, \"name\": \"negatives\", \"type\": \"bar\", \"x\": [\"Fat\", \"Saturate\", \"Sugar\", \"Carb\"], \"xaxis\": \"x\", \"y\": [-0.10671141126393686, -0.11532420835519547, -0.1282491537877618, -0.23738286382045912], \"yaxis\": \"y\"}, {\"marker\": {\"color\": \"#00539F\"}, \"name\": \"positives\", \"type\": \"bar\", \"x\": [\"Protein\", \"Alcohol\"], \"xaxis\": \"x2\", \"y\": [0.1917347401389913, 0.19471341527376215], \"yaxis\": \"y2\"}, {\"marker\": {\"color\": \"#EE1C2E\"}, \"name\": \"negatives\", \"type\": \"bar\", \"x\": [\"Fat\", \"Saturate\", \"Sugar\", \"Carb\", \"Fibre\"], \"xaxis\": \"x2\", \"y\": [-0.26727244295650326, -0.27696312680636165, -0.41211230640852886, -0.33351452705704776, -0.29329088072894616], \"yaxis\": \"y2\"}, {\"marker\": {\"color\": \"#00539F\"}, \"name\": \"positives\", \"type\": \"bar\", \"x\": [\"Fat\", \"Saturate\", \"Sugar\", \"Carb\"], \"xaxis\": \"x3\", \"y\": [0.19550752557490872, 0.32791488162385674, 0.1885338817193798, 0.16396016262024063], \"yaxis\": \"y3\"}, {\"marker\": {\"color\": \"#EE1C2E\"}, \"name\": \"negatives\", \"type\": \"bar\", \"x\": [\"Protein\", \"Fibre\", \"Alcohol\"], \"xaxis\": \"x3\", \"y\": [-0.5369618722653108, -0.2474185524900261, -0.34439449492837565], \"yaxis\": \"y3\"}, {\"marker\": {\"color\": \"#00539F\"}, \"name\": \"positives\", \"type\": \"bar\", \"x\": [\"Carb\"], \"xaxis\": \"x4\", \"y\": [0.12590199694258958], \"yaxis\": \"y4\"}, {\"marker\": {\"color\": \"#EE1C2E\"}, \"name\": \"negatives\", \"type\": \"bar\", \"x\": [\"Saturate\", \"Protein\", \"Fibre\", \"Alcohol\"], \"xaxis\": \"x4\", \"y\": [-0.1702599296504556, -0.11309776885629187, -0.643398964485708, -0.1667315448822326], \"yaxis\": \"y4\"}, {\"marker\": {\"color\": \"#00539F\"}, \"name\": \"positives\", \"type\": \"bar\", \"x\": [], \"xaxis\": \"x5\", \"y\": [], \"yaxis\": \"y5\"}, {\"marker\": {\"color\": \"#EE1C2E\"}, \"name\": \"negatives\", \"type\": \"bar\", \"x\": [\"Fat\", \"Sugar\", \"Protein\", \"Carb\", \"Fibre\", \"Alcohol\"], \"xaxis\": \"x5\", \"y\": [-0.15340136212886663, -0.3396483953129123, -0.0965569258838541, -0.3010494027801319, -0.19261121117388869, -0.12024450343903482], \"yaxis\": \"y5\"}, {\"marker\": {\"color\": \"#00539F\"}, \"name\": \"positives\", \"type\": \"bar\", \"x\": [\"Fat\", \"Saturate\", \"Sugar\", \"Carb\"], \"xaxis\": \"x6\", \"y\": [0.10671141126393686, 0.11532420835519547, 0.1282491537877618, 0.23738286382045912], \"yaxis\": \"y6\"}, {\"marker\": {\"color\": \"#EE1C2E\"}, \"name\": \"negatives\", \"type\": \"bar\", \"x\": [\"Protein\", \"Fibre\", \"Alcohol\"], \"xaxis\": \"x6\", \"y\": [-0.4866079861158835, -0.5915300937467071, -0.40363935754833263], \"yaxis\": \"y6\"}],                        {\"annotations\": [{\"font\": {\"size\": 16}, \"showarrow\": false, \"text\": \"White\", \"x\": 0.225, \"xanchor\": \"center\", \"xref\": \"paper\", \"y\": 1.0, \"yanchor\": \"bottom\", \"yref\": \"paper\"}, {\"font\": {\"size\": 16}, \"showarrow\": false, \"text\": \"Mixed\", \"x\": 0.775, \"xanchor\": \"center\", \"xref\": \"paper\", \"y\": 1.0, \"yanchor\": \"bottom\", \"yref\": \"paper\"}, {\"font\": {\"size\": 16}, \"showarrow\": false, \"text\": \"Asian\", \"x\": 0.225, \"xanchor\": \"center\", \"xref\": \"paper\", \"y\": 0.6111111111111112, \"yanchor\": \"bottom\", \"yref\": \"paper\"}, {\"font\": {\"size\": 16}, \"showarrow\": false, \"text\": \"Black\", \"x\": 0.775, \"xanchor\": \"center\", \"xref\": \"paper\", \"y\": 0.6111111111111112, \"yanchor\": \"bottom\", \"yref\": \"paper\"}, {\"font\": {\"size\": 16}, \"showarrow\": false, \"text\": \"Other Ethnicites\", \"x\": 0.225, \"xanchor\": \"center\", \"xref\": \"paper\", \"y\": 0.22222222222222224, \"yanchor\": \"bottom\", \"yref\": \"paper\"}, {\"font\": {\"size\": 16}, \"showarrow\": false, \"text\": \"BAME\", \"x\": 0.775, \"xanchor\": \"center\", \"xref\": \"paper\", \"y\": 0.22222222222222224, \"yanchor\": \"bottom\", \"yref\": \"paper\"}], \"showlegend\": false, \"template\": {\"data\": {\"bar\": [{\"error_x\": {\"color\": \"#2a3f5f\"}, \"error_y\": {\"color\": \"#2a3f5f\"}, \"marker\": {\"line\": {\"color\": \"#E5ECF6\", \"width\": 0.5}}, \"type\": \"bar\"}], \"barpolar\": [{\"marker\": {\"line\": {\"color\": \"#E5ECF6\", \"width\": 0.5}}, \"type\": \"barpolar\"}], \"carpet\": [{\"aaxis\": {\"endlinecolor\": \"#2a3f5f\", \"gridcolor\": \"white\", \"linecolor\": \"white\", \"minorgridcolor\": \"white\", \"startlinecolor\": \"#2a3f5f\"}, \"baxis\": {\"endlinecolor\": \"#2a3f5f\", \"gridcolor\": \"white\", \"linecolor\": \"white\", \"minorgridcolor\": \"white\", \"startlinecolor\": \"#2a3f5f\"}, \"type\": \"carpet\"}], \"choropleth\": [{\"colorbar\": {\"outlinewidth\": 0, \"ticks\": \"\"}, \"type\": \"choropleth\"}], \"contour\": [{\"colorbar\": {\"outlinewidth\": 0, \"ticks\": \"\"}, \"colorscale\": [[0.0, \"#0d0887\"], [0.1111111111111111, \"#46039f\"], [0.2222222222222222, \"#7201a8\"], [0.3333333333333333, \"#9c179e\"], [0.4444444444444444, \"#bd3786\"], [0.5555555555555556, \"#d8576b\"], [0.6666666666666666, \"#ed7953\"], [0.7777777777777778, \"#fb9f3a\"], [0.8888888888888888, \"#fdca26\"], [1.0, \"#f0f921\"]], \"type\": \"contour\"}], \"contourcarpet\": [{\"colorbar\": {\"outlinewidth\": 0, \"ticks\": \"\"}, \"type\": \"contourcarpet\"}], \"heatmap\": [{\"colorbar\": {\"outlinewidth\": 0, \"ticks\": \"\"}, \"colorscale\": [[0.0, \"#0d0887\"], [0.1111111111111111, \"#46039f\"], [0.2222222222222222, \"#7201a8\"], [0.3333333333333333, \"#9c179e\"], [0.4444444444444444, \"#bd3786\"], [0.5555555555555556, \"#d8576b\"], [0.6666666666666666, \"#ed7953\"], [0.7777777777777778, \"#fb9f3a\"], [0.8888888888888888, \"#fdca26\"], [1.0, \"#f0f921\"]], \"type\": \"heatmap\"}], \"heatmapgl\": [{\"colorbar\": {\"outlinewidth\": 0, \"ticks\": \"\"}, \"colorscale\": [[0.0, \"#0d0887\"], [0.1111111111111111, \"#46039f\"], [0.2222222222222222, \"#7201a8\"], [0.3333333333333333, \"#9c179e\"], [0.4444444444444444, \"#bd3786\"], [0.5555555555555556, \"#d8576b\"], [0.6666666666666666, \"#ed7953\"], [0.7777777777777778, \"#fb9f3a\"], [0.8888888888888888, \"#fdca26\"], [1.0, \"#f0f921\"]], \"type\": \"heatmapgl\"}], \"histogram\": [{\"marker\": {\"colorbar\": {\"outlinewidth\": 0, \"ticks\": \"\"}}, \"type\": \"histogram\"}], \"histogram2d\": [{\"colorbar\": {\"outlinewidth\": 0, \"ticks\": \"\"}, \"colorscale\": [[0.0, \"#0d0887\"], [0.1111111111111111, \"#46039f\"], [0.2222222222222222, \"#7201a8\"], [0.3333333333333333, \"#9c179e\"], [0.4444444444444444, \"#bd3786\"], [0.5555555555555556, \"#d8576b\"], [0.6666666666666666, \"#ed7953\"], [0.7777777777777778, \"#fb9f3a\"], [0.8888888888888888, \"#fdca26\"], [1.0, \"#f0f921\"]], \"type\": \"histogram2d\"}], \"histogram2dcontour\": [{\"colorbar\": {\"outlinewidth\": 0, \"ticks\": \"\"}, \"colorscale\": [[0.0, \"#0d0887\"], [0.1111111111111111, \"#46039f\"], [0.2222222222222222, \"#7201a8\"], [0.3333333333333333, \"#9c179e\"], [0.4444444444444444, \"#bd3786\"], [0.5555555555555556, \"#d8576b\"], [0.6666666666666666, \"#ed7953\"], [0.7777777777777778, \"#fb9f3a\"], [0.8888888888888888, \"#fdca26\"], [1.0, \"#f0f921\"]], \"type\": \"histogram2dcontour\"}], \"mesh3d\": [{\"colorbar\": {\"outlinewidth\": 0, \"ticks\": \"\"}, \"type\": \"mesh3d\"}], \"parcoords\": [{\"line\": {\"colorbar\": {\"outlinewidth\": 0, \"ticks\": \"\"}}, \"type\": \"parcoords\"}], \"pie\": [{\"automargin\": true, \"type\": \"pie\"}], \"scatter\": [{\"marker\": {\"colorbar\": {\"outlinewidth\": 0, \"ticks\": \"\"}}, \"type\": \"scatter\"}], \"scatter3d\": [{\"line\": {\"colorbar\": {\"outlinewidth\": 0, \"ticks\": \"\"}}, \"marker\": {\"colorbar\": {\"outlinewidth\": 0, \"ticks\": \"\"}}, \"type\": \"scatter3d\"}], \"scattercarpet\": [{\"marker\": {\"colorbar\": {\"outlinewidth\": 0, \"ticks\": \"\"}}, \"type\": \"scattercarpet\"}], \"scattergeo\": [{\"marker\": {\"colorbar\": {\"outlinewidth\": 0, \"ticks\": \"\"}}, \"type\": \"scattergeo\"}], \"scattergl\": [{\"marker\": {\"colorbar\": {\"outlinewidth\": 0, \"ticks\": \"\"}}, \"type\": \"scattergl\"}], \"scattermapbox\": [{\"marker\": {\"colorbar\": {\"outlinewidth\": 0, \"ticks\": \"\"}}, \"type\": \"scattermapbox\"}], \"scatterpolar\": [{\"marker\": {\"colorbar\": {\"outlinewidth\": 0, \"ticks\": \"\"}}, \"type\": \"scatterpolar\"}], \"scatterpolargl\": [{\"marker\": {\"colorbar\": {\"outlinewidth\": 0, \"ticks\": \"\"}}, \"type\": \"scatterpolargl\"}], \"scatterternary\": [{\"marker\": {\"colorbar\": {\"outlinewidth\": 0, \"ticks\": \"\"}}, \"type\": \"scatterternary\"}], \"surface\": [{\"colorbar\": {\"outlinewidth\": 0, \"ticks\": \"\"}, \"colorscale\": [[0.0, \"#0d0887\"], [0.1111111111111111, \"#46039f\"], [0.2222222222222222, \"#7201a8\"], [0.3333333333333333, \"#9c179e\"], [0.4444444444444444, \"#bd3786\"], [0.5555555555555556, \"#d8576b\"], [0.6666666666666666, \"#ed7953\"], [0.7777777777777778, \"#fb9f3a\"], [0.8888888888888888, \"#fdca26\"], [1.0, \"#f0f921\"]], \"type\": \"surface\"}], \"table\": [{\"cells\": {\"fill\": {\"color\": \"#EBF0F8\"}, \"line\": {\"color\": \"white\"}}, \"header\": {\"fill\": {\"color\": \"#C8D4E3\"}, \"line\": {\"color\": \"white\"}}, \"type\": \"table\"}]}, \"layout\": {\"annotationdefaults\": {\"arrowcolor\": \"#2a3f5f\", \"arrowhead\": 0, \"arrowwidth\": 1}, \"coloraxis\": {\"colorbar\": {\"outlinewidth\": 0, \"ticks\": \"\"}}, \"colorscale\": {\"diverging\": [[0, \"#8e0152\"], [0.1, \"#c51b7d\"], [0.2, \"#de77ae\"], [0.3, \"#f1b6da\"], [0.4, \"#fde0ef\"], [0.5, \"#f7f7f7\"], [0.6, \"#e6f5d0\"], [0.7, \"#b8e186\"], [0.8, \"#7fbc41\"], [0.9, \"#4d9221\"], [1, \"#276419\"]], \"sequential\": [[0.0, \"#0d0887\"], [0.1111111111111111, \"#46039f\"], [0.2222222222222222, \"#7201a8\"], [0.3333333333333333, \"#9c179e\"], [0.4444444444444444, \"#bd3786\"], [0.5555555555555556, \"#d8576b\"], [0.6666666666666666, \"#ed7953\"], [0.7777777777777778, \"#fb9f3a\"], [0.8888888888888888, \"#fdca26\"], [1.0, \"#f0f921\"]], \"sequentialminus\": [[0.0, \"#0d0887\"], [0.1111111111111111, \"#46039f\"], [0.2222222222222222, \"#7201a8\"], [0.3333333333333333, \"#9c179e\"], [0.4444444444444444, \"#bd3786\"], [0.5555555555555556, \"#d8576b\"], [0.6666666666666666, \"#ed7953\"], [0.7777777777777778, \"#fb9f3a\"], [0.8888888888888888, \"#fdca26\"], [1.0, \"#f0f921\"]]}, \"colorway\": [\"#636efa\", \"#EF553B\", \"#00cc96\", \"#ab63fa\", \"#FFA15A\", \"#19d3f3\", \"#FF6692\", \"#B6E880\", \"#FF97FF\", \"#FECB52\"], \"font\": {\"color\": \"#2a3f5f\"}, \"geo\": {\"bgcolor\": \"white\", \"lakecolor\": \"white\", \"landcolor\": \"#E5ECF6\", \"showlakes\": true, \"showland\": true, \"subunitcolor\": \"white\"}, \"hoverlabel\": {\"align\": \"left\"}, \"hovermode\": \"closest\", \"mapbox\": {\"style\": \"light\"}, \"paper_bgcolor\": \"white\", \"plot_bgcolor\": \"#E5ECF6\", \"polar\": {\"angularaxis\": {\"gridcolor\": \"white\", \"linecolor\": \"white\", \"ticks\": \"\"}, \"bgcolor\": \"#E5ECF6\", \"radialaxis\": {\"gridcolor\": \"white\", \"linecolor\": \"white\", \"ticks\": \"\"}}, \"scene\": {\"xaxis\": {\"backgroundcolor\": \"#E5ECF6\", \"gridcolor\": \"white\", \"gridwidth\": 2, \"linecolor\": \"white\", \"showbackground\": true, \"ticks\": \"\", \"zerolinecolor\": \"white\"}, \"yaxis\": {\"backgroundcolor\": \"#E5ECF6\", \"gridcolor\": \"white\", \"gridwidth\": 2, \"linecolor\": \"white\", \"showbackground\": true, \"ticks\": \"\", \"zerolinecolor\": \"white\"}, \"zaxis\": {\"backgroundcolor\": \"#E5ECF6\", \"gridcolor\": \"white\", \"gridwidth\": 2, \"linecolor\": \"white\", \"showbackground\": true, \"ticks\": \"\", \"zerolinecolor\": \"white\"}}, \"shapedefaults\": {\"line\": {\"color\": \"#2a3f5f\"}}, \"ternary\": {\"aaxis\": {\"gridcolor\": \"white\", \"linecolor\": \"white\", \"ticks\": \"\"}, \"baxis\": {\"gridcolor\": \"white\", \"linecolor\": \"white\", \"ticks\": \"\"}, \"bgcolor\": \"#E5ECF6\", \"caxis\": {\"gridcolor\": \"white\", \"linecolor\": \"white\", \"ticks\": \"\"}}, \"title\": {\"x\": 0.05}, \"xaxis\": {\"automargin\": true, \"gridcolor\": \"white\", \"linecolor\": \"white\", \"ticks\": \"\", \"title\": {\"standoff\": 15}, \"zerolinecolor\": \"white\", \"zerolinewidth\": 2}, \"yaxis\": {\"automargin\": true, \"gridcolor\": \"white\", \"linecolor\": \"white\", \"ticks\": \"\", \"title\": {\"standoff\": 15}, \"zerolinecolor\": \"white\", \"zerolinewidth\": 2}}}, \"xaxis\": {\"anchor\": \"y\", \"domain\": [0.0, 0.45]}, \"xaxis2\": {\"anchor\": \"y2\", \"domain\": [0.55, 1.0]}, \"xaxis3\": {\"anchor\": \"y3\", \"domain\": [0.0, 0.45]}, \"xaxis4\": {\"anchor\": \"y4\", \"domain\": [0.55, 1.0]}, \"xaxis5\": {\"anchor\": \"y5\", \"domain\": [0.0, 0.45]}, \"xaxis6\": {\"anchor\": \"y6\", \"domain\": [0.55, 1.0]}, \"yaxis\": {\"anchor\": \"x\", \"domain\": [0.7777777777777778, 1.0]}, \"yaxis2\": {\"anchor\": \"x2\", \"domain\": [0.7777777777777778, 1.0]}, \"yaxis3\": {\"anchor\": \"x3\", \"domain\": [0.3888888888888889, 0.6111111111111112]}, \"yaxis4\": {\"anchor\": \"x4\", \"domain\": [0.3888888888888889, 0.6111111111111112]}, \"yaxis5\": {\"anchor\": \"x5\", \"domain\": [0.0, 0.22222222222222224]}, \"yaxis6\": {\"anchor\": \"x6\", \"domain\": [0.0, 0.22222222222222224]}},                        {\"responsive\": true}                    ).then(function(){\n",
       "                            \n",
       "var gd = document.getElementById('34aa7277-cd26-4829-a953-a349a374f09c');\n",
       "var x = new MutationObserver(function (mutations, observer) {{\n",
       "        var display = window.getComputedStyle(gd).display;\n",
       "        if (!display || display === 'none') {{\n",
       "            console.log([gd, 'removed!']);\n",
       "            Plotly.purge(gd);\n",
       "            observer.disconnect();\n",
       "        }}\n",
       "}});\n",
       "\n",
       "// Listen for the removal of the full notebook cells\n",
       "var notebookContainer = gd.closest('#notebook-container');\n",
       "if (notebookContainer) {{\n",
       "    x.observe(notebookContainer, {childList: true});\n",
       "}}\n",
       "\n",
       "// Listen for the clearing of the current output cell\n",
       "var outputEl = gd.closest('.output');\n",
       "if (outputEl) {{\n",
       "    x.observe(outputEl, {childList: true});\n",
       "}}\n",
       "\n",
       "                        })                };                });            </script>        </div>"
      ]
     },
     "metadata": {},
     "output_type": "display_data"
    }
   ],
   "source": [
    "bar_plot_factory(dataframe = msoa_combined_year,\n",
    "                 category_socio_economics = ethnicities,\n",
    "                 category_nutrion = nutrients,\n",
    "                 html_name = \"Correlation_Nutirents_Ethnicity\",\n",
    "                 output_html = True,\n",
    "                 auto_commit = True).show()"
   ]
  },
  {
   "cell_type": "code",
   "execution_count": 294,
   "metadata": {},
   "outputs": [
    {
     "name": "stdout",
     "output_type": "stream",
     "text": [
      "Writing HTML to Repo...\n",
      "Ave Imperator, morituri te salutant\n",
      "Adding new Files ...\n",
      "Commiting Changes ...\n",
      "Pulling previous Changes ... \n",
      "Pushing to Remote...\n",
      "Finished\n"
     ]
    },
    {
     "data": {
      "application/vnd.plotly.v1+json": {
       "config": {
        "plotlyServerURL": "https://plot.ly"
       },
       "data": [
        {
         "type": "surface",
         "z": [
          [
           1.245613110434652,
           1.4045509510363503,
           1.4363023212308557,
           1.765898615785436,
           1.6188754840684294,
           1.554810150682762,
           1.7140025969583816,
           1.3813352807014279
          ],
          [
           1.305523252259215,
           1.6067787081489717,
           1.4757938490020421,
           1.563861590103651,
           1.7649675847716175,
           1.6035774103682687,
           1.668621098799938,
           1.4241411419973453
          ],
          [
           1.4108807148083815,
           1.5559747994218494,
           1.6461638957700995,
           1.5385698324451333,
           1.5506072376949238,
           1.6205427101368812,
           1.671128856582892,
           1.3595225094967596
          ],
          [
           1.2599105655266378,
           1.574708993290934,
           1.6230849710434676,
           1.6281483061660464,
           1.7283896191157457,
           1.756595357660349,
           1.6581218862483031,
           1.2886638726823314
          ],
          [
           1.4361917293592812,
           1.4972866351539753,
           1.64540904051525,
           1.7421739203245816,
           1.7131568058100834,
           1.9113764657433492,
           1.7953197548810294,
           1.5336340113379365
          ],
          [
           1.2021030935294763,
           1.4496310244669768,
           1.4974223273730856,
           1.6517015469870258,
           1.7256087035929384,
           1.7753642959124771,
           1.8296777437489635,
           1.6242370438129452
          ],
          [
           1.038481101576336,
           1.137088343458394,
           1.4923729181743457,
           1.5268553990790334,
           1.7907058645126241,
           1.8249997411667913,
           1.9822511292601042,
           1.6787825277970716
          ],
          [
           1.6209986458556602,
           1.5500399989843625,
           1.5395188928941903,
           1.606118421106662,
           1.3922743304653318,
           1.8660513581107965,
           1.9242379650469161,
           2.1907501761519654
          ]
         ]
        }
       ],
       "layout": {
        "autosize": true,
        "margin": {
         "b": 40,
         "l": 40,
         "r": 40,
         "t": 40
        },
        "scene": {
         "aspectmode": "auto",
         "aspectratio": {
          "x": 1,
          "y": 1,
          "z": 1
         },
         "camera": {
          "center": {
           "x": 0,
           "y": 0,
           "z": 0
          },
          "eye": {
           "x": -0.006966767771824702,
           "y": -0.00560382014770058,
           "z": 0.004478989458090949
          },
          "projection": {
           "type": "perspective"
          },
          "up": {
           "x": 0,
           "y": 0,
           "z": 1
          }
         },
         "xaxis": {
          "nticks": 8,
          "ticktext": [
           "21.3",
           "41.0",
           "49.7",
           "57.5",
           "64.3",
           "70.8",
           "78.1",
           "89.1"
          ],
          "tickvals": [
           0,
           1,
           2,
           3,
           4,
           5,
           6,
           7
          ],
          "title": {
           "text": "Percentage White Inhabitants"
          }
         },
         "yaxis": {
          "nticks": 8,
          "ticktext": [
           "21176",
           "25749",
           "28261",
           "30914",
           "34520",
           "39173",
           "45430",
           "61897"
          ],
          "tickvals": [
           0,
           1,
           2,
           3,
           4,
           5,
           6,
           7
          ],
          "title": {
           "text": "Median Household Income"
          }
         },
         "zaxis": {
          "title": {
           "text": "Kcal in the AAP by Alcohol"
          }
         }
        },
        "template": {
         "data": {
          "bar": [
           {
            "error_x": {
             "color": "#2a3f5f"
            },
            "error_y": {
             "color": "#2a3f5f"
            },
            "marker": {
             "line": {
              "color": "#E5ECF6",
              "width": 0.5
             }
            },
            "type": "bar"
           }
          ],
          "barpolar": [
           {
            "marker": {
             "line": {
              "color": "#E5ECF6",
              "width": 0.5
             }
            },
            "type": "barpolar"
           }
          ],
          "carpet": [
           {
            "aaxis": {
             "endlinecolor": "#2a3f5f",
             "gridcolor": "white",
             "linecolor": "white",
             "minorgridcolor": "white",
             "startlinecolor": "#2a3f5f"
            },
            "baxis": {
             "endlinecolor": "#2a3f5f",
             "gridcolor": "white",
             "linecolor": "white",
             "minorgridcolor": "white",
             "startlinecolor": "#2a3f5f"
            },
            "type": "carpet"
           }
          ],
          "choropleth": [
           {
            "colorbar": {
             "outlinewidth": 0,
             "ticks": ""
            },
            "type": "choropleth"
           }
          ],
          "contour": [
           {
            "colorbar": {
             "outlinewidth": 0,
             "ticks": ""
            },
            "colorscale": [
             [
              0,
              "#0d0887"
             ],
             [
              0.1111111111111111,
              "#46039f"
             ],
             [
              0.2222222222222222,
              "#7201a8"
             ],
             [
              0.3333333333333333,
              "#9c179e"
             ],
             [
              0.4444444444444444,
              "#bd3786"
             ],
             [
              0.5555555555555556,
              "#d8576b"
             ],
             [
              0.6666666666666666,
              "#ed7953"
             ],
             [
              0.7777777777777778,
              "#fb9f3a"
             ],
             [
              0.8888888888888888,
              "#fdca26"
             ],
             [
              1,
              "#f0f921"
             ]
            ],
            "type": "contour"
           }
          ],
          "contourcarpet": [
           {
            "colorbar": {
             "outlinewidth": 0,
             "ticks": ""
            },
            "type": "contourcarpet"
           }
          ],
          "heatmap": [
           {
            "colorbar": {
             "outlinewidth": 0,
             "ticks": ""
            },
            "colorscale": [
             [
              0,
              "#0d0887"
             ],
             [
              0.1111111111111111,
              "#46039f"
             ],
             [
              0.2222222222222222,
              "#7201a8"
             ],
             [
              0.3333333333333333,
              "#9c179e"
             ],
             [
              0.4444444444444444,
              "#bd3786"
             ],
             [
              0.5555555555555556,
              "#d8576b"
             ],
             [
              0.6666666666666666,
              "#ed7953"
             ],
             [
              0.7777777777777778,
              "#fb9f3a"
             ],
             [
              0.8888888888888888,
              "#fdca26"
             ],
             [
              1,
              "#f0f921"
             ]
            ],
            "type": "heatmap"
           }
          ],
          "heatmapgl": [
           {
            "colorbar": {
             "outlinewidth": 0,
             "ticks": ""
            },
            "colorscale": [
             [
              0,
              "#0d0887"
             ],
             [
              0.1111111111111111,
              "#46039f"
             ],
             [
              0.2222222222222222,
              "#7201a8"
             ],
             [
              0.3333333333333333,
              "#9c179e"
             ],
             [
              0.4444444444444444,
              "#bd3786"
             ],
             [
              0.5555555555555556,
              "#d8576b"
             ],
             [
              0.6666666666666666,
              "#ed7953"
             ],
             [
              0.7777777777777778,
              "#fb9f3a"
             ],
             [
              0.8888888888888888,
              "#fdca26"
             ],
             [
              1,
              "#f0f921"
             ]
            ],
            "type": "heatmapgl"
           }
          ],
          "histogram": [
           {
            "marker": {
             "colorbar": {
              "outlinewidth": 0,
              "ticks": ""
             }
            },
            "type": "histogram"
           }
          ],
          "histogram2d": [
           {
            "colorbar": {
             "outlinewidth": 0,
             "ticks": ""
            },
            "colorscale": [
             [
              0,
              "#0d0887"
             ],
             [
              0.1111111111111111,
              "#46039f"
             ],
             [
              0.2222222222222222,
              "#7201a8"
             ],
             [
              0.3333333333333333,
              "#9c179e"
             ],
             [
              0.4444444444444444,
              "#bd3786"
             ],
             [
              0.5555555555555556,
              "#d8576b"
             ],
             [
              0.6666666666666666,
              "#ed7953"
             ],
             [
              0.7777777777777778,
              "#fb9f3a"
             ],
             [
              0.8888888888888888,
              "#fdca26"
             ],
             [
              1,
              "#f0f921"
             ]
            ],
            "type": "histogram2d"
           }
          ],
          "histogram2dcontour": [
           {
            "colorbar": {
             "outlinewidth": 0,
             "ticks": ""
            },
            "colorscale": [
             [
              0,
              "#0d0887"
             ],
             [
              0.1111111111111111,
              "#46039f"
             ],
             [
              0.2222222222222222,
              "#7201a8"
             ],
             [
              0.3333333333333333,
              "#9c179e"
             ],
             [
              0.4444444444444444,
              "#bd3786"
             ],
             [
              0.5555555555555556,
              "#d8576b"
             ],
             [
              0.6666666666666666,
              "#ed7953"
             ],
             [
              0.7777777777777778,
              "#fb9f3a"
             ],
             [
              0.8888888888888888,
              "#fdca26"
             ],
             [
              1,
              "#f0f921"
             ]
            ],
            "type": "histogram2dcontour"
           }
          ],
          "mesh3d": [
           {
            "colorbar": {
             "outlinewidth": 0,
             "ticks": ""
            },
            "type": "mesh3d"
           }
          ],
          "parcoords": [
           {
            "line": {
             "colorbar": {
              "outlinewidth": 0,
              "ticks": ""
             }
            },
            "type": "parcoords"
           }
          ],
          "pie": [
           {
            "automargin": true,
            "type": "pie"
           }
          ],
          "scatter": [
           {
            "marker": {
             "colorbar": {
              "outlinewidth": 0,
              "ticks": ""
             }
            },
            "type": "scatter"
           }
          ],
          "scatter3d": [
           {
            "line": {
             "colorbar": {
              "outlinewidth": 0,
              "ticks": ""
             }
            },
            "marker": {
             "colorbar": {
              "outlinewidth": 0,
              "ticks": ""
             }
            },
            "type": "scatter3d"
           }
          ],
          "scattercarpet": [
           {
            "marker": {
             "colorbar": {
              "outlinewidth": 0,
              "ticks": ""
             }
            },
            "type": "scattercarpet"
           }
          ],
          "scattergeo": [
           {
            "marker": {
             "colorbar": {
              "outlinewidth": 0,
              "ticks": ""
             }
            },
            "type": "scattergeo"
           }
          ],
          "scattergl": [
           {
            "marker": {
             "colorbar": {
              "outlinewidth": 0,
              "ticks": ""
             }
            },
            "type": "scattergl"
           }
          ],
          "scattermapbox": [
           {
            "marker": {
             "colorbar": {
              "outlinewidth": 0,
              "ticks": ""
             }
            },
            "type": "scattermapbox"
           }
          ],
          "scatterpolar": [
           {
            "marker": {
             "colorbar": {
              "outlinewidth": 0,
              "ticks": ""
             }
            },
            "type": "scatterpolar"
           }
          ],
          "scatterpolargl": [
           {
            "marker": {
             "colorbar": {
              "outlinewidth": 0,
              "ticks": ""
             }
            },
            "type": "scatterpolargl"
           }
          ],
          "scatterternary": [
           {
            "marker": {
             "colorbar": {
              "outlinewidth": 0,
              "ticks": ""
             }
            },
            "type": "scatterternary"
           }
          ],
          "surface": [
           {
            "colorbar": {
             "outlinewidth": 0,
             "ticks": ""
            },
            "colorscale": [
             [
              0,
              "#0d0887"
             ],
             [
              0.1111111111111111,
              "#46039f"
             ],
             [
              0.2222222222222222,
              "#7201a8"
             ],
             [
              0.3333333333333333,
              "#9c179e"
             ],
             [
              0.4444444444444444,
              "#bd3786"
             ],
             [
              0.5555555555555556,
              "#d8576b"
             ],
             [
              0.6666666666666666,
              "#ed7953"
             ],
             [
              0.7777777777777778,
              "#fb9f3a"
             ],
             [
              0.8888888888888888,
              "#fdca26"
             ],
             [
              1,
              "#f0f921"
             ]
            ],
            "type": "surface"
           }
          ],
          "table": [
           {
            "cells": {
             "fill": {
              "color": "#EBF0F8"
             },
             "line": {
              "color": "white"
             }
            },
            "header": {
             "fill": {
              "color": "#C8D4E3"
             },
             "line": {
              "color": "white"
             }
            },
            "type": "table"
           }
          ]
         },
         "layout": {
          "annotationdefaults": {
           "arrowcolor": "#2a3f5f",
           "arrowhead": 0,
           "arrowwidth": 1
          },
          "coloraxis": {
           "colorbar": {
            "outlinewidth": 0,
            "ticks": ""
           }
          },
          "colorscale": {
           "diverging": [
            [
             0,
             "#8e0152"
            ],
            [
             0.1,
             "#c51b7d"
            ],
            [
             0.2,
             "#de77ae"
            ],
            [
             0.3,
             "#f1b6da"
            ],
            [
             0.4,
             "#fde0ef"
            ],
            [
             0.5,
             "#f7f7f7"
            ],
            [
             0.6,
             "#e6f5d0"
            ],
            [
             0.7,
             "#b8e186"
            ],
            [
             0.8,
             "#7fbc41"
            ],
            [
             0.9,
             "#4d9221"
            ],
            [
             1,
             "#276419"
            ]
           ],
           "sequential": [
            [
             0,
             "#0d0887"
            ],
            [
             0.1111111111111111,
             "#46039f"
            ],
            [
             0.2222222222222222,
             "#7201a8"
            ],
            [
             0.3333333333333333,
             "#9c179e"
            ],
            [
             0.4444444444444444,
             "#bd3786"
            ],
            [
             0.5555555555555556,
             "#d8576b"
            ],
            [
             0.6666666666666666,
             "#ed7953"
            ],
            [
             0.7777777777777778,
             "#fb9f3a"
            ],
            [
             0.8888888888888888,
             "#fdca26"
            ],
            [
             1,
             "#f0f921"
            ]
           ],
           "sequentialminus": [
            [
             0,
             "#0d0887"
            ],
            [
             0.1111111111111111,
             "#46039f"
            ],
            [
             0.2222222222222222,
             "#7201a8"
            ],
            [
             0.3333333333333333,
             "#9c179e"
            ],
            [
             0.4444444444444444,
             "#bd3786"
            ],
            [
             0.5555555555555556,
             "#d8576b"
            ],
            [
             0.6666666666666666,
             "#ed7953"
            ],
            [
             0.7777777777777778,
             "#fb9f3a"
            ],
            [
             0.8888888888888888,
             "#fdca26"
            ],
            [
             1,
             "#f0f921"
            ]
           ]
          },
          "colorway": [
           "#636efa",
           "#EF553B",
           "#00cc96",
           "#ab63fa",
           "#FFA15A",
           "#19d3f3",
           "#FF6692",
           "#B6E880",
           "#FF97FF",
           "#FECB52"
          ],
          "font": {
           "color": "#2a3f5f"
          },
          "geo": {
           "bgcolor": "white",
           "lakecolor": "white",
           "landcolor": "#E5ECF6",
           "showlakes": true,
           "showland": true,
           "subunitcolor": "white"
          },
          "hoverlabel": {
           "align": "left"
          },
          "hovermode": "closest",
          "mapbox": {
           "style": "light"
          },
          "paper_bgcolor": "white",
          "plot_bgcolor": "#E5ECF6",
          "polar": {
           "angularaxis": {
            "gridcolor": "white",
            "linecolor": "white",
            "ticks": ""
           },
           "bgcolor": "#E5ECF6",
           "radialaxis": {
            "gridcolor": "white",
            "linecolor": "white",
            "ticks": ""
           }
          },
          "scene": {
           "xaxis": {
            "backgroundcolor": "#E5ECF6",
            "gridcolor": "white",
            "gridwidth": 2,
            "linecolor": "white",
            "showbackground": true,
            "ticks": "",
            "zerolinecolor": "white"
           },
           "yaxis": {
            "backgroundcolor": "#E5ECF6",
            "gridcolor": "white",
            "gridwidth": 2,
            "linecolor": "white",
            "showbackground": true,
            "ticks": "",
            "zerolinecolor": "white"
           },
           "zaxis": {
            "backgroundcolor": "#E5ECF6",
            "gridcolor": "white",
            "gridwidth": 2,
            "linecolor": "white",
            "showbackground": true,
            "ticks": "",
            "zerolinecolor": "white"
           }
          },
          "shapedefaults": {
           "line": {
            "color": "#2a3f5f"
           }
          },
          "ternary": {
           "aaxis": {
            "gridcolor": "white",
            "linecolor": "white",
            "ticks": ""
           },
           "baxis": {
            "gridcolor": "white",
            "linecolor": "white",
            "ticks": ""
           },
           "bgcolor": "#E5ECF6",
           "caxis": {
            "gridcolor": "white",
            "linecolor": "white",
            "ticks": ""
           }
          },
          "title": {
           "x": 0.05
          },
          "xaxis": {
           "automargin": true,
           "gridcolor": "white",
           "linecolor": "white",
           "ticks": "",
           "title": {
            "standoff": 15
           },
           "zerolinecolor": "white",
           "zerolinewidth": 2
          },
          "yaxis": {
           "automargin": true,
           "gridcolor": "white",
           "linecolor": "white",
           "ticks": "",
           "title": {
            "standoff": 15
           },
           "zerolinecolor": "white",
           "zerolinewidth": 2
          }
         }
        },
        "title": {
         "text": "Interaction between Household Income, Ethnicity and Alcohol Consumption"
        }
       }
      },
      "text/html": [
       "<div>                            <div id=\"e3ec953f-b428-4b3d-84ae-445b071925b1\" class=\"plotly-graph-div\" style=\"height:525px; width:100%;\"></div>            <script type=\"text/javascript\">                require([\"plotly\"], function(Plotly) {                    window.PLOTLYENV=window.PLOTLYENV || {};                                    if (document.getElementById(\"e3ec953f-b428-4b3d-84ae-445b071925b1\")) {                    Plotly.newPlot(                        \"e3ec953f-b428-4b3d-84ae-445b071925b1\",                        [{\"type\": \"surface\", \"z\": [[1.245613110434652, 1.4045509510363503, 1.4363023212308557, 1.765898615785436, 1.6188754840684294, 1.554810150682762, 1.7140025969583816, 1.3813352807014279], [1.305523252259215, 1.6067787081489717, 1.4757938490020421, 1.563861590103651, 1.7649675847716175, 1.6035774103682687, 1.668621098799938, 1.4241411419973453], [1.4108807148083815, 1.5559747994218494, 1.6461638957700995, 1.5385698324451333, 1.5506072376949238, 1.6205427101368812, 1.671128856582892, 1.3595225094967596], [1.2599105655266378, 1.574708993290934, 1.6230849710434676, 1.6281483061660464, 1.7283896191157457, 1.756595357660349, 1.6581218862483031, 1.2886638726823314], [1.4361917293592812, 1.4972866351539753, 1.64540904051525, 1.7421739203245816, 1.7131568058100834, 1.9113764657433492, 1.7953197548810294, 1.5336340113379365], [1.2021030935294763, 1.4496310244669768, 1.4974223273730856, 1.6517015469870258, 1.7256087035929384, 1.7753642959124771, 1.8296777437489635, 1.6242370438129452], [1.038481101576336, 1.137088343458394, 1.4923729181743457, 1.5268553990790334, 1.7907058645126241, 1.8249997411667913, 1.9822511292601042, 1.6787825277970716], [1.6209986458556602, 1.5500399989843625, 1.5395188928941903, 1.606118421106662, 1.3922743304653318, 1.8660513581107965, 1.9242379650469161, 2.1907501761519654]]}],                        {\"margin\": {\"b\": 40, \"l\": 40, \"r\": 40, \"t\": 40}, \"scene\": {\"xaxis\": {\"nticks\": 8, \"ticktext\": [\"21.3\", \"41.0\", \"49.7\", \"57.5\", \"64.3\", \"70.8\", \"78.1\", \"89.1\"], \"tickvals\": [0, 1, 2, 3, 4, 5, 6, 7], \"title\": {\"text\": \"Percentage White Inhabitants\"}}, \"yaxis\": {\"nticks\": 8, \"ticktext\": [\"21176\", \"25749\", \"28261\", \"30914\", \"34520\", \"39173\", \"45430\", \"61897\"], \"tickvals\": [0, 1, 2, 3, 4, 5, 6, 7], \"title\": {\"text\": \"Median Household Income\"}}, \"zaxis\": {\"title\": {\"text\": \"Kcal in the AAP by Alcohol\"}}}, \"template\": {\"data\": {\"bar\": [{\"error_x\": {\"color\": \"#2a3f5f\"}, \"error_y\": {\"color\": \"#2a3f5f\"}, \"marker\": {\"line\": {\"color\": \"#E5ECF6\", \"width\": 0.5}}, \"type\": \"bar\"}], \"barpolar\": [{\"marker\": {\"line\": {\"color\": \"#E5ECF6\", \"width\": 0.5}}, \"type\": \"barpolar\"}], \"carpet\": [{\"aaxis\": {\"endlinecolor\": \"#2a3f5f\", \"gridcolor\": \"white\", \"linecolor\": \"white\", \"minorgridcolor\": \"white\", \"startlinecolor\": \"#2a3f5f\"}, \"baxis\": {\"endlinecolor\": \"#2a3f5f\", \"gridcolor\": \"white\", \"linecolor\": \"white\", \"minorgridcolor\": \"white\", \"startlinecolor\": \"#2a3f5f\"}, \"type\": \"carpet\"}], \"choropleth\": [{\"colorbar\": {\"outlinewidth\": 0, \"ticks\": \"\"}, \"type\": \"choropleth\"}], \"contour\": [{\"colorbar\": {\"outlinewidth\": 0, \"ticks\": \"\"}, \"colorscale\": [[0.0, \"#0d0887\"], [0.1111111111111111, \"#46039f\"], [0.2222222222222222, \"#7201a8\"], [0.3333333333333333, \"#9c179e\"], [0.4444444444444444, \"#bd3786\"], [0.5555555555555556, \"#d8576b\"], [0.6666666666666666, \"#ed7953\"], [0.7777777777777778, \"#fb9f3a\"], [0.8888888888888888, \"#fdca26\"], [1.0, \"#f0f921\"]], \"type\": \"contour\"}], \"contourcarpet\": [{\"colorbar\": {\"outlinewidth\": 0, \"ticks\": \"\"}, \"type\": \"contourcarpet\"}], \"heatmap\": [{\"colorbar\": {\"outlinewidth\": 0, \"ticks\": \"\"}, \"colorscale\": [[0.0, \"#0d0887\"], [0.1111111111111111, \"#46039f\"], [0.2222222222222222, \"#7201a8\"], [0.3333333333333333, \"#9c179e\"], [0.4444444444444444, \"#bd3786\"], [0.5555555555555556, \"#d8576b\"], [0.6666666666666666, \"#ed7953\"], [0.7777777777777778, \"#fb9f3a\"], [0.8888888888888888, \"#fdca26\"], [1.0, \"#f0f921\"]], \"type\": \"heatmap\"}], \"heatmapgl\": [{\"colorbar\": {\"outlinewidth\": 0, \"ticks\": \"\"}, \"colorscale\": [[0.0, \"#0d0887\"], [0.1111111111111111, \"#46039f\"], [0.2222222222222222, \"#7201a8\"], [0.3333333333333333, \"#9c179e\"], [0.4444444444444444, \"#bd3786\"], [0.5555555555555556, \"#d8576b\"], [0.6666666666666666, \"#ed7953\"], [0.7777777777777778, \"#fb9f3a\"], [0.8888888888888888, \"#fdca26\"], [1.0, \"#f0f921\"]], \"type\": \"heatmapgl\"}], \"histogram\": [{\"marker\": {\"colorbar\": {\"outlinewidth\": 0, \"ticks\": \"\"}}, \"type\": \"histogram\"}], \"histogram2d\": [{\"colorbar\": {\"outlinewidth\": 0, \"ticks\": \"\"}, \"colorscale\": [[0.0, \"#0d0887\"], [0.1111111111111111, \"#46039f\"], [0.2222222222222222, \"#7201a8\"], [0.3333333333333333, \"#9c179e\"], [0.4444444444444444, \"#bd3786\"], [0.5555555555555556, \"#d8576b\"], [0.6666666666666666, \"#ed7953\"], [0.7777777777777778, \"#fb9f3a\"], [0.8888888888888888, \"#fdca26\"], [1.0, \"#f0f921\"]], \"type\": \"histogram2d\"}], \"histogram2dcontour\": [{\"colorbar\": {\"outlinewidth\": 0, \"ticks\": \"\"}, \"colorscale\": [[0.0, \"#0d0887\"], [0.1111111111111111, \"#46039f\"], [0.2222222222222222, \"#7201a8\"], [0.3333333333333333, \"#9c179e\"], [0.4444444444444444, \"#bd3786\"], [0.5555555555555556, \"#d8576b\"], [0.6666666666666666, \"#ed7953\"], [0.7777777777777778, \"#fb9f3a\"], [0.8888888888888888, \"#fdca26\"], [1.0, \"#f0f921\"]], \"type\": \"histogram2dcontour\"}], \"mesh3d\": [{\"colorbar\": {\"outlinewidth\": 0, \"ticks\": \"\"}, \"type\": \"mesh3d\"}], \"parcoords\": [{\"line\": {\"colorbar\": {\"outlinewidth\": 0, \"ticks\": \"\"}}, \"type\": \"parcoords\"}], \"pie\": [{\"automargin\": true, \"type\": \"pie\"}], \"scatter\": [{\"marker\": {\"colorbar\": {\"outlinewidth\": 0, \"ticks\": \"\"}}, \"type\": \"scatter\"}], \"scatter3d\": [{\"line\": {\"colorbar\": {\"outlinewidth\": 0, \"ticks\": \"\"}}, \"marker\": {\"colorbar\": {\"outlinewidth\": 0, \"ticks\": \"\"}}, \"type\": \"scatter3d\"}], \"scattercarpet\": [{\"marker\": {\"colorbar\": {\"outlinewidth\": 0, \"ticks\": \"\"}}, \"type\": \"scattercarpet\"}], \"scattergeo\": [{\"marker\": {\"colorbar\": {\"outlinewidth\": 0, \"ticks\": \"\"}}, \"type\": \"scattergeo\"}], \"scattergl\": [{\"marker\": {\"colorbar\": {\"outlinewidth\": 0, \"ticks\": \"\"}}, \"type\": \"scattergl\"}], \"scattermapbox\": [{\"marker\": {\"colorbar\": {\"outlinewidth\": 0, \"ticks\": \"\"}}, \"type\": \"scattermapbox\"}], \"scatterpolar\": [{\"marker\": {\"colorbar\": {\"outlinewidth\": 0, \"ticks\": \"\"}}, \"type\": \"scatterpolar\"}], \"scatterpolargl\": [{\"marker\": {\"colorbar\": {\"outlinewidth\": 0, \"ticks\": \"\"}}, \"type\": \"scatterpolargl\"}], \"scatterternary\": [{\"marker\": {\"colorbar\": {\"outlinewidth\": 0, \"ticks\": \"\"}}, \"type\": \"scatterternary\"}], \"surface\": [{\"colorbar\": {\"outlinewidth\": 0, \"ticks\": \"\"}, \"colorscale\": [[0.0, \"#0d0887\"], [0.1111111111111111, \"#46039f\"], [0.2222222222222222, \"#7201a8\"], [0.3333333333333333, \"#9c179e\"], [0.4444444444444444, \"#bd3786\"], [0.5555555555555556, \"#d8576b\"], [0.6666666666666666, \"#ed7953\"], [0.7777777777777778, \"#fb9f3a\"], [0.8888888888888888, \"#fdca26\"], [1.0, \"#f0f921\"]], \"type\": \"surface\"}], \"table\": [{\"cells\": {\"fill\": {\"color\": \"#EBF0F8\"}, \"line\": {\"color\": \"white\"}}, \"header\": {\"fill\": {\"color\": \"#C8D4E3\"}, \"line\": {\"color\": \"white\"}}, \"type\": \"table\"}]}, \"layout\": {\"annotationdefaults\": {\"arrowcolor\": \"#2a3f5f\", \"arrowhead\": 0, \"arrowwidth\": 1}, \"coloraxis\": {\"colorbar\": {\"outlinewidth\": 0, \"ticks\": \"\"}}, \"colorscale\": {\"diverging\": [[0, \"#8e0152\"], [0.1, \"#c51b7d\"], [0.2, \"#de77ae\"], [0.3, \"#f1b6da\"], [0.4, \"#fde0ef\"], [0.5, \"#f7f7f7\"], [0.6, \"#e6f5d0\"], [0.7, \"#b8e186\"], [0.8, \"#7fbc41\"], [0.9, \"#4d9221\"], [1, \"#276419\"]], \"sequential\": [[0.0, \"#0d0887\"], [0.1111111111111111, \"#46039f\"], [0.2222222222222222, \"#7201a8\"], [0.3333333333333333, \"#9c179e\"], [0.4444444444444444, \"#bd3786\"], [0.5555555555555556, \"#d8576b\"], [0.6666666666666666, \"#ed7953\"], [0.7777777777777778, \"#fb9f3a\"], [0.8888888888888888, \"#fdca26\"], [1.0, \"#f0f921\"]], \"sequentialminus\": [[0.0, \"#0d0887\"], [0.1111111111111111, \"#46039f\"], [0.2222222222222222, \"#7201a8\"], [0.3333333333333333, \"#9c179e\"], [0.4444444444444444, \"#bd3786\"], [0.5555555555555556, \"#d8576b\"], [0.6666666666666666, \"#ed7953\"], [0.7777777777777778, \"#fb9f3a\"], [0.8888888888888888, \"#fdca26\"], [1.0, \"#f0f921\"]]}, \"colorway\": [\"#636efa\", \"#EF553B\", \"#00cc96\", \"#ab63fa\", \"#FFA15A\", \"#19d3f3\", \"#FF6692\", \"#B6E880\", \"#FF97FF\", \"#FECB52\"], \"font\": {\"color\": \"#2a3f5f\"}, \"geo\": {\"bgcolor\": \"white\", \"lakecolor\": \"white\", \"landcolor\": \"#E5ECF6\", \"showlakes\": true, \"showland\": true, \"subunitcolor\": \"white\"}, \"hoverlabel\": {\"align\": \"left\"}, \"hovermode\": \"closest\", \"mapbox\": {\"style\": \"light\"}, \"paper_bgcolor\": \"white\", \"plot_bgcolor\": \"#E5ECF6\", \"polar\": {\"angularaxis\": {\"gridcolor\": \"white\", \"linecolor\": \"white\", \"ticks\": \"\"}, \"bgcolor\": \"#E5ECF6\", \"radialaxis\": {\"gridcolor\": \"white\", \"linecolor\": \"white\", \"ticks\": \"\"}}, \"scene\": {\"xaxis\": {\"backgroundcolor\": \"#E5ECF6\", \"gridcolor\": \"white\", \"gridwidth\": 2, \"linecolor\": \"white\", \"showbackground\": true, \"ticks\": \"\", \"zerolinecolor\": \"white\"}, \"yaxis\": {\"backgroundcolor\": \"#E5ECF6\", \"gridcolor\": \"white\", \"gridwidth\": 2, \"linecolor\": \"white\", \"showbackground\": true, \"ticks\": \"\", \"zerolinecolor\": \"white\"}, \"zaxis\": {\"backgroundcolor\": \"#E5ECF6\", \"gridcolor\": \"white\", \"gridwidth\": 2, \"linecolor\": \"white\", \"showbackground\": true, \"ticks\": \"\", \"zerolinecolor\": \"white\"}}, \"shapedefaults\": {\"line\": {\"color\": \"#2a3f5f\"}}, \"ternary\": {\"aaxis\": {\"gridcolor\": \"white\", \"linecolor\": \"white\", \"ticks\": \"\"}, \"baxis\": {\"gridcolor\": \"white\", \"linecolor\": \"white\", \"ticks\": \"\"}, \"bgcolor\": \"#E5ECF6\", \"caxis\": {\"gridcolor\": \"white\", \"linecolor\": \"white\", \"ticks\": \"\"}}, \"title\": {\"x\": 0.05}, \"xaxis\": {\"automargin\": true, \"gridcolor\": \"white\", \"linecolor\": \"white\", \"ticks\": \"\", \"title\": {\"standoff\": 15}, \"zerolinecolor\": \"white\", \"zerolinewidth\": 2}, \"yaxis\": {\"automargin\": true, \"gridcolor\": \"white\", \"linecolor\": \"white\", \"ticks\": \"\", \"title\": {\"standoff\": 15}, \"zerolinecolor\": \"white\", \"zerolinewidth\": 2}}}, \"title\": {\"text\": \"Interaction between Household Income, Ethnicity and Alcohol Consumption\"}},                        {\"responsive\": true}                    ).then(function(){\n",
       "                            \n",
       "var gd = document.getElementById('e3ec953f-b428-4b3d-84ae-445b071925b1');\n",
       "var x = new MutationObserver(function (mutations, observer) {{\n",
       "        var display = window.getComputedStyle(gd).display;\n",
       "        if (!display || display === 'none') {{\n",
       "            console.log([gd, 'removed!']);\n",
       "            Plotly.purge(gd);\n",
       "            observer.disconnect();\n",
       "        }}\n",
       "}});\n",
       "\n",
       "// Listen for the removal of the full notebook cells\n",
       "var notebookContainer = gd.closest('#notebook-container');\n",
       "if (notebookContainer) {{\n",
       "    x.observe(notebookContainer, {childList: true});\n",
       "}}\n",
       "\n",
       "// Listen for the clearing of the current output cell\n",
       "var outputEl = gd.closest('.output');\n",
       "if (outputEl) {{\n",
       "    x.observe(outputEl, {childList: true});\n",
       "}}\n",
       "\n",
       "                        })                };                });            </script>        </div>"
      ]
     },
     "metadata": {},
     "output_type": "display_data"
    }
   ],
   "source": [
    "three_D_plot_factory(dataframe = msoa_combined_year,\n",
    "                     x_axis =\"annual_median_income_2011\" ,\n",
    "                     y_axis = \"perc_ethnicity_white_2011\",\n",
    "                     title = \"Interaction between Household Income, Ethnicity and Alcohol Consumption\",\n",
    "                     x_title = \"Percentage White Inhabitants\",\n",
    "                     y_title = \"Median Household Income\",\n",
    "                     z_title = \"Kcal in the AAP by Alcohol\",\n",
    "                     aggfunc = np.mean, \n",
    "                     z_axis = \"energy_alcohol\",\n",
    "                     html_name = \"3D_Plot_White_Median_Income_Alcohol\",\n",
    "                     output_html = True,\n",
    "                     auto_commit = True ,\n",
    "                     quantiles = [0,.125,.25,.375,.5, .625,.75,.875,1]\n",
    "                     ).show() "
   ]
  },
  {
   "cell_type": "code",
   "execution_count": 295,
   "metadata": {},
   "outputs": [
    {
     "data": {
      "application/vnd.plotly.v1+json": {
       "config": {
        "plotlyServerURL": "https://plot.ly"
       },
       "data": [
        {
         "scene": "scene",
         "showlegend": false,
         "showscale": false,
         "type": "surface",
         "z": [
          [
           0.0039573410553487625,
           0.003776318335603666,
           0.0037739067506579434,
           0.003605146824161249,
           0.002548508543295685,
           0.005488326060551532,
           0.00461285085082982,
           0.0032457089308810167
          ],
          [
           0.00407358152005882,
           0.00427439205540933,
           0.003527234600108372,
           0.003996660822089175,
           0.003936675248083418,
           0.003970997093606936,
           0.003716345036567529,
           0.002964619752230873
          ],
          [
           0.0037822780437449526,
           0.003958886425335696,
           0.0037152762802579588,
           0.0032299706012078656,
           0.00315649503413283,
           0.004417715416063561,
           0.0033014426673989524,
           0.0029580931518179985
          ],
          [
           0.003363434274620083,
           0.003977974983854795,
           0.0035363615571733105,
           0.003232786692626034,
           0.00325029085936213,
           0.002905754087559448,
           0.00351646716870005,
           0.002927966427596358
          ],
          [
           0.004050480320947412,
           0.003827405029579229,
           0.0034358376518371127,
           0.003312985087001961,
           0.003061553258622089,
           0.0035162395850373944,
           0.0028352875890579857,
           0.0030077996772782632
          ],
          [
           0.0030792183520524713,
           0.002977649255011862,
           0.0030378527643067157,
           0.0032307308309779095,
           0.003419698267056229,
           0.0031118681096800383,
           0.002793973520378236,
           0.0028317520112613012
          ],
          [
           0.0027850091388754673,
           0.002615957884702875,
           0.0025243058163249388,
           0.0026183666734469354,
           0.002962021321015211,
           0.0030108782638074575,
           0.0029077109044152354,
           0.0025676868246272484
          ],
          [
           0.0027022232490212174,
           0.0023375023787083503,
           0.0015824921588654748,
           0.0020819398356328777,
           0.002291134779620552,
           0.0029166219501503303,
           0.002657654131419945,
           0.0029767597590660763
          ]
         ]
        },
        {
         "scene": "scene2",
         "showlegend": false,
         "showscale": false,
         "type": "surface",
         "z": [
          [
           0.008236139628278287,
           0.010273435390503296,
           0.010604406746322976,
           0.015828249380271296,
           0.01790906458152331,
           0.010684241306401549,
           0.014311797521869084,
           0.009515576455517871
          ],
          [
           0.008171086762266414,
           0.013211002080297927,
           0.013007276025797543,
           0.013045293795941116,
           0.01531943958674476,
           0.011788024733188638,
           0.012025435224270194,
           0.011473444686922296
          ],
          [
           0.010535760333437515,
           0.013152553213135671,
           0.014943475603151825,
           0.013760490912243512,
           0.01506364145637264,
           0.01207328249952059,
           0.013952096808405434,
           0.012606597066284383
          ],
          [
           0.008682508378606105,
           0.011032517872418669,
           0.014821013619166212,
           0.015717042456335668,
           0.01692972138966162,
           0.021503838624371517,
           0.01594367170707049,
           0.012298160538964629
          ],
          [
           0.009399087135583784,
           0.011486716400542229,
           0.01529094270793016,
           0.017712406906248743,
           0.01814029376878582,
           0.019214730339503338,
           0.018491145309719854,
           0.014642334113270561
          ],
          [
           0.009468335540277439,
           0.014281630126645234,
           0.01381298741989514,
           0.016685524876866153,
           0.018070114228286995,
           0.019621062071920166,
           0.020817626946215632,
           0.016672987203257484
          ],
          [
           0.007297207044593352,
           0.009063779544617515,
           0.016244801356274152,
           0.016699311100600245,
           0.020539914491244725,
           0.02022747794130256,
           0.023287451380539698,
           0.01961507071427672
          ],
          [
           0.017525258567697908,
           0.016831515525660833,
           0.019324663863068785,
           0.018993760344579603,
           0.016187960447232936,
           0.021086001022124996,
           0.0234703270848073,
           0.026918296273029812
          ]
         ]
        },
        {
         "scene": "scene3",
         "showlegend": false,
         "showscale": false,
         "type": "surface",
         "z": [
          [
           0.010358290392061802,
           0.01088995815682517,
           0.011483304793393455,
           0.016829909476704933,
           0.01941500144801622,
           0.013405911197084891,
           0.012205627749621813,
           0.012146145984563194
          ],
          [
           0.011249918430573467,
           0.013063064468202198,
           0.012671960414295693,
           0.012744920263601437,
           0.015579771705012239,
           0.013570279891320881,
           0.017444054769055008,
           0.01346384757550863
          ],
          [
           0.01212119155710567,
           0.012786248128016415,
           0.01452110483720684,
           0.01272776985197427,
           0.013605541810660125,
           0.012311208758300388,
           0.01762776288543247,
           0.011535495822084704
          ],
          [
           0.01169084201319223,
           0.019116421234748195,
           0.013108750292071071,
           0.01427712551614671,
           0.015192065965686596,
           0.016000756089379273,
           0.01376807266558754,
           0.010308811241875616
          ],
          [
           0.011220956427980055,
           0.014052737470480107,
           0.014791976960758617,
           0.015185834532230751,
           0.01472360951450955,
           0.01652143381367372,
           0.016913903815260554,
           0.014196287125429944
          ],
          [
           0.011684583561590687,
           0.011665701027633797,
           0.012627535050766798,
           0.013884252408148908,
           0.01410405397103859,
           0.014984507584406236,
           0.014898139405861382,
           0.014659759779011244
          ],
          [
           0.008147268885106836,
           0.007192530167464633,
           0.01479218947625806,
           0.011465127936876976,
           0.014082593671228497,
           0.014892871101054635,
           0.01583925984829936,
           0.01525848180082028
          ],
          [
           0.01081714405944066,
           0.01838086005103547,
           0.01541788634586964,
           0.012321713170702358,
           0.012453003173300177,
           0.01400772778163583,
           0.015388990795557984,
           0.01729652112099254
          ]
         ]
        }
       ],
       "layout": {
        "annotations": [
         {
          "font": {
           "size": 16
          },
          "showarrow": false,
          "text": "Spirits",
          "x": 0.14444444444444446,
          "xanchor": "center",
          "xref": "paper",
          "y": 1,
          "yanchor": "bottom",
          "yref": "paper"
         },
         {
          "font": {
           "size": 16
          },
          "showarrow": false,
          "text": "Wine",
          "x": 0.5,
          "xanchor": "center",
          "xref": "paper",
          "y": 1,
          "yanchor": "bottom",
          "yref": "paper"
         },
         {
          "font": {
           "size": 16
          },
          "showarrow": false,
          "text": "Beer",
          "x": 0.8555555555555556,
          "xanchor": "center",
          "xref": "paper",
          "y": 1,
          "yanchor": "bottom",
          "yref": "paper"
         }
        ],
        "autosize": true,
        "margin": {
         "b": 40,
         "l": 40,
         "r": 40,
         "t": 40
        },
        "scene": {
         "aspectmode": "auto",
         "aspectratio": {
          "x": 1,
          "y": 1,
          "z": 1
         },
         "camera": {
          "center": {
           "x": 0,
           "y": 0,
           "z": 0
          },
          "eye": {
           "x": 0.09986030884513107,
           "y": 0.09986030884513106,
           "z": 0.09986030884513106
          },
          "projection": {
           "type": "perspective"
          },
          "up": {
           "x": 0,
           "y": 0,
           "z": 1
          }
         },
         "domain": {
          "x": [
           0,
           0.2888888888888889
          ],
          "y": [
           0,
           1
          ]
         },
         "xaxis": {
          "nticks": 8,
          "ticktext": [
           "21.3",
           "41.0",
           "49.7",
           "57.5",
           "64.3",
           "70.8",
           "78.1",
           "89.1"
          ],
          "tickvals": [
           0,
           1,
           2,
           3,
           4,
           5,
           6,
           7
          ],
          "title": {
           "text": "Percentage White Inhabitants"
          }
         },
         "yaxis": {
          "nticks": 8,
          "ticktext": [
           "21176",
           "25749",
           "28261",
           "30914",
           "34520",
           "39173",
           "45430",
           "61897"
          ],
          "tickvals": [
           0,
           1,
           2,
           3,
           4,
           5,
           6,
           7
          ],
          "title": {
           "text": "Median Household Income"
          }
         },
         "zaxis": {
          "title": {
           "text": "Kcal in the AAP by Alcohol"
          }
         }
        },
        "scene2": {
         "aspectmode": "auto",
         "aspectratio": {
          "x": 1,
          "y": 1,
          "z": 1
         },
         "domain": {
          "x": [
           0.35555555555555557,
           0.6444444444444445
          ],
          "y": [
           0,
           1
          ]
         }
        },
        "scene3": {
         "aspectmode": "auto",
         "aspectratio": {
          "x": 1,
          "y": 1,
          "z": 1
         },
         "domain": {
          "x": [
           0.7111111111111111,
           1
          ],
          "y": [
           0,
           1
          ]
         }
        },
        "template": {
         "data": {
          "bar": [
           {
            "error_x": {
             "color": "#2a3f5f"
            },
            "error_y": {
             "color": "#2a3f5f"
            },
            "marker": {
             "line": {
              "color": "#E5ECF6",
              "width": 0.5
             }
            },
            "type": "bar"
           }
          ],
          "barpolar": [
           {
            "marker": {
             "line": {
              "color": "#E5ECF6",
              "width": 0.5
             }
            },
            "type": "barpolar"
           }
          ],
          "carpet": [
           {
            "aaxis": {
             "endlinecolor": "#2a3f5f",
             "gridcolor": "white",
             "linecolor": "white",
             "minorgridcolor": "white",
             "startlinecolor": "#2a3f5f"
            },
            "baxis": {
             "endlinecolor": "#2a3f5f",
             "gridcolor": "white",
             "linecolor": "white",
             "minorgridcolor": "white",
             "startlinecolor": "#2a3f5f"
            },
            "type": "carpet"
           }
          ],
          "choropleth": [
           {
            "colorbar": {
             "outlinewidth": 0,
             "ticks": ""
            },
            "type": "choropleth"
           }
          ],
          "contour": [
           {
            "colorbar": {
             "outlinewidth": 0,
             "ticks": ""
            },
            "colorscale": [
             [
              0,
              "#0d0887"
             ],
             [
              0.1111111111111111,
              "#46039f"
             ],
             [
              0.2222222222222222,
              "#7201a8"
             ],
             [
              0.3333333333333333,
              "#9c179e"
             ],
             [
              0.4444444444444444,
              "#bd3786"
             ],
             [
              0.5555555555555556,
              "#d8576b"
             ],
             [
              0.6666666666666666,
              "#ed7953"
             ],
             [
              0.7777777777777778,
              "#fb9f3a"
             ],
             [
              0.8888888888888888,
              "#fdca26"
             ],
             [
              1,
              "#f0f921"
             ]
            ],
            "type": "contour"
           }
          ],
          "contourcarpet": [
           {
            "colorbar": {
             "outlinewidth": 0,
             "ticks": ""
            },
            "type": "contourcarpet"
           }
          ],
          "heatmap": [
           {
            "colorbar": {
             "outlinewidth": 0,
             "ticks": ""
            },
            "colorscale": [
             [
              0,
              "#0d0887"
             ],
             [
              0.1111111111111111,
              "#46039f"
             ],
             [
              0.2222222222222222,
              "#7201a8"
             ],
             [
              0.3333333333333333,
              "#9c179e"
             ],
             [
              0.4444444444444444,
              "#bd3786"
             ],
             [
              0.5555555555555556,
              "#d8576b"
             ],
             [
              0.6666666666666666,
              "#ed7953"
             ],
             [
              0.7777777777777778,
              "#fb9f3a"
             ],
             [
              0.8888888888888888,
              "#fdca26"
             ],
             [
              1,
              "#f0f921"
             ]
            ],
            "type": "heatmap"
           }
          ],
          "heatmapgl": [
           {
            "colorbar": {
             "outlinewidth": 0,
             "ticks": ""
            },
            "colorscale": [
             [
              0,
              "#0d0887"
             ],
             [
              0.1111111111111111,
              "#46039f"
             ],
             [
              0.2222222222222222,
              "#7201a8"
             ],
             [
              0.3333333333333333,
              "#9c179e"
             ],
             [
              0.4444444444444444,
              "#bd3786"
             ],
             [
              0.5555555555555556,
              "#d8576b"
             ],
             [
              0.6666666666666666,
              "#ed7953"
             ],
             [
              0.7777777777777778,
              "#fb9f3a"
             ],
             [
              0.8888888888888888,
              "#fdca26"
             ],
             [
              1,
              "#f0f921"
             ]
            ],
            "type": "heatmapgl"
           }
          ],
          "histogram": [
           {
            "marker": {
             "colorbar": {
              "outlinewidth": 0,
              "ticks": ""
             }
            },
            "type": "histogram"
           }
          ],
          "histogram2d": [
           {
            "colorbar": {
             "outlinewidth": 0,
             "ticks": ""
            },
            "colorscale": [
             [
              0,
              "#0d0887"
             ],
             [
              0.1111111111111111,
              "#46039f"
             ],
             [
              0.2222222222222222,
              "#7201a8"
             ],
             [
              0.3333333333333333,
              "#9c179e"
             ],
             [
              0.4444444444444444,
              "#bd3786"
             ],
             [
              0.5555555555555556,
              "#d8576b"
             ],
             [
              0.6666666666666666,
              "#ed7953"
             ],
             [
              0.7777777777777778,
              "#fb9f3a"
             ],
             [
              0.8888888888888888,
              "#fdca26"
             ],
             [
              1,
              "#f0f921"
             ]
            ],
            "type": "histogram2d"
           }
          ],
          "histogram2dcontour": [
           {
            "colorbar": {
             "outlinewidth": 0,
             "ticks": ""
            },
            "colorscale": [
             [
              0,
              "#0d0887"
             ],
             [
              0.1111111111111111,
              "#46039f"
             ],
             [
              0.2222222222222222,
              "#7201a8"
             ],
             [
              0.3333333333333333,
              "#9c179e"
             ],
             [
              0.4444444444444444,
              "#bd3786"
             ],
             [
              0.5555555555555556,
              "#d8576b"
             ],
             [
              0.6666666666666666,
              "#ed7953"
             ],
             [
              0.7777777777777778,
              "#fb9f3a"
             ],
             [
              0.8888888888888888,
              "#fdca26"
             ],
             [
              1,
              "#f0f921"
             ]
            ],
            "type": "histogram2dcontour"
           }
          ],
          "mesh3d": [
           {
            "colorbar": {
             "outlinewidth": 0,
             "ticks": ""
            },
            "type": "mesh3d"
           }
          ],
          "parcoords": [
           {
            "line": {
             "colorbar": {
              "outlinewidth": 0,
              "ticks": ""
             }
            },
            "type": "parcoords"
           }
          ],
          "pie": [
           {
            "automargin": true,
            "type": "pie"
           }
          ],
          "scatter": [
           {
            "marker": {
             "colorbar": {
              "outlinewidth": 0,
              "ticks": ""
             }
            },
            "type": "scatter"
           }
          ],
          "scatter3d": [
           {
            "line": {
             "colorbar": {
              "outlinewidth": 0,
              "ticks": ""
             }
            },
            "marker": {
             "colorbar": {
              "outlinewidth": 0,
              "ticks": ""
             }
            },
            "type": "scatter3d"
           }
          ],
          "scattercarpet": [
           {
            "marker": {
             "colorbar": {
              "outlinewidth": 0,
              "ticks": ""
             }
            },
            "type": "scattercarpet"
           }
          ],
          "scattergeo": [
           {
            "marker": {
             "colorbar": {
              "outlinewidth": 0,
              "ticks": ""
             }
            },
            "type": "scattergeo"
           }
          ],
          "scattergl": [
           {
            "marker": {
             "colorbar": {
              "outlinewidth": 0,
              "ticks": ""
             }
            },
            "type": "scattergl"
           }
          ],
          "scattermapbox": [
           {
            "marker": {
             "colorbar": {
              "outlinewidth": 0,
              "ticks": ""
             }
            },
            "type": "scattermapbox"
           }
          ],
          "scatterpolar": [
           {
            "marker": {
             "colorbar": {
              "outlinewidth": 0,
              "ticks": ""
             }
            },
            "type": "scatterpolar"
           }
          ],
          "scatterpolargl": [
           {
            "marker": {
             "colorbar": {
              "outlinewidth": 0,
              "ticks": ""
             }
            },
            "type": "scatterpolargl"
           }
          ],
          "scatterternary": [
           {
            "marker": {
             "colorbar": {
              "outlinewidth": 0,
              "ticks": ""
             }
            },
            "type": "scatterternary"
           }
          ],
          "surface": [
           {
            "colorbar": {
             "outlinewidth": 0,
             "ticks": ""
            },
            "colorscale": [
             [
              0,
              "#0d0887"
             ],
             [
              0.1111111111111111,
              "#46039f"
             ],
             [
              0.2222222222222222,
              "#7201a8"
             ],
             [
              0.3333333333333333,
              "#9c179e"
             ],
             [
              0.4444444444444444,
              "#bd3786"
             ],
             [
              0.5555555555555556,
              "#d8576b"
             ],
             [
              0.6666666666666666,
              "#ed7953"
             ],
             [
              0.7777777777777778,
              "#fb9f3a"
             ],
             [
              0.8888888888888888,
              "#fdca26"
             ],
             [
              1,
              "#f0f921"
             ]
            ],
            "type": "surface"
           }
          ],
          "table": [
           {
            "cells": {
             "fill": {
              "color": "#EBF0F8"
             },
             "line": {
              "color": "white"
             }
            },
            "header": {
             "fill": {
              "color": "#C8D4E3"
             },
             "line": {
              "color": "white"
             }
            },
            "type": "table"
           }
          ]
         },
         "layout": {
          "annotationdefaults": {
           "arrowcolor": "#2a3f5f",
           "arrowhead": 0,
           "arrowwidth": 1
          },
          "coloraxis": {
           "colorbar": {
            "outlinewidth": 0,
            "ticks": ""
           }
          },
          "colorscale": {
           "diverging": [
            [
             0,
             "#8e0152"
            ],
            [
             0.1,
             "#c51b7d"
            ],
            [
             0.2,
             "#de77ae"
            ],
            [
             0.3,
             "#f1b6da"
            ],
            [
             0.4,
             "#fde0ef"
            ],
            [
             0.5,
             "#f7f7f7"
            ],
            [
             0.6,
             "#e6f5d0"
            ],
            [
             0.7,
             "#b8e186"
            ],
            [
             0.8,
             "#7fbc41"
            ],
            [
             0.9,
             "#4d9221"
            ],
            [
             1,
             "#276419"
            ]
           ],
           "sequential": [
            [
             0,
             "#0d0887"
            ],
            [
             0.1111111111111111,
             "#46039f"
            ],
            [
             0.2222222222222222,
             "#7201a8"
            ],
            [
             0.3333333333333333,
             "#9c179e"
            ],
            [
             0.4444444444444444,
             "#bd3786"
            ],
            [
             0.5555555555555556,
             "#d8576b"
            ],
            [
             0.6666666666666666,
             "#ed7953"
            ],
            [
             0.7777777777777778,
             "#fb9f3a"
            ],
            [
             0.8888888888888888,
             "#fdca26"
            ],
            [
             1,
             "#f0f921"
            ]
           ],
           "sequentialminus": [
            [
             0,
             "#0d0887"
            ],
            [
             0.1111111111111111,
             "#46039f"
            ],
            [
             0.2222222222222222,
             "#7201a8"
            ],
            [
             0.3333333333333333,
             "#9c179e"
            ],
            [
             0.4444444444444444,
             "#bd3786"
            ],
            [
             0.5555555555555556,
             "#d8576b"
            ],
            [
             0.6666666666666666,
             "#ed7953"
            ],
            [
             0.7777777777777778,
             "#fb9f3a"
            ],
            [
             0.8888888888888888,
             "#fdca26"
            ],
            [
             1,
             "#f0f921"
            ]
           ]
          },
          "colorway": [
           "#636efa",
           "#EF553B",
           "#00cc96",
           "#ab63fa",
           "#FFA15A",
           "#19d3f3",
           "#FF6692",
           "#B6E880",
           "#FF97FF",
           "#FECB52"
          ],
          "font": {
           "color": "#2a3f5f"
          },
          "geo": {
           "bgcolor": "white",
           "lakecolor": "white",
           "landcolor": "#E5ECF6",
           "showlakes": true,
           "showland": true,
           "subunitcolor": "white"
          },
          "hoverlabel": {
           "align": "left"
          },
          "hovermode": "closest",
          "mapbox": {
           "style": "light"
          },
          "paper_bgcolor": "white",
          "plot_bgcolor": "#E5ECF6",
          "polar": {
           "angularaxis": {
            "gridcolor": "white",
            "linecolor": "white",
            "ticks": ""
           },
           "bgcolor": "#E5ECF6",
           "radialaxis": {
            "gridcolor": "white",
            "linecolor": "white",
            "ticks": ""
           }
          },
          "scene": {
           "xaxis": {
            "backgroundcolor": "#E5ECF6",
            "gridcolor": "white",
            "gridwidth": 2,
            "linecolor": "white",
            "showbackground": true,
            "ticks": "",
            "zerolinecolor": "white"
           },
           "yaxis": {
            "backgroundcolor": "#E5ECF6",
            "gridcolor": "white",
            "gridwidth": 2,
            "linecolor": "white",
            "showbackground": true,
            "ticks": "",
            "zerolinecolor": "white"
           },
           "zaxis": {
            "backgroundcolor": "#E5ECF6",
            "gridcolor": "white",
            "gridwidth": 2,
            "linecolor": "white",
            "showbackground": true,
            "ticks": "",
            "zerolinecolor": "white"
           }
          },
          "shapedefaults": {
           "line": {
            "color": "#2a3f5f"
           }
          },
          "ternary": {
           "aaxis": {
            "gridcolor": "white",
            "linecolor": "white",
            "ticks": ""
           },
           "baxis": {
            "gridcolor": "white",
            "linecolor": "white",
            "ticks": ""
           },
           "bgcolor": "#E5ECF6",
           "caxis": {
            "gridcolor": "white",
            "linecolor": "white",
            "ticks": ""
           }
          },
          "title": {
           "x": 0.05
          },
          "xaxis": {
           "automargin": true,
           "gridcolor": "white",
           "linecolor": "white",
           "ticks": "",
           "title": {
            "standoff": 15
           },
           "zerolinecolor": "white",
           "zerolinewidth": 2
          },
          "yaxis": {
           "automargin": true,
           "gridcolor": "white",
           "linecolor": "white",
           "ticks": "",
           "title": {
            "standoff": 15
           },
           "zerolinecolor": "white",
           "zerolinewidth": 2
          }
         }
        },
        "title": {
         "text": "Interaction between Household Income, Ethnicity and Alcohol Consumption"
        }
       }
      },
      "text/html": [
       "<div>                            <div id=\"fba97255-5303-4e00-8881-e28352fab288\" class=\"plotly-graph-div\" style=\"height:525px; width:100%;\"></div>            <script type=\"text/javascript\">                require([\"plotly\"], function(Plotly) {                    window.PLOTLYENV=window.PLOTLYENV || {};                                    if (document.getElementById(\"fba97255-5303-4e00-8881-e28352fab288\")) {                    Plotly.newPlot(                        \"fba97255-5303-4e00-8881-e28352fab288\",                        [{\"scene\": \"scene\", \"showlegend\": false, \"showscale\": false, \"type\": \"surface\", \"z\": [[0.0039573410553487625, 0.003776318335603666, 0.0037739067506579434, 0.003605146824161249, 0.002548508543295685, 0.005488326060551532, 0.00461285085082982, 0.0032457089308810167], [0.00407358152005882, 0.00427439205540933, 0.003527234600108372, 0.003996660822089175, 0.003936675248083418, 0.003970997093606936, 0.003716345036567529, 0.002964619752230873], [0.0037822780437449526, 0.003958886425335696, 0.0037152762802579588, 0.0032299706012078656, 0.00315649503413283, 0.004417715416063561, 0.0033014426673989524, 0.0029580931518179985], [0.003363434274620083, 0.003977974983854795, 0.0035363615571733105, 0.003232786692626034, 0.00325029085936213, 0.002905754087559448, 0.00351646716870005, 0.002927966427596358], [0.004050480320947412, 0.003827405029579229, 0.0034358376518371127, 0.003312985087001961, 0.003061553258622089, 0.0035162395850373944, 0.0028352875890579857, 0.0030077996772782632], [0.0030792183520524713, 0.002977649255011862, 0.0030378527643067157, 0.0032307308309779095, 0.003419698267056229, 0.0031118681096800383, 0.002793973520378236, 0.0028317520112613012], [0.0027850091388754673, 0.002615957884702875, 0.0025243058163249388, 0.0026183666734469354, 0.002962021321015211, 0.0030108782638074575, 0.0029077109044152354, 0.0025676868246272484], [0.0027022232490212174, 0.0023375023787083503, 0.0015824921588654748, 0.0020819398356328777, 0.002291134779620552, 0.0029166219501503303, 0.002657654131419945, 0.0029767597590660763]]}, {\"scene\": \"scene2\", \"showlegend\": false, \"showscale\": false, \"type\": \"surface\", \"z\": [[0.008236139628278287, 0.010273435390503296, 0.010604406746322976, 0.015828249380271296, 0.01790906458152331, 0.010684241306401549, 0.014311797521869084, 0.009515576455517871], [0.008171086762266414, 0.013211002080297927, 0.013007276025797543, 0.013045293795941116, 0.01531943958674476, 0.011788024733188638, 0.012025435224270194, 0.011473444686922296], [0.010535760333437515, 0.013152553213135671, 0.014943475603151825, 0.013760490912243512, 0.01506364145637264, 0.01207328249952059, 0.013952096808405434, 0.012606597066284383], [0.008682508378606105, 0.011032517872418669, 0.014821013619166212, 0.015717042456335668, 0.01692972138966162, 0.021503838624371517, 0.01594367170707049, 0.012298160538964629], [0.009399087135583784, 0.011486716400542229, 0.01529094270793016, 0.017712406906248743, 0.01814029376878582, 0.019214730339503338, 0.018491145309719854, 0.014642334113270561], [0.009468335540277439, 0.014281630126645234, 0.01381298741989514, 0.016685524876866153, 0.018070114228286995, 0.019621062071920166, 0.020817626946215632, 0.016672987203257484], [0.007297207044593352, 0.009063779544617515, 0.016244801356274152, 0.016699311100600245, 0.020539914491244725, 0.02022747794130256, 0.023287451380539698, 0.01961507071427672], [0.017525258567697908, 0.016831515525660833, 0.019324663863068785, 0.018993760344579603, 0.016187960447232936, 0.021086001022124996, 0.0234703270848073, 0.026918296273029812]]}, {\"scene\": \"scene3\", \"showlegend\": false, \"showscale\": false, \"type\": \"surface\", \"z\": [[0.010358290392061802, 0.01088995815682517, 0.011483304793393455, 0.016829909476704933, 0.01941500144801622, 0.013405911197084891, 0.012205627749621813, 0.012146145984563194], [0.011249918430573467, 0.013063064468202198, 0.012671960414295693, 0.012744920263601437, 0.015579771705012239, 0.013570279891320881, 0.017444054769055008, 0.01346384757550863], [0.01212119155710567, 0.012786248128016415, 0.01452110483720684, 0.01272776985197427, 0.013605541810660125, 0.012311208758300388, 0.01762776288543247, 0.011535495822084704], [0.01169084201319223, 0.019116421234748195, 0.013108750292071071, 0.01427712551614671, 0.015192065965686596, 0.016000756089379273, 0.01376807266558754, 0.010308811241875616], [0.011220956427980055, 0.014052737470480107, 0.014791976960758617, 0.015185834532230751, 0.01472360951450955, 0.01652143381367372, 0.016913903815260554, 0.014196287125429944], [0.011684583561590687, 0.011665701027633797, 0.012627535050766798, 0.013884252408148908, 0.01410405397103859, 0.014984507584406236, 0.014898139405861382, 0.014659759779011244], [0.008147268885106836, 0.007192530167464633, 0.01479218947625806, 0.011465127936876976, 0.014082593671228497, 0.014892871101054635, 0.01583925984829936, 0.01525848180082028], [0.01081714405944066, 0.01838086005103547, 0.01541788634586964, 0.012321713170702358, 0.012453003173300177, 0.01400772778163583, 0.015388990795557984, 0.01729652112099254]]}],                        {\"annotations\": [{\"font\": {\"size\": 16}, \"showarrow\": false, \"text\": \"Spirits\", \"x\": 0.14444444444444446, \"xanchor\": \"center\", \"xref\": \"paper\", \"y\": 1.0, \"yanchor\": \"bottom\", \"yref\": \"paper\"}, {\"font\": {\"size\": 16}, \"showarrow\": false, \"text\": \"Wine\", \"x\": 0.5, \"xanchor\": \"center\", \"xref\": \"paper\", \"y\": 1.0, \"yanchor\": \"bottom\", \"yref\": \"paper\"}, {\"font\": {\"size\": 16}, \"showarrow\": false, \"text\": \"Beer\", \"x\": 0.8555555555555556, \"xanchor\": \"center\", \"xref\": \"paper\", \"y\": 1.0, \"yanchor\": \"bottom\", \"yref\": \"paper\"}], \"margin\": {\"b\": 40, \"l\": 40, \"r\": 40, \"t\": 40}, \"scene\": {\"domain\": {\"x\": [0.0, 0.2888888888888889], \"y\": [0.0, 1.0]}, \"xaxis\": {\"nticks\": 8, \"ticktext\": [\"21.3\", \"41.0\", \"49.7\", \"57.5\", \"64.3\", \"70.8\", \"78.1\", \"89.1\"], \"tickvals\": [0, 1, 2, 3, 4, 5, 6, 7], \"title\": {\"text\": \"Percentage White Inhabitants\"}}, \"yaxis\": {\"nticks\": 8, \"ticktext\": [\"21176\", \"25749\", \"28261\", \"30914\", \"34520\", \"39173\", \"45430\", \"61897\"], \"tickvals\": [0, 1, 2, 3, 4, 5, 6, 7], \"title\": {\"text\": \"Median Household Income\"}}, \"zaxis\": {\"title\": {\"text\": \"Kcal in the AAP by Alcohol\"}}}, \"scene2\": {\"domain\": {\"x\": [0.35555555555555557, 0.6444444444444445], \"y\": [0.0, 1.0]}}, \"scene3\": {\"domain\": {\"x\": [0.7111111111111111, 1.0], \"y\": [0.0, 1.0]}}, \"template\": {\"data\": {\"bar\": [{\"error_x\": {\"color\": \"#2a3f5f\"}, \"error_y\": {\"color\": \"#2a3f5f\"}, \"marker\": {\"line\": {\"color\": \"#E5ECF6\", \"width\": 0.5}}, \"type\": \"bar\"}], \"barpolar\": [{\"marker\": {\"line\": {\"color\": \"#E5ECF6\", \"width\": 0.5}}, \"type\": \"barpolar\"}], \"carpet\": [{\"aaxis\": {\"endlinecolor\": \"#2a3f5f\", \"gridcolor\": \"white\", \"linecolor\": \"white\", \"minorgridcolor\": \"white\", \"startlinecolor\": \"#2a3f5f\"}, \"baxis\": {\"endlinecolor\": \"#2a3f5f\", \"gridcolor\": \"white\", \"linecolor\": \"white\", \"minorgridcolor\": \"white\", \"startlinecolor\": \"#2a3f5f\"}, \"type\": \"carpet\"}], \"choropleth\": [{\"colorbar\": {\"outlinewidth\": 0, \"ticks\": \"\"}, \"type\": \"choropleth\"}], \"contour\": [{\"colorbar\": {\"outlinewidth\": 0, \"ticks\": \"\"}, \"colorscale\": [[0.0, \"#0d0887\"], [0.1111111111111111, \"#46039f\"], [0.2222222222222222, \"#7201a8\"], [0.3333333333333333, \"#9c179e\"], [0.4444444444444444, \"#bd3786\"], [0.5555555555555556, \"#d8576b\"], [0.6666666666666666, \"#ed7953\"], [0.7777777777777778, \"#fb9f3a\"], [0.8888888888888888, \"#fdca26\"], [1.0, \"#f0f921\"]], \"type\": \"contour\"}], \"contourcarpet\": [{\"colorbar\": {\"outlinewidth\": 0, \"ticks\": \"\"}, \"type\": \"contourcarpet\"}], \"heatmap\": [{\"colorbar\": {\"outlinewidth\": 0, \"ticks\": \"\"}, \"colorscale\": [[0.0, \"#0d0887\"], [0.1111111111111111, \"#46039f\"], [0.2222222222222222, \"#7201a8\"], [0.3333333333333333, \"#9c179e\"], [0.4444444444444444, \"#bd3786\"], [0.5555555555555556, \"#d8576b\"], [0.6666666666666666, \"#ed7953\"], [0.7777777777777778, \"#fb9f3a\"], [0.8888888888888888, \"#fdca26\"], [1.0, \"#f0f921\"]], \"type\": \"heatmap\"}], \"heatmapgl\": [{\"colorbar\": {\"outlinewidth\": 0, \"ticks\": \"\"}, \"colorscale\": [[0.0, \"#0d0887\"], [0.1111111111111111, \"#46039f\"], [0.2222222222222222, \"#7201a8\"], [0.3333333333333333, \"#9c179e\"], [0.4444444444444444, \"#bd3786\"], [0.5555555555555556, \"#d8576b\"], [0.6666666666666666, \"#ed7953\"], [0.7777777777777778, \"#fb9f3a\"], [0.8888888888888888, \"#fdca26\"], [1.0, \"#f0f921\"]], \"type\": \"heatmapgl\"}], \"histogram\": [{\"marker\": {\"colorbar\": {\"outlinewidth\": 0, \"ticks\": \"\"}}, \"type\": \"histogram\"}], \"histogram2d\": [{\"colorbar\": {\"outlinewidth\": 0, \"ticks\": \"\"}, \"colorscale\": [[0.0, \"#0d0887\"], [0.1111111111111111, \"#46039f\"], [0.2222222222222222, \"#7201a8\"], [0.3333333333333333, \"#9c179e\"], [0.4444444444444444, \"#bd3786\"], [0.5555555555555556, \"#d8576b\"], [0.6666666666666666, \"#ed7953\"], [0.7777777777777778, \"#fb9f3a\"], [0.8888888888888888, \"#fdca26\"], [1.0, \"#f0f921\"]], \"type\": \"histogram2d\"}], \"histogram2dcontour\": [{\"colorbar\": {\"outlinewidth\": 0, \"ticks\": \"\"}, \"colorscale\": [[0.0, \"#0d0887\"], [0.1111111111111111, \"#46039f\"], [0.2222222222222222, \"#7201a8\"], [0.3333333333333333, \"#9c179e\"], [0.4444444444444444, \"#bd3786\"], [0.5555555555555556, \"#d8576b\"], [0.6666666666666666, \"#ed7953\"], [0.7777777777777778, \"#fb9f3a\"], [0.8888888888888888, \"#fdca26\"], [1.0, \"#f0f921\"]], \"type\": \"histogram2dcontour\"}], \"mesh3d\": [{\"colorbar\": {\"outlinewidth\": 0, \"ticks\": \"\"}, \"type\": \"mesh3d\"}], \"parcoords\": [{\"line\": {\"colorbar\": {\"outlinewidth\": 0, \"ticks\": \"\"}}, \"type\": \"parcoords\"}], \"pie\": [{\"automargin\": true, \"type\": \"pie\"}], \"scatter\": [{\"marker\": {\"colorbar\": {\"outlinewidth\": 0, \"ticks\": \"\"}}, \"type\": \"scatter\"}], \"scatter3d\": [{\"line\": {\"colorbar\": {\"outlinewidth\": 0, \"ticks\": \"\"}}, \"marker\": {\"colorbar\": {\"outlinewidth\": 0, \"ticks\": \"\"}}, \"type\": \"scatter3d\"}], \"scattercarpet\": [{\"marker\": {\"colorbar\": {\"outlinewidth\": 0, \"ticks\": \"\"}}, \"type\": \"scattercarpet\"}], \"scattergeo\": [{\"marker\": {\"colorbar\": {\"outlinewidth\": 0, \"ticks\": \"\"}}, \"type\": \"scattergeo\"}], \"scattergl\": [{\"marker\": {\"colorbar\": {\"outlinewidth\": 0, \"ticks\": \"\"}}, \"type\": \"scattergl\"}], \"scattermapbox\": [{\"marker\": {\"colorbar\": {\"outlinewidth\": 0, \"ticks\": \"\"}}, \"type\": \"scattermapbox\"}], \"scatterpolar\": [{\"marker\": {\"colorbar\": {\"outlinewidth\": 0, \"ticks\": \"\"}}, \"type\": \"scatterpolar\"}], \"scatterpolargl\": [{\"marker\": {\"colorbar\": {\"outlinewidth\": 0, \"ticks\": \"\"}}, \"type\": \"scatterpolargl\"}], \"scatterternary\": [{\"marker\": {\"colorbar\": {\"outlinewidth\": 0, \"ticks\": \"\"}}, \"type\": \"scatterternary\"}], \"surface\": [{\"colorbar\": {\"outlinewidth\": 0, \"ticks\": \"\"}, \"colorscale\": [[0.0, \"#0d0887\"], [0.1111111111111111, \"#46039f\"], [0.2222222222222222, \"#7201a8\"], [0.3333333333333333, \"#9c179e\"], [0.4444444444444444, \"#bd3786\"], [0.5555555555555556, \"#d8576b\"], [0.6666666666666666, \"#ed7953\"], [0.7777777777777778, \"#fb9f3a\"], [0.8888888888888888, \"#fdca26\"], [1.0, \"#f0f921\"]], \"type\": \"surface\"}], \"table\": [{\"cells\": {\"fill\": {\"color\": \"#EBF0F8\"}, \"line\": {\"color\": \"white\"}}, \"header\": {\"fill\": {\"color\": \"#C8D4E3\"}, \"line\": {\"color\": \"white\"}}, \"type\": \"table\"}]}, \"layout\": {\"annotationdefaults\": {\"arrowcolor\": \"#2a3f5f\", \"arrowhead\": 0, \"arrowwidth\": 1}, \"coloraxis\": {\"colorbar\": {\"outlinewidth\": 0, \"ticks\": \"\"}}, \"colorscale\": {\"diverging\": [[0, \"#8e0152\"], [0.1, \"#c51b7d\"], [0.2, \"#de77ae\"], [0.3, \"#f1b6da\"], [0.4, \"#fde0ef\"], [0.5, \"#f7f7f7\"], [0.6, \"#e6f5d0\"], [0.7, \"#b8e186\"], [0.8, \"#7fbc41\"], [0.9, \"#4d9221\"], [1, \"#276419\"]], \"sequential\": [[0.0, \"#0d0887\"], [0.1111111111111111, \"#46039f\"], [0.2222222222222222, \"#7201a8\"], [0.3333333333333333, \"#9c179e\"], [0.4444444444444444, \"#bd3786\"], [0.5555555555555556, \"#d8576b\"], [0.6666666666666666, \"#ed7953\"], [0.7777777777777778, \"#fb9f3a\"], [0.8888888888888888, \"#fdca26\"], [1.0, \"#f0f921\"]], \"sequentialminus\": [[0.0, \"#0d0887\"], [0.1111111111111111, \"#46039f\"], [0.2222222222222222, \"#7201a8\"], [0.3333333333333333, \"#9c179e\"], [0.4444444444444444, \"#bd3786\"], [0.5555555555555556, \"#d8576b\"], [0.6666666666666666, \"#ed7953\"], [0.7777777777777778, \"#fb9f3a\"], [0.8888888888888888, \"#fdca26\"], [1.0, \"#f0f921\"]]}, \"colorway\": [\"#636efa\", \"#EF553B\", \"#00cc96\", \"#ab63fa\", \"#FFA15A\", \"#19d3f3\", \"#FF6692\", \"#B6E880\", \"#FF97FF\", \"#FECB52\"], \"font\": {\"color\": \"#2a3f5f\"}, \"geo\": {\"bgcolor\": \"white\", \"lakecolor\": \"white\", \"landcolor\": \"#E5ECF6\", \"showlakes\": true, \"showland\": true, \"subunitcolor\": \"white\"}, \"hoverlabel\": {\"align\": \"left\"}, \"hovermode\": \"closest\", \"mapbox\": {\"style\": \"light\"}, \"paper_bgcolor\": \"white\", \"plot_bgcolor\": \"#E5ECF6\", \"polar\": {\"angularaxis\": {\"gridcolor\": \"white\", \"linecolor\": \"white\", \"ticks\": \"\"}, \"bgcolor\": \"#E5ECF6\", \"radialaxis\": {\"gridcolor\": \"white\", \"linecolor\": \"white\", \"ticks\": \"\"}}, \"scene\": {\"xaxis\": {\"backgroundcolor\": \"#E5ECF6\", \"gridcolor\": \"white\", \"gridwidth\": 2, \"linecolor\": \"white\", \"showbackground\": true, \"ticks\": \"\", \"zerolinecolor\": \"white\"}, \"yaxis\": {\"backgroundcolor\": \"#E5ECF6\", \"gridcolor\": \"white\", \"gridwidth\": 2, \"linecolor\": \"white\", \"showbackground\": true, \"ticks\": \"\", \"zerolinecolor\": \"white\"}, \"zaxis\": {\"backgroundcolor\": \"#E5ECF6\", \"gridcolor\": \"white\", \"gridwidth\": 2, \"linecolor\": \"white\", \"showbackground\": true, \"ticks\": \"\", \"zerolinecolor\": \"white\"}}, \"shapedefaults\": {\"line\": {\"color\": \"#2a3f5f\"}}, \"ternary\": {\"aaxis\": {\"gridcolor\": \"white\", \"linecolor\": \"white\", \"ticks\": \"\"}, \"baxis\": {\"gridcolor\": \"white\", \"linecolor\": \"white\", \"ticks\": \"\"}, \"bgcolor\": \"#E5ECF6\", \"caxis\": {\"gridcolor\": \"white\", \"linecolor\": \"white\", \"ticks\": \"\"}}, \"title\": {\"x\": 0.05}, \"xaxis\": {\"automargin\": true, \"gridcolor\": \"white\", \"linecolor\": \"white\", \"ticks\": \"\", \"title\": {\"standoff\": 15}, \"zerolinecolor\": \"white\", \"zerolinewidth\": 2}, \"yaxis\": {\"automargin\": true, \"gridcolor\": \"white\", \"linecolor\": \"white\", \"ticks\": \"\", \"title\": {\"standoff\": 15}, \"zerolinecolor\": \"white\", \"zerolinewidth\": 2}}}, \"title\": {\"text\": \"Interaction between Household Income, Ethnicity and Alcohol Consumption\"}},                        {\"responsive\": true}                    ).then(function(){\n",
       "                            \n",
       "var gd = document.getElementById('fba97255-5303-4e00-8881-e28352fab288');\n",
       "var x = new MutationObserver(function (mutations, observer) {{\n",
       "        var display = window.getComputedStyle(gd).display;\n",
       "        if (!display || display === 'none') {{\n",
       "            console.log([gd, 'removed!']);\n",
       "            Plotly.purge(gd);\n",
       "            observer.disconnect();\n",
       "        }}\n",
       "}});\n",
       "\n",
       "// Listen for the removal of the full notebook cells\n",
       "var notebookContainer = gd.closest('#notebook-container');\n",
       "if (notebookContainer) {{\n",
       "    x.observe(notebookContainer, {childList: true});\n",
       "}}\n",
       "\n",
       "// Listen for the clearing of the current output cell\n",
       "var outputEl = gd.closest('.output');\n",
       "if (outputEl) {{\n",
       "    x.observe(outputEl, {childList: true});\n",
       "}}\n",
       "\n",
       "                        })                };                });            </script>        </div>"
      ]
     },
     "metadata": {},
     "output_type": "display_data"
    }
   ],
   "source": [
    "three_D_multi_plot_factory(\n",
    "                     dataframe = msoa_combined_year,\n",
    "                     x_axis  =\"annual_median_income_2011\" ,\n",
    "                     y_axis  = \"perc_ethnicity_white_2011\",\n",
    "                     title   = \"Interaction between Household Income, Ethnicity and Alcohol Consumption\",\n",
    "                     x_title = \"Percentage White Inhabitants\",\n",
    "                     y_title = \"Median Household Income\",\n",
    "                     z_title = \"Kcal in the AAP by Alcohol\",\n",
    "                     aggfunc = np.mean, \n",
    "                     category_z  = [\"f_spirits\", \"f_wine\", \"f_beer\"],\n",
    "                     html_name   = \"3D_Multi_Plot_Test\",\n",
    "                     output_html = False,\n",
    "                     auto_commit = True,\n",
    "                     quantiles   = [0,.125,.25,.375,.5, .625,.75,.875,1],\n",
    "                     ).show() "
   ]
  },
  {
   "cell_type": "code",
   "execution_count": 296,
   "metadata": {},
   "outputs": [],
   "source": [
    "# Genrates an interactive 3D Plot and generate an HTML \n",
    "def three_D_multi_plot_factory(dataframe,x_axis, y_axis, category_z ,quantiles, aggfunc, title = \"\", x_title =\"\",  y_title = \"\", z_title = [\"\",\"\"], html_name = \"\", output_html = False, auto_commit = False):\n",
    "    \n",
    "    if len(category_z) > 3:\n",
    "        cols = 2 \n",
    "        rows = math.ceil(len(category_z)/2)\n",
    "        [[{'is_3d': True},{'is_3d': True}] for x in range(rows)]\n",
    "    else:\n",
    "        cols = len(category_z)\n",
    "        rows = 1\n",
    "        specs = [[{'is_3d': True} for x in range(cols)]]\n",
    "        \n",
    "    fig = make_subplots(rows=rows, cols=cols,subplot_titles=(category_z), specs= specs, shared_xaxes = True, shared_yaxes = True)\n",
    "\n",
    "    for z_axis, index in zip(category_z, it.product(range(1, rows + 1), range(1, cols + 1))) :\n",
    "        slice_df = dataframe[[x_axis] + [y_axis] + [z_axis]].copy()\n",
    "        slice_df[x_axis] = pd.qcut(x = slice_df[x_axis], q = quantiles)\n",
    "        slice_df[y_axis] = pd.qcut(x = slice_df[y_axis], q = quantiles)\n",
    "        pivot_slice_df = slice_df.pivot_table(index = x_axis,columns = y_axis, values = z_axis, aggfunc = aggfunc)\n",
    "\n",
    "        imputer = KNNImputer(n_neighbors=3)\n",
    "        pivot_slice_df = pd.DataFrame(imputer.fit_transform(pivot_slice_df), columns = pivot_slice_df.columns, index = pivot_slice_df.index)\n",
    "        \n",
    "        fig.add_trace(go.Surface(\n",
    "                      z   = pivot_slice_df.values,\n",
    "                      showlegend= False,\n",
    "                      showscale=False,\n",
    "                      ),row = index[0], col = index[1])\n",
    "            \n",
    "    fig.update_layout(title = title, \n",
    "                          scene = dict(\n",
    "                                xaxis = dict(\n",
    "                                    title = x_title,\n",
    "                                    nticks = len(pivot_slice_df.columns.tolist()),\n",
    "                                    tickvals = list(range(len(pivot_slice_df.columns.tolist()))), \n",
    "                                    ticktext= [\"{:.1f}\".format((x.left + x.right)/2) for x in pivot_slice_df.columns.tolist()]),\n",
    "                                yaxis = dict(\n",
    "                                    title = y_title,\n",
    "                                    nticks = len(pivot_slice_df.index.tolist()),\n",
    "                                    tickvals = list(range(len(pivot_slice_df.index.tolist()))), \n",
    "                                    ticktext= [\"{:.0f}\".format((x.left + x.right)/2) for x in pivot_slice_df.index.tolist()]),\n",
    "                                zaxis_title= z_title),\n",
    "                          margin=dict(r=40, b=40, l=40, t=40)) \n",
    "    \n",
    "    fw=go.FigureWidget(fig)\n",
    "    \n",
    "    # So akward, but works better than everything else I tried.\n",
    "    with fw.batch_update():\n",
    "        for x in range(1,len(category_z)+1):\n",
    "            fw.layout[\"scene\" + str(x)] = scene = dict(\n",
    "                                              xaxis = dict(\n",
    "                                                title = x_title,\n",
    "                                                nticks = len(pivot_slice_df.columns.tolist()),\n",
    "                                                tickvals = list(range(len(pivot_slice_df.columns.tolist()))), \n",
    "                                                ticktext= [\"{:.1f}\".format((x.left + x.right)/2) for x in pivot_slice_df.columns.tolist()]),\n",
    "                                              yaxis = dict(\n",
    "                                                title = y_title,\n",
    "                                                nticks = len(pivot_slice_df.index.tolist()),\n",
    "                                                tickvals = list(range(len(pivot_slice_df.index.tolist()))), \n",
    "                                                ticktext= [\"{:.0f}\".format((x.left + x.right)/2) for x in pivot_slice_df.index.tolist()]),\n",
    "                                              zaxis_title= z_title) \n",
    "                 \n",
    "    if output_html:\n",
    "        print(\"Writing HTML to Repo...\")\n",
    "        fig.write_html(\"../fierceeagle.github.io/_includes/\"+ html_name+\".html\")\n",
    "        print(\"Ave Imperator, morituri te salutant\")\n",
    "        \n",
    "        # Calling Systems Command in a Jupyter Notebook (Trust me I am an Engineer)\n",
    "        if auto_commit: \n",
    "            %cd -q ../fierceeagle.github.io/\n",
    "            # Adds the Plot if new Name\n",
    "            print(\"Adding new Files ...\")\n",
    "            !git add *.html\n",
    "            print(\"Commiting Changes ...\")\n",
    "            !git commit -m\"Added/Changed Plot\" --quiet\n",
    "            print(\"Pulling previous Changes ... \")\n",
    "            !git pull --quiet\n",
    "            print(\"Pushing to Remote...\")\n",
    "            !git push --quiet\n",
    "            print(\"Finished\")\n",
    "    \n",
    "    return fw"
   ]
  },
  {
   "cell_type": "code",
   "execution_count": 298,
   "metadata": {},
   "outputs": [
    {
     "data": {
      "application/vnd.plotly.v1+json": {
       "config": {
        "plotlyServerURL": "https://plot.ly"
       },
       "data": [
        {
         "colorscale": [
          [
           0,
           "#00083e"
          ],
          [
           0.5,
           "#ededee"
          ],
          [
           1,
           "#ffffff"
          ]
         ],
         "hoverinfo": "none",
         "opacity": 0.75,
         "showscale": false,
         "type": "heatmap",
         "z": [
          [
           0,
           0,
           0,
           0,
           0
          ],
          [
           0.5,
           0.5,
           0.5,
           0.5,
           0.5
          ],
          [
           1,
           1,
           1,
           1,
           1
          ],
          [
           0.5,
           0.5,
           0.5,
           0.5,
           0.5
          ],
          [
           1,
           1,
           1,
           1,
           1
          ],
          [
           0.5,
           0.5,
           0.5,
           0.5,
           0.5
          ]
         ]
        }
       ],
       "layout": {
        "annotations": [
         {
          "align": "left",
          "font": {
           "color": "#ffffff"
          },
          "showarrow": false,
          "text": "<b>antecedents</b>",
          "x": -0.45,
          "xanchor": "left",
          "xref": "x",
          "y": 0,
          "yref": "y"
         },
         {
          "align": "left",
          "font": {
           "color": "#ffffff"
          },
          "showarrow": false,
          "text": "<b>consequents</b>",
          "x": 0.55,
          "xanchor": "left",
          "xref": "x",
          "y": 0,
          "yref": "y"
         },
         {
          "align": "left",
          "font": {
           "color": "#ffffff"
          },
          "showarrow": false,
          "text": "<b>support</b>",
          "x": 1.55,
          "xanchor": "left",
          "xref": "x",
          "y": 0,
          "yref": "y"
         },
         {
          "align": "left",
          "font": {
           "color": "#ffffff"
          },
          "showarrow": false,
          "text": "<b>confidence</b>",
          "x": 2.55,
          "xanchor": "left",
          "xref": "x",
          "y": 0,
          "yref": "y"
         },
         {
          "align": "left",
          "font": {
           "color": "#ffffff"
          },
          "showarrow": false,
          "text": "<b>lift</b>",
          "x": 3.55,
          "xanchor": "left",
          "xref": "x",
          "y": 0,
          "yref": "y"
         },
         {
          "align": "left",
          "font": {
           "color": "#000000"
          },
          "showarrow": false,
          "text": "Fibre ⇗<br>Carb ⇘<br>Alcohol ⇗<br>",
          "x": -0.45,
          "xanchor": "left",
          "xref": "x",
          "y": 1,
          "yref": "y"
         },
         {
          "align": "left",
          "font": {
           "color": "#000000"
          },
          "showarrow": false,
          "text": "Median income ⇗<br>",
          "x": 0.55,
          "xanchor": "left",
          "xref": "x",
          "y": 1,
          "yref": "y"
         },
         {
          "align": "left",
          "font": {
           "color": "#000000"
          },
          "showarrow": false,
          "text": "0.054",
          "x": 1.55,
          "xanchor": "left",
          "xref": "x",
          "y": 1,
          "yref": "y"
         },
         {
          "align": "left",
          "font": {
           "color": "#000000"
          },
          "showarrow": false,
          "text": "0.98",
          "x": 2.55,
          "xanchor": "left",
          "xref": "x",
          "y": 1,
          "yref": "y"
         },
         {
          "align": "left",
          "font": {
           "color": "#000000"
          },
          "showarrow": false,
          "text": "3.91",
          "x": 3.55,
          "xanchor": "left",
          "xref": "x",
          "y": 1,
          "yref": "y"
         },
         {
          "align": "left",
          "font": {
           "color": "#000000"
          },
          "showarrow": false,
          "text": "Fibre ⇗<br>Alcohol ⇗<br>",
          "x": -0.45,
          "xanchor": "left",
          "xref": "x",
          "y": 2,
          "yref": "y"
         },
         {
          "align": "left",
          "font": {
           "color": "#000000"
          },
          "showarrow": false,
          "text": "Median income ⇗<br>",
          "x": 0.55,
          "xanchor": "left",
          "xref": "x",
          "y": 2,
          "yref": "y"
         },
         {
          "align": "left",
          "font": {
           "color": "#000000"
          },
          "showarrow": false,
          "text": "0.065",
          "x": 1.55,
          "xanchor": "left",
          "xref": "x",
          "y": 2,
          "yref": "y"
         },
         {
          "align": "left",
          "font": {
           "color": "#000000"
          },
          "showarrow": false,
          "text": "0.935",
          "x": 2.55,
          "xanchor": "left",
          "xref": "x",
          "y": 2,
          "yref": "y"
         },
         {
          "align": "left",
          "font": {
           "color": "#000000"
          },
          "showarrow": false,
          "text": "3.734",
          "x": 3.55,
          "xanchor": "left",
          "xref": "x",
          "y": 2,
          "yref": "y"
         },
         {
          "align": "left",
          "font": {
           "color": "#000000"
          },
          "showarrow": false,
          "text": "Saturate ⇗<br>Protein ⇘<br>Alcohol ⇘<br>",
          "x": -0.45,
          "xanchor": "left",
          "xref": "x",
          "y": 3,
          "yref": "y"
         },
         {
          "align": "left",
          "font": {
           "color": "#000000"
          },
          "showarrow": false,
          "text": "Asian ⇗<br>",
          "x": 0.55,
          "xanchor": "left",
          "xref": "x",
          "y": 3,
          "yref": "y"
         },
         {
          "align": "left",
          "font": {
           "color": "#000000"
          },
          "showarrow": false,
          "text": "0.055",
          "x": 1.55,
          "xanchor": "left",
          "xref": "x",
          "y": 3,
          "yref": "y"
         },
         {
          "align": "left",
          "font": {
           "color": "#000000"
          },
          "showarrow": false,
          "text": "0.907",
          "x": 2.55,
          "xanchor": "left",
          "xref": "x",
          "y": 3,
          "yref": "y"
         },
         {
          "align": "left",
          "font": {
           "color": "#000000"
          },
          "showarrow": false,
          "text": "3.654",
          "x": 3.55,
          "xanchor": "left",
          "xref": "x",
          "y": 3,
          "yref": "y"
         },
         {
          "align": "left",
          "font": {
           "color": "#000000"
          },
          "showarrow": false,
          "text": "Saturate ⇗<br>Alcohol ⇘<br>Protein ⇘<br>Fat ⇗<br>",
          "x": -0.45,
          "xanchor": "left",
          "xref": "x",
          "y": 4,
          "yref": "y"
         },
         {
          "align": "left",
          "font": {
           "color": "#000000"
          },
          "showarrow": false,
          "text": "Asian ⇗<br>",
          "x": 0.55,
          "xanchor": "left",
          "xref": "x",
          "y": 4,
          "yref": "y"
         },
         {
          "align": "left",
          "font": {
           "color": "#000000"
          },
          "showarrow": false,
          "text": "0.051",
          "x": 1.55,
          "xanchor": "left",
          "xref": "x",
          "y": 4,
          "yref": "y"
         },
         {
          "align": "left",
          "font": {
           "color": "#000000"
          },
          "showarrow": false,
          "text": "0.9",
          "x": 2.55,
          "xanchor": "left",
          "xref": "x",
          "y": 4,
          "yref": "y"
         },
         {
          "align": "left",
          "font": {
           "color": "#000000"
          },
          "showarrow": false,
          "text": "3.625",
          "x": 3.55,
          "xanchor": "left",
          "xref": "x",
          "y": 4,
          "yref": "y"
         },
         {
          "align": "left",
          "font": {
           "color": "#000000"
          },
          "showarrow": false,
          "text": "Fat ⇗<br>Protein ⇘<br>Alcohol ⇘<br>",
          "x": -0.45,
          "xanchor": "left",
          "xref": "x",
          "y": 5,
          "yref": "y"
         },
         {
          "align": "left",
          "font": {
           "color": "#000000"
          },
          "showarrow": false,
          "text": "Asian ⇗<br>",
          "x": 0.55,
          "xanchor": "left",
          "xref": "x",
          "y": 5,
          "yref": "y"
         },
         {
          "align": "left",
          "font": {
           "color": "#000000"
          },
          "showarrow": false,
          "text": "0.055",
          "x": 1.55,
          "xanchor": "left",
          "xref": "x",
          "y": 5,
          "yref": "y"
         },
         {
          "align": "left",
          "font": {
           "color": "#000000"
          },
          "showarrow": false,
          "text": "0.891",
          "x": 2.55,
          "xanchor": "left",
          "xref": "x",
          "y": 5,
          "yref": "y"
         },
         {
          "align": "left",
          "font": {
           "color": "#000000"
          },
          "showarrow": false,
          "text": "3.588",
          "x": 3.55,
          "xanchor": "left",
          "xref": "x",
          "y": 5,
          "yref": "y"
         }
        ],
        "autosize": true,
        "margin": {
         "b": 0,
         "l": 0,
         "r": 0,
         "t": 0
        },
        "template": {
         "data": {
          "bar": [
           {
            "error_x": {
             "color": "#2a3f5f"
            },
            "error_y": {
             "color": "#2a3f5f"
            },
            "marker": {
             "line": {
              "color": "#E5ECF6",
              "width": 0.5
             }
            },
            "type": "bar"
           }
          ],
          "barpolar": [
           {
            "marker": {
             "line": {
              "color": "#E5ECF6",
              "width": 0.5
             }
            },
            "type": "barpolar"
           }
          ],
          "carpet": [
           {
            "aaxis": {
             "endlinecolor": "#2a3f5f",
             "gridcolor": "white",
             "linecolor": "white",
             "minorgridcolor": "white",
             "startlinecolor": "#2a3f5f"
            },
            "baxis": {
             "endlinecolor": "#2a3f5f",
             "gridcolor": "white",
             "linecolor": "white",
             "minorgridcolor": "white",
             "startlinecolor": "#2a3f5f"
            },
            "type": "carpet"
           }
          ],
          "choropleth": [
           {
            "colorbar": {
             "outlinewidth": 0,
             "ticks": ""
            },
            "type": "choropleth"
           }
          ],
          "contour": [
           {
            "colorbar": {
             "outlinewidth": 0,
             "ticks": ""
            },
            "colorscale": [
             [
              0,
              "#0d0887"
             ],
             [
              0.1111111111111111,
              "#46039f"
             ],
             [
              0.2222222222222222,
              "#7201a8"
             ],
             [
              0.3333333333333333,
              "#9c179e"
             ],
             [
              0.4444444444444444,
              "#bd3786"
             ],
             [
              0.5555555555555556,
              "#d8576b"
             ],
             [
              0.6666666666666666,
              "#ed7953"
             ],
             [
              0.7777777777777778,
              "#fb9f3a"
             ],
             [
              0.8888888888888888,
              "#fdca26"
             ],
             [
              1,
              "#f0f921"
             ]
            ],
            "type": "contour"
           }
          ],
          "contourcarpet": [
           {
            "colorbar": {
             "outlinewidth": 0,
             "ticks": ""
            },
            "type": "contourcarpet"
           }
          ],
          "heatmap": [
           {
            "colorbar": {
             "outlinewidth": 0,
             "ticks": ""
            },
            "colorscale": [
             [
              0,
              "#0d0887"
             ],
             [
              0.1111111111111111,
              "#46039f"
             ],
             [
              0.2222222222222222,
              "#7201a8"
             ],
             [
              0.3333333333333333,
              "#9c179e"
             ],
             [
              0.4444444444444444,
              "#bd3786"
             ],
             [
              0.5555555555555556,
              "#d8576b"
             ],
             [
              0.6666666666666666,
              "#ed7953"
             ],
             [
              0.7777777777777778,
              "#fb9f3a"
             ],
             [
              0.8888888888888888,
              "#fdca26"
             ],
             [
              1,
              "#f0f921"
             ]
            ],
            "type": "heatmap"
           }
          ],
          "heatmapgl": [
           {
            "colorbar": {
             "outlinewidth": 0,
             "ticks": ""
            },
            "colorscale": [
             [
              0,
              "#0d0887"
             ],
             [
              0.1111111111111111,
              "#46039f"
             ],
             [
              0.2222222222222222,
              "#7201a8"
             ],
             [
              0.3333333333333333,
              "#9c179e"
             ],
             [
              0.4444444444444444,
              "#bd3786"
             ],
             [
              0.5555555555555556,
              "#d8576b"
             ],
             [
              0.6666666666666666,
              "#ed7953"
             ],
             [
              0.7777777777777778,
              "#fb9f3a"
             ],
             [
              0.8888888888888888,
              "#fdca26"
             ],
             [
              1,
              "#f0f921"
             ]
            ],
            "type": "heatmapgl"
           }
          ],
          "histogram": [
           {
            "marker": {
             "colorbar": {
              "outlinewidth": 0,
              "ticks": ""
             }
            },
            "type": "histogram"
           }
          ],
          "histogram2d": [
           {
            "colorbar": {
             "outlinewidth": 0,
             "ticks": ""
            },
            "colorscale": [
             [
              0,
              "#0d0887"
             ],
             [
              0.1111111111111111,
              "#46039f"
             ],
             [
              0.2222222222222222,
              "#7201a8"
             ],
             [
              0.3333333333333333,
              "#9c179e"
             ],
             [
              0.4444444444444444,
              "#bd3786"
             ],
             [
              0.5555555555555556,
              "#d8576b"
             ],
             [
              0.6666666666666666,
              "#ed7953"
             ],
             [
              0.7777777777777778,
              "#fb9f3a"
             ],
             [
              0.8888888888888888,
              "#fdca26"
             ],
             [
              1,
              "#f0f921"
             ]
            ],
            "type": "histogram2d"
           }
          ],
          "histogram2dcontour": [
           {
            "colorbar": {
             "outlinewidth": 0,
             "ticks": ""
            },
            "colorscale": [
             [
              0,
              "#0d0887"
             ],
             [
              0.1111111111111111,
              "#46039f"
             ],
             [
              0.2222222222222222,
              "#7201a8"
             ],
             [
              0.3333333333333333,
              "#9c179e"
             ],
             [
              0.4444444444444444,
              "#bd3786"
             ],
             [
              0.5555555555555556,
              "#d8576b"
             ],
             [
              0.6666666666666666,
              "#ed7953"
             ],
             [
              0.7777777777777778,
              "#fb9f3a"
             ],
             [
              0.8888888888888888,
              "#fdca26"
             ],
             [
              1,
              "#f0f921"
             ]
            ],
            "type": "histogram2dcontour"
           }
          ],
          "mesh3d": [
           {
            "colorbar": {
             "outlinewidth": 0,
             "ticks": ""
            },
            "type": "mesh3d"
           }
          ],
          "parcoords": [
           {
            "line": {
             "colorbar": {
              "outlinewidth": 0,
              "ticks": ""
             }
            },
            "type": "parcoords"
           }
          ],
          "pie": [
           {
            "automargin": true,
            "type": "pie"
           }
          ],
          "scatter": [
           {
            "marker": {
             "colorbar": {
              "outlinewidth": 0,
              "ticks": ""
             }
            },
            "type": "scatter"
           }
          ],
          "scatter3d": [
           {
            "line": {
             "colorbar": {
              "outlinewidth": 0,
              "ticks": ""
             }
            },
            "marker": {
             "colorbar": {
              "outlinewidth": 0,
              "ticks": ""
             }
            },
            "type": "scatter3d"
           }
          ],
          "scattercarpet": [
           {
            "marker": {
             "colorbar": {
              "outlinewidth": 0,
              "ticks": ""
             }
            },
            "type": "scattercarpet"
           }
          ],
          "scattergeo": [
           {
            "marker": {
             "colorbar": {
              "outlinewidth": 0,
              "ticks": ""
             }
            },
            "type": "scattergeo"
           }
          ],
          "scattergl": [
           {
            "marker": {
             "colorbar": {
              "outlinewidth": 0,
              "ticks": ""
             }
            },
            "type": "scattergl"
           }
          ],
          "scattermapbox": [
           {
            "marker": {
             "colorbar": {
              "outlinewidth": 0,
              "ticks": ""
             }
            },
            "type": "scattermapbox"
           }
          ],
          "scatterpolar": [
           {
            "marker": {
             "colorbar": {
              "outlinewidth": 0,
              "ticks": ""
             }
            },
            "type": "scatterpolar"
           }
          ],
          "scatterpolargl": [
           {
            "marker": {
             "colorbar": {
              "outlinewidth": 0,
              "ticks": ""
             }
            },
            "type": "scatterpolargl"
           }
          ],
          "scatterternary": [
           {
            "marker": {
             "colorbar": {
              "outlinewidth": 0,
              "ticks": ""
             }
            },
            "type": "scatterternary"
           }
          ],
          "surface": [
           {
            "colorbar": {
             "outlinewidth": 0,
             "ticks": ""
            },
            "colorscale": [
             [
              0,
              "#0d0887"
             ],
             [
              0.1111111111111111,
              "#46039f"
             ],
             [
              0.2222222222222222,
              "#7201a8"
             ],
             [
              0.3333333333333333,
              "#9c179e"
             ],
             [
              0.4444444444444444,
              "#bd3786"
             ],
             [
              0.5555555555555556,
              "#d8576b"
             ],
             [
              0.6666666666666666,
              "#ed7953"
             ],
             [
              0.7777777777777778,
              "#fb9f3a"
             ],
             [
              0.8888888888888888,
              "#fdca26"
             ],
             [
              1,
              "#f0f921"
             ]
            ],
            "type": "surface"
           }
          ],
          "table": [
           {
            "cells": {
             "fill": {
              "color": "#EBF0F8"
             },
             "line": {
              "color": "white"
             }
            },
            "header": {
             "fill": {
              "color": "#C8D4E3"
             },
             "line": {
              "color": "white"
             }
            },
            "type": "table"
           }
          ]
         },
         "layout": {
          "annotationdefaults": {
           "arrowcolor": "#2a3f5f",
           "arrowhead": 0,
           "arrowwidth": 1
          },
          "coloraxis": {
           "colorbar": {
            "outlinewidth": 0,
            "ticks": ""
           }
          },
          "colorscale": {
           "diverging": [
            [
             0,
             "#8e0152"
            ],
            [
             0.1,
             "#c51b7d"
            ],
            [
             0.2,
             "#de77ae"
            ],
            [
             0.3,
             "#f1b6da"
            ],
            [
             0.4,
             "#fde0ef"
            ],
            [
             0.5,
             "#f7f7f7"
            ],
            [
             0.6,
             "#e6f5d0"
            ],
            [
             0.7,
             "#b8e186"
            ],
            [
             0.8,
             "#7fbc41"
            ],
            [
             0.9,
             "#4d9221"
            ],
            [
             1,
             "#276419"
            ]
           ],
           "sequential": [
            [
             0,
             "#0d0887"
            ],
            [
             0.1111111111111111,
             "#46039f"
            ],
            [
             0.2222222222222222,
             "#7201a8"
            ],
            [
             0.3333333333333333,
             "#9c179e"
            ],
            [
             0.4444444444444444,
             "#bd3786"
            ],
            [
             0.5555555555555556,
             "#d8576b"
            ],
            [
             0.6666666666666666,
             "#ed7953"
            ],
            [
             0.7777777777777778,
             "#fb9f3a"
            ],
            [
             0.8888888888888888,
             "#fdca26"
            ],
            [
             1,
             "#f0f921"
            ]
           ],
           "sequentialminus": [
            [
             0,
             "#0d0887"
            ],
            [
             0.1111111111111111,
             "#46039f"
            ],
            [
             0.2222222222222222,
             "#7201a8"
            ],
            [
             0.3333333333333333,
             "#9c179e"
            ],
            [
             0.4444444444444444,
             "#bd3786"
            ],
            [
             0.5555555555555556,
             "#d8576b"
            ],
            [
             0.6666666666666666,
             "#ed7953"
            ],
            [
             0.7777777777777778,
             "#fb9f3a"
            ],
            [
             0.8888888888888888,
             "#fdca26"
            ],
            [
             1,
             "#f0f921"
            ]
           ]
          },
          "colorway": [
           "#636efa",
           "#EF553B",
           "#00cc96",
           "#ab63fa",
           "#FFA15A",
           "#19d3f3",
           "#FF6692",
           "#B6E880",
           "#FF97FF",
           "#FECB52"
          ],
          "font": {
           "color": "#2a3f5f"
          },
          "geo": {
           "bgcolor": "white",
           "lakecolor": "white",
           "landcolor": "#E5ECF6",
           "showlakes": true,
           "showland": true,
           "subunitcolor": "white"
          },
          "hoverlabel": {
           "align": "left"
          },
          "hovermode": "closest",
          "mapbox": {
           "style": "light"
          },
          "paper_bgcolor": "white",
          "plot_bgcolor": "#E5ECF6",
          "polar": {
           "angularaxis": {
            "gridcolor": "white",
            "linecolor": "white",
            "ticks": ""
           },
           "bgcolor": "#E5ECF6",
           "radialaxis": {
            "gridcolor": "white",
            "linecolor": "white",
            "ticks": ""
           }
          },
          "scene": {
           "xaxis": {
            "backgroundcolor": "#E5ECF6",
            "gridcolor": "white",
            "gridwidth": 2,
            "linecolor": "white",
            "showbackground": true,
            "ticks": "",
            "zerolinecolor": "white"
           },
           "yaxis": {
            "backgroundcolor": "#E5ECF6",
            "gridcolor": "white",
            "gridwidth": 2,
            "linecolor": "white",
            "showbackground": true,
            "ticks": "",
            "zerolinecolor": "white"
           },
           "zaxis": {
            "backgroundcolor": "#E5ECF6",
            "gridcolor": "white",
            "gridwidth": 2,
            "linecolor": "white",
            "showbackground": true,
            "ticks": "",
            "zerolinecolor": "white"
           }
          },
          "shapedefaults": {
           "line": {
            "color": "#2a3f5f"
           }
          },
          "ternary": {
           "aaxis": {
            "gridcolor": "white",
            "linecolor": "white",
            "ticks": ""
           },
           "baxis": {
            "gridcolor": "white",
            "linecolor": "white",
            "ticks": ""
           },
           "bgcolor": "#E5ECF6",
           "caxis": {
            "gridcolor": "white",
            "linecolor": "white",
            "ticks": ""
           }
          },
          "title": {
           "x": 0.05
          },
          "xaxis": {
           "automargin": true,
           "gridcolor": "white",
           "linecolor": "white",
           "ticks": "",
           "title": {
            "standoff": 15
           },
           "zerolinecolor": "white",
           "zerolinewidth": 2
          },
          "yaxis": {
           "automargin": true,
           "gridcolor": "white",
           "linecolor": "white",
           "ticks": "",
           "title": {
            "standoff": 15
           },
           "zerolinecolor": "white",
           "zerolinewidth": 2
          }
         }
        },
        "xaxis": {
         "autorange": true,
         "dtick": 1,
         "gridwidth": 2,
         "range": [
          -0.5,
          4.5
         ],
         "showticklabels": false,
         "tick0": -0.5,
         "ticks": "",
         "zeroline": false
        },
        "yaxis": {
         "autorange": true,
         "dtick": 1,
         "gridwidth": 2,
         "range": [
          5.5,
          -0.5
         ],
         "showticklabels": false,
         "tick0": 0.5,
         "ticks": "",
         "zeroline": false
        }
       }
      },
      "image/png": "[encoded data removed]",
      "text/html": [
       "<div>                            <div id=\"2ce0ddd2-774d-4f00-bced-f1bb60e10200\" class=\"plotly-graph-div\" style=\"height:410px; width:100%;\"></div>            <script type=\"text/javascript\">                require([\"plotly\"], function(Plotly) {                    window.PLOTLYENV=window.PLOTLYENV || {};                                    if (document.getElementById(\"2ce0ddd2-774d-4f00-bced-f1bb60e10200\")) {                    Plotly.newPlot(                        \"2ce0ddd2-774d-4f00-bced-f1bb60e10200\",                        [{\"colorscale\": [[0, \"#00083e\"], [0.5, \"#ededee\"], [1, \"#ffffff\"]], \"hoverinfo\": \"none\", \"opacity\": 0.75, \"showscale\": false, \"type\": \"heatmap\", \"z\": [[0, 0, 0, 0, 0], [0.5, 0.5, 0.5, 0.5, 0.5], [1, 1, 1, 1, 1], [0.5, 0.5, 0.5, 0.5, 0.5], [1, 1, 1, 1, 1], [0.5, 0.5, 0.5, 0.5, 0.5]]}],                        {\"annotations\": [{\"align\": \"left\", \"font\": {\"color\": \"#ffffff\"}, \"showarrow\": false, \"text\": \"<b>antecedents</b>\", \"x\": -0.45, \"xanchor\": \"left\", \"xref\": \"x\", \"y\": 0, \"yref\": \"y\"}, {\"align\": \"left\", \"font\": {\"color\": \"#ffffff\"}, \"showarrow\": false, \"text\": \"<b>consequents</b>\", \"x\": 0.55, \"xanchor\": \"left\", \"xref\": \"x\", \"y\": 0, \"yref\": \"y\"}, {\"align\": \"left\", \"font\": {\"color\": \"#ffffff\"}, \"showarrow\": false, \"text\": \"<b>support</b>\", \"x\": 1.55, \"xanchor\": \"left\", \"xref\": \"x\", \"y\": 0, \"yref\": \"y\"}, {\"align\": \"left\", \"font\": {\"color\": \"#ffffff\"}, \"showarrow\": false, \"text\": \"<b>confidence</b>\", \"x\": 2.55, \"xanchor\": \"left\", \"xref\": \"x\", \"y\": 0, \"yref\": \"y\"}, {\"align\": \"left\", \"font\": {\"color\": \"#ffffff\"}, \"showarrow\": false, \"text\": \"<b>lift</b>\", \"x\": 3.55, \"xanchor\": \"left\", \"xref\": \"x\", \"y\": 0, \"yref\": \"y\"}, {\"align\": \"left\", \"font\": {\"color\": \"#000000\"}, \"showarrow\": false, \"text\": \"Fibre \\u21d7<br>Carb \\u21d8<br>Alcohol \\u21d7<br>\", \"x\": -0.45, \"xanchor\": \"left\", \"xref\": \"x\", \"y\": 1, \"yref\": \"y\"}, {\"align\": \"left\", \"font\": {\"color\": \"#000000\"}, \"showarrow\": false, \"text\": \"Median income \\u21d7<br>\", \"x\": 0.55, \"xanchor\": \"left\", \"xref\": \"x\", \"y\": 1, \"yref\": \"y\"}, {\"align\": \"left\", \"font\": {\"color\": \"#000000\"}, \"showarrow\": false, \"text\": \"0.054\", \"x\": 1.55, \"xanchor\": \"left\", \"xref\": \"x\", \"y\": 1, \"yref\": \"y\"}, {\"align\": \"left\", \"font\": {\"color\": \"#000000\"}, \"showarrow\": false, \"text\": \"0.98\", \"x\": 2.55, \"xanchor\": \"left\", \"xref\": \"x\", \"y\": 1, \"yref\": \"y\"}, {\"align\": \"left\", \"font\": {\"color\": \"#000000\"}, \"showarrow\": false, \"text\": \"3.91\", \"x\": 3.55, \"xanchor\": \"left\", \"xref\": \"x\", \"y\": 1, \"yref\": \"y\"}, {\"align\": \"left\", \"font\": {\"color\": \"#000000\"}, \"showarrow\": false, \"text\": \"Fibre \\u21d7<br>Alcohol \\u21d7<br>\", \"x\": -0.45, \"xanchor\": \"left\", \"xref\": \"x\", \"y\": 2, \"yref\": \"y\"}, {\"align\": \"left\", \"font\": {\"color\": \"#000000\"}, \"showarrow\": false, \"text\": \"Median income \\u21d7<br>\", \"x\": 0.55, \"xanchor\": \"left\", \"xref\": \"x\", \"y\": 2, \"yref\": \"y\"}, {\"align\": \"left\", \"font\": {\"color\": \"#000000\"}, \"showarrow\": false, \"text\": \"0.065\", \"x\": 1.55, \"xanchor\": \"left\", \"xref\": \"x\", \"y\": 2, \"yref\": \"y\"}, {\"align\": \"left\", \"font\": {\"color\": \"#000000\"}, \"showarrow\": false, \"text\": \"0.935\", \"x\": 2.55, \"xanchor\": \"left\", \"xref\": \"x\", \"y\": 2, \"yref\": \"y\"}, {\"align\": \"left\", \"font\": {\"color\": \"#000000\"}, \"showarrow\": false, \"text\": \"3.734\", \"x\": 3.55, \"xanchor\": \"left\", \"xref\": \"x\", \"y\": 2, \"yref\": \"y\"}, {\"align\": \"left\", \"font\": {\"color\": \"#000000\"}, \"showarrow\": false, \"text\": \"Saturate \\u21d7<br>Protein \\u21d8<br>Alcohol \\u21d8<br>\", \"x\": -0.45, \"xanchor\": \"left\", \"xref\": \"x\", \"y\": 3, \"yref\": \"y\"}, {\"align\": \"left\", \"font\": {\"color\": \"#000000\"}, \"showarrow\": false, \"text\": \"Asian \\u21d7<br>\", \"x\": 0.55, \"xanchor\": \"left\", \"xref\": \"x\", \"y\": 3, \"yref\": \"y\"}, {\"align\": \"left\", \"font\": {\"color\": \"#000000\"}, \"showarrow\": false, \"text\": \"0.055\", \"x\": 1.55, \"xanchor\": \"left\", \"xref\": \"x\", \"y\": 3, \"yref\": \"y\"}, {\"align\": \"left\", \"font\": {\"color\": \"#000000\"}, \"showarrow\": false, \"text\": \"0.907\", \"x\": 2.55, \"xanchor\": \"left\", \"xref\": \"x\", \"y\": 3, \"yref\": \"y\"}, {\"align\": \"left\", \"font\": {\"color\": \"#000000\"}, \"showarrow\": false, \"text\": \"3.654\", \"x\": 3.55, \"xanchor\": \"left\", \"xref\": \"x\", \"y\": 3, \"yref\": \"y\"}, {\"align\": \"left\", \"font\": {\"color\": \"#000000\"}, \"showarrow\": false, \"text\": \"Saturate \\u21d7<br>Alcohol \\u21d8<br>Protein \\u21d8<br>Fat \\u21d7<br>\", \"x\": -0.45, \"xanchor\": \"left\", \"xref\": \"x\", \"y\": 4, \"yref\": \"y\"}, {\"align\": \"left\", \"font\": {\"color\": \"#000000\"}, \"showarrow\": false, \"text\": \"Asian \\u21d7<br>\", \"x\": 0.55, \"xanchor\": \"left\", \"xref\": \"x\", \"y\": 4, \"yref\": \"y\"}, {\"align\": \"left\", \"font\": {\"color\": \"#000000\"}, \"showarrow\": false, \"text\": \"0.051\", \"x\": 1.55, \"xanchor\": \"left\", \"xref\": \"x\", \"y\": 4, \"yref\": \"y\"}, {\"align\": \"left\", \"font\": {\"color\": \"#000000\"}, \"showarrow\": false, \"text\": \"0.9\", \"x\": 2.55, \"xanchor\": \"left\", \"xref\": \"x\", \"y\": 4, \"yref\": \"y\"}, {\"align\": \"left\", \"font\": {\"color\": \"#000000\"}, \"showarrow\": false, \"text\": \"3.625\", \"x\": 3.55, \"xanchor\": \"left\", \"xref\": \"x\", \"y\": 4, \"yref\": \"y\"}, {\"align\": \"left\", \"font\": {\"color\": \"#000000\"}, \"showarrow\": false, \"text\": \"Fat \\u21d7<br>Protein \\u21d8<br>Alcohol \\u21d8<br>\", \"x\": -0.45, \"xanchor\": \"left\", \"xref\": \"x\", \"y\": 5, \"yref\": \"y\"}, {\"align\": \"left\", \"font\": {\"color\": \"#000000\"}, \"showarrow\": false, \"text\": \"Asian \\u21d7<br>\", \"x\": 0.55, \"xanchor\": \"left\", \"xref\": \"x\", \"y\": 5, \"yref\": \"y\"}, {\"align\": \"left\", \"font\": {\"color\": \"#000000\"}, \"showarrow\": false, \"text\": \"0.055\", \"x\": 1.55, \"xanchor\": \"left\", \"xref\": \"x\", \"y\": 5, \"yref\": \"y\"}, {\"align\": \"left\", \"font\": {\"color\": \"#000000\"}, \"showarrow\": false, \"text\": \"0.891\", \"x\": 2.55, \"xanchor\": \"left\", \"xref\": \"x\", \"y\": 5, \"yref\": \"y\"}, {\"align\": \"left\", \"font\": {\"color\": \"#000000\"}, \"showarrow\": false, \"text\": \"3.588\", \"x\": 3.55, \"xanchor\": \"left\", \"xref\": \"x\", \"y\": 5, \"yref\": \"y\"}], \"height\": 410, \"margin\": {\"b\": 0, \"l\": 0, \"r\": 0, \"t\": 0}, \"template\": {\"data\": {\"bar\": [{\"error_x\": {\"color\": \"#2a3f5f\"}, \"error_y\": {\"color\": \"#2a3f5f\"}, \"marker\": {\"line\": {\"color\": \"#E5ECF6\", \"width\": 0.5}}, \"type\": \"bar\"}], \"barpolar\": [{\"marker\": {\"line\": {\"color\": \"#E5ECF6\", \"width\": 0.5}}, \"type\": \"barpolar\"}], \"carpet\": [{\"aaxis\": {\"endlinecolor\": \"#2a3f5f\", \"gridcolor\": \"white\", \"linecolor\": \"white\", \"minorgridcolor\": \"white\", \"startlinecolor\": \"#2a3f5f\"}, \"baxis\": {\"endlinecolor\": \"#2a3f5f\", \"gridcolor\": \"white\", \"linecolor\": \"white\", \"minorgridcolor\": \"white\", \"startlinecolor\": \"#2a3f5f\"}, \"type\": \"carpet\"}], \"choropleth\": [{\"colorbar\": {\"outlinewidth\": 0, \"ticks\": \"\"}, \"type\": \"choropleth\"}], \"contour\": [{\"colorbar\": {\"outlinewidth\": 0, \"ticks\": \"\"}, \"colorscale\": [[0.0, \"#0d0887\"], [0.1111111111111111, \"#46039f\"], [0.2222222222222222, \"#7201a8\"], [0.3333333333333333, \"#9c179e\"], [0.4444444444444444, \"#bd3786\"], [0.5555555555555556, \"#d8576b\"], [0.6666666666666666, \"#ed7953\"], [0.7777777777777778, \"#fb9f3a\"], [0.8888888888888888, \"#fdca26\"], [1.0, \"#f0f921\"]], \"type\": \"contour\"}], \"contourcarpet\": [{\"colorbar\": {\"outlinewidth\": 0, \"ticks\": \"\"}, \"type\": \"contourcarpet\"}], \"heatmap\": [{\"colorbar\": {\"outlinewidth\": 0, \"ticks\": \"\"}, \"colorscale\": [[0.0, \"#0d0887\"], [0.1111111111111111, \"#46039f\"], [0.2222222222222222, \"#7201a8\"], [0.3333333333333333, \"#9c179e\"], [0.4444444444444444, \"#bd3786\"], [0.5555555555555556, \"#d8576b\"], [0.6666666666666666, \"#ed7953\"], [0.7777777777777778, \"#fb9f3a\"], [0.8888888888888888, \"#fdca26\"], [1.0, \"#f0f921\"]], \"type\": \"heatmap\"}], \"heatmapgl\": [{\"colorbar\": {\"outlinewidth\": 0, \"ticks\": \"\"}, \"colorscale\": [[0.0, \"#0d0887\"], [0.1111111111111111, \"#46039f\"], [0.2222222222222222, \"#7201a8\"], [0.3333333333333333, \"#9c179e\"], [0.4444444444444444, \"#bd3786\"], [0.5555555555555556, \"#d8576b\"], [0.6666666666666666, \"#ed7953\"], [0.7777777777777778, \"#fb9f3a\"], [0.8888888888888888, \"#fdca26\"], [1.0, \"#f0f921\"]], \"type\": \"heatmapgl\"}], \"histogram\": [{\"marker\": {\"colorbar\": {\"outlinewidth\": 0, \"ticks\": \"\"}}, \"type\": \"histogram\"}], \"histogram2d\": [{\"colorbar\": {\"outlinewidth\": 0, \"ticks\": \"\"}, \"colorscale\": [[0.0, \"#0d0887\"], [0.1111111111111111, \"#46039f\"], [0.2222222222222222, \"#7201a8\"], [0.3333333333333333, \"#9c179e\"], [0.4444444444444444, \"#bd3786\"], [0.5555555555555556, \"#d8576b\"], [0.6666666666666666, \"#ed7953\"], [0.7777777777777778, \"#fb9f3a\"], [0.8888888888888888, \"#fdca26\"], [1.0, \"#f0f921\"]], \"type\": \"histogram2d\"}], \"histogram2dcontour\": [{\"colorbar\": {\"outlinewidth\": 0, \"ticks\": \"\"}, \"colorscale\": [[0.0, \"#0d0887\"], [0.1111111111111111, \"#46039f\"], [0.2222222222222222, \"#7201a8\"], [0.3333333333333333, \"#9c179e\"], [0.4444444444444444, \"#bd3786\"], [0.5555555555555556, \"#d8576b\"], [0.6666666666666666, \"#ed7953\"], [0.7777777777777778, \"#fb9f3a\"], [0.8888888888888888, \"#fdca26\"], [1.0, \"#f0f921\"]], \"type\": \"histogram2dcontour\"}], \"mesh3d\": [{\"colorbar\": {\"outlinewidth\": 0, \"ticks\": \"\"}, \"type\": \"mesh3d\"}], \"parcoords\": [{\"line\": {\"colorbar\": {\"outlinewidth\": 0, \"ticks\": \"\"}}, \"type\": \"parcoords\"}], \"pie\": [{\"automargin\": true, \"type\": \"pie\"}], \"scatter\": [{\"marker\": {\"colorbar\": {\"outlinewidth\": 0, \"ticks\": \"\"}}, \"type\": \"scatter\"}], \"scatter3d\": [{\"line\": {\"colorbar\": {\"outlinewidth\": 0, \"ticks\": \"\"}}, \"marker\": {\"colorbar\": {\"outlinewidth\": 0, \"ticks\": \"\"}}, \"type\": \"scatter3d\"}], \"scattercarpet\": [{\"marker\": {\"colorbar\": {\"outlinewidth\": 0, \"ticks\": \"\"}}, \"type\": \"scattercarpet\"}], \"scattergeo\": [{\"marker\": {\"colorbar\": {\"outlinewidth\": 0, \"ticks\": \"\"}}, \"type\": \"scattergeo\"}], \"scattergl\": [{\"marker\": {\"colorbar\": {\"outlinewidth\": 0, \"ticks\": \"\"}}, \"type\": \"scattergl\"}], \"scattermapbox\": [{\"marker\": {\"colorbar\": {\"outlinewidth\": 0, \"ticks\": \"\"}}, \"type\": \"scattermapbox\"}], \"scatterpolar\": [{\"marker\": {\"colorbar\": {\"outlinewidth\": 0, \"ticks\": \"\"}}, \"type\": \"scatterpolar\"}], \"scatterpolargl\": [{\"marker\": {\"colorbar\": {\"outlinewidth\": 0, \"ticks\": \"\"}}, \"type\": \"scatterpolargl\"}], \"scatterternary\": [{\"marker\": {\"colorbar\": {\"outlinewidth\": 0, \"ticks\": \"\"}}, \"type\": \"scatterternary\"}], \"surface\": [{\"colorbar\": {\"outlinewidth\": 0, \"ticks\": \"\"}, \"colorscale\": [[0.0, \"#0d0887\"], [0.1111111111111111, \"#46039f\"], [0.2222222222222222, \"#7201a8\"], [0.3333333333333333, \"#9c179e\"], [0.4444444444444444, \"#bd3786\"], [0.5555555555555556, \"#d8576b\"], [0.6666666666666666, \"#ed7953\"], [0.7777777777777778, \"#fb9f3a\"], [0.8888888888888888, \"#fdca26\"], [1.0, \"#f0f921\"]], \"type\": \"surface\"}], \"table\": [{\"cells\": {\"fill\": {\"color\": \"#EBF0F8\"}, \"line\": {\"color\": \"white\"}}, \"header\": {\"fill\": {\"color\": \"#C8D4E3\"}, \"line\": {\"color\": \"white\"}}, \"type\": \"table\"}]}, \"layout\": {\"annotationdefaults\": {\"arrowcolor\": \"#2a3f5f\", \"arrowhead\": 0, \"arrowwidth\": 1}, \"coloraxis\": {\"colorbar\": {\"outlinewidth\": 0, \"ticks\": \"\"}}, \"colorscale\": {\"diverging\": [[0, \"#8e0152\"], [0.1, \"#c51b7d\"], [0.2, \"#de77ae\"], [0.3, \"#f1b6da\"], [0.4, \"#fde0ef\"], [0.5, \"#f7f7f7\"], [0.6, \"#e6f5d0\"], [0.7, \"#b8e186\"], [0.8, \"#7fbc41\"], [0.9, \"#4d9221\"], [1, \"#276419\"]], \"sequential\": [[0.0, \"#0d0887\"], [0.1111111111111111, \"#46039f\"], [0.2222222222222222, \"#7201a8\"], [0.3333333333333333, \"#9c179e\"], [0.4444444444444444, \"#bd3786\"], [0.5555555555555556, \"#d8576b\"], [0.6666666666666666, \"#ed7953\"], [0.7777777777777778, \"#fb9f3a\"], [0.8888888888888888, \"#fdca26\"], [1.0, \"#f0f921\"]], \"sequentialminus\": [[0.0, \"#0d0887\"], [0.1111111111111111, \"#46039f\"], [0.2222222222222222, \"#7201a8\"], [0.3333333333333333, \"#9c179e\"], [0.4444444444444444, \"#bd3786\"], [0.5555555555555556, \"#d8576b\"], [0.6666666666666666, \"#ed7953\"], [0.7777777777777778, \"#fb9f3a\"], [0.8888888888888888, \"#fdca26\"], [1.0, \"#f0f921\"]]}, \"colorway\": [\"#636efa\", \"#EF553B\", \"#00cc96\", \"#ab63fa\", \"#FFA15A\", \"#19d3f3\", \"#FF6692\", \"#B6E880\", \"#FF97FF\", \"#FECB52\"], \"font\": {\"color\": \"#2a3f5f\"}, \"geo\": {\"bgcolor\": \"white\", \"lakecolor\": \"white\", \"landcolor\": \"#E5ECF6\", \"showlakes\": true, \"showland\": true, \"subunitcolor\": \"white\"}, \"hoverlabel\": {\"align\": \"left\"}, \"hovermode\": \"closest\", \"mapbox\": {\"style\": \"light\"}, \"paper_bgcolor\": \"white\", \"plot_bgcolor\": \"#E5ECF6\", \"polar\": {\"angularaxis\": {\"gridcolor\": \"white\", \"linecolor\": \"white\", \"ticks\": \"\"}, \"bgcolor\": \"#E5ECF6\", \"radialaxis\": {\"gridcolor\": \"white\", \"linecolor\": \"white\", \"ticks\": \"\"}}, \"scene\": {\"xaxis\": {\"backgroundcolor\": \"#E5ECF6\", \"gridcolor\": \"white\", \"gridwidth\": 2, \"linecolor\": \"white\", \"showbackground\": true, \"ticks\": \"\", \"zerolinecolor\": \"white\"}, \"yaxis\": {\"backgroundcolor\": \"#E5ECF6\", \"gridcolor\": \"white\", \"gridwidth\": 2, \"linecolor\": \"white\", \"showbackground\": true, \"ticks\": \"\", \"zerolinecolor\": \"white\"}, \"zaxis\": {\"backgroundcolor\": \"#E5ECF6\", \"gridcolor\": \"white\", \"gridwidth\": 2, \"linecolor\": \"white\", \"showbackground\": true, \"ticks\": \"\", \"zerolinecolor\": \"white\"}}, \"shapedefaults\": {\"line\": {\"color\": \"#2a3f5f\"}}, \"ternary\": {\"aaxis\": {\"gridcolor\": \"white\", \"linecolor\": \"white\", \"ticks\": \"\"}, \"baxis\": {\"gridcolor\": \"white\", \"linecolor\": \"white\", \"ticks\": \"\"}, \"bgcolor\": \"#E5ECF6\", \"caxis\": {\"gridcolor\": \"white\", \"linecolor\": \"white\", \"ticks\": \"\"}}, \"title\": {\"x\": 0.05}, \"xaxis\": {\"automargin\": true, \"gridcolor\": \"white\", \"linecolor\": \"white\", \"ticks\": \"\", \"title\": {\"standoff\": 15}, \"zerolinecolor\": \"white\", \"zerolinewidth\": 2}, \"yaxis\": {\"automargin\": true, \"gridcolor\": \"white\", \"linecolor\": \"white\", \"ticks\": \"\", \"title\": {\"standoff\": 15}, \"zerolinecolor\": \"white\", \"zerolinewidth\": 2}}}, \"xaxis\": {\"dtick\": 1, \"gridwidth\": 2, \"showticklabels\": false, \"tick0\": -0.5, \"ticks\": \"\", \"zeroline\": false}, \"yaxis\": {\"autorange\": \"reversed\", \"dtick\": 1, \"gridwidth\": 2, \"showticklabels\": false, \"tick0\": 0.5, \"ticks\": \"\", \"zeroline\": false}},                        {\"responsive\": true}                    ).then(function(){\n",
       "                            \n",
       "var gd = document.getElementById('2ce0ddd2-774d-4f00-bced-f1bb60e10200');\n",
       "var x = new MutationObserver(function (mutations, observer) {{\n",
       "        var display = window.getComputedStyle(gd).display;\n",
       "        if (!display || display === 'none') {{\n",
       "            console.log([gd, 'removed!']);\n",
       "            Plotly.purge(gd);\n",
       "            observer.disconnect();\n",
       "        }}\n",
       "}});\n",
       "\n",
       "// Listen for the removal of the full notebook cells\n",
       "var notebookContainer = gd.closest('#notebook-container');\n",
       "if (notebookContainer) {{\n",
       "    x.observe(notebookContainer, {childList: true});\n",
       "}}\n",
       "\n",
       "// Listen for the clearing of the current output cell\n",
       "var outputEl = gd.closest('.output');\n",
       "if (outputEl) {{\n",
       "    x.observe(outputEl, {childList: true});\n",
       "}}\n",
       "\n",
       "                        })                };                });            </script>        </div>"
      ]
     },
     "metadata": {},
     "output_type": "display_data"
    }
   ],
   "source": [
    "rules = rules_association[rules_association.apply(lambda x : True if x[\"antecedents\"].issubset(nutrient_sets) and not x[\"consequents\"].issubset(nutrient_sets) else False, axis = 1)].sort_values(by = \"confidence\", ascending = False).head(5)\n",
    "rules[\"antecedents\"] = rules.apply(lambda x: ''.join([x.capitalize() + \"<br>\" for x in list(x[\"antecedents\"])]).replace(\"_high\", u\" \\u21D7\").replace(\"_low\", u\" \\u21D8\") , axis = 1)\n",
    "rules[\"consequents\"] = rules.apply(lambda x: ''.join([x.capitalize() + \"<br>\" for x in list(x[\"consequents\"])]).replace(\"_high\", u\" \\u21D7\").replace(\"_low\", u\" \\u21D8\").replace(\"_\", \" \"), axis = 1)\n",
    "rules[[\"support\",\"confidence\", \"lift\"]] = rules[[\"support\",\"confidence\", \"lift\"]].applymap(lambda x : round(x,3))\n",
    "rules = rules[[\"antecedents\", \"consequents\", \"support\",\"confidence\", \"lift\"]]\n",
    "fig = ff.create_table(rules, height_constant=60)\n",
    "fig.show()\n",
    "fig.write_html(\"../fierceeagle.github.io/_includes/AssociationRuleTable_Nutrients.html\")"
   ]
  },
  {
   "cell_type": "code",
   "execution_count": 315,
   "metadata": {},
   "outputs": [
    {
     "data": {
      "text/plain": [
       "array([0.75555556, 0.84444444, 0.68888889, 0.62222222, 0.75555556,\n",
       "       0.84444444, 0.84090909, 0.77272727, 0.84090909, 0.72727273,\n",
       "       0.72727273, 0.75      , 0.70454545, 0.72727273, 0.84090909,\n",
       "       0.77272727, 0.68181818, 0.70454545, 0.88636364, 0.84090909])"
      ]
     },
     "execution_count": 315,
     "metadata": {},
     "output_type": "execute_result"
    }
   ],
   "source": [
    "baumbart = DecisionTreeClassifier()\n",
    "\n",
    "X = msoa_combined_items[[x.split(\"_\")[1] + \"_Low\" for x in nutrients] + [x.split(\"_\")[1] + \"_Low_to_Middle\" for x in nutrients] + [x.split(\"_\")[1] + \"_Middle_to_High\" for x in nutrients] + [x.split(\"_\")[1] + \"_High\" for x in nutrients]]\n",
    "y = msoa_combined_items[\"white_High\"]\n",
    "\n",
    "cross_val_score(estimator = baumbart, X = X, y = y, cv = 20, n_jobs = -1)"
   ]
  },
  {
   "cell_type": "code",
   "execution_count": 309,
   "metadata": {},
   "outputs": [
    {
     "data": {
      "text/html": [
       "<div>\n",
       "<style scoped>\n",
       "    .dataframe tbody tr th:only-of-type {\n",
       "        vertical-align: middle;\n",
       "    }\n",
       "\n",
       "    .dataframe tbody tr th {\n",
       "        vertical-align: top;\n",
       "    }\n",
       "\n",
       "    .dataframe thead th {\n",
       "        text-align: right;\n",
       "    }\n",
       "</style>\n",
       "<table border=\"1\" class=\"dataframe\">\n",
       "  <thead>\n",
       "    <tr style=\"text-align: right;\">\n",
       "      <th></th>\n",
       "      <th>white_Low</th>\n",
       "      <th>white_Low_to_Middle</th>\n",
       "      <th>white_Middle_to_High</th>\n",
       "      <th>white_High</th>\n",
       "      <th>mixed_Low</th>\n",
       "      <th>mixed_Low_to_Middle</th>\n",
       "      <th>mixed_Middle_to_High</th>\n",
       "      <th>mixed_High</th>\n",
       "      <th>asian_Low</th>\n",
       "      <th>asian_Low_to_Middle</th>\n",
       "      <th>...</th>\n",
       "      <th>fibre_Middle_to_High</th>\n",
       "      <th>fibre_High</th>\n",
       "      <th>alcohol_Low</th>\n",
       "      <th>alcohol_Low_to_Middle</th>\n",
       "      <th>alcohol_Middle_to_High</th>\n",
       "      <th>alcohol_High</th>\n",
       "      <th>Median_Income_Low</th>\n",
       "      <th>Median_Income_Low_to_Middle</th>\n",
       "      <th>Median_Income_Middle_to_High</th>\n",
       "      <th>Median_Income_High</th>\n",
       "    </tr>\n",
       "  </thead>\n",
       "  <tbody>\n",
       "    <tr>\n",
       "      <th>E02000001</th>\n",
       "      <td>False</td>\n",
       "      <td>False</td>\n",
       "      <td>False</td>\n",
       "      <td>True</td>\n",
       "      <td>False</td>\n",
       "      <td>True</td>\n",
       "      <td>False</td>\n",
       "      <td>False</td>\n",
       "      <td>False</td>\n",
       "      <td>False</td>\n",
       "      <td>...</td>\n",
       "      <td>True</td>\n",
       "      <td>False</td>\n",
       "      <td>False</td>\n",
       "      <td>False</td>\n",
       "      <td>False</td>\n",
       "      <td>True</td>\n",
       "      <td>False</td>\n",
       "      <td>False</td>\n",
       "      <td>False</td>\n",
       "      <td>True</td>\n",
       "    </tr>\n",
       "    <tr>\n",
       "      <th>E02000002</th>\n",
       "      <td>False</td>\n",
       "      <td>False</td>\n",
       "      <td>True</td>\n",
       "      <td>False</td>\n",
       "      <td>False</td>\n",
       "      <td>True</td>\n",
       "      <td>False</td>\n",
       "      <td>False</td>\n",
       "      <td>False</td>\n",
       "      <td>True</td>\n",
       "      <td>...</td>\n",
       "      <td>False</td>\n",
       "      <td>False</td>\n",
       "      <td>True</td>\n",
       "      <td>False</td>\n",
       "      <td>False</td>\n",
       "      <td>False</td>\n",
       "      <td>False</td>\n",
       "      <td>True</td>\n",
       "      <td>False</td>\n",
       "      <td>False</td>\n",
       "    </tr>\n",
       "    <tr>\n",
       "      <th>E02000003</th>\n",
       "      <td>False</td>\n",
       "      <td>True</td>\n",
       "      <td>False</td>\n",
       "      <td>False</td>\n",
       "      <td>False</td>\n",
       "      <td>True</td>\n",
       "      <td>False</td>\n",
       "      <td>False</td>\n",
       "      <td>False</td>\n",
       "      <td>False</td>\n",
       "      <td>...</td>\n",
       "      <td>False</td>\n",
       "      <td>False</td>\n",
       "      <td>True</td>\n",
       "      <td>False</td>\n",
       "      <td>False</td>\n",
       "      <td>False</td>\n",
       "      <td>False</td>\n",
       "      <td>False</td>\n",
       "      <td>True</td>\n",
       "      <td>False</td>\n",
       "    </tr>\n",
       "    <tr>\n",
       "      <th>E02000004</th>\n",
       "      <td>False</td>\n",
       "      <td>False</td>\n",
       "      <td>False</td>\n",
       "      <td>True</td>\n",
       "      <td>True</td>\n",
       "      <td>False</td>\n",
       "      <td>False</td>\n",
       "      <td>False</td>\n",
       "      <td>True</td>\n",
       "      <td>False</td>\n",
       "      <td>...</td>\n",
       "      <td>False</td>\n",
       "      <td>False</td>\n",
       "      <td>True</td>\n",
       "      <td>False</td>\n",
       "      <td>False</td>\n",
       "      <td>False</td>\n",
       "      <td>False</td>\n",
       "      <td>False</td>\n",
       "      <td>True</td>\n",
       "      <td>False</td>\n",
       "    </tr>\n",
       "    <tr>\n",
       "      <th>E02000005</th>\n",
       "      <td>False</td>\n",
       "      <td>False</td>\n",
       "      <td>True</td>\n",
       "      <td>False</td>\n",
       "      <td>True</td>\n",
       "      <td>False</td>\n",
       "      <td>False</td>\n",
       "      <td>False</td>\n",
       "      <td>False</td>\n",
       "      <td>True</td>\n",
       "      <td>...</td>\n",
       "      <td>False</td>\n",
       "      <td>False</td>\n",
       "      <td>True</td>\n",
       "      <td>False</td>\n",
       "      <td>False</td>\n",
       "      <td>False</td>\n",
       "      <td>False</td>\n",
       "      <td>True</td>\n",
       "      <td>False</td>\n",
       "      <td>False</td>\n",
       "    </tr>\n",
       "    <tr>\n",
       "      <th>...</th>\n",
       "      <td>...</td>\n",
       "      <td>...</td>\n",
       "      <td>...</td>\n",
       "      <td>...</td>\n",
       "      <td>...</td>\n",
       "      <td>...</td>\n",
       "      <td>...</td>\n",
       "      <td>...</td>\n",
       "      <td>...</td>\n",
       "      <td>...</td>\n",
       "      <td>...</td>\n",
       "      <td>...</td>\n",
       "      <td>...</td>\n",
       "      <td>...</td>\n",
       "      <td>...</td>\n",
       "      <td>...</td>\n",
       "      <td>...</td>\n",
       "      <td>...</td>\n",
       "      <td>...</td>\n",
       "      <td>...</td>\n",
       "      <td>...</td>\n",
       "    </tr>\n",
       "    <tr>\n",
       "      <th>E02000977</th>\n",
       "      <td>False</td>\n",
       "      <td>False</td>\n",
       "      <td>True</td>\n",
       "      <td>False</td>\n",
       "      <td>False</td>\n",
       "      <td>True</td>\n",
       "      <td>False</td>\n",
       "      <td>False</td>\n",
       "      <td>False</td>\n",
       "      <td>False</td>\n",
       "      <td>...</td>\n",
       "      <td>False</td>\n",
       "      <td>False</td>\n",
       "      <td>False</td>\n",
       "      <td>False</td>\n",
       "      <td>False</td>\n",
       "      <td>True</td>\n",
       "      <td>False</td>\n",
       "      <td>False</td>\n",
       "      <td>False</td>\n",
       "      <td>True</td>\n",
       "    </tr>\n",
       "    <tr>\n",
       "      <th>E02000979</th>\n",
       "      <td>False</td>\n",
       "      <td>False</td>\n",
       "      <td>True</td>\n",
       "      <td>False</td>\n",
       "      <td>False</td>\n",
       "      <td>True</td>\n",
       "      <td>False</td>\n",
       "      <td>False</td>\n",
       "      <td>False</td>\n",
       "      <td>True</td>\n",
       "      <td>...</td>\n",
       "      <td>False</td>\n",
       "      <td>False</td>\n",
       "      <td>False</td>\n",
       "      <td>False</td>\n",
       "      <td>False</td>\n",
       "      <td>True</td>\n",
       "      <td>False</td>\n",
       "      <td>False</td>\n",
       "      <td>False</td>\n",
       "      <td>True</td>\n",
       "    </tr>\n",
       "    <tr>\n",
       "      <th>E02000980</th>\n",
       "      <td>False</td>\n",
       "      <td>False</td>\n",
       "      <td>True</td>\n",
       "      <td>False</td>\n",
       "      <td>False</td>\n",
       "      <td>True</td>\n",
       "      <td>False</td>\n",
       "      <td>False</td>\n",
       "      <td>False</td>\n",
       "      <td>False</td>\n",
       "      <td>...</td>\n",
       "      <td>True</td>\n",
       "      <td>False</td>\n",
       "      <td>False</td>\n",
       "      <td>True</td>\n",
       "      <td>False</td>\n",
       "      <td>False</td>\n",
       "      <td>False</td>\n",
       "      <td>False</td>\n",
       "      <td>True</td>\n",
       "      <td>False</td>\n",
       "    </tr>\n",
       "    <tr>\n",
       "      <th>E02000982</th>\n",
       "      <td>False</td>\n",
       "      <td>False</td>\n",
       "      <td>True</td>\n",
       "      <td>False</td>\n",
       "      <td>False</td>\n",
       "      <td>True</td>\n",
       "      <td>False</td>\n",
       "      <td>False</td>\n",
       "      <td>False</td>\n",
       "      <td>False</td>\n",
       "      <td>...</td>\n",
       "      <td>True</td>\n",
       "      <td>False</td>\n",
       "      <td>False</td>\n",
       "      <td>False</td>\n",
       "      <td>True</td>\n",
       "      <td>False</td>\n",
       "      <td>False</td>\n",
       "      <td>False</td>\n",
       "      <td>True</td>\n",
       "      <td>False</td>\n",
       "    </tr>\n",
       "    <tr>\n",
       "      <th>E02000983</th>\n",
       "      <td>False</td>\n",
       "      <td>False</td>\n",
       "      <td>True</td>\n",
       "      <td>False</td>\n",
       "      <td>False</td>\n",
       "      <td>True</td>\n",
       "      <td>False</td>\n",
       "      <td>False</td>\n",
       "      <td>False</td>\n",
       "      <td>True</td>\n",
       "      <td>...</td>\n",
       "      <td>True</td>\n",
       "      <td>False</td>\n",
       "      <td>False</td>\n",
       "      <td>False</td>\n",
       "      <td>True</td>\n",
       "      <td>False</td>\n",
       "      <td>False</td>\n",
       "      <td>False</td>\n",
       "      <td>True</td>\n",
       "      <td>False</td>\n",
       "    </tr>\n",
       "  </tbody>\n",
       "</table>\n",
       "<p>886 rows × 88 columns</p>\n",
       "</div>"
      ],
      "text/plain": [
       "           white_Low  white_Low_to_Middle  white_Middle_to_High  white_High  \\\n",
       "E02000001      False                False                 False        True   \n",
       "E02000002      False                False                  True       False   \n",
       "E02000003      False                 True                 False       False   \n",
       "E02000004      False                False                 False        True   \n",
       "E02000005      False                False                  True       False   \n",
       "...              ...                  ...                   ...         ...   \n",
       "E02000977      False                False                  True       False   \n",
       "E02000979      False                False                  True       False   \n",
       "E02000980      False                False                  True       False   \n",
       "E02000982      False                False                  True       False   \n",
       "E02000983      False                False                  True       False   \n",
       "\n",
       "           mixed_Low  mixed_Low_to_Middle  mixed_Middle_to_High  mixed_High  \\\n",
       "E02000001      False                 True                 False       False   \n",
       "E02000002      False                 True                 False       False   \n",
       "E02000003      False                 True                 False       False   \n",
       "E02000004       True                False                 False       False   \n",
       "E02000005       True                False                 False       False   \n",
       "...              ...                  ...                   ...         ...   \n",
       "E02000977      False                 True                 False       False   \n",
       "E02000979      False                 True                 False       False   \n",
       "E02000980      False                 True                 False       False   \n",
       "E02000982      False                 True                 False       False   \n",
       "E02000983      False                 True                 False       False   \n",
       "\n",
       "           asian_Low  asian_Low_to_Middle  ...  fibre_Middle_to_High  \\\n",
       "E02000001      False                False  ...                  True   \n",
       "E02000002      False                 True  ...                 False   \n",
       "E02000003      False                False  ...                 False   \n",
       "E02000004       True                False  ...                 False   \n",
       "E02000005      False                 True  ...                 False   \n",
       "...              ...                  ...  ...                   ...   \n",
       "E02000977      False                False  ...                 False   \n",
       "E02000979      False                 True  ...                 False   \n",
       "E02000980      False                False  ...                  True   \n",
       "E02000982      False                False  ...                  True   \n",
       "E02000983      False                 True  ...                  True   \n",
       "\n",
       "           fibre_High  alcohol_Low  alcohol_Low_to_Middle  \\\n",
       "E02000001       False        False                  False   \n",
       "E02000002       False         True                  False   \n",
       "E02000003       False         True                  False   \n",
       "E02000004       False         True                  False   \n",
       "E02000005       False         True                  False   \n",
       "...               ...          ...                    ...   \n",
       "E02000977       False        False                  False   \n",
       "E02000979       False        False                  False   \n",
       "E02000980       False        False                   True   \n",
       "E02000982       False        False                  False   \n",
       "E02000983       False        False                  False   \n",
       "\n",
       "           alcohol_Middle_to_High  alcohol_High  Median_Income_Low  \\\n",
       "E02000001                   False          True              False   \n",
       "E02000002                   False         False              False   \n",
       "E02000003                   False         False              False   \n",
       "E02000004                   False         False              False   \n",
       "E02000005                   False         False              False   \n",
       "...                           ...           ...                ...   \n",
       "E02000977                   False          True              False   \n",
       "E02000979                   False          True              False   \n",
       "E02000980                   False         False              False   \n",
       "E02000982                    True         False              False   \n",
       "E02000983                    True         False              False   \n",
       "\n",
       "           Median_Income_Low_to_Middle  Median_Income_Middle_to_High  \\\n",
       "E02000001                        False                         False   \n",
       "E02000002                         True                         False   \n",
       "E02000003                        False                          True   \n",
       "E02000004                        False                          True   \n",
       "E02000005                         True                         False   \n",
       "...                                ...                           ...   \n",
       "E02000977                        False                         False   \n",
       "E02000979                        False                         False   \n",
       "E02000980                        False                          True   \n",
       "E02000982                        False                          True   \n",
       "E02000983                        False                          True   \n",
       "\n",
       "           Median_Income_High  \n",
       "E02000001                True  \n",
       "E02000002               False  \n",
       "E02000003               False  \n",
       "E02000004               False  \n",
       "E02000005               False  \n",
       "...                       ...  \n",
       "E02000977                True  \n",
       "E02000979                True  \n",
       "E02000980               False  \n",
       "E02000982               False  \n",
       "E02000983               False  \n",
       "\n",
       "[886 rows x 88 columns]"
      ]
     },
     "execution_count": 309,
     "metadata": {},
     "output_type": "execute_result"
    }
   ],
   "source": [
    "msoa_combined_items"
   ]
  },
  {
   "cell_type": "markdown",
   "metadata": {},
   "source": [
    "## Only Proper ML Following from here on out"
   ]
  },
  {
   "cell_type": "code",
   "execution_count": null,
   "metadata": {},
   "outputs": [],
   "source": []
  }
 ],
 "metadata": {
  "kernelspec": {
   "display_name": "Python 3",
   "language": "python",
   "name": "python3"
  },
  "language_info": {
   "codemirror_mode": {
    "name": "ipython",
    "version": 3
   },
   "file_extension": ".py",
   "mimetype": "text/x-python",
   "name": "python",
   "nbconvert_exporter": "python",
   "pygments_lexer": "ipython3",
   "version": "3.8.3"
  }
 },
 "nbformat": 4,
 "nbformat_minor": 4
}
