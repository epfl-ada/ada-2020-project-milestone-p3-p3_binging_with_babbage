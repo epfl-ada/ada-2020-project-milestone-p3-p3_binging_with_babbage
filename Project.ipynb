{
 "cells": [
  {
   "cell_type": "markdown",
   "metadata": {},
   "source": [
    "## Show me your plate and I tell you who you are"
   ]
  },
  {
   "cell_type": "markdown",
   "metadata": {},
   "source": [
    "#### Unified Package Loading Prelude"
   ]
  },
  {
   "cell_type": "code",
   "execution_count": 1,
   "metadata": {},
   "outputs": [],
   "source": [
    "import pickle as pkl \n",
    "import pandas as pd \n",
    "import numpy as np \n",
    "import statsmodels as sml\n",
    "from scipy import stats\n",
    "import seaborn as sns\n",
    "import plotly.express as px\n",
    "import statsmodels.api as sm\n",
    "import statsmodels.formula.api as smf\n",
    "import os \n",
    "import matplotlib.pyplot as plt\n",
    "from sklearn.ensemble import RandomForestRegressor\n",
    "from sklearn.model_selection import cross_val_score\n",
    "from sklearn.ensemble import AdaBoostRegressor\n",
    "from sklearn.linear_model import LinearRegression\n",
    "from sklearn.preprocessing import StandardScaler\n",
    "from sklearn.model_selection import train_test_split\n",
    "from sklearn.pipeline import Pipeline\n",
    "from tqdm import tqdm\n",
    "import itertools as it "
   ]
  },
  {
   "cell_type": "code",
   "execution_count": null,
   "metadata": {},
   "outputs": [],
   "source": [
    "### In Case we need it, load using the GeoPandas Kernel\n",
    "import geopandas as gpd"
   ]
  },
  {
   "cell_type": "code",
   "execution_count": 2,
   "metadata": {},
   "outputs": [],
   "source": [
    "### Association Rule Mining Packags\n",
    "from mlxtend.frequent_patterns import apriori\n",
    "from mlxtend.preprocessing import TransactionEncoder\n",
    "from mlxtend.frequent_patterns import association_rules as arule\n"
   ]
  },
  {
   "cell_type": "markdown",
   "metadata": {},
   "source": [
    "#### Doing an inverse Margaret Thatcher (Not reviving Irish though)"
   ]
  },
  {
   "cell_type": "code",
   "execution_count": 3,
   "metadata": {},
   "outputs": [],
   "source": [
    "# Simple adaptable Model Pipeline Factory\n",
    "def pipeline_factory(scaler, model, x_train, y_train):\n",
    "    \n",
    "    pipeline = Pipeline(steps = [\n",
    "        ('scaler',  scaler),\n",
    "        ('regressor',   model)\n",
    "        ], verbose = True)\n",
    "        \n",
    "    pipeline.fit(x_train,y_train)\n",
    "    return pipeline\n"
   ]
  },
  {
   "cell_type": "code",
   "execution_count": null,
   "metadata": {},
   "outputs": [],
   "source": []
  },
  {
   "cell_type": "markdown",
   "metadata": {},
   "source": [
    "#### Defining a few interesing Slices for the DF to use"
   ]
  },
  {
   "cell_type": "code",
   "execution_count": 4,
   "metadata": {},
   "outputs": [],
   "source": [
    "nutrients   = [\"energy_fat\", \"energy_saturate\", \"energy_sugar\", \"energy_protein\",\"energy_carb\",\"energy_fibre\", \"energy_alcohol\"]\n",
    "ethnicities = [\"White_perc\",\"Mixed/multiple_ethnic_groups_perc\",\"Asian/Asian_British_perc\",\"Black/African/Caribbean/Black_British_perc\",\"BAME_perc\"]\n",
    "religions = ['Christian_perc','Buddhist_perc','Hindu_perc','Jewish_perc','Muslim_perc','Sikh_perc','No_religion_perc','Other_religion_perc']\n",
    "products = [\"f_beer\",\"f_dairy\",\"f_eggs\",\"f_fats_oils\",\"f_fish\",\"f_fruit_veg\",\"f_grains\",\"f_meat_red\",\"f_poultry\",\"f_readymade\",\"f_sauces\",\"f_soft_drinks\",\"f_spirits\",\"f_sweets\",\"f_tea_coffee\",\"f_water\",\"f_wine\"]\n",
    "education = [\"No_qualifications\",\"Edu:Level_1_qualifications\",\"Edu:Level_2_qualifications\",\"Edu:Apprenticeship_\",\"Edu:Level_3_qualifications\",\"Edu:Level_4_qualificationsand_above_\",\"Edu:Other_qualifications\"]\n",
    "months = [\"Jan\", \"Feb\", \"Mar\", \"Apr\", \"May\", \"Jun\", \"Jul\", \"Aug\", \"Sep\", \"Oct\", \"Nov\", \"Dec\"]"
   ]
  },
  {
   "cell_type": "markdown",
   "metadata": {},
   "source": [
    "### Loading the Data"
   ]
  },
  {
   "cell_type": "markdown",
   "metadata": {},
   "source": [
    "#### Loading the yearly Tesco Data"
   ]
  },
  {
   "cell_type": "code",
   "execution_count": 5,
   "metadata": {},
   "outputs": [],
   "source": [
    "### Tesco Data\n",
    "tesco_path = (\"Tesco_Data\")\n",
    "\n",
    "lsoa_year     = pd.read_csv(os.path.join(tesco_path, \"year_lsoa_grocery.csv\"), index_col = \"area_id\")\n",
    "msoa_year     = pd.read_csv(os.path.join(tesco_path, \"year_msoa_grocery.csv\"), index_col = \"area_id\")\n",
    "osward_year   = pd.read_csv(os.path.join(tesco_path, \"year_osward_grocery.csv\"), index_col = \"area_id\")"
   ]
  },
  {
   "cell_type": "markdown",
   "metadata": {},
   "source": [
    "#### Loading the monthly Tesco Data"
   ]
  },
  {
   "cell_type": "code",
   "execution_count": 6,
   "metadata": {},
   "outputs": [],
   "source": [
    "# Why don't the name of months follow a lexographical ordering\n",
    "\n",
    "lsoa_months   = pd.DataFrame()\n",
    "msoa_months   = pd.DataFrame()\n",
    "osward_months = pd.DataFrame()\n",
    "\n",
    "\n",
    "for month in months: \n",
    "    \n",
    "    loading            = pd.read_csv(os.path.join(tesco_path, month +\"_lsoa_grocery.csv\"), index_col = \"area_id\")\n",
    "    loading[\"month\"]   = month\n",
    "    lsoa_months        = lsoa_months.append(loading)\n",
    "    \n",
    "    loading            = pd.read_csv(os.path.join(tesco_path, month +\"_msoa_grocery.csv\"), index_col = \"area_id\")\n",
    "    loading[\"month\"]   = month\n",
    "    msoa_months        = msoa_months.append(loading)\n",
    "    \n",
    "    loading            = pd.read_csv(os.path.join(tesco_path, month +\"_osward_grocery.csv\"), index_col = \"area_id\")\n",
    "    loading[\"month\"]   = month\n",
    "    osward_months      = osward_months.append(loading)\n",
    "    \n",
    "lsoa_months[\"month\"]   = pd.Categorical(lsoa_months['month'], categories=months, ordered=True)\n",
    "msoa_months[\"month\"]   = pd.Categorical(msoa_months['month'], categories=months, ordered=True)\n",
    "osward_months[\"month\"] = pd.Categorical(osward_months['month'], categories=months, ordered=True)"
   ]
  },
  {
   "cell_type": "markdown",
   "metadata": {},
   "source": [
    "#### Loading the Socio-Economic Data"
   ]
  },
  {
   "cell_type": "code",
   "execution_count": 7,
   "metadata": {},
   "outputs": [
    {
     "name": "stderr",
     "output_type": "stream",
     "text": [
      "C:\\Users\\49171\\anaconda3\\lib\\site-packages\\IPython\\core\\interactiveshell.py:3071: DtypeWarning: Columns (174,175,176,178,189,253,254) have mixed types.Specify dtype option on import or set low_memory=False.\n",
      "  has_raised = await self.run_ast_nodes(code_ast.body, cell_name,\n"
     ]
    }
   ],
   "source": [
    "### Socio-Economic Data\n",
    "\n",
    "socio_path = (\"Socio_Economic_Data\")\n",
    "\n",
    "lsoa_social     = pd.read_csv(os.path.join(socio_path, \"lsoa-data.csv\"), encoding = \"latin-1\", index_col = \"Lower Super Output Area\")\n",
    "msoa_social     = pd.read_csv(os.path.join(socio_path, \"msoa-data.csv\"), encoding = \"latin-1\", index_col = \"Middle Super Output Area\")\n",
    "osward_social   = pd.read_csv(os.path.join(socio_path, \"ward-atlas-data.csv\"), encoding = \"latin-1\", header = 1, warn_bad_lines = False, error_bad_lines = False)\n",
    "\n",
    "# Drops higher Level Aggregation and NaN Rows\n",
    "\n",
    "lsoa_social     = lsoa_social[lsoa_social[\"Names\"].notna()]\n",
    "msoa_social     = msoa_social[msoa_social[\"MSOA Name\"].notna()]\n",
    "osward_social   = osward_social[osward_social[\"Borough\"].notna()]\n",
    "\n"
   ]
  },
  {
   "cell_type": "code",
   "execution_count": 8,
   "metadata": {},
   "outputs": [
    {
     "data": {
      "text/plain": [
       "['E01000328', 'E01003902']"
      ]
     },
     "execution_count": 8,
     "metadata": {},
     "output_type": "execute_result"
    }
   ],
   "source": [
    "## Two LSOA are not accounted for in the Tesco dataset and will be dropped by the join\n",
    "[x for x in lsoa_social.index if x not in lsoa_year.index]"
   ]
  },
  {
   "cell_type": "markdown",
   "metadata": {},
   "source": [
    "#### Joining the Dataframes"
   ]
  },
  {
   "cell_type": "code",
   "execution_count": 9,
   "metadata": {},
   "outputs": [],
   "source": [
    "lsoa_combined_year = lsoa_social.join(lsoa_year, how = \"inner\")\n",
    "msoa_combined_year = msoa_social.join(msoa_year, how = \"inner\")\n",
    "\n",
    "# Consider only Areas with atleast 5% Representative-ness:\n",
    "\n",
    "lsoa_combined_year     = lsoa_combined_year[lsoa_combined_year.representativeness_norm > 0.05]\n",
    "msoa_combined_year     = msoa_combined_year[msoa_combined_year.representativeness_norm > 0.05]\n",
    "\n",
    "# Remove some of the redundant information in the column names and fill in blanks\n",
    "lsoa_combined_year.columns = [\"_\".join(x.split(\";\")[1:]).replace(\" \", \"_\").replace(\"(%)\", \"perc\").replace(\"(£)\", \"pound\").replace(\"_2011\", \"\") if len(x.split(\";\")) > 1 else x.replace(\" \", \"_\").replace(\"(%)\", \"perc\").replace(\"(£)\", \"pound\") for x in lsoa_combined_year.columns]\n",
    "msoa_combined_year.columns = [\"_\".join(x.split(\";\")[1:]).replace(\" \", \"_\").replace(\"(%)_\", \"perc\").replace(\"(£)\", \"pound\").replace(\"Highest_level_of_qualification:_\", \"Edu:\").replace(\"qualifications_\", \"qualifications\") if len(x.split(\";\")) > 1 else x.replace(\" \", \"_\").replace(\"(%)\", \"perc\").replace(\"(£)\", \"pound\") for x in msoa_combined_year.columns]"
   ]
  },
  {
   "cell_type": "markdown",
   "metadata": {},
   "source": [
    "#### Preparing the Brine"
   ]
  },
  {
   "cell_type": "code",
   "execution_count": null,
   "metadata": {},
   "outputs": [],
   "source": [
    "print(\"Turning the Data into a pickle ... \")\n",
    "\n",
    "jar = \"pickle_jar\" \n",
    "\n",
    "msoa_combined_year.to_pickle(path = os.path.join(jar,\"msoa_combined_year.pkl\"))\n",
    "lsoa_combined_year.to_pickle(path = os.path.join(jar,\"lsoa_combined_year.pkl\"))\n",
    "\n",
    "print(\"Funniest shit I have ever seen!\")"
   ]
  },
  {
   "cell_type": "markdown",
   "metadata": {},
   "source": [
    "#### Taking them out of the Jar again"
   ]
  },
  {
   "cell_type": "code",
   "execution_count": null,
   "metadata": {},
   "outputs": [],
   "source": [
    "print(\"Loading pickled Data\")\n",
    "\n",
    "msoa_combined_year = pd.read_pickle(os.path.join(jar,\"msoa_combined_year.pkl\"))\n",
    "lsoa_combined_year = pd.read_pickle(os.path.join(jar,\"lsoa_combined_year.pkl\"))"
   ]
  },
  {
   "cell_type": "markdown",
   "metadata": {},
   "source": [
    "### Its about Thyme\n",
    "\n",
    "For a short look into the data we will look into the caloric consumption based on different nutrients on the ward level during the twelve month measuring period"
   ]
  },
  {
   "cell_type": "code",
   "execution_count": null,
   "metadata": {},
   "outputs": [],
   "source": [
    "fig, ax = plt.subplots(figsize = (20,10))\n",
    "\n",
    "g = sns.lineplot(data = osward_months.groupby(by = \"month\").sum()[nutrients], ax = ax)\n",
    "plt.show()"
   ]
  },
  {
   "cell_type": "markdown",
   "metadata": {},
   "source": [
    "#### Some Regression"
   ]
  },
  {
   "cell_type": "code",
   "execution_count": 11,
   "metadata": {},
   "outputs": [
    {
     "name": "stdout",
     "output_type": "stream",
     "text": [
      "                            OLS Regression Results                            \n",
      "==============================================================================\n",
      "Dep. Variable:              BAME_perc   R-squared:                       0.467\n",
      "Model:                            OLS   Adj. R-squared:                  0.467\n",
      "Method:                 Least Squares   F-statistic:                     585.8\n",
      "Date:                Sun, 22 Nov 2020   Prob (F-statistic):               0.00\n",
      "Time:                        18:21:19   Log-Likelihood:                -19262.\n",
      "No. Observations:                4681   AIC:                         3.854e+04\n",
      "Df Residuals:                    4673   BIC:                         3.859e+04\n",
      "Df Model:                           7                                         \n",
      "Covariance Type:            nonrobust                                         \n",
      "===================================================================================\n",
      "                      coef    std err          t      P>|t|      [0.025      0.975]\n",
      "-----------------------------------------------------------------------------------\n",
      "Intercept         277.0524      5.932     46.701      0.000     265.422     288.683\n",
      "energy_fat          0.6927      0.100      6.910      0.000       0.496       0.889\n",
      "energy_saturate     0.4790      0.191      2.508      0.012       0.105       0.853\n",
      "energy_sugar       -2.6647      0.081    -32.892      0.000      -2.824      -2.506\n",
      "energy_protein     -7.8381      0.217    -36.082      0.000      -8.264      -7.412\n",
      "energy_carb         1.2044      0.046     26.053      0.000       1.114       1.295\n",
      "energy_fibre      -35.9343      1.164    -30.883      0.000     -38.215     -33.653\n",
      "energy_alcohol     -8.0340      0.393    -20.427      0.000      -8.805      -7.263\n",
      "==============================================================================\n",
      "Omnibus:                      404.645   Durbin-Watson:                   0.836\n",
      "Prob(Omnibus):                  0.000   Jarque-Bera (JB):             2045.519\n",
      "Skew:                           0.254   Prob(JB):                         0.00\n",
      "Kurtosis:                       6.198   Cond. No.                     3.39e+03\n",
      "==============================================================================\n",
      "\n",
      "Warnings:\n",
      "[1] Standard Errors assume that the covariance matrix of the errors is correctly specified.\n",
      "[2] The condition number is large, 3.39e+03. This might indicate that there are\n",
      "strong multicollinearity or other numerical problems.\n"
     ]
    }
   ],
   "source": [
    "log_model_interaction_variable = smf.ols(formula='BAME_perc ~ energy_fat + energy_saturate + energy_sugar + energy_protein + energy_carb + energy_fibre + energy_alcohol',data=lsoa_combined_year)\n",
    "res = log_model_interaction_variable.fit()\n",
    "\n",
    "# Print thes summary output provided by the library.\n",
    "print(res.summary())"
   ]
  },
  {
   "cell_type": "code",
   "execution_count": 12,
   "metadata": {},
   "outputs": [
    {
     "name": "stdout",
     "output_type": "stream",
     "text": [
      "                                          OLS Regression Results                                         \n",
      "=========================================================================================================\n",
      "Dep. Variable:     Median_Annual_Household_Income_estimate_pound   R-squared:                       0.473\n",
      "Model:                                                       OLS   Adj. R-squared:                  0.472\n",
      "Method:                                            Least Squares   F-statistic:                     599.8\n",
      "Date:                                           Sun, 22 Nov 2020   Prob (F-statistic):               0.00\n",
      "Time:                                                   18:21:24   Log-Likelihood:                -48838.\n",
      "No. Observations:                                           4681   AIC:                         9.769e+04\n",
      "Df Residuals:                                               4673   BIC:                         9.774e+04\n",
      "Df Model:                                                      7                                         \n",
      "Covariance Type:                                       nonrobust                                         \n",
      "===================================================================================\n",
      "                      coef    std err          t      P>|t|      [0.025      0.975]\n",
      "-----------------------------------------------------------------------------------\n",
      "Intercept       -3.989e+04   3290.286    -12.123      0.000   -4.63e+04   -3.34e+04\n",
      "energy_fat       -706.7804     55.601    -12.712      0.000    -815.785    -597.776\n",
      "energy_saturate  1593.5691    105.910     15.046      0.000    1385.935    1801.203\n",
      "energy_sugar      501.2458     44.933     11.155      0.000     413.155     589.337\n",
      "energy_protein   1162.5239    120.482      9.649      0.000     926.323    1398.725\n",
      "energy_carb      -748.9677     25.640    -29.211      0.000    -799.234    -698.701\n",
      "energy_fibre     2.864e+04    645.342     44.386      0.000    2.74e+04    2.99e+04\n",
      "energy_alcohol   2977.1232    218.141     13.648      0.000    2549.464    3404.783\n",
      "==============================================================================\n",
      "Omnibus:                      671.744   Durbin-Watson:                   1.202\n",
      "Prob(Omnibus):                  0.000   Jarque-Bera (JB):             7991.529\n",
      "Skew:                           0.256   Prob(JB):                         0.00\n",
      "Kurtosis:                       9.381   Cond. No.                     3.39e+03\n",
      "==============================================================================\n",
      "\n",
      "Warnings:\n",
      "[1] Standard Errors assume that the covariance matrix of the errors is correctly specified.\n",
      "[2] The condition number is large, 3.39e+03. This might indicate that there are\n",
      "strong multicollinearity or other numerical problems.\n"
     ]
    }
   ],
   "source": [
    "log_model_interaction_variable = smf.ols(formula='Median_Annual_Household_Income_estimate_pound ~ energy_fat + energy_saturate + energy_sugar + energy_protein + energy_carb + energy_fibre + energy_alcohol',data=lsoa_combined_year)\n",
    "res = log_model_interaction_variable.fit()\n",
    "\n",
    "# Print thes summary output provided by the library.\n",
    "print(res.summary())"
   ]
  },
  {
   "cell_type": "markdown",
   "metadata": {},
   "source": [
    "#### Barplots for different interesting attributes"
   ]
  },
  {
   "cell_type": "code",
   "execution_count": null,
   "metadata": {},
   "outputs": [],
   "source": [
    "with sns.axes_style(\"white\"): \n",
    "\n",
    "    f, axes = plt.subplots(3, 2, figsize=(30, 30))\n",
    "    axes = axes.flatten()\n",
    "\n",
    "    for ax, eth in zip(axes,ethnicities):\n",
    "        correl = [(nutr, stats.spearmanr(a = lsoa_combined_year[eth], b = lsoa_combined_year[nutr]).correlation) for nutr in nutrients if stats.spearmanr(a = lsoa_combined_year[eth], b = lsoa_combined_year[nutr]).pvalue < 0.05]\n",
    "        colors = [0 if c[1] >= 0 else 1 for c in correl]\n",
    "        sns.barplot(x= [x[0].split(\"_\")[1] for x in correl], y=[x[1] for x in correl], hue=colors, palette=sns.color_palette(), dodge=False, ax = ax)\n",
    "        ax.axhline(0, ls='-', c = 'k')\n",
    "        ax.get_legend().remove()\n",
    "        ax.set_title(eth.split(\"perc\")[0].replace(\"_\", \" \"))\n",
    "\n",
    "    sns.despine(top = True, right = True)\n",
    "    axes[-1].set_visible(False)\n",
    "\n",
    "plt.show()"
   ]
  },
  {
   "cell_type": "code",
   "execution_count": null,
   "metadata": {},
   "outputs": [],
   "source": [
    "with sns.axes_style(\"white\"): \n",
    "    \n",
    "    f, axes = plt.subplots(4, 2, figsize=(30, 30))\n",
    "    axes = axes.flatten()\n",
    "\n",
    "    for ax, faith in zip(axes,religions):\n",
    "        correl = [(nutr, stats.spearmanr(a = lsoa_combined_year[faith], b = lsoa_combined_year[nutr]).correlation) for nutr in nutrients if stats.spearmanr(a = lsoa_combined_year[faith], b = lsoa_combined_year[nutr]).pvalue < 0.05]\n",
    "        colors = [0 if c[1] >= 0 else 1 for c in correl]\n",
    "        sns.barplot(x= [x[0].split(\"_\")[1] for x in correl], y=[x[1] for x in correl], hue=colors, palette=sns.color_palette(), dodge=False, ax = ax)\n",
    "        ax.axhline(0, ls='-', c = 'k')\n",
    "        ax.get_legend().remove()\n",
    "        ax.set_title(faith.split(\"perc\")[0].replace(\"_\", \" \"))\n",
    "\n",
    "    sns.despine(top = True, right = True)\n",
    "    axes[-1].set_visible(False)\n",
    "\n",
    "plt.show()"
   ]
  },
  {
   "cell_type": "code",
   "execution_count": 482,
   "metadata": {},
   "outputs": [
    {
     "data": {
      "image/png": "[encoded data removed]",
      "text/plain": [
       "<Figure size 1080x1080 with 1 Axes>"
      ]
     },
     "metadata": {},
     "output_type": "display_data"
    }
   ],
   "source": [
    "f, (ax) = plt.subplots(1, 1, figsize=(15, 15))\n",
    "correl = [(nutr, stats.spearmanr(a = lsoa_combined_year[\"Median_Annual_Household_Income_estimate_pound\"], b = lsoa_combined_year[nutr]).correlation) for nutr in nutrients if stats.spearmanr(a = lsoa_combined_year[faith], b = lsoa_combined_year[nutr]).pvalue < 0.05]\n",
    "colors = [0 if c[1] >= 0 else 1 for c in correl]\n",
    "sns.barplot(x= [x[0].split(\"_\")[1] for x in correl], y=[x[1] for x in correl], hue=colors, palette=sns.color_palette(), dodge=False, ax = ax)\n",
    "sns.despine(top = True, right = True)\n",
    "ax.get_legend().remove()\n",
    "ax.axhline(0, ls='-', c = 'k')\n",
    "ax.set_title(\"Median Household Income\")\n",
    "plt.show()"
   ]
  },
  {
   "cell_type": "code",
   "execution_count": 546,
   "metadata": {},
   "outputs": [
    {
     "data": {
      "text/html": [
       "<div>\n",
       "<style scoped>\n",
       "    .dataframe tbody tr th:only-of-type {\n",
       "        vertical-align: middle;\n",
       "    }\n",
       "\n",
       "    .dataframe tbody tr th {\n",
       "        vertical-align: top;\n",
       "    }\n",
       "\n",
       "    .dataframe thead th {\n",
       "        text-align: right;\n",
       "    }\n",
       "</style>\n",
       "<table border=\"1\" class=\"dataframe\">\n",
       "  <thead>\n",
       "    <tr style=\"text-align: right;\">\n",
       "      <th></th>\n",
       "      <th>antecedents</th>\n",
       "      <th>consequents</th>\n",
       "      <th>antecedent support</th>\n",
       "      <th>consequent support</th>\n",
       "      <th>support</th>\n",
       "      <th>confidence</th>\n",
       "      <th>lift</th>\n",
       "      <th>leverage</th>\n",
       "      <th>conviction</th>\n",
       "    </tr>\n",
       "  </thead>\n",
       "  <tbody>\n",
       "    <tr>\n",
       "      <th>7005</th>\n",
       "      <td>(sugar_Low, carb_Low, fibre_High)</td>\n",
       "      <td>(Median_Income_High)</td>\n",
       "      <td>0.068148</td>\n",
       "      <td>0.249947</td>\n",
       "      <td>0.054048</td>\n",
       "      <td>0.793103</td>\n",
       "      <td>3.173092</td>\n",
       "      <td>0.037015</td>\n",
       "      <td>3.625258</td>\n",
       "    </tr>\n",
       "    <tr>\n",
       "      <th>2221</th>\n",
       "      <td>(carb_Low, fibre_High)</td>\n",
       "      <td>(Median_Income_High)</td>\n",
       "      <td>0.086520</td>\n",
       "      <td>0.249947</td>\n",
       "      <td>0.068361</td>\n",
       "      <td>0.790123</td>\n",
       "      <td>3.161169</td>\n",
       "      <td>0.046736</td>\n",
       "      <td>3.573784</td>\n",
       "    </tr>\n",
       "    <tr>\n",
       "      <th>6079</th>\n",
       "      <td>(fat_High, saturate_High, protein_Low)</td>\n",
       "      <td>(Asian/Asian_High)</td>\n",
       "      <td>0.072634</td>\n",
       "      <td>0.249733</td>\n",
       "      <td>0.053835</td>\n",
       "      <td>0.741176</td>\n",
       "      <td>2.967876</td>\n",
       "      <td>0.035696</td>\n",
       "      <td>2.898759</td>\n",
       "    </tr>\n",
       "    <tr>\n",
       "      <th>2204</th>\n",
       "      <td>(sugar_Low, fibre_High)</td>\n",
       "      <td>(Median_Income_High)</td>\n",
       "      <td>0.083102</td>\n",
       "      <td>0.249947</td>\n",
       "      <td>0.060671</td>\n",
       "      <td>0.730077</td>\n",
       "      <td>2.920932</td>\n",
       "      <td>0.039900</td>\n",
       "      <td>2.778769</td>\n",
       "    </tr>\n",
       "    <tr>\n",
       "      <th>1381</th>\n",
       "      <td>(saturate_High, protein_Low)</td>\n",
       "      <td>(Asian/Asian_High)</td>\n",
       "      <td>0.091006</td>\n",
       "      <td>0.249733</td>\n",
       "      <td>0.066439</td>\n",
       "      <td>0.730047</td>\n",
       "      <td>2.923310</td>\n",
       "      <td>0.043712</td>\n",
       "      <td>2.779250</td>\n",
       "    </tr>\n",
       "    <tr>\n",
       "      <th>2225</th>\n",
       "      <td>(fibre_Low, alcohol_Low)</td>\n",
       "      <td>(Median_Income_Low)</td>\n",
       "      <td>0.074343</td>\n",
       "      <td>0.249947</td>\n",
       "      <td>0.053621</td>\n",
       "      <td>0.721264</td>\n",
       "      <td>2.885674</td>\n",
       "      <td>0.035039</td>\n",
       "      <td>2.690913</td>\n",
       "    </tr>\n",
       "    <tr>\n",
       "      <th>6955</th>\n",
       "      <td>(fat_High, saturate_High, protein_Low)</td>\n",
       "      <td>(No_religion_Low)</td>\n",
       "      <td>0.072634</td>\n",
       "      <td>0.248451</td>\n",
       "      <td>0.051912</td>\n",
       "      <td>0.714706</td>\n",
       "      <td>2.876645</td>\n",
       "      <td>0.033866</td>\n",
       "      <td>2.634295</td>\n",
       "    </tr>\n",
       "    <tr>\n",
       "      <th>1376</th>\n",
       "      <td>(fat_High, protein_Low)</td>\n",
       "      <td>(Asian/Asian_High)</td>\n",
       "      <td>0.081179</td>\n",
       "      <td>0.249733</td>\n",
       "      <td>0.057253</td>\n",
       "      <td>0.705263</td>\n",
       "      <td>2.824069</td>\n",
       "      <td>0.036980</td>\n",
       "      <td>2.545549</td>\n",
       "    </tr>\n",
       "    <tr>\n",
       "      <th>2107</th>\n",
       "      <td>(saturate_High, protein_Low)</td>\n",
       "      <td>(No_religion_Low)</td>\n",
       "      <td>0.091006</td>\n",
       "      <td>0.248451</td>\n",
       "      <td>0.064089</td>\n",
       "      <td>0.704225</td>\n",
       "      <td>2.834462</td>\n",
       "      <td>0.041478</td>\n",
       "      <td>2.540951</td>\n",
       "    </tr>\n",
       "    <tr>\n",
       "      <th>9879</th>\n",
       "      <td>(fat_High, saturate_High, protein_Low)</td>\n",
       "      <td>(White_Low, BAME_High)</td>\n",
       "      <td>0.072634</td>\n",
       "      <td>0.249092</td>\n",
       "      <td>0.050630</td>\n",
       "      <td>0.697059</td>\n",
       "      <td>2.798398</td>\n",
       "      <td>0.032538</td>\n",
       "      <td>2.478725</td>\n",
       "    </tr>\n",
       "    <tr>\n",
       "      <th>6704</th>\n",
       "      <td>(fat_High, saturate_High, protein_Low)</td>\n",
       "      <td>(BAME_High)</td>\n",
       "      <td>0.072634</td>\n",
       "      <td>0.249092</td>\n",
       "      <td>0.050630</td>\n",
       "      <td>0.697059</td>\n",
       "      <td>2.798398</td>\n",
       "      <td>0.032538</td>\n",
       "      <td>2.478725</td>\n",
       "    </tr>\n",
       "    <tr>\n",
       "      <th>3711</th>\n",
       "      <td>(fat_High, saturate_High, protein_Low)</td>\n",
       "      <td>(White_Low)</td>\n",
       "      <td>0.072634</td>\n",
       "      <td>0.249092</td>\n",
       "      <td>0.050630</td>\n",
       "      <td>0.697059</td>\n",
       "      <td>2.798398</td>\n",
       "      <td>0.032538</td>\n",
       "      <td>2.478725</td>\n",
       "    </tr>\n",
       "    <tr>\n",
       "      <th>6961</th>\n",
       "      <td>(sugar_Low, protein_High, carb_Low)</td>\n",
       "      <td>(No_religion_High)</td>\n",
       "      <td>0.075625</td>\n",
       "      <td>0.247169</td>\n",
       "      <td>0.051271</td>\n",
       "      <td>0.677966</td>\n",
       "      <td>2.742921</td>\n",
       "      <td>0.032579</td>\n",
       "      <td>2.337737</td>\n",
       "    </tr>\n",
       "    <tr>\n",
       "      <th>2103</th>\n",
       "      <td>(fat_High, protein_Low)</td>\n",
       "      <td>(No_religion_Low)</td>\n",
       "      <td>0.081179</td>\n",
       "      <td>0.248451</td>\n",
       "      <td>0.054903</td>\n",
       "      <td>0.676316</td>\n",
       "      <td>2.722127</td>\n",
       "      <td>0.034734</td>\n",
       "      <td>2.321858</td>\n",
       "    </tr>\n",
       "    <tr>\n",
       "      <th>2123</th>\n",
       "      <td>(protein_High, carb_Low)</td>\n",
       "      <td>(No_religion_High)</td>\n",
       "      <td>0.087161</td>\n",
       "      <td>0.247169</td>\n",
       "      <td>0.058748</td>\n",
       "      <td>0.674020</td>\n",
       "      <td>2.726954</td>\n",
       "      <td>0.037205</td>\n",
       "      <td>2.309435</td>\n",
       "    </tr>\n",
       "    <tr>\n",
       "      <th>1968</th>\n",
       "      <td>(saturate_High, protein_Low)</td>\n",
       "      <td>(Hindu_High)</td>\n",
       "      <td>0.091006</td>\n",
       "      <td>0.249092</td>\n",
       "      <td>0.061312</td>\n",
       "      <td>0.673709</td>\n",
       "      <td>2.704658</td>\n",
       "      <td>0.038643</td>\n",
       "      <td>2.301344</td>\n",
       "    </tr>\n",
       "    <tr>\n",
       "      <th>6049</th>\n",
       "      <td>(saturate_High, protein_Low)</td>\n",
       "      <td>(Asian/Asian_High, No_religion_Low)</td>\n",
       "      <td>0.091006</td>\n",
       "      <td>0.174535</td>\n",
       "      <td>0.061098</td>\n",
       "      <td>0.671362</td>\n",
       "      <td>3.846564</td>\n",
       "      <td>0.045214</td>\n",
       "      <td>2.511771</td>\n",
       "    </tr>\n",
       "    <tr>\n",
       "      <th>348</th>\n",
       "      <td>(saturate_High, protein_Low)</td>\n",
       "      <td>(White_Low)</td>\n",
       "      <td>0.091006</td>\n",
       "      <td>0.249092</td>\n",
       "      <td>0.061098</td>\n",
       "      <td>0.671362</td>\n",
       "      <td>2.695234</td>\n",
       "      <td>0.038429</td>\n",
       "      <td>2.284906</td>\n",
       "    </tr>\n",
       "    <tr>\n",
       "      <th>3254</th>\n",
       "      <td>(saturate_High, protein_Low)</td>\n",
       "      <td>(White_Low, BAME_High)</td>\n",
       "      <td>0.091006</td>\n",
       "      <td>0.249092</td>\n",
       "      <td>0.061098</td>\n",
       "      <td>0.671362</td>\n",
       "      <td>2.695234</td>\n",
       "      <td>0.038429</td>\n",
       "      <td>2.284906</td>\n",
       "    </tr>\n",
       "    <tr>\n",
       "      <th>1780</th>\n",
       "      <td>(saturate_High, protein_Low)</td>\n",
       "      <td>(BAME_High)</td>\n",
       "      <td>0.091006</td>\n",
       "      <td>0.249092</td>\n",
       "      <td>0.061098</td>\n",
       "      <td>0.671362</td>\n",
       "      <td>2.695234</td>\n",
       "      <td>0.038429</td>\n",
       "      <td>2.284906</td>\n",
       "    </tr>\n",
       "  </tbody>\n",
       "</table>\n",
       "</div>"
      ],
      "text/plain": [
       "                                 antecedents  \\\n",
       "7005       (sugar_Low, carb_Low, fibre_High)   \n",
       "2221                  (carb_Low, fibre_High)   \n",
       "6079  (fat_High, saturate_High, protein_Low)   \n",
       "2204                 (sugar_Low, fibre_High)   \n",
       "1381            (saturate_High, protein_Low)   \n",
       "2225                (fibre_Low, alcohol_Low)   \n",
       "6955  (fat_High, saturate_High, protein_Low)   \n",
       "1376                 (fat_High, protein_Low)   \n",
       "2107            (saturate_High, protein_Low)   \n",
       "9879  (fat_High, saturate_High, protein_Low)   \n",
       "6704  (fat_High, saturate_High, protein_Low)   \n",
       "3711  (fat_High, saturate_High, protein_Low)   \n",
       "6961     (sugar_Low, protein_High, carb_Low)   \n",
       "2103                 (fat_High, protein_Low)   \n",
       "2123                (protein_High, carb_Low)   \n",
       "1968            (saturate_High, protein_Low)   \n",
       "6049            (saturate_High, protein_Low)   \n",
       "348             (saturate_High, protein_Low)   \n",
       "3254            (saturate_High, protein_Low)   \n",
       "1780            (saturate_High, protein_Low)   \n",
       "\n",
       "                              consequents  antecedent support  \\\n",
       "7005                 (Median_Income_High)            0.068148   \n",
       "2221                 (Median_Income_High)            0.086520   \n",
       "6079                   (Asian/Asian_High)            0.072634   \n",
       "2204                 (Median_Income_High)            0.083102   \n",
       "1381                   (Asian/Asian_High)            0.091006   \n",
       "2225                  (Median_Income_Low)            0.074343   \n",
       "6955                    (No_religion_Low)            0.072634   \n",
       "1376                   (Asian/Asian_High)            0.081179   \n",
       "2107                    (No_religion_Low)            0.091006   \n",
       "9879               (White_Low, BAME_High)            0.072634   \n",
       "6704                          (BAME_High)            0.072634   \n",
       "3711                          (White_Low)            0.072634   \n",
       "6961                   (No_religion_High)            0.075625   \n",
       "2103                    (No_religion_Low)            0.081179   \n",
       "2123                   (No_religion_High)            0.087161   \n",
       "1968                         (Hindu_High)            0.091006   \n",
       "6049  (Asian/Asian_High, No_religion_Low)            0.091006   \n",
       "348                           (White_Low)            0.091006   \n",
       "3254               (White_Low, BAME_High)            0.091006   \n",
       "1780                          (BAME_High)            0.091006   \n",
       "\n",
       "      consequent support   support  confidence      lift  leverage  conviction  \n",
       "7005            0.249947  0.054048    0.793103  3.173092  0.037015    3.625258  \n",
       "2221            0.249947  0.068361    0.790123  3.161169  0.046736    3.573784  \n",
       "6079            0.249733  0.053835    0.741176  2.967876  0.035696    2.898759  \n",
       "2204            0.249947  0.060671    0.730077  2.920932  0.039900    2.778769  \n",
       "1381            0.249733  0.066439    0.730047  2.923310  0.043712    2.779250  \n",
       "2225            0.249947  0.053621    0.721264  2.885674  0.035039    2.690913  \n",
       "6955            0.248451  0.051912    0.714706  2.876645  0.033866    2.634295  \n",
       "1376            0.249733  0.057253    0.705263  2.824069  0.036980    2.545549  \n",
       "2107            0.248451  0.064089    0.704225  2.834462  0.041478    2.540951  \n",
       "9879            0.249092  0.050630    0.697059  2.798398  0.032538    2.478725  \n",
       "6704            0.249092  0.050630    0.697059  2.798398  0.032538    2.478725  \n",
       "3711            0.249092  0.050630    0.697059  2.798398  0.032538    2.478725  \n",
       "6961            0.247169  0.051271    0.677966  2.742921  0.032579    2.337737  \n",
       "2103            0.248451  0.054903    0.676316  2.722127  0.034734    2.321858  \n",
       "2123            0.247169  0.058748    0.674020  2.726954  0.037205    2.309435  \n",
       "1968            0.249092  0.061312    0.673709  2.704658  0.038643    2.301344  \n",
       "6049            0.174535  0.061098    0.671362  3.846564  0.045214    2.511771  \n",
       "348             0.249092  0.061098    0.671362  2.695234  0.038429    2.284906  \n",
       "3254            0.249092  0.061098    0.671362  2.695234  0.038429    2.284906  \n",
       "1780            0.249092  0.061098    0.671362  2.695234  0.038429    2.284906  "
      ]
     },
     "execution_count": 546,
     "metadata": {},
     "output_type": "execute_result"
    }
   ],
   "source": [
    "lsoa_combined_items = lsoa_combined_year[ethnicities + religions + nutrients + [\"Median_Annual_Household_Income_estimate_pound\"]].copy()\n",
    "lsoa_combined_items.columns = [x.split(\"_\")[0] for x in  ethnicities] + ['Christian', 'Buddhist','Hindu','Jewish','Muslim','Sikh','No_religion','Other_religion']  + [x.split(\"_\")[1] for x in  nutrients] + [\"Median_Income\"] \n",
    " \n",
    "# You could do this probably somewhat smarter \n",
    "# Encoding Data into a \"Set\" Dataset\n",
    "for col in lsoa_combined_items.columns:\n",
    "    lower  =  lsoa_combined_items[col].quantile(0.25)\n",
    "    middle =  lsoa_combined_items[col].quantile(0.5)\n",
    "    higher =  lsoa_combined_items[col].quantile(0.75)\n",
    "    lsoa_combined_items[col + \"_Low\"] = lsoa_combined_items[col].apply(lambda x : x < lower)\n",
    "    lsoa_combined_items[col + \"_Low_to_Middle\"] = lsoa_combined_items[col].apply(lambda x : x >= lower and x < middle)\n",
    "    lsoa_combined_items[col + \"_Middle_to_High\"] = lsoa_combined_items[col].apply(lambda x :  x < higher and x > middle)\n",
    "    lsoa_combined_items[col + \"_High\"] = lsoa_combined_items[col].apply(lambda x : x > higher )\n",
    "    lsoa_combined_items = lsoa_combined_items.drop(col, axis = 1)\n",
    "    \n",
    "\n",
    "# Given the structure of the information, low support is indemic\n",
    "frequent_itemsets = apriori(lsoa_combined_items, min_support = 0.05, use_colnames = True)\n",
    "\n",
    "# Use Association Rules as an \"explainable\" Model\n",
    "cleaned_names = [x.split(\"_\")[1] for x in nutrients]\n",
    "cleaned_names = [x + \"_High\" for x in cleaned_names] + [x + \"_Low\" for x in cleaned_names] + [x + \"Low_to_Middle\" for x in cleaned_names]+ [x + \"Middle_to_High\" for x in cleaned_names]\n",
    "nutrient_sets = set(cleaned_names)\n",
    "\n",
    "rules_association = arule(frequent_itemsets, metric = 'confidence', min_threshold = 0.6)\n",
    "rules_association[rules_association.apply(lambda x : True if x[\"antecedents\"].issubset(nutrient_sets) and not x[\"consequents\"].issubset(nutrient_sets) else False, axis = 1)].sort_values(by = \"confidence\", ascending = False).head(20)"
   ]
  },
  {
   "cell_type": "code",
   "execution_count": 509,
   "metadata": {},
   "outputs": [
    {
     "name": "stderr",
     "output_type": "stream",
     "text": [
      "0it [00:00, ?it/s]"
     ]
    },
    {
     "name": "stdout",
     "output_type": "stream",
     "text": [
      "\n",
      " (75, 'auto')\n"
     ]
    },
    {
     "name": "stderr",
     "output_type": "stream",
     "text": [
      "1it [00:07,  7.99s/it]"
     ]
    },
    {
     "name": "stdout",
     "output_type": "stream",
     "text": [
      "0.45731363123289565\n",
      "\n",
      " (75, 'sqrt')\n"
     ]
    },
    {
     "name": "stderr",
     "output_type": "stream",
     "text": [
      "2it [00:11,  6.65s/it]"
     ]
    },
    {
     "name": "stdout",
     "output_type": "stream",
     "text": [
      "0.4627618316660997\n",
      "\n",
      " (100, 'auto')\n"
     ]
    },
    {
     "name": "stderr",
     "output_type": "stream",
     "text": [
      "3it [00:22,  7.84s/it]"
     ]
    },
    {
     "name": "stdout",
     "output_type": "stream",
     "text": [
      "0.45873916095827105\n",
      "\n",
      " (100, 'sqrt')\n"
     ]
    },
    {
     "name": "stderr",
     "output_type": "stream",
     "text": [
      "4it [00:27,  7.06s/it]"
     ]
    },
    {
     "name": "stdout",
     "output_type": "stream",
     "text": [
      "0.4623480467729322\n",
      "\n",
      " (200, 'auto')\n"
     ]
    },
    {
     "name": "stderr",
     "output_type": "stream",
     "text": [
      "5it [00:48, 11.35s/it]"
     ]
    },
    {
     "name": "stdout",
     "output_type": "stream",
     "text": [
      "0.4616837112996686\n",
      "\n",
      " (200, 'sqrt')\n"
     ]
    },
    {
     "name": "stderr",
     "output_type": "stream",
     "text": [
      "6it [00:58, 10.87s/it]"
     ]
    },
    {
     "name": "stdout",
     "output_type": "stream",
     "text": [
      "0.4636050873680853\n",
      "\n",
      " (250, 'auto')\n"
     ]
    },
    {
     "name": "stderr",
     "output_type": "stream",
     "text": [
      "7it [01:27, 16.32s/it]"
     ]
    },
    {
     "name": "stdout",
     "output_type": "stream",
     "text": [
      "0.45943373417423183\n",
      "\n",
      " (250, 'sqrt')\n"
     ]
    },
    {
     "name": "stderr",
     "output_type": "stream",
     "text": [
      "8it [01:39, 12.41s/it]"
     ]
    },
    {
     "name": "stdout",
     "output_type": "stream",
     "text": [
      "0.4681098886762303\n"
     ]
    },
    {
     "name": "stderr",
     "output_type": "stream",
     "text": [
      "\n"
     ]
    }
   ],
   "source": [
    "X = lsoa_combined_year[nutrients]\n",
    "y = lsoa_combined_year['Median_Annual_Household_Income_estimate_pound']\n",
    "n_estimators =  [75,100,200,250]\n",
    "max_features = [\"auto\", \"sqrt\"]\n",
    "\n",
    "    \n",
    "for x in tqdm(it.product(n_estimators,max_features)): \n",
    "    \n",
    "    print(\"\\n\", x)\n",
    "    random_forest = RandomForestRegressor(n_estimators = x[0], max_features = x[1])\n",
    "    print(cross_val_score(estimator = random_forest, X = X, y = y, cv = 20, n_jobs = -1).mean())\n",
    "    "
   ]
  },
  {
   "cell_type": "code",
   "execution_count": 547,
   "metadata": {},
   "outputs": [
    {
     "name": "stderr",
     "output_type": "stream",
     "text": [
      "1it [00:06,  6.26s/it]"
     ]
    },
    {
     "name": "stdout",
     "output_type": "stream",
     "text": [
      "0.35058957835090354\n"
     ]
    },
    {
     "name": "stderr",
     "output_type": "stream",
     "text": [
      "2it [00:06,  4.53s/it]"
     ]
    },
    {
     "name": "stdout",
     "output_type": "stream",
     "text": [
      "0.3610931002121213\n"
     ]
    },
    {
     "name": "stderr",
     "output_type": "stream",
     "text": [
      "3it [00:07,  3.35s/it]"
     ]
    },
    {
     "name": "stdout",
     "output_type": "stream",
     "text": [
      "0.36553774541100276\n"
     ]
    },
    {
     "name": "stderr",
     "output_type": "stream",
     "text": [
      "4it [00:08,  2.67s/it]"
     ]
    },
    {
     "name": "stdout",
     "output_type": "stream",
     "text": [
      "0.3083318214331389\n"
     ]
    },
    {
     "name": "stderr",
     "output_type": "stream",
     "text": [
      "5it [00:09,  2.16s/it]"
     ]
    },
    {
     "name": "stdout",
     "output_type": "stream",
     "text": [
      "0.3404836177187203\n"
     ]
    },
    {
     "name": "stderr",
     "output_type": "stream",
     "text": [
      "6it [00:10,  1.80s/it]"
     ]
    },
    {
     "name": "stdout",
     "output_type": "stream",
     "text": [
      "0.36491648753047595\n"
     ]
    },
    {
     "name": "stderr",
     "output_type": "stream",
     "text": [
      "7it [00:12,  1.79s/it]"
     ]
    },
    {
     "name": "stdout",
     "output_type": "stream",
     "text": [
      "0.27639902621383045\n"
     ]
    },
    {
     "name": "stderr",
     "output_type": "stream",
     "text": [
      "8it [00:13,  1.78s/it]"
     ]
    },
    {
     "name": "stdout",
     "output_type": "stream",
     "text": [
      "0.3021119153971883\n"
     ]
    },
    {
     "name": "stderr",
     "output_type": "stream",
     "text": [
      "9it [00:15,  1.76s/it]"
     ]
    },
    {
     "name": "stdout",
     "output_type": "stream",
     "text": [
      "0.35966987543019235\n"
     ]
    },
    {
     "name": "stderr",
     "output_type": "stream",
     "text": [
      "10it [00:17,  1.92s/it]"
     ]
    },
    {
     "name": "stdout",
     "output_type": "stream",
     "text": [
      "0.2680368451507208\n"
     ]
    },
    {
     "name": "stderr",
     "output_type": "stream",
     "text": [
      "11it [00:21,  2.42s/it]"
     ]
    },
    {
     "name": "stdout",
     "output_type": "stream",
     "text": [
      "0.27488776971236983\n"
     ]
    },
    {
     "name": "stderr",
     "output_type": "stream",
     "text": [
      "12it [00:25,  2.78s/it]"
     ]
    },
    {
     "name": "stdout",
     "output_type": "stream",
     "text": [
      "0.3482060947122664\n"
     ]
    },
    {
     "name": "stderr",
     "output_type": "stream",
     "text": [
      "13it [00:27,  2.67s/it]"
     ]
    },
    {
     "name": "stdout",
     "output_type": "stream",
     "text": [
      "0.2706505310880737\n"
     ]
    },
    {
     "name": "stderr",
     "output_type": "stream",
     "text": [
      "14it [00:31,  3.21s/it]"
     ]
    },
    {
     "name": "stdout",
     "output_type": "stream",
     "text": [
      "0.2711925664131137\n"
     ]
    },
    {
     "name": "stderr",
     "output_type": "stream",
     "text": [
      "15it [00:36,  2.46s/it]"
     ]
    },
    {
     "name": "stdout",
     "output_type": "stream",
     "text": [
      "0.3382347763694228\n"
     ]
    },
    {
     "name": "stderr",
     "output_type": "stream",
     "text": [
      "\n"
     ]
    }
   ],
   "source": [
    "X = lsoa_combined_year[nutrients]\n",
    "y = lsoa_combined_year['Median_Annual_Household_Income_estimate_pound']\n",
    "n_estimators = [20,50,100,200,250]\n",
    "learning_rate = [0.1, 0.05, 0.01]\n",
    "\n",
    "for x in tqdm(it.product(n_estimators, learning_rate)): \n",
    "    \n",
    "    print(\"\\n\", x)\n",
    "    lin_regression = LinearRegression()\n",
    "    ada = AdaBoostRegressor(base_estimator = lin_regression,  n_estimators = x[0], loss = \"linear\", learning_rate = x[1]) \n",
    "    print(cross_val_score(estimator = ada, X = X, y = y, cv = 20, n_jobs = -1).mean())\n",
    "    "
   ]
  },
  {
   "cell_type": "code",
   "execution_count": 488,
   "metadata": {},
   "outputs": [
    {
     "name": "stderr",
     "output_type": "stream",
     "text": [
      "*c* argument looks like a single numeric RGB or RGBA sequence, which should be avoided as value-mapping will have precedence in case its length matches with *x* & *y*.  Please use the *color* keyword-argument or provide a 2-D array with a single row if you intend to specify the same RGB or RGBA value for all points.\n"
     ]
    },
    {
     "data": {
      "text/plain": [
       "<matplotlib.axes._subplots.AxesSubplot at 0x18a45c421c0>"
      ]
     },
     "execution_count": 488,
     "metadata": {},
     "output_type": "execute_result"
    },
    {
     "data": {
      "image/png": "[encoded data removed]",
      "text/plain": [
       "<Figure size 432x288 with 1 Axes>"
      ]
     },
     "metadata": {},
     "output_type": "display_data"
    }
   ],
   "source": [
    "lsoa_combined_year.plot.scatter(x = \"Median_Annual_Household_Income_estimate_pound\", y = \"energy_fibre\" )"
   ]
  },
  {
   "cell_type": "code",
   "execution_count": 561,
   "metadata": {},
   "outputs": [
    {
     "name": "stdout",
     "output_type": "stream",
     "text": [
      "[Pipeline] ............ (step 1 of 2) Processing scaler, total=   0.0s\n",
      "[Pipeline] ......... (step 2 of 2) Processing regressor, total=   0.1s\n"
     ]
    },
    {
     "data": {
      "text/plain": [
       "0.4040099852253627"
      ]
     },
     "execution_count": 561,
     "metadata": {},
     "output_type": "execute_result"
    }
   ],
   "source": [
    "# Shuffle Split \n",
    "x_train, x_test , y_train, y_test = train_test_split(lsoa_combined_year[nutrients], lsoa_combined_year['Median_Annual_Household_Income_estimate_pound'], random_state=0) \n",
    "# The Ada Pipeline \n",
    "ada_pipeline = pipeline_factory(scaler = StandardScaler(), model = AdaBoostRegressor(base_estimator = LinearRegression()), x_train = x_train, y_train = y_train)\n",
    "\n",
    "ada_pipeline.score(x_test, y_test)"
   ]
  },
  {
   "cell_type": "code",
   "execution_count": 563,
   "metadata": {},
   "outputs": [
    {
     "name": "stdout",
     "output_type": "stream",
     "text": [
      "[Pipeline] ............ (step 1 of 2) Processing scaler, total=   0.0s\n",
      "[Pipeline] ......... (step 2 of 2) Processing regressor, total=   0.0s\n"
     ]
    },
    {
     "data": {
      "text/plain": [
       "0.6041545093998388"
      ]
     },
     "execution_count": 563,
     "metadata": {},
     "output_type": "execute_result"
    }
   ],
   "source": [
    "# Shuffle Split \n",
    "x_train, x_test , y_train, y_test = train_test_split(msoa_combined_year[nutrients], msoa_combined_year['Total_Median_Annual_Household_Income_pound_'], random_state=0) \n",
    "# The Ada Pipeline \n",
    "ada_pipeline = pipeline_factory(scaler = StandardScaler(), model = AdaBoostRegressor(base_estimator = LinearRegression()), x_train = x_train, y_train = y_train)\n",
    "\n",
    "ada_pipeline.score(x_test, y_test)"
   ]
  },
  {
   "cell_type": "code",
   "execution_count": 524,
   "metadata": {},
   "outputs": [
    {
     "name": "stderr",
     "output_type": "stream",
     "text": [
      "0it [00:00, ?it/s]"
     ]
    },
    {
     "name": "stdout",
     "output_type": "stream",
     "text": [
      "\n",
      " (75, 'auto')\n"
     ]
    },
    {
     "name": "stderr",
     "output_type": "stream",
     "text": [
      "1it [00:07,  7.08s/it]"
     ]
    },
    {
     "name": "stdout",
     "output_type": "stream",
     "text": [
      "0.557711952253416\n",
      "\n",
      " (75, 'sqrt')\n"
     ]
    },
    {
     "name": "stderr",
     "output_type": "stream",
     "text": [
      "2it [00:08,  5.30s/it]"
     ]
    },
    {
     "name": "stdout",
     "output_type": "stream",
     "text": [
      "0.5649677324780058\n",
      "\n",
      " (100, 'auto')\n"
     ]
    },
    {
     "name": "stderr",
     "output_type": "stream",
     "text": [
      "3it [00:10,  4.51s/it]"
     ]
    },
    {
     "name": "stdout",
     "output_type": "stream",
     "text": [
      "0.5593265629803432\n",
      "\n",
      " (100, 'sqrt')\n"
     ]
    },
    {
     "name": "stderr",
     "output_type": "stream",
     "text": [
      "4it [00:12,  3.71s/it]"
     ]
    },
    {
     "name": "stdout",
     "output_type": "stream",
     "text": [
      "0.5616747761267001\n",
      "\n",
      " (200, 'auto')\n"
     ]
    },
    {
     "name": "stderr",
     "output_type": "stream",
     "text": [
      "5it [00:17,  4.12s/it]"
     ]
    },
    {
     "name": "stdout",
     "output_type": "stream",
     "text": [
      "0.5621469890675235\n",
      "\n",
      " (200, 'sqrt')\n"
     ]
    },
    {
     "name": "stderr",
     "output_type": "stream",
     "text": [
      "6it [00:20,  3.75s/it]"
     ]
    },
    {
     "name": "stdout",
     "output_type": "stream",
     "text": [
      "0.5658309117520502\n",
      "\n",
      " (250, 'auto')\n"
     ]
    },
    {
     "name": "stderr",
     "output_type": "stream",
     "text": [
      "7it [00:26,  4.32s/it]"
     ]
    },
    {
     "name": "stdout",
     "output_type": "stream",
     "text": [
      "0.5612681737781187\n",
      "\n",
      " (250, 'sqrt')\n"
     ]
    },
    {
     "name": "stderr",
     "output_type": "stream",
     "text": [
      "8it [00:29,  3.74s/it]"
     ]
    },
    {
     "name": "stdout",
     "output_type": "stream",
     "text": [
      "0.562543610523684\n"
     ]
    },
    {
     "name": "stderr",
     "output_type": "stream",
     "text": [
      "\n"
     ]
    }
   ],
   "source": [
    "\n",
    "X = msoa_combined_year[nutrients]\n",
    "y = msoa_combined_year['Total_Median_Annual_Household_Income_pound_']\n",
    "\n",
    "n_estimators =  [75,100,200,250]\n",
    "max_features = [\"auto\", \"sqrt\"]\n",
    "\n",
    "for x in tqdm(it.product(n_estimators,max_features)): \n",
    "    print(\"\\n\", x)\n",
    "    random_forest = RandomForestRegressor(n_estimators = x[0], max_features = x[1])\n",
    "    print(cross_val_score(estimator = random_forest, X = X, y = y, cv = 20, n_jobs = -1).mean())\n",
    "    "
   ]
  },
  {
   "cell_type": "code",
   "execution_count": 549,
   "metadata": {},
   "outputs": [
    {
     "name": "stderr",
     "output_type": "stream",
     "text": [
      "0it [00:00, ?it/s]"
     ]
    },
    {
     "name": "stdout",
     "output_type": "stream",
     "text": [
      "\n",
      " (20, 0.1)\n"
     ]
    },
    {
     "name": "stderr",
     "output_type": "stream",
     "text": [
      "1it [00:00,  3.26it/s]"
     ]
    },
    {
     "name": "stdout",
     "output_type": "stream",
     "text": [
      "0.4918458582936826\n",
      "\n",
      " (20, 0.05)\n"
     ]
    },
    {
     "name": "stderr",
     "output_type": "stream",
     "text": [
      "2it [00:00,  3.35it/s]"
     ]
    },
    {
     "name": "stdout",
     "output_type": "stream",
     "text": [
      "0.4949592166669894\n",
      "\n",
      " (20, 0.01)\n"
     ]
    },
    {
     "name": "stderr",
     "output_type": "stream",
     "text": [
      "3it [00:00,  3.24it/s]"
     ]
    },
    {
     "name": "stdout",
     "output_type": "stream",
     "text": [
      "0.501134609877153\n",
      "\n",
      " (50, 0.1)\n"
     ]
    },
    {
     "name": "stderr",
     "output_type": "stream",
     "text": [
      "4it [00:01,  2.37it/s]"
     ]
    },
    {
     "name": "stdout",
     "output_type": "stream",
     "text": [
      "0.46167485168900413\n",
      "\n",
      " (50, 0.05)\n"
     ]
    },
    {
     "name": "stderr",
     "output_type": "stream",
     "text": [
      "5it [00:02,  2.28it/s]"
     ]
    },
    {
     "name": "stdout",
     "output_type": "stream",
     "text": [
      "0.4848030221594152\n",
      "\n",
      " (50, 0.01)\n"
     ]
    },
    {
     "name": "stderr",
     "output_type": "stream",
     "text": [
      "6it [00:02,  2.04it/s]"
     ]
    },
    {
     "name": "stdout",
     "output_type": "stream",
     "text": [
      "0.5020926200333669\n",
      "\n",
      " (100, 0.1)\n"
     ]
    },
    {
     "name": "stderr",
     "output_type": "stream",
     "text": [
      "7it [00:03,  1.82it/s]"
     ]
    },
    {
     "name": "stdout",
     "output_type": "stream",
     "text": [
      "0.44688002475413685\n",
      "\n",
      " (100, 0.05)\n"
     ]
    },
    {
     "name": "stderr",
     "output_type": "stream",
     "text": [
      "8it [00:04,  1.49it/s]"
     ]
    },
    {
     "name": "stdout",
     "output_type": "stream",
     "text": [
      "0.45741427178813227\n",
      "\n",
      " (100, 0.01)\n"
     ]
    },
    {
     "name": "stderr",
     "output_type": "stream",
     "text": [
      "9it [00:05,  1.39it/s]"
     ]
    },
    {
     "name": "stdout",
     "output_type": "stream",
     "text": [
      "0.5026832636426412\n",
      "\n",
      " (200, 0.1)\n"
     ]
    },
    {
     "name": "stderr",
     "output_type": "stream",
     "text": [
      "10it [00:05,  1.41it/s]"
     ]
    },
    {
     "name": "stdout",
     "output_type": "stream",
     "text": [
      "0.4468153126201407\n",
      "\n",
      " (200, 0.05)\n"
     ]
    },
    {
     "name": "stderr",
     "output_type": "stream",
     "text": [
      "11it [00:07,  1.11it/s]"
     ]
    },
    {
     "name": "stdout",
     "output_type": "stream",
     "text": [
      "0.4443836208870547\n",
      "\n",
      " (200, 0.01)\n"
     ]
    },
    {
     "name": "stderr",
     "output_type": "stream",
     "text": [
      "12it [00:08,  1.12s/it]"
     ]
    },
    {
     "name": "stdout",
     "output_type": "stream",
     "text": [
      "0.49086762568135967\n",
      "\n",
      " (250, 0.1)\n"
     ]
    },
    {
     "name": "stderr",
     "output_type": "stream",
     "text": [
      "13it [00:09,  1.02it/s]"
     ]
    },
    {
     "name": "stdout",
     "output_type": "stream",
     "text": [
      "0.44909457027642985\n",
      "\n",
      " (250, 0.05)\n"
     ]
    },
    {
     "name": "stderr",
     "output_type": "stream",
     "text": [
      "14it [00:10,  1.09s/it]"
     ]
    },
    {
     "name": "stdout",
     "output_type": "stream",
     "text": [
      "0.44868535946762583\n",
      "\n",
      " (250, 0.01)\n"
     ]
    },
    {
     "name": "stderr",
     "output_type": "stream",
     "text": [
      "15it [00:13,  1.14it/s]"
     ]
    },
    {
     "name": "stdout",
     "output_type": "stream",
     "text": [
      "0.4867588310519756\n"
     ]
    },
    {
     "name": "stderr",
     "output_type": "stream",
     "text": [
      "\n"
     ]
    }
   ],
   "source": [
    "X = msoa_combined_year[nutrients]\n",
    "y = msoa_combined_year['Total_Median_Annual_Household_Income_pound_']\n",
    "n_estimators = [20,50,100,200,250]\n",
    "learning_rate = [0.1, 0.05, 0.01]\n",
    "\n",
    "for x in tqdm(it.product(n_estimators, learning_rate)): \n",
    "    print(\"\\n\", x)\n",
    "    lin_regression = LinearRegression()\n",
    "    ada = AdaBoostRegressor(base_estimator = lin_regression,  n_estimators = x[0], loss = \"linear\", learning_rate = x[1]) \n",
    "  \n",
    "    print(cross_val_score(estimator = ada, X = X, y = y, cv = 20, n_jobs = -1).mean())\n",
    "    "
   ]
  },
  {
   "cell_type": "code",
   "execution_count": 545,
   "metadata": {},
   "outputs": [
    {
     "data": {
      "text/html": [
       "<div>\n",
       "<style scoped>\n",
       "    .dataframe tbody tr th:only-of-type {\n",
       "        vertical-align: middle;\n",
       "    }\n",
       "\n",
       "    .dataframe tbody tr th {\n",
       "        vertical-align: top;\n",
       "    }\n",
       "\n",
       "    .dataframe thead th {\n",
       "        text-align: right;\n",
       "    }\n",
       "</style>\n",
       "<table border=\"1\" class=\"dataframe\">\n",
       "  <thead>\n",
       "    <tr style=\"text-align: right;\">\n",
       "      <th></th>\n",
       "      <th>antecedents</th>\n",
       "      <th>consequents</th>\n",
       "      <th>antecedent support</th>\n",
       "      <th>consequent support</th>\n",
       "      <th>support</th>\n",
       "      <th>confidence</th>\n",
       "      <th>lift</th>\n",
       "      <th>leverage</th>\n",
       "      <th>conviction</th>\n",
       "    </tr>\n",
       "  </thead>\n",
       "  <tbody>\n",
       "    <tr>\n",
       "      <th>12320</th>\n",
       "      <td>(alcohol_High, carb_Low, fibre_High)</td>\n",
       "      <td>(Median_Income_High)</td>\n",
       "      <td>0.051688</td>\n",
       "      <td>0.250000</td>\n",
       "      <td>0.050633</td>\n",
       "      <td>0.979592</td>\n",
       "      <td>3.918367</td>\n",
       "      <td>0.037711</td>\n",
       "      <td>36.750000</td>\n",
       "    </tr>\n",
       "    <tr>\n",
       "      <th>2899</th>\n",
       "      <td>(alcohol_High, fibre_High)</td>\n",
       "      <td>(Median_Income_High)</td>\n",
       "      <td>0.070675</td>\n",
       "      <td>0.250000</td>\n",
       "      <td>0.063291</td>\n",
       "      <td>0.895522</td>\n",
       "      <td>3.582090</td>\n",
       "      <td>0.045622</td>\n",
       "      <td>7.178571</td>\n",
       "    </tr>\n",
       "    <tr>\n",
       "      <th>9445</th>\n",
       "      <td>(protein_Low, alcohol_Low, saturate_High)</td>\n",
       "      <td>(Asian/Asian_High)</td>\n",
       "      <td>0.059072</td>\n",
       "      <td>0.250000</td>\n",
       "      <td>0.051688</td>\n",
       "      <td>0.875000</td>\n",
       "      <td>3.500000</td>\n",
       "      <td>0.036920</td>\n",
       "      <td>6.000000</td>\n",
       "    </tr>\n",
       "    <tr>\n",
       "      <th>9459</th>\n",
       "      <td>(alcohol_Low, carb_High, protein_Low)</td>\n",
       "      <td>(Asian/Asian_High)</td>\n",
       "      <td>0.063291</td>\n",
       "      <td>0.250000</td>\n",
       "      <td>0.054852</td>\n",
       "      <td>0.866667</td>\n",
       "      <td>3.466667</td>\n",
       "      <td>0.039030</td>\n",
       "      <td>5.625000</td>\n",
       "    </tr>\n",
       "    <tr>\n",
       "      <th>1971</th>\n",
       "      <td>(fibre_High, alcohol_High)</td>\n",
       "      <td>(BAME_Low)</td>\n",
       "      <td>0.070675</td>\n",
       "      <td>0.250000</td>\n",
       "      <td>0.060127</td>\n",
       "      <td>0.850746</td>\n",
       "      <td>3.402985</td>\n",
       "      <td>0.042458</td>\n",
       "      <td>5.025000</td>\n",
       "    </tr>\n",
       "    <tr>\n",
       "      <th>6657</th>\n",
       "      <td>(fibre_High, alcohol_High)</td>\n",
       "      <td>(BAME_Low, White_High)</td>\n",
       "      <td>0.070675</td>\n",
       "      <td>0.250000</td>\n",
       "      <td>0.060127</td>\n",
       "      <td>0.850746</td>\n",
       "      <td>3.402985</td>\n",
       "      <td>0.042458</td>\n",
       "      <td>5.025000</td>\n",
       "    </tr>\n",
       "    <tr>\n",
       "      <th>978</th>\n",
       "      <td>(fibre_High, alcohol_High)</td>\n",
       "      <td>(White_High)</td>\n",
       "      <td>0.070675</td>\n",
       "      <td>0.250000</td>\n",
       "      <td>0.060127</td>\n",
       "      <td>0.850746</td>\n",
       "      <td>3.402985</td>\n",
       "      <td>0.042458</td>\n",
       "      <td>5.025000</td>\n",
       "    </tr>\n",
       "    <tr>\n",
       "      <th>12203</th>\n",
       "      <td>(alcohol_Low, carb_High, protein_Low)</td>\n",
       "      <td>(No_religion_Low)</td>\n",
       "      <td>0.063291</td>\n",
       "      <td>0.250000</td>\n",
       "      <td>0.053797</td>\n",
       "      <td>0.850000</td>\n",
       "      <td>3.400000</td>\n",
       "      <td>0.037975</td>\n",
       "      <td>5.000000</td>\n",
       "    </tr>\n",
       "    <tr>\n",
       "      <th>9424</th>\n",
       "      <td>(fat_High, alcohol_Low, protein_Low)</td>\n",
       "      <td>(Asian/Asian_High)</td>\n",
       "      <td>0.062236</td>\n",
       "      <td>0.250000</td>\n",
       "      <td>0.052743</td>\n",
       "      <td>0.847458</td>\n",
       "      <td>3.389831</td>\n",
       "      <td>0.037184</td>\n",
       "      <td>4.916667</td>\n",
       "    </tr>\n",
       "    <tr>\n",
       "      <th>9439</th>\n",
       "      <td>(protein_Low, carb_High, saturate_High)</td>\n",
       "      <td>(Asian/Asian_High)</td>\n",
       "      <td>0.072785</td>\n",
       "      <td>0.250000</td>\n",
       "      <td>0.061181</td>\n",
       "      <td>0.840580</td>\n",
       "      <td>3.362319</td>\n",
       "      <td>0.042985</td>\n",
       "      <td>4.704545</td>\n",
       "    </tr>\n",
       "    <tr>\n",
       "      <th>30995</th>\n",
       "      <td>(fat_High, carb_High, saturate_High, protein_Low)</td>\n",
       "      <td>(Asian/Asian_High)</td>\n",
       "      <td>0.069620</td>\n",
       "      <td>0.250000</td>\n",
       "      <td>0.058017</td>\n",
       "      <td>0.833333</td>\n",
       "      <td>3.333333</td>\n",
       "      <td>0.040612</td>\n",
       "      <td>4.500000</td>\n",
       "    </tr>\n",
       "    <tr>\n",
       "      <th>30968</th>\n",
       "      <td>(alcohol_Low, carb_High, protein_Low)</td>\n",
       "      <td>(Asian/Asian_High, No_religion_Low)</td>\n",
       "      <td>0.063291</td>\n",
       "      <td>0.182489</td>\n",
       "      <td>0.052743</td>\n",
       "      <td>0.833333</td>\n",
       "      <td>4.566474</td>\n",
       "      <td>0.041193</td>\n",
       "      <td>4.905063</td>\n",
       "    </tr>\n",
       "    <tr>\n",
       "      <th>2889</th>\n",
       "      <td>(carb_Low, fibre_High)</td>\n",
       "      <td>(Median_Income_High)</td>\n",
       "      <td>0.093882</td>\n",
       "      <td>0.250000</td>\n",
       "      <td>0.078059</td>\n",
       "      <td>0.831461</td>\n",
       "      <td>3.325843</td>\n",
       "      <td>0.054589</td>\n",
       "      <td>4.450000</td>\n",
       "    </tr>\n",
       "    <tr>\n",
       "      <th>76256</th>\n",
       "      <td>(sugar_High, carb_High, saturate_High, fat_Hig...</td>\n",
       "      <td>(Sikh_High)</td>\n",
       "      <td>0.062236</td>\n",
       "      <td>0.246835</td>\n",
       "      <td>0.051688</td>\n",
       "      <td>0.830508</td>\n",
       "      <td>3.364624</td>\n",
       "      <td>0.036326</td>\n",
       "      <td>4.443671</td>\n",
       "    </tr>\n",
       "    <tr>\n",
       "      <th>76267</th>\n",
       "      <td>(carb_High, sugar_High, saturate_High, protein...</td>\n",
       "      <td>(Sikh_High, fat_High)</td>\n",
       "      <td>0.062236</td>\n",
       "      <td>0.122363</td>\n",
       "      <td>0.051688</td>\n",
       "      <td>0.830508</td>\n",
       "      <td>6.787259</td>\n",
       "      <td>0.044072</td>\n",
       "      <td>5.178059</td>\n",
       "    </tr>\n",
       "    <tr>\n",
       "      <th>35880</th>\n",
       "      <td>(carb_High, sugar_High, saturate_High, protein...</td>\n",
       "      <td>(Sikh_High)</td>\n",
       "      <td>0.062236</td>\n",
       "      <td>0.246835</td>\n",
       "      <td>0.051688</td>\n",
       "      <td>0.830508</td>\n",
       "      <td>3.364624</td>\n",
       "      <td>0.036326</td>\n",
       "      <td>4.443671</td>\n",
       "    </tr>\n",
       "    <tr>\n",
       "      <th>12192</th>\n",
       "      <td>(protein_Low, carb_High, saturate_High)</td>\n",
       "      <td>(No_religion_Low)</td>\n",
       "      <td>0.072785</td>\n",
       "      <td>0.250000</td>\n",
       "      <td>0.060127</td>\n",
       "      <td>0.826087</td>\n",
       "      <td>3.304348</td>\n",
       "      <td>0.041930</td>\n",
       "      <td>4.312500</td>\n",
       "    </tr>\n",
       "    <tr>\n",
       "      <th>1605</th>\n",
       "      <td>(saturate_High, protein_Low)</td>\n",
       "      <td>(Asian/Asian_High)</td>\n",
       "      <td>0.107595</td>\n",
       "      <td>0.250000</td>\n",
       "      <td>0.088608</td>\n",
       "      <td>0.823529</td>\n",
       "      <td>3.294118</td>\n",
       "      <td>0.061709</td>\n",
       "      <td>4.250000</td>\n",
       "    </tr>\n",
       "    <tr>\n",
       "      <th>12310</th>\n",
       "      <td>(sugar_Low, carb_Low, fibre_High)</td>\n",
       "      <td>(Median_Income_High)</td>\n",
       "      <td>0.077004</td>\n",
       "      <td>0.250000</td>\n",
       "      <td>0.063291</td>\n",
       "      <td>0.821918</td>\n",
       "      <td>3.287671</td>\n",
       "      <td>0.044040</td>\n",
       "      <td>4.211538</td>\n",
       "    </tr>\n",
       "    <tr>\n",
       "      <th>9418</th>\n",
       "      <td>(fat_High, carb_High, protein_Low)</td>\n",
       "      <td>(Asian/Asian_High)</td>\n",
       "      <td>0.077004</td>\n",
       "      <td>0.250000</td>\n",
       "      <td>0.063291</td>\n",
       "      <td>0.821918</td>\n",
       "      <td>3.287671</td>\n",
       "      <td>0.044040</td>\n",
       "      <td>4.211538</td>\n",
       "    </tr>\n",
       "  </tbody>\n",
       "</table>\n",
       "</div>"
      ],
      "text/plain": [
       "                                             antecedents  \\\n",
       "12320               (alcohol_High, carb_Low, fibre_High)   \n",
       "2899                          (alcohol_High, fibre_High)   \n",
       "9445           (protein_Low, alcohol_Low, saturate_High)   \n",
       "9459               (alcohol_Low, carb_High, protein_Low)   \n",
       "1971                          (fibre_High, alcohol_High)   \n",
       "6657                          (fibre_High, alcohol_High)   \n",
       "978                           (fibre_High, alcohol_High)   \n",
       "12203              (alcohol_Low, carb_High, protein_Low)   \n",
       "9424                (fat_High, alcohol_Low, protein_Low)   \n",
       "9439             (protein_Low, carb_High, saturate_High)   \n",
       "30995  (fat_High, carb_High, saturate_High, protein_Low)   \n",
       "30968              (alcohol_Low, carb_High, protein_Low)   \n",
       "2889                              (carb_Low, fibre_High)   \n",
       "76256  (sugar_High, carb_High, saturate_High, fat_Hig...   \n",
       "76267  (carb_High, sugar_High, saturate_High, protein...   \n",
       "35880  (carb_High, sugar_High, saturate_High, protein...   \n",
       "12192            (protein_Low, carb_High, saturate_High)   \n",
       "1605                        (saturate_High, protein_Low)   \n",
       "12310                  (sugar_Low, carb_Low, fibre_High)   \n",
       "9418                  (fat_High, carb_High, protein_Low)   \n",
       "\n",
       "                               consequents  antecedent support  \\\n",
       "12320                 (Median_Income_High)            0.051688   \n",
       "2899                  (Median_Income_High)            0.070675   \n",
       "9445                    (Asian/Asian_High)            0.059072   \n",
       "9459                    (Asian/Asian_High)            0.063291   \n",
       "1971                            (BAME_Low)            0.070675   \n",
       "6657                (BAME_Low, White_High)            0.070675   \n",
       "978                           (White_High)            0.070675   \n",
       "12203                    (No_religion_Low)            0.063291   \n",
       "9424                    (Asian/Asian_High)            0.062236   \n",
       "9439                    (Asian/Asian_High)            0.072785   \n",
       "30995                   (Asian/Asian_High)            0.069620   \n",
       "30968  (Asian/Asian_High, No_religion_Low)            0.063291   \n",
       "2889                  (Median_Income_High)            0.093882   \n",
       "76256                          (Sikh_High)            0.062236   \n",
       "76267                (Sikh_High, fat_High)            0.062236   \n",
       "35880                          (Sikh_High)            0.062236   \n",
       "12192                    (No_religion_Low)            0.072785   \n",
       "1605                    (Asian/Asian_High)            0.107595   \n",
       "12310                 (Median_Income_High)            0.077004   \n",
       "9418                    (Asian/Asian_High)            0.077004   \n",
       "\n",
       "       consequent support   support  confidence      lift  leverage  \\\n",
       "12320            0.250000  0.050633    0.979592  3.918367  0.037711   \n",
       "2899             0.250000  0.063291    0.895522  3.582090  0.045622   \n",
       "9445             0.250000  0.051688    0.875000  3.500000  0.036920   \n",
       "9459             0.250000  0.054852    0.866667  3.466667  0.039030   \n",
       "1971             0.250000  0.060127    0.850746  3.402985  0.042458   \n",
       "6657             0.250000  0.060127    0.850746  3.402985  0.042458   \n",
       "978              0.250000  0.060127    0.850746  3.402985  0.042458   \n",
       "12203            0.250000  0.053797    0.850000  3.400000  0.037975   \n",
       "9424             0.250000  0.052743    0.847458  3.389831  0.037184   \n",
       "9439             0.250000  0.061181    0.840580  3.362319  0.042985   \n",
       "30995            0.250000  0.058017    0.833333  3.333333  0.040612   \n",
       "30968            0.182489  0.052743    0.833333  4.566474  0.041193   \n",
       "2889             0.250000  0.078059    0.831461  3.325843  0.054589   \n",
       "76256            0.246835  0.051688    0.830508  3.364624  0.036326   \n",
       "76267            0.122363  0.051688    0.830508  6.787259  0.044072   \n",
       "35880            0.246835  0.051688    0.830508  3.364624  0.036326   \n",
       "12192            0.250000  0.060127    0.826087  3.304348  0.041930   \n",
       "1605             0.250000  0.088608    0.823529  3.294118  0.061709   \n",
       "12310            0.250000  0.063291    0.821918  3.287671  0.044040   \n",
       "9418             0.250000  0.063291    0.821918  3.287671  0.044040   \n",
       "\n",
       "       conviction  \n",
       "12320   36.750000  \n",
       "2899     7.178571  \n",
       "9445     6.000000  \n",
       "9459     5.625000  \n",
       "1971     5.025000  \n",
       "6657     5.025000  \n",
       "978      5.025000  \n",
       "12203    5.000000  \n",
       "9424     4.916667  \n",
       "9439     4.704545  \n",
       "30995    4.500000  \n",
       "30968    4.905063  \n",
       "2889     4.450000  \n",
       "76256    4.443671  \n",
       "76267    5.178059  \n",
       "35880    4.443671  \n",
       "12192    4.312500  \n",
       "1605     4.250000  \n",
       "12310    4.211538  \n",
       "9418     4.211538  "
      ]
     },
     "execution_count": 545,
     "metadata": {},
     "output_type": "execute_result"
    }
   ],
   "source": [
    "msoa_combined_items = msoa_combined_year[ethnicities + religions + nutrients + [\"Total_Median_Annual_Household_Income_pound_\"]].copy()\n",
    "msoa_combined_items.columns = [x.split(\"_\")[0] for x in  ethnicities] + ['Christian', 'Buddhist','Hindu','Jewish','Muslim','Sikh','No_religion','Other_religion']  + [x.split(\"_\")[1] for x in  nutrients] + [\"Median_Income\"] \n",
    " \n",
    "# You could do this probably somewhat smarter \n",
    "# Encoding Data into a \"Set\" Dataset\n",
    "\n",
    "for col in msoa_combined_items.columns:\n",
    "    lower  =  msoa_combined_items[col].quantile(0.25)\n",
    "    middle =  msoa_combined_items[col].quantile(0.5)\n",
    "    higher =  msoa_combined_items[col].quantile(0.75)\n",
    "    msoa_combined_items[col + \"_Low\"] = msoa_combined_items[col].apply(lambda x : x < lower)\n",
    "    msoa_combined_items[col + \"_Low_to_Middle\"] = msoa_combined_items[col].apply(lambda x : x >= lower and x < middle)\n",
    "    msoa_combined_items[col + \"_Middle_to_High\"] = msoa_combined_items[col].apply(lambda x :  x < higher and x > middle)\n",
    "    msoa_combined_items[col + \"_High\"] = msoa_combined_items[col].apply(lambda x : x > higher)\n",
    "    msoa_combined_items = msoa_combined_items.drop(col, axis = 1)\n",
    "    \n",
    "\n",
    "# Given the structure of the information, low support is indemic\n",
    "frequent_itemsets = apriori(msoa_combined_items, min_support = 0.05, use_colnames = True)\n",
    "\n",
    "# Use Association Rules as an \"explainable\" Model\n",
    "cleaned_names = [x.split(\"_\")[1] for x in nutrients]\n",
    "cleaned_names = [x + \"_High\" for x in cleaned_names] + [x + \"_Low\" for x in cleaned_names] + [x + \"Low_to_Middle\" for x in cleaned_names]+ [x + \"Middle_to_High\" for x in cleaned_names]\n",
    "nutrient_sets = set(cleaned_names)\n",
    "\n",
    "rules_association = arule(frequent_itemsets, metric = 'confidence', min_threshold = 0.6)\n",
    "rules_association[rules_association.apply(lambda x : True if x[\"antecedents\"].issubset(nutrient_sets) and not x[\"consequents\"].issubset(nutrient_sets) else False, axis = 1)].sort_values(by = \"confidence\", ascending = False).head(20)"
   ]
  },
  {
   "cell_type": "code",
   "execution_count": 554,
   "metadata": {},
   "outputs": [
    {
     "name": "stdout",
     "output_type": "stream",
     "text": [
      "                            OLS Regression Results                            \n",
      "==============================================================================\n",
      "Dep. Variable:              BAME_perc   R-squared:                       0.653\n",
      "Model:                            OLS   Adj. R-squared:                  0.651\n",
      "Method:                 Least Squares   F-statistic:                     252.8\n",
      "Date:                Sun, 22 Nov 2020   Prob (F-statistic):          4.00e-211\n",
      "Time:                        13:20:52   Log-Likelihood:                -3646.0\n",
      "No. Observations:                 948   AIC:                             7308.\n",
      "Df Residuals:                     940   BIC:                             7347.\n",
      "Df Model:                           7                                         \n",
      "Covariance Type:            nonrobust                                         \n",
      "===================================================================================\n",
      "                      coef    std err          t      P>|t|      [0.025      0.975]\n",
      "-----------------------------------------------------------------------------------\n",
      "Intercept         389.9415     14.387     27.104      0.000     361.708     418.175\n",
      "energy_fat          1.6758      0.280      5.991      0.000       1.127       2.225\n",
      "energy_saturate    -0.0145      0.514     -0.028      0.977      -1.024       0.995\n",
      "energy_sugar       -4.2436      0.204    -20.770      0.000      -4.645      -3.843\n",
      "energy_protein    -11.3118      0.530    -21.328      0.000     -12.353     -10.271\n",
      "energy_carb         1.4619      0.115     12.706      0.000       1.236       1.688\n",
      "energy_fibre      -53.3439      2.876    -18.546      0.000     -58.989     -47.699\n",
      "energy_alcohol    -11.1374      1.177     -9.464      0.000     -13.447      -8.828\n",
      "==============================================================================\n",
      "Omnibus:                       36.632   Durbin-Watson:                   1.113\n",
      "Prob(Omnibus):                  0.000   Jarque-Bera (JB):               90.934\n",
      "Skew:                           0.138   Prob(JB):                     1.79e-20\n",
      "Kurtosis:                       4.492   Cond. No.                     4.81e+03\n",
      "==============================================================================\n",
      "\n",
      "Warnings:\n",
      "[1] Standard Errors assume that the covariance matrix of the errors is correctly specified.\n",
      "[2] The condition number is large, 4.81e+03. This might indicate that there are\n",
      "strong multicollinearity or other numerical problems.\n"
     ]
    }
   ],
   "source": [
    "log_model_interaction_variable = smf.ols(formula='BAME_perc ~ energy_fat + energy_saturate + energy_sugar + energy_protein + energy_carb + energy_fibre + energy_alcohol',data=msoa_combined_year)\n",
    "res = log_model_interaction_variable.fit()\n",
    "\n",
    "# Print thes summary output provided by the library.\n",
    "print(res.summary())"
   ]
  },
  {
   "cell_type": "code",
   "execution_count": 555,
   "metadata": {},
   "outputs": [
    {
     "name": "stdout",
     "output_type": "stream",
     "text": [
      "                                         OLS Regression Results                                        \n",
      "=======================================================================================================\n",
      "Dep. Variable:     Total_Median_Annual_Household_Income_pound_   R-squared:                       0.595\n",
      "Model:                                                     OLS   Adj. R-squared:                  0.592\n",
      "Method:                                          Least Squares   F-statistic:                     197.6\n",
      "Date:                                         Sun, 22 Nov 2020   Prob (F-statistic):          8.59e-180\n",
      "Time:                                                 13:20:52   Log-Likelihood:                -9737.3\n",
      "No. Observations:                                          948   AIC:                         1.949e+04\n",
      "Df Residuals:                                              940   BIC:                         1.953e+04\n",
      "Df Model:                                                    7                                         \n",
      "Covariance Type:                                     nonrobust                                         \n",
      "===================================================================================\n",
      "                      coef    std err          t      P>|t|      [0.025      0.975]\n",
      "-----------------------------------------------------------------------------------\n",
      "Intercept       -8.898e+04   8881.398    -10.019      0.000   -1.06e+05   -7.15e+04\n",
      "energy_fat      -1172.6666    172.683     -6.791      0.000   -1511.555    -833.778\n",
      "energy_saturate  2558.3840    317.598      8.055      0.000    1935.101    3181.667\n",
      "energy_sugar      781.6455    126.131      6.197      0.000     534.114    1029.177\n",
      "energy_protein   1221.1384    327.422      3.730      0.000     578.576    1863.701\n",
      "energy_carb      -843.5450     71.027    -11.876      0.000    -982.936    -704.154\n",
      "energy_fibre     4.415e+04   1775.655     24.862      0.000    4.07e+04    4.76e+04\n",
      "energy_alcohol   4822.2479    726.480      6.638      0.000    3396.538    6247.958\n",
      "==============================================================================\n",
      "Omnibus:                       96.599   Durbin-Watson:                   1.534\n",
      "Prob(Omnibus):                  0.000   Jarque-Bera (JB):              270.835\n",
      "Skew:                           0.523   Prob(JB):                     1.54e-59\n",
      "Kurtosis:                       5.401   Cond. No.                     4.81e+03\n",
      "==============================================================================\n",
      "\n",
      "Warnings:\n",
      "[1] Standard Errors assume that the covariance matrix of the errors is correctly specified.\n",
      "[2] The condition number is large, 4.81e+03. This might indicate that there are\n",
      "strong multicollinearity or other numerical problems.\n"
     ]
    }
   ],
   "source": [
    "log_model_interaction_variable = smf.ols(formula='Total_Median_Annual_Household_Income_pound_ ~ energy_fat + energy_saturate + energy_sugar + energy_protein + energy_carb + energy_fibre + energy_alcohol',data=msoa_combined_year)\n",
    "res = log_model_interaction_variable.fit()\n",
    "\n",
    "# Print thes summary output provided by the library.\n",
    "print(res.summary())"
   ]
  },
  {
   "cell_type": "code",
   "execution_count": 571,
   "metadata": {},
   "outputs": [
    {
     "data": {
      "image/png": "[encoded data removed]",
      "text/plain": [
       "<Figure size 2160x2160 with 6 Axes>"
      ]
     },
     "metadata": {},
     "output_type": "display_data"
    }
   ],
   "source": [
    "with sns.axes_style(\"white\"): \n",
    "\n",
    "    f, axes = plt.subplots(3, 2, figsize=(30, 30))\n",
    "    axes = axes.flatten()\n",
    "\n",
    "    for ax, eth in zip(axes,ethnicities):\n",
    "        correl = [(nutr, stats.spearmanr(a = msoa_combined_year[eth], b = msoa_combined_year[nutr]).correlation) for nutr in products if stats.spearmanr(a = msoa_combined_year[eth], b = msoa_combined_year[nutr]).pvalue < 0.05]\n",
    "        colors = [0 if c[1] >= 0 else 1 for c in correl]\n",
    "        sns.barplot(x= [x[0].split(\"_\")[1] for x in correl], y=[x[1] for x in correl], hue=colors, palette=sns.color_palette(), dodge=False, ax = ax)\n",
    "        ax.axhline(0, ls='-', c = 'k')\n",
    "        ax.get_legend().remove()\n",
    "        ax.set_title(eth.split(\"perc\")[0].replace(\"_\", \" \"))\n",
    "\n",
    "    sns.despine(top = True, right = True)\n",
    "    axes[-1].set_visible(False)\n",
    "\n",
    "plt.show()"
   ]
  },
  {
   "cell_type": "code",
   "execution_count": 566,
   "metadata": {},
   "outputs": [
    {
     "data": {
      "text/html": [
       "<div>\n",
       "<style scoped>\n",
       "    .dataframe tbody tr th:only-of-type {\n",
       "        vertical-align: middle;\n",
       "    }\n",
       "\n",
       "    .dataframe tbody tr th {\n",
       "        vertical-align: top;\n",
       "    }\n",
       "\n",
       "    .dataframe thead th {\n",
       "        text-align: right;\n",
       "    }\n",
       "</style>\n",
       "<table border=\"1\" class=\"dataframe\">\n",
       "  <thead>\n",
       "    <tr style=\"text-align: right;\">\n",
       "      <th></th>\n",
       "      <th>antecedents</th>\n",
       "      <th>consequents</th>\n",
       "      <th>antecedent support</th>\n",
       "      <th>consequent support</th>\n",
       "      <th>support</th>\n",
       "      <th>confidence</th>\n",
       "      <th>lift</th>\n",
       "      <th>leverage</th>\n",
       "      <th>conviction</th>\n",
       "    </tr>\n",
       "  </thead>\n",
       "  <tbody>\n",
       "    <tr>\n",
       "      <th>4421</th>\n",
       "      <td>(readymade_Low, meat_Low)</td>\n",
       "      <td>(Christian_Low)</td>\n",
       "      <td>0.059072</td>\n",
       "      <td>0.248945</td>\n",
       "      <td>0.056962</td>\n",
       "      <td>0.964286</td>\n",
       "      <td>3.873487</td>\n",
       "      <td>0.042256</td>\n",
       "      <td>21.029536</td>\n",
       "    </tr>\n",
       "    <tr>\n",
       "      <th>26842</th>\n",
       "      <td>(poultry_Low, dairy_High, meat_Low)</td>\n",
       "      <td>(Christian_Low)</td>\n",
       "      <td>0.052743</td>\n",
       "      <td>0.248945</td>\n",
       "      <td>0.050633</td>\n",
       "      <td>0.960000</td>\n",
       "      <td>3.856271</td>\n",
       "      <td>0.037503</td>\n",
       "      <td>18.776371</td>\n",
       "    </tr>\n",
       "    <tr>\n",
       "      <th>23035</th>\n",
       "      <td>(readymade_High, water_Low, fats_Low)</td>\n",
       "      <td>(Black/African/Caribbean/Black_Low)</td>\n",
       "      <td>0.060127</td>\n",
       "      <td>0.247890</td>\n",
       "      <td>0.056962</td>\n",
       "      <td>0.947368</td>\n",
       "      <td>3.821725</td>\n",
       "      <td>0.042057</td>\n",
       "      <td>14.290084</td>\n",
       "    </tr>\n",
       "    <tr>\n",
       "      <th>34238</th>\n",
       "      <td>(wine_High, tea_Low, soft_Low)</td>\n",
       "      <td>(Median_Income_High)</td>\n",
       "      <td>0.059072</td>\n",
       "      <td>0.250000</td>\n",
       "      <td>0.055907</td>\n",
       "      <td>0.946429</td>\n",
       "      <td>3.785714</td>\n",
       "      <td>0.041139</td>\n",
       "      <td>14.000000</td>\n",
       "    </tr>\n",
       "    <tr>\n",
       "      <th>221531</th>\n",
       "      <td>(water_Low, wine_High, fish_High, soft_Low, fr...</td>\n",
       "      <td>(Median_Income_High)</td>\n",
       "      <td>0.054852</td>\n",
       "      <td>0.250000</td>\n",
       "      <td>0.051688</td>\n",
       "      <td>0.942308</td>\n",
       "      <td>3.769231</td>\n",
       "      <td>0.037975</td>\n",
       "      <td>13.000000</td>\n",
       "    </tr>\n",
       "    <tr>\n",
       "      <th>221725</th>\n",
       "      <td>(water_Low, wine_High, sweets_Low, fish_High, ...</td>\n",
       "      <td>(Median_Income_High)</td>\n",
       "      <td>0.053797</td>\n",
       "      <td>0.250000</td>\n",
       "      <td>0.050633</td>\n",
       "      <td>0.941176</td>\n",
       "      <td>3.764706</td>\n",
       "      <td>0.037184</td>\n",
       "      <td>12.750000</td>\n",
       "    </tr>\n",
       "    <tr>\n",
       "      <th>222108</th>\n",
       "      <td>(water_Low, grains_Low, wine_High, sweets_Low,...</td>\n",
       "      <td>(Median_Income_High)</td>\n",
       "      <td>0.064346</td>\n",
       "      <td>0.250000</td>\n",
       "      <td>0.060127</td>\n",
       "      <td>0.934426</td>\n",
       "      <td>3.737705</td>\n",
       "      <td>0.044040</td>\n",
       "      <td>11.437500</td>\n",
       "    </tr>\n",
       "    <tr>\n",
       "      <th>372048</th>\n",
       "      <td>(water_Low, grains_Low, wine_High, sweets_Low,...</td>\n",
       "      <td>(Median_Income_High)</td>\n",
       "      <td>0.063291</td>\n",
       "      <td>0.250000</td>\n",
       "      <td>0.059072</td>\n",
       "      <td>0.933333</td>\n",
       "      <td>3.733333</td>\n",
       "      <td>0.043249</td>\n",
       "      <td>11.250000</td>\n",
       "    </tr>\n",
       "    <tr>\n",
       "      <th>100389</th>\n",
       "      <td>(fish_High, water_Low, wine_High, fruit_High)</td>\n",
       "      <td>(Median_Income_High)</td>\n",
       "      <td>0.060127</td>\n",
       "      <td>0.250000</td>\n",
       "      <td>0.055907</td>\n",
       "      <td>0.929825</td>\n",
       "      <td>3.719298</td>\n",
       "      <td>0.040876</td>\n",
       "      <td>10.687500</td>\n",
       "    </tr>\n",
       "    <tr>\n",
       "      <th>3518</th>\n",
       "      <td>(water_High, meat_High)</td>\n",
       "      <td>(Black/African/Caribbean/Black_High)</td>\n",
       "      <td>0.059072</td>\n",
       "      <td>0.250000</td>\n",
       "      <td>0.054852</td>\n",
       "      <td>0.928571</td>\n",
       "      <td>3.714286</td>\n",
       "      <td>0.040084</td>\n",
       "      <td>10.500000</td>\n",
       "    </tr>\n",
       "    <tr>\n",
       "      <th>101487</th>\n",
       "      <td>(sweets_Low, water_Low, wine_High, soft_Low)</td>\n",
       "      <td>(Median_Income_High)</td>\n",
       "      <td>0.073840</td>\n",
       "      <td>0.250000</td>\n",
       "      <td>0.068565</td>\n",
       "      <td>0.928571</td>\n",
       "      <td>3.714286</td>\n",
       "      <td>0.050105</td>\n",
       "      <td>10.500000</td>\n",
       "    </tr>\n",
       "    <tr>\n",
       "      <th>222007</th>\n",
       "      <td>(water_Low, grains_Low, wine_High, soft_Low, f...</td>\n",
       "      <td>(Median_Income_High)</td>\n",
       "      <td>0.073840</td>\n",
       "      <td>0.250000</td>\n",
       "      <td>0.068565</td>\n",
       "      <td>0.928571</td>\n",
       "      <td>3.714286</td>\n",
       "      <td>0.050105</td>\n",
       "      <td>10.500000</td>\n",
       "    </tr>\n",
       "    <tr>\n",
       "      <th>222074</th>\n",
       "      <td>(water_Low, wine_High, sweets_Low, soft_Low, f...</td>\n",
       "      <td>(Median_Income_High)</td>\n",
       "      <td>0.072785</td>\n",
       "      <td>0.250000</td>\n",
       "      <td>0.067511</td>\n",
       "      <td>0.927536</td>\n",
       "      <td>3.710145</td>\n",
       "      <td>0.049314</td>\n",
       "      <td>10.350000</td>\n",
       "    </tr>\n",
       "    <tr>\n",
       "      <th>221422</th>\n",
       "      <td>(water_Low, grains_Low, wine_High, fish_High, ...</td>\n",
       "      <td>(Median_Income_High)</td>\n",
       "      <td>0.058017</td>\n",
       "      <td>0.250000</td>\n",
       "      <td>0.053797</td>\n",
       "      <td>0.927273</td>\n",
       "      <td>3.709091</td>\n",
       "      <td>0.039293</td>\n",
       "      <td>10.312500</td>\n",
       "    </tr>\n",
       "    <tr>\n",
       "      <th>221668</th>\n",
       "      <td>(water_Low, grains_Low, wine_High, fish_High, ...</td>\n",
       "      <td>(Median_Income_High)</td>\n",
       "      <td>0.058017</td>\n",
       "      <td>0.250000</td>\n",
       "      <td>0.053797</td>\n",
       "      <td>0.927273</td>\n",
       "      <td>3.709091</td>\n",
       "      <td>0.039293</td>\n",
       "      <td>10.312500</td>\n",
       "    </tr>\n",
       "    <tr>\n",
       "      <th>100611</th>\n",
       "      <td>(sweets_Low, water_Low, wine_High, fish_High)</td>\n",
       "      <td>(Median_Income_High)</td>\n",
       "      <td>0.058017</td>\n",
       "      <td>0.250000</td>\n",
       "      <td>0.053797</td>\n",
       "      <td>0.927273</td>\n",
       "      <td>3.709091</td>\n",
       "      <td>0.039293</td>\n",
       "      <td>10.312500</td>\n",
       "    </tr>\n",
       "    <tr>\n",
       "      <th>101349</th>\n",
       "      <td>(sweets_Low, water_Low, wine_High, grains_Low)</td>\n",
       "      <td>(Median_Income_High)</td>\n",
       "      <td>0.071730</td>\n",
       "      <td>0.250000</td>\n",
       "      <td>0.066456</td>\n",
       "      <td>0.926471</td>\n",
       "      <td>3.705882</td>\n",
       "      <td>0.048523</td>\n",
       "      <td>10.200000</td>\n",
       "    </tr>\n",
       "    <tr>\n",
       "      <th>221555</th>\n",
       "      <td>(water_Low, wine_High, sweets_Low, fish_High, ...</td>\n",
       "      <td>(Median_Income_High)</td>\n",
       "      <td>0.056962</td>\n",
       "      <td>0.250000</td>\n",
       "      <td>0.052743</td>\n",
       "      <td>0.925926</td>\n",
       "      <td>3.703704</td>\n",
       "      <td>0.038502</td>\n",
       "      <td>10.125000</td>\n",
       "    </tr>\n",
       "    <tr>\n",
       "      <th>222039</th>\n",
       "      <td>(water_Low, grains_Low, wine_High, sweets_Low,...</td>\n",
       "      <td>(Median_Income_High)</td>\n",
       "      <td>0.070675</td>\n",
       "      <td>0.250000</td>\n",
       "      <td>0.065401</td>\n",
       "      <td>0.925373</td>\n",
       "      <td>3.701493</td>\n",
       "      <td>0.047732</td>\n",
       "      <td>10.050000</td>\n",
       "    </tr>\n",
       "    <tr>\n",
       "      <th>221696</th>\n",
       "      <td>(water_Low, grains_Low, wine_High, sweets_Low,...</td>\n",
       "      <td>(Median_Income_High)</td>\n",
       "      <td>0.055907</td>\n",
       "      <td>0.250000</td>\n",
       "      <td>0.051688</td>\n",
       "      <td>0.924528</td>\n",
       "      <td>3.698113</td>\n",
       "      <td>0.037711</td>\n",
       "      <td>9.937500</td>\n",
       "    </tr>\n",
       "  </tbody>\n",
       "</table>\n",
       "</div>"
      ],
      "text/plain": [
       "                                              antecedents  \\\n",
       "4421                            (readymade_Low, meat_Low)   \n",
       "26842                 (poultry_Low, dairy_High, meat_Low)   \n",
       "23035               (readymade_High, water_Low, fats_Low)   \n",
       "34238                      (wine_High, tea_Low, soft_Low)   \n",
       "221531  (water_Low, wine_High, fish_High, soft_Low, fr...   \n",
       "221725  (water_Low, wine_High, sweets_Low, fish_High, ...   \n",
       "222108  (water_Low, grains_Low, wine_High, sweets_Low,...   \n",
       "372048  (water_Low, grains_Low, wine_High, sweets_Low,...   \n",
       "100389      (fish_High, water_Low, wine_High, fruit_High)   \n",
       "3518                              (water_High, meat_High)   \n",
       "101487       (sweets_Low, water_Low, wine_High, soft_Low)   \n",
       "222007  (water_Low, grains_Low, wine_High, soft_Low, f...   \n",
       "222074  (water_Low, wine_High, sweets_Low, soft_Low, f...   \n",
       "221422  (water_Low, grains_Low, wine_High, fish_High, ...   \n",
       "221668  (water_Low, grains_Low, wine_High, fish_High, ...   \n",
       "100611      (sweets_Low, water_Low, wine_High, fish_High)   \n",
       "101349     (sweets_Low, water_Low, wine_High, grains_Low)   \n",
       "221555  (water_Low, wine_High, sweets_Low, fish_High, ...   \n",
       "222039  (water_Low, grains_Low, wine_High, sweets_Low,...   \n",
       "221696  (water_Low, grains_Low, wine_High, sweets_Low,...   \n",
       "\n",
       "                                 consequents  antecedent support  \\\n",
       "4421                         (Christian_Low)            0.059072   \n",
       "26842                        (Christian_Low)            0.052743   \n",
       "23035    (Black/African/Caribbean/Black_Low)            0.060127   \n",
       "34238                   (Median_Income_High)            0.059072   \n",
       "221531                  (Median_Income_High)            0.054852   \n",
       "221725                  (Median_Income_High)            0.053797   \n",
       "222108                  (Median_Income_High)            0.064346   \n",
       "372048                  (Median_Income_High)            0.063291   \n",
       "100389                  (Median_Income_High)            0.060127   \n",
       "3518    (Black/African/Caribbean/Black_High)            0.059072   \n",
       "101487                  (Median_Income_High)            0.073840   \n",
       "222007                  (Median_Income_High)            0.073840   \n",
       "222074                  (Median_Income_High)            0.072785   \n",
       "221422                  (Median_Income_High)            0.058017   \n",
       "221668                  (Median_Income_High)            0.058017   \n",
       "100611                  (Median_Income_High)            0.058017   \n",
       "101349                  (Median_Income_High)            0.071730   \n",
       "221555                  (Median_Income_High)            0.056962   \n",
       "222039                  (Median_Income_High)            0.070675   \n",
       "221696                  (Median_Income_High)            0.055907   \n",
       "\n",
       "        consequent support   support  confidence      lift  leverage  \\\n",
       "4421              0.248945  0.056962    0.964286  3.873487  0.042256   \n",
       "26842             0.248945  0.050633    0.960000  3.856271  0.037503   \n",
       "23035             0.247890  0.056962    0.947368  3.821725  0.042057   \n",
       "34238             0.250000  0.055907    0.946429  3.785714  0.041139   \n",
       "221531            0.250000  0.051688    0.942308  3.769231  0.037975   \n",
       "221725            0.250000  0.050633    0.941176  3.764706  0.037184   \n",
       "222108            0.250000  0.060127    0.934426  3.737705  0.044040   \n",
       "372048            0.250000  0.059072    0.933333  3.733333  0.043249   \n",
       "100389            0.250000  0.055907    0.929825  3.719298  0.040876   \n",
       "3518              0.250000  0.054852    0.928571  3.714286  0.040084   \n",
       "101487            0.250000  0.068565    0.928571  3.714286  0.050105   \n",
       "222007            0.250000  0.068565    0.928571  3.714286  0.050105   \n",
       "222074            0.250000  0.067511    0.927536  3.710145  0.049314   \n",
       "221422            0.250000  0.053797    0.927273  3.709091  0.039293   \n",
       "221668            0.250000  0.053797    0.927273  3.709091  0.039293   \n",
       "100611            0.250000  0.053797    0.927273  3.709091  0.039293   \n",
       "101349            0.250000  0.066456    0.926471  3.705882  0.048523   \n",
       "221555            0.250000  0.052743    0.925926  3.703704  0.038502   \n",
       "222039            0.250000  0.065401    0.925373  3.701493  0.047732   \n",
       "221696            0.250000  0.051688    0.924528  3.698113  0.037711   \n",
       "\n",
       "        conviction  \n",
       "4421     21.029536  \n",
       "26842    18.776371  \n",
       "23035    14.290084  \n",
       "34238    14.000000  \n",
       "221531   13.000000  \n",
       "221725   12.750000  \n",
       "222108   11.437500  \n",
       "372048   11.250000  \n",
       "100389   10.687500  \n",
       "3518     10.500000  \n",
       "101487   10.500000  \n",
       "222007   10.500000  \n",
       "222074   10.350000  \n",
       "221422   10.312500  \n",
       "221668   10.312500  \n",
       "100611   10.312500  \n",
       "101349   10.200000  \n",
       "221555   10.125000  \n",
       "222039   10.050000  \n",
       "221696    9.937500  "
      ]
     },
     "execution_count": 566,
     "metadata": {},
     "output_type": "execute_result"
    }
   ],
   "source": [
    "education = msoa_combined_year[ethnicities + religions + products + [\"Total_Median_Annual_Household_Income_pound_\"]].copy()\n",
    "msoa_combined_items.columns = [x.split(\"_\")[0] for x in  ethnicities] + ['Christian', 'Buddhist','Hindu','Jewish','Muslim','Sikh','No_religion','Other_religion']  + [x.split(\"_\")[1] for x in products] + [\"Median_Income\"] \n",
    " \n",
    "# You could do this probably somewhat smarter \n",
    "# Encoding Data into a \"Set\" Dataset\n",
    "\n",
    "for col in msoa_combined_items.columns:\n",
    "    lower  =  msoa_combined_items[col].quantile(0.25)\n",
    "    middle =  msoa_combined_items[col].quantile(0.5)\n",
    "    higher =  msoa_combined_items[col].quantile(0.75)\n",
    "    msoa_combined_items[col + \"_Low\"] = msoa_combined_items[col].apply(lambda x : x < lower)\n",
    "    msoa_combined_items[col + \"_Low_to_Middle\"] = msoa_combined_items[col].apply(lambda x : x >= lower and x < middle)\n",
    "    msoa_combined_items[col + \"_Middle_to_High\"] = msoa_combined_items[col].apply(lambda x :  x < higher and x > middle)\n",
    "    msoa_combined_items[col + \"_High\"] = msoa_combined_items[col].apply(lambda x : x > higher)\n",
    "    msoa_combined_items = msoa_combined_items.drop(col, axis = 1)\n",
    "    \n",
    "\n",
    "# Given the structure of the information, low support is indemic\n",
    "frequent_itemsets = apriori(msoa_combined_items, min_support = 0.05, use_colnames = True)\n",
    "\n",
    "# Use Association Rules as an \"explainable\" Model\n",
    "cleaned_names = [x.split(\"_\")[1] for x in products]\n",
    "cleaned_names = [x + \"_High\" for x in cleaned_names] + [x + \"_Low\" for x in cleaned_names] + [x + \"Low_to_Middle\" for x in cleaned_names]+ [x + \"Middle_to_High\" for x in cleaned_names]\n",
    "nutrient_sets = set(cleaned_names)\n",
    "\n",
    "rules_association = arule(frequent_itemsets, metric = 'confidence', min_threshold = 0.6)\n",
    "rules_association[rules_association.apply(lambda x : True if x[\"antecedents\"].issubset(nutrient_sets) and not x[\"consequents\"].issubset(nutrient_sets) else False, axis = 1)].sort_values(by = \"confidence\", ascending = False).head(20)"
   ]
  },
  {
   "cell_type": "code",
   "execution_count": 588,
   "metadata": {},
   "outputs": [
    {
     "data": {
      "text/html": [
       "<div>\n",
       "<style scoped>\n",
       "    .dataframe tbody tr th:only-of-type {\n",
       "        vertical-align: middle;\n",
       "    }\n",
       "\n",
       "    .dataframe tbody tr th {\n",
       "        vertical-align: top;\n",
       "    }\n",
       "\n",
       "    .dataframe thead th {\n",
       "        text-align: right;\n",
       "    }\n",
       "</style>\n",
       "<table border=\"1\" class=\"dataframe\">\n",
       "  <thead>\n",
       "    <tr style=\"text-align: right;\">\n",
       "      <th></th>\n",
       "      <th>No_qualifications</th>\n",
       "      <th>Edu:Level_1_qualifications</th>\n",
       "      <th>Edu:Level_2_qualifications</th>\n",
       "      <th>Edu:Apprenticeship_</th>\n",
       "      <th>Edu:Level_3_qualifications</th>\n",
       "      <th>Edu:Level_4_qualificationsand_above_</th>\n",
       "      <th>Edu:Other_qualifications</th>\n",
       "      <th>All_Ages_</th>\n",
       "      <th>0-15_</th>\n",
       "    </tr>\n",
       "  </thead>\n",
       "  <tbody>\n",
       "    <tr>\n",
       "      <th>E02000001</th>\n",
       "      <td>454</td>\n",
       "      <td>291</td>\n",
       "      <td>445</td>\n",
       "      <td>47</td>\n",
       "      <td>484</td>\n",
       "      <td>4618</td>\n",
       "      <td>416</td>\n",
       "      <td>7375</td>\n",
       "      <td>620</td>\n",
       "    </tr>\n",
       "    <tr>\n",
       "      <th>E02000002</th>\n",
       "      <td>1623</td>\n",
       "      <td>789</td>\n",
       "      <td>706</td>\n",
       "      <td>118</td>\n",
       "      <td>479</td>\n",
       "      <td>914</td>\n",
       "      <td>395</td>\n",
       "      <td>6775</td>\n",
       "      <td>1751</td>\n",
       "    </tr>\n",
       "    <tr>\n",
       "      <th>E02000003</th>\n",
       "      <td>1778</td>\n",
       "      <td>1210</td>\n",
       "      <td>1236</td>\n",
       "      <td>169</td>\n",
       "      <td>847</td>\n",
       "      <td>1829</td>\n",
       "      <td>729</td>\n",
       "      <td>10045</td>\n",
       "      <td>2247</td>\n",
       "    </tr>\n",
       "    <tr>\n",
       "      <th>E02000004</th>\n",
       "      <td>1502</td>\n",
       "      <td>800</td>\n",
       "      <td>825</td>\n",
       "      <td>163</td>\n",
       "      <td>539</td>\n",
       "      <td>891</td>\n",
       "      <td>266</td>\n",
       "      <td>6182</td>\n",
       "      <td>1196</td>\n",
       "    </tr>\n",
       "    <tr>\n",
       "      <th>E02000005</th>\n",
       "      <td>1839</td>\n",
       "      <td>1026</td>\n",
       "      <td>1038</td>\n",
       "      <td>160</td>\n",
       "      <td>653</td>\n",
       "      <td>1119</td>\n",
       "      <td>527</td>\n",
       "      <td>8562</td>\n",
       "      <td>2200</td>\n",
       "    </tr>\n",
       "    <tr>\n",
       "      <th>...</th>\n",
       "      <td>...</td>\n",
       "      <td>...</td>\n",
       "      <td>...</td>\n",
       "      <td>...</td>\n",
       "      <td>...</td>\n",
       "      <td>...</td>\n",
       "      <td>...</td>\n",
       "      <td>...</td>\n",
       "      <td>...</td>\n",
       "    </tr>\n",
       "    <tr>\n",
       "      <th>E02000979</th>\n",
       "      <td>765</td>\n",
       "      <td>439</td>\n",
       "      <td>596</td>\n",
       "      <td>68</td>\n",
       "      <td>656</td>\n",
       "      <td>3726</td>\n",
       "      <td>803</td>\n",
       "      <td>8081</td>\n",
       "      <td>1028</td>\n",
       "    </tr>\n",
       "    <tr>\n",
       "      <th>E02000980</th>\n",
       "      <td>1035</td>\n",
       "      <td>581</td>\n",
       "      <td>614</td>\n",
       "      <td>80</td>\n",
       "      <td>601</td>\n",
       "      <td>3716</td>\n",
       "      <td>780</td>\n",
       "      <td>8684</td>\n",
       "      <td>1277</td>\n",
       "    </tr>\n",
       "    <tr>\n",
       "      <th>E02000981</th>\n",
       "      <td>611</td>\n",
       "      <td>399</td>\n",
       "      <td>529</td>\n",
       "      <td>66</td>\n",
       "      <td>696</td>\n",
       "      <td>5028</td>\n",
       "      <td>749</td>\n",
       "      <td>8991</td>\n",
       "      <td>913</td>\n",
       "    </tr>\n",
       "    <tr>\n",
       "      <th>E02000982</th>\n",
       "      <td>1069</td>\n",
       "      <td>574</td>\n",
       "      <td>671</td>\n",
       "      <td>83</td>\n",
       "      <td>624</td>\n",
       "      <td>2960</td>\n",
       "      <td>799</td>\n",
       "      <td>8226</td>\n",
       "      <td>1446</td>\n",
       "    </tr>\n",
       "    <tr>\n",
       "      <th>E02000983</th>\n",
       "      <td>1214</td>\n",
       "      <td>567</td>\n",
       "      <td>606</td>\n",
       "      <td>71</td>\n",
       "      <td>609</td>\n",
       "      <td>3341</td>\n",
       "      <td>769</td>\n",
       "      <td>8434</td>\n",
       "      <td>1257</td>\n",
       "    </tr>\n",
       "  </tbody>\n",
       "</table>\n",
       "<p>948 rows × 9 columns</p>\n",
       "</div>"
      ],
      "text/plain": [
       "           No_qualifications  Edu:Level_1_qualifications  \\\n",
       "E02000001                454                         291   \n",
       "E02000002               1623                         789   \n",
       "E02000003               1778                        1210   \n",
       "E02000004               1502                         800   \n",
       "E02000005               1839                        1026   \n",
       "...                      ...                         ...   \n",
       "E02000979                765                         439   \n",
       "E02000980               1035                         581   \n",
       "E02000981                611                         399   \n",
       "E02000982               1069                         574   \n",
       "E02000983               1214                         567   \n",
       "\n",
       "           Edu:Level_2_qualifications  Edu:Apprenticeship_  \\\n",
       "E02000001                         445                   47   \n",
       "E02000002                         706                  118   \n",
       "E02000003                        1236                  169   \n",
       "E02000004                         825                  163   \n",
       "E02000005                        1038                  160   \n",
       "...                               ...                  ...   \n",
       "E02000979                         596                   68   \n",
       "E02000980                         614                   80   \n",
       "E02000981                         529                   66   \n",
       "E02000982                         671                   83   \n",
       "E02000983                         606                   71   \n",
       "\n",
       "           Edu:Level_3_qualifications  Edu:Level_4_qualificationsand_above_  \\\n",
       "E02000001                         484                                  4618   \n",
       "E02000002                         479                                   914   \n",
       "E02000003                         847                                  1829   \n",
       "E02000004                         539                                   891   \n",
       "E02000005                         653                                  1119   \n",
       "...                               ...                                   ...   \n",
       "E02000979                         656                                  3726   \n",
       "E02000980                         601                                  3716   \n",
       "E02000981                         696                                  5028   \n",
       "E02000982                         624                                  2960   \n",
       "E02000983                         609                                  3341   \n",
       "\n",
       "           Edu:Other_qualifications  All_Ages_  0-15_  \n",
       "E02000001                       416       7375    620  \n",
       "E02000002                       395       6775   1751  \n",
       "E02000003                       729      10045   2247  \n",
       "E02000004                       266       6182   1196  \n",
       "E02000005                       527       8562   2200  \n",
       "...                             ...        ...    ...  \n",
       "E02000979                       803       8081   1028  \n",
       "E02000980                       780       8684   1277  \n",
       "E02000981                       749       8991    913  \n",
       "E02000982                       799       8226   1446  \n",
       "E02000983                       769       8434   1257  \n",
       "\n",
       "[948 rows x 9 columns]"
      ]
     },
     "execution_count": 588,
     "metadata": {},
     "output_type": "execute_result"
    }
   ],
   "source": [
    "# The Education values are only addressing Adults (> 15 years) \n",
    "msoa_combined_year[education + [\"All_Ages_\", \"0-15_\"]]"
   ]
  },
  {
   "cell_type": "code",
   "execution_count": 589,
   "metadata": {},
   "outputs": [
    {
     "data": {
      "text/plain": [
       "E02000001    6755\n",
       "E02000002    5024\n",
       "E02000003    7798\n",
       "E02000004    4986\n",
       "E02000005    6362\n",
       "             ... \n",
       "E02000979    7053\n",
       "E02000980    7407\n",
       "E02000981    8078\n",
       "E02000982    6780\n",
       "E02000983    7177\n",
       "Length: 948, dtype: int64"
      ]
     },
     "execution_count": 589,
     "metadata": {},
     "output_type": "execute_result"
    }
   ],
   "source": [
    "msoa_combined_year[education].sum(axis = 1)"
   ]
  },
  {
   "cell_type": "code",
   "execution_count": 582,
   "metadata": {},
   "outputs": [
    {
     "data": {
      "image/png": "[encoded data removed]",
      "text/plain": [
       "<Figure size 2160x2160 with 6 Axes>"
      ]
     },
     "metadata": {},
     "output_type": "display_data"
    }
   ],
   "source": [
    "\n",
    "with sns.axes_style(\"white\"): \n",
    "\n",
    "    f, axes = plt.subplots(3, 2, figsize=(30, 30))\n",
    "    axes = axes.flatten()\n",
    "\n",
    "    for ax, eth in zip(axes,education):\n",
    "        correl = [(nutr, stats.spearmanr(a = msoa_combined_year[eth], b = msoa_combined_year[nutr]).correlation) for nutr in products if stats.spearmanr(a = msoa_combined_year[eth], b = msoa_combined_year[nutr]).pvalue < 0.05]\n",
    "        colors = [0 if c[1] >= 0 else 1 for c in correl]\n",
    "        sns.barplot(x= [x[0].split(\"_\")[1] for x in correl], y=[x[1] for x in correl], hue=colors, palette=sns.color_palette(), dodge=False, ax = ax)\n",
    "        ax.axhline(0, ls='-', c = 'k')\n",
    "        ax.get_legend().remove()\n",
    "        ax.set_title(eth.split(\"perc\")[0].replace(\"_\", \" \"))\n",
    "\n",
    "    sns.despine(top = True, right = True)\n",
    "\n",
    "plt.show()"
   ]
  },
  {
   "cell_type": "code",
   "execution_count": 20,
   "metadata": {},
   "outputs": [
    {
     "name": "stdout",
     "output_type": "stream",
     "text": [
      "Computing Frequent Itemset ...\n",
      "Computing Association Rules ...\n",
      "Cleaning Rule Set for desiered Rules ...\n"
     ]
    },
    {
     "data": {
      "text/html": [
       "<div>\n",
       "<style scoped>\n",
       "    .dataframe tbody tr th:only-of-type {\n",
       "        vertical-align: middle;\n",
       "    }\n",
       "\n",
       "    .dataframe tbody tr th {\n",
       "        vertical-align: top;\n",
       "    }\n",
       "\n",
       "    .dataframe thead th {\n",
       "        text-align: right;\n",
       "    }\n",
       "</style>\n",
       "<table border=\"1\" class=\"dataframe\">\n",
       "  <thead>\n",
       "    <tr style=\"text-align: right;\">\n",
       "      <th></th>\n",
       "      <th>antecedents</th>\n",
       "      <th>consequents</th>\n",
       "      <th>antecedent support</th>\n",
       "      <th>consequent support</th>\n",
       "      <th>support</th>\n",
       "      <th>confidence</th>\n",
       "      <th>lift</th>\n",
       "      <th>leverage</th>\n",
       "      <th>conviction</th>\n",
       "    </tr>\n",
       "  </thead>\n",
       "  <tbody>\n",
       "    <tr>\n",
       "      <th>1173</th>\n",
       "      <td>(water_Low, sweets_Low)</td>\n",
       "      <td>(Level_1_Low)</td>\n",
       "      <td>0.111814</td>\n",
       "      <td>0.250000</td>\n",
       "      <td>0.102321</td>\n",
       "      <td>0.915094</td>\n",
       "      <td>3.660377</td>\n",
       "      <td>0.074367</td>\n",
       "      <td>8.833333</td>\n",
       "    </tr>\n",
       "    <tr>\n",
       "      <th>2138</th>\n",
       "      <td>(water_Low, grains_Low, fruit_High)</td>\n",
       "      <td>(Level_1_Low)</td>\n",
       "      <td>0.113924</td>\n",
       "      <td>0.250000</td>\n",
       "      <td>0.101266</td>\n",
       "      <td>0.888889</td>\n",
       "      <td>3.555556</td>\n",
       "      <td>0.072785</td>\n",
       "      <td>6.750000</td>\n",
       "    </tr>\n",
       "    <tr>\n",
       "      <th>2675</th>\n",
       "      <td>(water_Low, wine_High, soft_Low)</td>\n",
       "      <td>(Median_Income_High)</td>\n",
       "      <td>0.114979</td>\n",
       "      <td>0.250000</td>\n",
       "      <td>0.101266</td>\n",
       "      <td>0.880734</td>\n",
       "      <td>3.522936</td>\n",
       "      <td>0.072521</td>\n",
       "      <td>6.288462</td>\n",
       "    </tr>\n",
       "    <tr>\n",
       "      <th>2128</th>\n",
       "      <td>(water_Low, grains_Low, fruit_High)</td>\n",
       "      <td>(No_Low)</td>\n",
       "      <td>0.113924</td>\n",
       "      <td>0.248945</td>\n",
       "      <td>0.100211</td>\n",
       "      <td>0.879630</td>\n",
       "      <td>3.533427</td>\n",
       "      <td>0.071850</td>\n",
       "      <td>6.239533</td>\n",
       "    </tr>\n",
       "    <tr>\n",
       "      <th>3032</th>\n",
       "      <td>(eggs_Low, fats_Low, readymade_High, grains_High)</td>\n",
       "      <td>(Apprenticeship_High)</td>\n",
       "      <td>0.118143</td>\n",
       "      <td>0.248945</td>\n",
       "      <td>0.102321</td>\n",
       "      <td>0.866071</td>\n",
       "      <td>3.478965</td>\n",
       "      <td>0.072909</td>\n",
       "      <td>5.607876</td>\n",
       "    </tr>\n",
       "    <tr>\n",
       "      <th>907</th>\n",
       "      <td>(fruit_High, wine_High)</td>\n",
       "      <td>(Level_1_Low)</td>\n",
       "      <td>0.130802</td>\n",
       "      <td>0.250000</td>\n",
       "      <td>0.112869</td>\n",
       "      <td>0.862903</td>\n",
       "      <td>3.451613</td>\n",
       "      <td>0.080169</td>\n",
       "      <td>5.470588</td>\n",
       "    </tr>\n",
       "    <tr>\n",
       "      <th>2550</th>\n",
       "      <td>(grains_Low, soft_Low, sweets_Low)</td>\n",
       "      <td>(Level_1_Low)</td>\n",
       "      <td>0.123418</td>\n",
       "      <td>0.250000</td>\n",
       "      <td>0.105485</td>\n",
       "      <td>0.854701</td>\n",
       "      <td>3.418803</td>\n",
       "      <td>0.074631</td>\n",
       "      <td>5.161765</td>\n",
       "    </tr>\n",
       "    <tr>\n",
       "      <th>3056</th>\n",
       "      <td>(grains_Low, soft_Low, fruit_High, sweets_Low)</td>\n",
       "      <td>(Level_1_Low)</td>\n",
       "      <td>0.122363</td>\n",
       "      <td>0.250000</td>\n",
       "      <td>0.104430</td>\n",
       "      <td>0.853448</td>\n",
       "      <td>3.413793</td>\n",
       "      <td>0.073840</td>\n",
       "      <td>5.117647</td>\n",
       "    </tr>\n",
       "    <tr>\n",
       "      <th>1882</th>\n",
       "      <td>(sweets_High, eggs_Low, readymade_High)</td>\n",
       "      <td>(Apprenticeship_High)</td>\n",
       "      <td>0.122363</td>\n",
       "      <td>0.248945</td>\n",
       "      <td>0.104430</td>\n",
       "      <td>0.853448</td>\n",
       "      <td>3.428258</td>\n",
       "      <td>0.073969</td>\n",
       "      <td>5.124845</td>\n",
       "    </tr>\n",
       "    <tr>\n",
       "      <th>2242</th>\n",
       "      <td>(water_Low, fruit_High, soft_Low)</td>\n",
       "      <td>(No_Low)</td>\n",
       "      <td>0.126582</td>\n",
       "      <td>0.248945</td>\n",
       "      <td>0.107595</td>\n",
       "      <td>0.850000</td>\n",
       "      <td>3.414407</td>\n",
       "      <td>0.076083</td>\n",
       "      <td>5.007032</td>\n",
       "    </tr>\n",
       "    <tr>\n",
       "      <th>2251</th>\n",
       "      <td>(water_Low, fruit_High, soft_Low)</td>\n",
       "      <td>(Level_1_Low)</td>\n",
       "      <td>0.126582</td>\n",
       "      <td>0.250000</td>\n",
       "      <td>0.107595</td>\n",
       "      <td>0.850000</td>\n",
       "      <td>3.400000</td>\n",
       "      <td>0.075949</td>\n",
       "      <td>5.000000</td>\n",
       "    </tr>\n",
       "    <tr>\n",
       "      <th>892</th>\n",
       "      <td>(water_Low, fruit_High)</td>\n",
       "      <td>(Level_1_Low)</td>\n",
       "      <td>0.140295</td>\n",
       "      <td>0.250000</td>\n",
       "      <td>0.119198</td>\n",
       "      <td>0.849624</td>\n",
       "      <td>3.398496</td>\n",
       "      <td>0.084124</td>\n",
       "      <td>4.987500</td>\n",
       "    </tr>\n",
       "    <tr>\n",
       "      <th>1762</th>\n",
       "      <td>(grains_High, dairy_Low, readymade_High)</td>\n",
       "      <td>(Apprenticeship_High)</td>\n",
       "      <td>0.125527</td>\n",
       "      <td>0.248945</td>\n",
       "      <td>0.106540</td>\n",
       "      <td>0.848739</td>\n",
       "      <td>3.409343</td>\n",
       "      <td>0.075291</td>\n",
       "      <td>4.965307</td>\n",
       "    </tr>\n",
       "    <tr>\n",
       "      <th>3066</th>\n",
       "      <td>(grains_Low, soft_Low, sweets_Low)</td>\n",
       "      <td>(Level_1_Low, fruit_High)</td>\n",
       "      <td>0.123418</td>\n",
       "      <td>0.174051</td>\n",
       "      <td>0.104430</td>\n",
       "      <td>0.846154</td>\n",
       "      <td>4.861538</td>\n",
       "      <td>0.082949</td>\n",
       "      <td>5.368671</td>\n",
       "    </tr>\n",
       "    <tr>\n",
       "      <th>1790</th>\n",
       "      <td>(eggs_Low, fats_Low, grains_High)</td>\n",
       "      <td>(Apprenticeship_High)</td>\n",
       "      <td>0.122363</td>\n",
       "      <td>0.248945</td>\n",
       "      <td>0.103376</td>\n",
       "      <td>0.844828</td>\n",
       "      <td>3.393629</td>\n",
       "      <td>0.072914</td>\n",
       "      <td>4.840131</td>\n",
       "    </tr>\n",
       "    <tr>\n",
       "      <th>1954</th>\n",
       "      <td>(sweets_High, fats_Low, readymade_High)</td>\n",
       "      <td>(Apprenticeship_High)</td>\n",
       "      <td>0.121308</td>\n",
       "      <td>0.248945</td>\n",
       "      <td>0.102321</td>\n",
       "      <td>0.843478</td>\n",
       "      <td>3.388209</td>\n",
       "      <td>0.072122</td>\n",
       "      <td>4.798406</td>\n",
       "    </tr>\n",
       "    <tr>\n",
       "      <th>888</th>\n",
       "      <td>(water_Low, fruit_High)</td>\n",
       "      <td>(No_Low)</td>\n",
       "      <td>0.140295</td>\n",
       "      <td>0.248945</td>\n",
       "      <td>0.118143</td>\n",
       "      <td>0.842105</td>\n",
       "      <td>3.382694</td>\n",
       "      <td>0.083218</td>\n",
       "      <td>4.756681</td>\n",
       "    </tr>\n",
       "    <tr>\n",
       "      <th>1853</th>\n",
       "      <td>(fish_Low, eggs_Low, readymade_High)</td>\n",
       "      <td>(Apprenticeship_High)</td>\n",
       "      <td>0.131857</td>\n",
       "      <td>0.248945</td>\n",
       "      <td>0.110759</td>\n",
       "      <td>0.840000</td>\n",
       "      <td>3.374237</td>\n",
       "      <td>0.077934</td>\n",
       "      <td>4.694093</td>\n",
       "    </tr>\n",
       "    <tr>\n",
       "      <th>903</th>\n",
       "      <td>(fruit_High, wine_High)</td>\n",
       "      <td>(No_Low)</td>\n",
       "      <td>0.130802</td>\n",
       "      <td>0.248945</td>\n",
       "      <td>0.109705</td>\n",
       "      <td>0.838710</td>\n",
       "      <td>3.369054</td>\n",
       "      <td>0.077142</td>\n",
       "      <td>4.656540</td>\n",
       "    </tr>\n",
       "    <tr>\n",
       "      <th>1726</th>\n",
       "      <td>(eggs_Low, dairy_Low, readymade_High)</td>\n",
       "      <td>(Apprenticeship_High)</td>\n",
       "      <td>0.129747</td>\n",
       "      <td>0.248945</td>\n",
       "      <td>0.108650</td>\n",
       "      <td>0.837398</td>\n",
       "      <td>3.363787</td>\n",
       "      <td>0.076350</td>\n",
       "      <td>4.618987</td>\n",
       "    </tr>\n",
       "  </tbody>\n",
       "</table>\n",
       "</div>"
      ],
      "text/plain": [
       "                                            antecedents  \\\n",
       "1173                            (water_Low, sweets_Low)   \n",
       "2138                (water_Low, grains_Low, fruit_High)   \n",
       "2675                   (water_Low, wine_High, soft_Low)   \n",
       "2128                (water_Low, grains_Low, fruit_High)   \n",
       "3032  (eggs_Low, fats_Low, readymade_High, grains_High)   \n",
       "907                             (fruit_High, wine_High)   \n",
       "2550                 (grains_Low, soft_Low, sweets_Low)   \n",
       "3056     (grains_Low, soft_Low, fruit_High, sweets_Low)   \n",
       "1882            (sweets_High, eggs_Low, readymade_High)   \n",
       "2242                  (water_Low, fruit_High, soft_Low)   \n",
       "2251                  (water_Low, fruit_High, soft_Low)   \n",
       "892                             (water_Low, fruit_High)   \n",
       "1762           (grains_High, dairy_Low, readymade_High)   \n",
       "3066                 (grains_Low, soft_Low, sweets_Low)   \n",
       "1790                  (eggs_Low, fats_Low, grains_High)   \n",
       "1954            (sweets_High, fats_Low, readymade_High)   \n",
       "888                             (water_Low, fruit_High)   \n",
       "1853               (fish_Low, eggs_Low, readymade_High)   \n",
       "903                             (fruit_High, wine_High)   \n",
       "1726              (eggs_Low, dairy_Low, readymade_High)   \n",
       "\n",
       "                    consequents  antecedent support  consequent support  \\\n",
       "1173              (Level_1_Low)            0.111814            0.250000   \n",
       "2138              (Level_1_Low)            0.113924            0.250000   \n",
       "2675       (Median_Income_High)            0.114979            0.250000   \n",
       "2128                   (No_Low)            0.113924            0.248945   \n",
       "3032      (Apprenticeship_High)            0.118143            0.248945   \n",
       "907               (Level_1_Low)            0.130802            0.250000   \n",
       "2550              (Level_1_Low)            0.123418            0.250000   \n",
       "3056              (Level_1_Low)            0.122363            0.250000   \n",
       "1882      (Apprenticeship_High)            0.122363            0.248945   \n",
       "2242                   (No_Low)            0.126582            0.248945   \n",
       "2251              (Level_1_Low)            0.126582            0.250000   \n",
       "892               (Level_1_Low)            0.140295            0.250000   \n",
       "1762      (Apprenticeship_High)            0.125527            0.248945   \n",
       "3066  (Level_1_Low, fruit_High)            0.123418            0.174051   \n",
       "1790      (Apprenticeship_High)            0.122363            0.248945   \n",
       "1954      (Apprenticeship_High)            0.121308            0.248945   \n",
       "888                    (No_Low)            0.140295            0.248945   \n",
       "1853      (Apprenticeship_High)            0.131857            0.248945   \n",
       "903                    (No_Low)            0.130802            0.248945   \n",
       "1726      (Apprenticeship_High)            0.129747            0.248945   \n",
       "\n",
       "       support  confidence      lift  leverage  conviction  \n",
       "1173  0.102321    0.915094  3.660377  0.074367    8.833333  \n",
       "2138  0.101266    0.888889  3.555556  0.072785    6.750000  \n",
       "2675  0.101266    0.880734  3.522936  0.072521    6.288462  \n",
       "2128  0.100211    0.879630  3.533427  0.071850    6.239533  \n",
       "3032  0.102321    0.866071  3.478965  0.072909    5.607876  \n",
       "907   0.112869    0.862903  3.451613  0.080169    5.470588  \n",
       "2550  0.105485    0.854701  3.418803  0.074631    5.161765  \n",
       "3056  0.104430    0.853448  3.413793  0.073840    5.117647  \n",
       "1882  0.104430    0.853448  3.428258  0.073969    5.124845  \n",
       "2242  0.107595    0.850000  3.414407  0.076083    5.007032  \n",
       "2251  0.107595    0.850000  3.400000  0.075949    5.000000  \n",
       "892   0.119198    0.849624  3.398496  0.084124    4.987500  \n",
       "1762  0.106540    0.848739  3.409343  0.075291    4.965307  \n",
       "3066  0.104430    0.846154  4.861538  0.082949    5.368671  \n",
       "1790  0.103376    0.844828  3.393629  0.072914    4.840131  \n",
       "1954  0.102321    0.843478  3.388209  0.072122    4.798406  \n",
       "888   0.118143    0.842105  3.382694  0.083218    4.756681  \n",
       "1853  0.110759    0.840000  3.374237  0.077934    4.694093  \n",
       "903   0.109705    0.838710  3.369054  0.077142    4.656540  \n",
       "1726  0.108650    0.837398  3.363787  0.076350    4.618987  "
      ]
     },
     "execution_count": 20,
     "metadata": {},
     "output_type": "execute_result"
    }
   ],
   "source": [
    "msoa_combined_items = msoa_combined_year[ethnicities + products + education + [\"Total_Median_Annual_Household_Income_pound_\"]].copy()\n",
    "msoa_combined_items.columns = [x.split(\"_\")[0] for x in  ethnicities] + [x.split(\"_\")[1] for x in products] + [x.replace(\"Edu:\",\"\").replace(\"and_above_\",\"\").replace(\"_qualifications\",\"\").replace(\"Apprenticeship_\", \"Apprenticeship\") for x in education]  + [\"Median_Income\"] \n",
    " \n",
    "# You could do this probably somewhat smarter \n",
    "# Encoding Data into a \"Set\" Dataset\n",
    "\n",
    "for col in msoa_combined_items.columns:\n",
    "    lower  =  msoa_combined_items[col].quantile(0.25)\n",
    "    middle =  msoa_combined_items[col].quantile(0.5)\n",
    "    higher =  msoa_combined_items[col].quantile(0.75)\n",
    "    msoa_combined_items[col + \"_Low\"] = msoa_combined_items[col].apply(lambda x : x < lower)\n",
    "    msoa_combined_items[col + \"_Low_to_Middle\"] = msoa_combined_items[col].apply(lambda x : x >= lower and x < middle)\n",
    "    msoa_combined_items[col + \"_Middle_to_High\"] = msoa_combined_items[col].apply(lambda x :  x < higher and x > middle)\n",
    "    msoa_combined_items[col + \"_High\"] = msoa_combined_items[col].apply(lambda x : x > higher)\n",
    "    msoa_combined_items = msoa_combined_items.drop(col, axis = 1)\n",
    "    \n",
    "\n",
    "print(\"Computing Frequent Itemset ...\")\n",
    "# Given the structure of the information, low support is indemic\n",
    "frequent_itemsets = apriori(msoa_combined_items, min_support = 0.1, use_colnames = True)\n",
    "\n",
    "\n",
    "\n",
    "# Use Association Rules as an \"explainable\" Model\n",
    "cleaned_names = [x.split(\"_\")[1] for x in products]\n",
    "cleaned_names = [x + \"_High\" for x in cleaned_names] + [x + \"_Low\" for x in cleaned_names] + [x + \"Low_to_Middle\" for x in cleaned_names]+ [x + \"Middle_to_High\" for x in cleaned_names]\n",
    "nutrient_sets = set(cleaned_names)\n",
    "print(\"Computing Association Rules ...\")\n",
    "rules_association = arule(frequent_itemsets, metric = 'confidence', min_threshold = 0.6)\n",
    "print(\"Cleaning Rule Set for desiered Rules ...\")\n",
    "rules_association[rules_association.apply(lambda x : True if x[\"antecedents\"].issubset(nutrient_sets) and not x[\"consequents\"].issubset(nutrient_sets) else False, axis = 1)].sort_values(by = \"confidence\", ascending = False).head(20)"
   ]
  },
  {
   "cell_type": "code",
   "execution_count": 19,
   "metadata": {},
   "outputs": [
    {
     "name": "stdout",
     "output_type": "stream",
     "text": [
      "Computing Frequent Itemset ...\n",
      "Computing Association Rules ...\n",
      "Cleaning Rule Set for desiered Rules ...\n"
     ]
    },
    {
     "data": {
      "text/html": [
       "<div>\n",
       "<style scoped>\n",
       "    .dataframe tbody tr th:only-of-type {\n",
       "        vertical-align: middle;\n",
       "    }\n",
       "\n",
       "    .dataframe tbody tr th {\n",
       "        vertical-align: top;\n",
       "    }\n",
       "\n",
       "    .dataframe thead th {\n",
       "        text-align: right;\n",
       "    }\n",
       "</style>\n",
       "<table border=\"1\" class=\"dataframe\">\n",
       "  <thead>\n",
       "    <tr style=\"text-align: right;\">\n",
       "      <th></th>\n",
       "      <th>antecedents</th>\n",
       "      <th>consequents</th>\n",
       "      <th>antecedent support</th>\n",
       "      <th>consequent support</th>\n",
       "      <th>support</th>\n",
       "      <th>confidence</th>\n",
       "      <th>lift</th>\n",
       "      <th>leverage</th>\n",
       "      <th>conviction</th>\n",
       "    </tr>\n",
       "  </thead>\n",
       "  <tbody>\n",
       "    <tr>\n",
       "      <th>306</th>\n",
       "      <td>(alcohol_High, carb_Low)</td>\n",
       "      <td>(Level_1_Low)</td>\n",
       "      <td>0.130802</td>\n",
       "      <td>0.250000</td>\n",
       "      <td>0.102321</td>\n",
       "      <td>0.782258</td>\n",
       "      <td>3.129032</td>\n",
       "      <td>0.069620</td>\n",
       "      <td>3.444444</td>\n",
       "    </tr>\n",
       "    <tr>\n",
       "      <th>308</th>\n",
       "      <td>(alcohol_High, carb_Low)</td>\n",
       "      <td>(Level_4_High)</td>\n",
       "      <td>0.130802</td>\n",
       "      <td>0.250000</td>\n",
       "      <td>0.100211</td>\n",
       "      <td>0.766129</td>\n",
       "      <td>3.064516</td>\n",
       "      <td>0.067511</td>\n",
       "      <td>3.206897</td>\n",
       "    </tr>\n",
       "    <tr>\n",
       "      <th>259</th>\n",
       "      <td>(sugar_Low, carb_Low)</td>\n",
       "      <td>(Level_1_Low)</td>\n",
       "      <td>0.184599</td>\n",
       "      <td>0.250000</td>\n",
       "      <td>0.141350</td>\n",
       "      <td>0.765714</td>\n",
       "      <td>3.062857</td>\n",
       "      <td>0.095200</td>\n",
       "      <td>3.201220</td>\n",
       "    </tr>\n",
       "    <tr>\n",
       "      <th>47</th>\n",
       "      <td>(carb_Low)</td>\n",
       "      <td>(Level_1_Low)</td>\n",
       "      <td>0.250000</td>\n",
       "      <td>0.250000</td>\n",
       "      <td>0.177215</td>\n",
       "      <td>0.708861</td>\n",
       "      <td>2.835443</td>\n",
       "      <td>0.114715</td>\n",
       "      <td>2.576087</td>\n",
       "    </tr>\n",
       "    <tr>\n",
       "      <th>267</th>\n",
       "      <td>(sugar_Low, carb_Low)</td>\n",
       "      <td>(Level_4_High)</td>\n",
       "      <td>0.184599</td>\n",
       "      <td>0.250000</td>\n",
       "      <td>0.128692</td>\n",
       "      <td>0.697143</td>\n",
       "      <td>2.788571</td>\n",
       "      <td>0.082542</td>\n",
       "      <td>2.476415</td>\n",
       "    </tr>\n",
       "    <tr>\n",
       "      <th>263</th>\n",
       "      <td>(sugar_Low, carb_Low)</td>\n",
       "      <td>(Level_2_Low)</td>\n",
       "      <td>0.184599</td>\n",
       "      <td>0.250000</td>\n",
       "      <td>0.126582</td>\n",
       "      <td>0.685714</td>\n",
       "      <td>2.742857</td>\n",
       "      <td>0.080432</td>\n",
       "      <td>2.386364</td>\n",
       "    </tr>\n",
       "    <tr>\n",
       "      <th>255</th>\n",
       "      <td>(sugar_Low, carb_Low)</td>\n",
       "      <td>(No_Low)</td>\n",
       "      <td>0.184599</td>\n",
       "      <td>0.248945</td>\n",
       "      <td>0.126582</td>\n",
       "      <td>0.685714</td>\n",
       "      <td>2.754479</td>\n",
       "      <td>0.080627</td>\n",
       "      <td>2.389720</td>\n",
       "    </tr>\n",
       "    <tr>\n",
       "      <th>565</th>\n",
       "      <td>(sugar_Low, carb_Low)</td>\n",
       "      <td>(Level_1_Low, No_Low)</td>\n",
       "      <td>0.184599</td>\n",
       "      <td>0.200422</td>\n",
       "      <td>0.123418</td>\n",
       "      <td>0.668571</td>\n",
       "      <td>3.335820</td>\n",
       "      <td>0.086420</td>\n",
       "      <td>2.412520</td>\n",
       "    </tr>\n",
       "    <tr>\n",
       "      <th>51</th>\n",
       "      <td>(carb_Low)</td>\n",
       "      <td>(Level_4_High)</td>\n",
       "      <td>0.250000</td>\n",
       "      <td>0.250000</td>\n",
       "      <td>0.165612</td>\n",
       "      <td>0.662447</td>\n",
       "      <td>2.649789</td>\n",
       "      <td>0.103112</td>\n",
       "      <td>2.221875</td>\n",
       "    </tr>\n",
       "    <tr>\n",
       "      <th>587</th>\n",
       "      <td>(sugar_Low, carb_Low)</td>\n",
       "      <td>(Level_2_Low, Level_1_Low)</td>\n",
       "      <td>0.184599</td>\n",
       "      <td>0.200422</td>\n",
       "      <td>0.120253</td>\n",
       "      <td>0.651429</td>\n",
       "      <td>3.250286</td>\n",
       "      <td>0.083255</td>\n",
       "      <td>2.293871</td>\n",
       "    </tr>\n",
       "    <tr>\n",
       "      <th>301</th>\n",
       "      <td>(sugar_High, carb_High)</td>\n",
       "      <td>(Apprenticeship_High)</td>\n",
       "      <td>0.177215</td>\n",
       "      <td>0.248945</td>\n",
       "      <td>0.114979</td>\n",
       "      <td>0.648810</td>\n",
       "      <td>2.606235</td>\n",
       "      <td>0.070862</td>\n",
       "      <td>2.138597</td>\n",
       "    </tr>\n",
       "    <tr>\n",
       "      <th>49</th>\n",
       "      <td>(carb_Low)</td>\n",
       "      <td>(Level_2_Low)</td>\n",
       "      <td>0.250000</td>\n",
       "      <td>0.250000</td>\n",
       "      <td>0.159283</td>\n",
       "      <td>0.637131</td>\n",
       "      <td>2.548523</td>\n",
       "      <td>0.096783</td>\n",
       "      <td>2.066860</td>\n",
       "    </tr>\n",
       "    <tr>\n",
       "      <th>44</th>\n",
       "      <td>(carb_Low)</td>\n",
       "      <td>(No_Low)</td>\n",
       "      <td>0.250000</td>\n",
       "      <td>0.248945</td>\n",
       "      <td>0.159283</td>\n",
       "      <td>0.637131</td>\n",
       "      <td>2.559322</td>\n",
       "      <td>0.097046</td>\n",
       "      <td>2.069767</td>\n",
       "    </tr>\n",
       "    <tr>\n",
       "      <th>52</th>\n",
       "      <td>(fibre_Low)</td>\n",
       "      <td>(Median_Income_Low)</td>\n",
       "      <td>0.250000</td>\n",
       "      <td>0.250000</td>\n",
       "      <td>0.158228</td>\n",
       "      <td>0.632911</td>\n",
       "      <td>2.531646</td>\n",
       "      <td>0.095728</td>\n",
       "      <td>2.043103</td>\n",
       "    </tr>\n",
       "    <tr>\n",
       "      <th>25</th>\n",
       "      <td>(protein_Low)</td>\n",
       "      <td>(Asian/Asian_High)</td>\n",
       "      <td>0.250000</td>\n",
       "      <td>0.250000</td>\n",
       "      <td>0.158228</td>\n",
       "      <td>0.632911</td>\n",
       "      <td>2.531646</td>\n",
       "      <td>0.095728</td>\n",
       "      <td>2.043103</td>\n",
       "    </tr>\n",
       "    <tr>\n",
       "      <th>40</th>\n",
       "      <td>(sugar_Low)</td>\n",
       "      <td>(Level_1_Low)</td>\n",
       "      <td>0.250000</td>\n",
       "      <td>0.250000</td>\n",
       "      <td>0.157173</td>\n",
       "      <td>0.628692</td>\n",
       "      <td>2.514768</td>\n",
       "      <td>0.094673</td>\n",
       "      <td>2.019886</td>\n",
       "    </tr>\n",
       "    <tr>\n",
       "      <th>264</th>\n",
       "      <td>(sugar_Low, carb_Low)</td>\n",
       "      <td>(Apprenticeship_Low)</td>\n",
       "      <td>0.184599</td>\n",
       "      <td>0.247890</td>\n",
       "      <td>0.111814</td>\n",
       "      <td>0.605714</td>\n",
       "      <td>2.443477</td>\n",
       "      <td>0.066054</td>\n",
       "      <td>1.907525</td>\n",
       "    </tr>\n",
       "    <tr>\n",
       "      <th>314</th>\n",
       "      <td>(carb_Low)</td>\n",
       "      <td>(Level_1_Low, No_Low)</td>\n",
       "      <td>0.250000</td>\n",
       "      <td>0.200422</td>\n",
       "      <td>0.150844</td>\n",
       "      <td>0.603376</td>\n",
       "      <td>3.010526</td>\n",
       "      <td>0.100738</td>\n",
       "      <td>2.015957</td>\n",
       "    </tr>\n",
       "    <tr>\n",
       "      <th>202</th>\n",
       "      <td>(sugar_High, carb_High)</td>\n",
       "      <td>(Mixed/multiple_Low)</td>\n",
       "      <td>0.177215</td>\n",
       "      <td>0.243671</td>\n",
       "      <td>0.106540</td>\n",
       "      <td>0.601190</td>\n",
       "      <td>2.467223</td>\n",
       "      <td>0.063358</td>\n",
       "      <td>1.896467</td>\n",
       "    </tr>\n",
       "  </tbody>\n",
       "</table>\n",
       "</div>"
      ],
      "text/plain": [
       "                  antecedents                 consequents  antecedent support  \\\n",
       "306  (alcohol_High, carb_Low)               (Level_1_Low)            0.130802   \n",
       "308  (alcohol_High, carb_Low)              (Level_4_High)            0.130802   \n",
       "259     (sugar_Low, carb_Low)               (Level_1_Low)            0.184599   \n",
       "47                 (carb_Low)               (Level_1_Low)            0.250000   \n",
       "267     (sugar_Low, carb_Low)              (Level_4_High)            0.184599   \n",
       "263     (sugar_Low, carb_Low)               (Level_2_Low)            0.184599   \n",
       "255     (sugar_Low, carb_Low)                    (No_Low)            0.184599   \n",
       "565     (sugar_Low, carb_Low)       (Level_1_Low, No_Low)            0.184599   \n",
       "51                 (carb_Low)              (Level_4_High)            0.250000   \n",
       "587     (sugar_Low, carb_Low)  (Level_2_Low, Level_1_Low)            0.184599   \n",
       "301   (sugar_High, carb_High)       (Apprenticeship_High)            0.177215   \n",
       "49                 (carb_Low)               (Level_2_Low)            0.250000   \n",
       "44                 (carb_Low)                    (No_Low)            0.250000   \n",
       "52                (fibre_Low)         (Median_Income_Low)            0.250000   \n",
       "25              (protein_Low)          (Asian/Asian_High)            0.250000   \n",
       "40                (sugar_Low)               (Level_1_Low)            0.250000   \n",
       "264     (sugar_Low, carb_Low)        (Apprenticeship_Low)            0.184599   \n",
       "314                (carb_Low)       (Level_1_Low, No_Low)            0.250000   \n",
       "202   (sugar_High, carb_High)        (Mixed/multiple_Low)            0.177215   \n",
       "\n",
       "     consequent support   support  confidence      lift  leverage  conviction  \n",
       "306            0.250000  0.102321    0.782258  3.129032  0.069620    3.444444  \n",
       "308            0.250000  0.100211    0.766129  3.064516  0.067511    3.206897  \n",
       "259            0.250000  0.141350    0.765714  3.062857  0.095200    3.201220  \n",
       "47             0.250000  0.177215    0.708861  2.835443  0.114715    2.576087  \n",
       "267            0.250000  0.128692    0.697143  2.788571  0.082542    2.476415  \n",
       "263            0.250000  0.126582    0.685714  2.742857  0.080432    2.386364  \n",
       "255            0.248945  0.126582    0.685714  2.754479  0.080627    2.389720  \n",
       "565            0.200422  0.123418    0.668571  3.335820  0.086420    2.412520  \n",
       "51             0.250000  0.165612    0.662447  2.649789  0.103112    2.221875  \n",
       "587            0.200422  0.120253    0.651429  3.250286  0.083255    2.293871  \n",
       "301            0.248945  0.114979    0.648810  2.606235  0.070862    2.138597  \n",
       "49             0.250000  0.159283    0.637131  2.548523  0.096783    2.066860  \n",
       "44             0.248945  0.159283    0.637131  2.559322  0.097046    2.069767  \n",
       "52             0.250000  0.158228    0.632911  2.531646  0.095728    2.043103  \n",
       "25             0.250000  0.158228    0.632911  2.531646  0.095728    2.043103  \n",
       "40             0.250000  0.157173    0.628692  2.514768  0.094673    2.019886  \n",
       "264            0.247890  0.111814    0.605714  2.443477  0.066054    1.907525  \n",
       "314            0.200422  0.150844    0.603376  3.010526  0.100738    2.015957  \n",
       "202            0.243671  0.106540    0.601190  2.467223  0.063358    1.896467  "
      ]
     },
     "execution_count": 19,
     "metadata": {},
     "output_type": "execute_result"
    }
   ],
   "source": [
    "msoa_combined_items = msoa_combined_year[ethnicities + nutrients + education + [\"Total_Median_Annual_Household_Income_pound_\"]].copy()\n",
    "msoa_combined_items.columns = [x.split(\"_\")[0] for x in  ethnicities] + [x.split(\"_\")[1] for x in nutrients] + [x.replace(\"Edu:\",\"\").replace(\"and_above_\",\"\").replace(\"_qualifications\",\"\").replace(\"Apprenticeship_\", \"Apprenticeship\") for x in education]  + [\"Median_Income\"] \n",
    " \n",
    "# You could do this probably somewhat smarter \n",
    "# Encoding Data into a \"Set\" Dataset\n",
    "\n",
    "for col in msoa_combined_items.columns:\n",
    "    lower  =  msoa_combined_items[col].quantile(0.25)\n",
    "    middle =  msoa_combined_items[col].quantile(0.5)\n",
    "    higher =  msoa_combined_items[col].quantile(0.75)\n",
    "    msoa_combined_items[col + \"_Low\"] = msoa_combined_items[col].apply(lambda x : x < lower)\n",
    "    msoa_combined_items[col + \"_Low_to_Middle\"] = msoa_combined_items[col].apply(lambda x : x >= lower and x < middle)\n",
    "    msoa_combined_items[col + \"_Middle_to_High\"] = msoa_combined_items[col].apply(lambda x :  x < higher and x > middle)\n",
    "    msoa_combined_items[col + \"_High\"] = msoa_combined_items[col].apply(lambda x : x > higher)\n",
    "    msoa_combined_items = msoa_combined_items.drop(col, axis = 1)\n",
    "    \n",
    "\n",
    "print(\"Computing Frequent Itemset ...\")\n",
    "# Given the structure of the information, low support is indemic\n",
    "frequent_itemsets = apriori(msoa_combined_items, min_support = 0.1, use_colnames = True)\n",
    "\n",
    "\n",
    "\n",
    "# Use Association Rules as an \"explainable\" Model\n",
    "cleaned_names = [x.split(\"_\")[1] for x in nutrients]\n",
    "cleaned_names = [x + \"_High\" for x in cleaned_names] + [x + \"_Low\" for x in cleaned_names] + [x + \"Low_to_Middle\" for x in cleaned_names]+ [x + \"Middle_to_High\" for x in cleaned_names]\n",
    "nutrient_sets = set(cleaned_names)\n",
    "print(\"Computing Association Rules ...\")\n",
    "rules_association = arule(frequent_itemsets, metric = 'confidence', min_threshold = 0.6)\n",
    "print(\"Cleaning Rule Set for desiered Rules ...\")\n",
    "rules_association[rules_association.apply(lambda x : True if x[\"antecedents\"].issubset(nutrient_sets) and not x[\"consequents\"].issubset(nutrient_sets) else False, axis = 1)].sort_values(by = \"confidence\", ascending = False).head(20)"
   ]
  },
  {
   "cell_type": "code",
   "execution_count": 14,
   "metadata": {},
   "outputs": [
    {
     "data": {
      "image/png": "[encoded data removed]",
      "text/plain": [
       "<Figure size 1080x1080 with 1 Axes>"
      ]
     },
     "metadata": {
      "needs_background": "light"
     },
     "output_type": "display_data"
    }
   ],
   "source": [
    "# Calculate spiral coordinates for the Xmas tree\n",
    "theta = np.linspace(-8 * np.pi, 8 * np.pi, 200) \n",
    "z = np.linspace(-3, 0, 200)\n",
    "r = 5\n",
    "x = r * np.sin(theta)*z\n",
    "y = r * np.cos(theta)*z\n",
    " \n",
    "# Use matplotib and its OOP interface to draw it \n",
    "fig = plt.figure(figsize  = (15,15)) # Create figure\n",
    "fig.set\n",
    "ax = fig.gca(projection='3d') # It's a 3D Xmas tree!\n",
    "ax.view_init(15, 0) # Set a nice view angle\n",
    "ax._axis3don = False # Hide the 3d axes\n",
    " \n",
    "# Plot the Xmas tree as a line\n",
    "ax.plot(x, y, z,\n",
    "        c='green', linewidth=2.5)\n",
    " \n",
    "# Every Xmas tree needs a star\n",
    "ax.scatter(0, 0, 0.2,\n",
    "           c='red', s=250, marker='*')\n",
    " \n",
    "# Type here your best whishes\n",
    "ax.set_title(u\"¡Feliz Navidad!\")\n",
    " \n",
    "plt.show()"
   ]
  },
  {
   "cell_type": "code",
   "execution_count": 35,
   "metadata": {},
   "outputs": [
    {
     "name": "stdout",
     "output_type": "stream",
     "text": [
      "[1, 1, 1, 1, 0, 0]\n",
      "[1, 0, 0, 0, 0, 1, 0]\n",
      "[1, 0, 0, 0, 0]\n"
     ]
    },
    {
     "data": {
      "image/png": "[encoded data removed]",
      "text/plain": [
       "<Figure size 2160x2160 with 4 Axes>"
      ]
     },
     "metadata": {},
     "output_type": "display_data"
    }
   ],
   "source": [
    "msoa_combined_year_unfiltered = msoa_social.join(msoa_year, how = \"inner\")\n",
    "msoa_combined_year_unfiltered.columns = [\"_\".join(x.split(\";\")[1:]).replace(\" \", \"_\").replace(\"(%)_\", \"perc\").replace(\"(£)\", \"pound\").replace(\"Highest_level_of_qualification:_\", \"Edu:\").replace(\"qualifications_\", \"qualifications\") if len(x.split(\";\")) > 1 else x.replace(\" \", \"_\").replace(\"(%)\", \"perc\").replace(\"(£)\", \"pound\") for x in msoa_combined_year.columns]\n",
    "\n",
    "with sns.axes_style(\"white\"): \n",
    "\n",
    "    f, axes = plt.subplots(2, 2, figsize=(30, 30))\n",
    "    axes = axes.flatten()\n",
    "\n",
    "    for ax, cat in zip(axes,[education, religions, ethnicities]):\n",
    "        correl = [(category, stats.spearmanr(a = msoa_combined_year_unfiltered[\"representativeness_norm\"], b = msoa_combined_year_unfiltered[category]).correlation) for category in cat if stats.spearmanr(a = msoa_combined_year_unfiltered[\"representativeness_norm\"], b = msoa_combined_year_unfiltered[category]).pvalue < 0.05]\n",
    "        colors = [0 if c[1] >= 0 else 1 for c in correl]\n",
    "        print(colors)\n",
    "        sns.barplot(x = [x[0] for x in correl], y=[x[1] for x in correl], hue=colors, palette=sns.color_palette(), dodge=False, ax = ax)\n",
    "        ax.axhline(0, ls='-', c = 'k')\n",
    "        ax.get_legend().remove()\n",
    "        #ax.set_title(eth.split(\"perc\")[0].replace(\"_\", \" \"))\n",
    "\n",
    "    sns.despine(top = True, right = True)\n",
    "    axes[-1].set_visible(False)\n",
    "\n",
    "plt.show()"
   ]
  }
 ],
 "metadata": {
  "kernelspec": {
   "display_name": "Python 3",
   "language": "python",
   "name": "python3"
  },
  "language_info": {
   "codemirror_mode": {
    "name": "ipython",
    "version": 3
   },
   "file_extension": ".py",
   "mimetype": "text/x-python",
   "name": "python",
   "nbconvert_exporter": "python",
   "pygments_lexer": "ipython3",
   "version": "3.8.3"
  }
 },
 "nbformat": 4,
 "nbformat_minor": 4
}
